{
 "cells": [
  {
   "cell_type": "markdown",
   "source": [
    "## <center>Online news popularity (CEU-ML 2024)</center>\n",
    "<center>Viet H. Nguyen</center>"
   ],
   "metadata": {
    "collapsed": false
   },
   "id": "a7f2e7bbe39ea4fe"
  },
  {
   "cell_type": "markdown",
   "source": [
    "## Introduction\n",
    "This notebook is part of a Kaggle competition to predict wether online news article is popular. MOre details can be found [here](https://www.kaggle.com/competitions/online-news-popularity-ceu-ml-2024/overview).\n",
    "In this notebook, I will guide you through all of my modeling experiments and discuss how and why I choose the model for submission!"
   ],
   "metadata": {
    "collapsed": false
   },
   "id": "7d0b5a761a4f134c"
  },
  {
   "cell_type": "code",
   "execution_count": 1,
   "id": "initial_id",
   "metadata": {
    "collapsed": true,
    "ExecuteTime": {
     "end_time": "2024-04-19T17:35:32.480305Z",
     "start_time": "2024-04-19T17:35:32.200462Z"
    }
   },
   "outputs": [],
   "source": [
    "%%capture\n",
    "import warnings\n",
    "warnings.filterwarnings('ignore')\n",
    "\n",
    "import pandas as pd\n",
    "import numpy as np\n",
    "\n",
    "import seaborn as sns\n",
    "from matplotlib import pyplot as plt"
   ]
  },
  {
   "cell_type": "code",
   "outputs": [
    {
     "name": "stdout",
     "output_type": "stream",
     "text": [
      "<class 'pandas.core.frame.DataFrame'>\n",
      "RangeIndex: 29733 entries, 0 to 29732\n",
      "Data columns (total 61 columns):\n",
      " #   Column                         Non-Null Count  Dtype  \n",
      "---  ------                         --------------  -----  \n",
      " 0   timedelta                      29733 non-null  int64  \n",
      " 1   n_tokens_title                 29733 non-null  int64  \n",
      " 2   n_tokens_content               29733 non-null  int64  \n",
      " 3   n_unique_tokens                29733 non-null  float64\n",
      " 4   n_non_stop_words               29733 non-null  float64\n",
      " 5   n_non_stop_unique_tokens       29733 non-null  float64\n",
      " 6   num_hrefs                      29733 non-null  int64  \n",
      " 7   num_self_hrefs                 29733 non-null  int64  \n",
      " 8   num_imgs                       29733 non-null  int64  \n",
      " 9   num_videos                     29733 non-null  int64  \n",
      " 10  average_token_length           29733 non-null  float64\n",
      " 11  num_keywords                   29733 non-null  int64  \n",
      " 12  data_channel_is_lifestyle      29733 non-null  int64  \n",
      " 13  data_channel_is_entertainment  29733 non-null  int64  \n",
      " 14  data_channel_is_bus            29733 non-null  int64  \n",
      " 15  data_channel_is_socmed         29733 non-null  int64  \n",
      " 16  data_channel_is_tech           29733 non-null  int64  \n",
      " 17  data_channel_is_world          29733 non-null  int64  \n",
      " 18  kw_min_min                     29733 non-null  int64  \n",
      " 19  kw_max_min                     29733 non-null  float64\n",
      " 20  kw_avg_min                     29733 non-null  float64\n",
      " 21  kw_min_max                     29733 non-null  int64  \n",
      " 22  kw_max_max                     29733 non-null  int64  \n",
      " 23  kw_avg_max                     29733 non-null  float64\n",
      " 24  kw_min_avg                     29733 non-null  float64\n",
      " 25  kw_max_avg                     29733 non-null  float64\n",
      " 26  kw_avg_avg                     29733 non-null  float64\n",
      " 27  self_reference_min_shares      29733 non-null  float64\n",
      " 28  self_reference_max_shares      29733 non-null  float64\n",
      " 29  self_reference_avg_sharess     29733 non-null  float64\n",
      " 30  weekday_is_monday              29733 non-null  int64  \n",
      " 31  weekday_is_tuesday             29733 non-null  int64  \n",
      " 32  weekday_is_wednesday           29733 non-null  int64  \n",
      " 33  weekday_is_thursday            29733 non-null  int64  \n",
      " 34  weekday_is_friday              29733 non-null  int64  \n",
      " 35  weekday_is_saturday            29733 non-null  int64  \n",
      " 36  weekday_is_sunday              29733 non-null  int64  \n",
      " 37  is_weekend                     29733 non-null  int64  \n",
      " 38  LDA_00                         29733 non-null  float64\n",
      " 39  LDA_01                         29733 non-null  float64\n",
      " 40  LDA_02                         29733 non-null  float64\n",
      " 41  LDA_03                         29733 non-null  float64\n",
      " 42  LDA_04                         29733 non-null  float64\n",
      " 43  global_subjectivity            29733 non-null  float64\n",
      " 44  global_sentiment_polarity      29733 non-null  float64\n",
      " 45  global_rate_positive_words     29733 non-null  float64\n",
      " 46  global_rate_negative_words     29733 non-null  float64\n",
      " 47  rate_positive_words            29733 non-null  float64\n",
      " 48  rate_negative_words            29733 non-null  float64\n",
      " 49  avg_positive_polarity          29733 non-null  float64\n",
      " 50  min_positive_polarity          29733 non-null  float64\n",
      " 51  max_positive_polarity          29733 non-null  float64\n",
      " 52  avg_negative_polarity          29733 non-null  float64\n",
      " 53  min_negative_polarity          29733 non-null  float64\n",
      " 54  max_negative_polarity          29733 non-null  float64\n",
      " 55  title_subjectivity             29733 non-null  float64\n",
      " 56  title_sentiment_polarity       29733 non-null  float64\n",
      " 57  abs_title_subjectivity         29733 non-null  float64\n",
      " 58  abs_title_sentiment_polarity   29733 non-null  float64\n",
      " 59  is_popular                     29733 non-null  int64  \n",
      " 60  article_id                     29733 non-null  int64  \n",
      "dtypes: float64(34), int64(27)\n",
      "memory usage: 13.8 MB\n"
     ]
    }
   ],
   "source": [
    "news_df = pd.read_csv('online-news-popularity-ceu-ml-2024/train.csv')\n",
    "news_df.info()"
   ],
   "metadata": {
    "collapsed": false,
    "ExecuteTime": {
     "end_time": "2024-04-19T17:35:32.610197Z",
     "start_time": "2024-04-19T17:35:32.482831Z"
    }
   },
   "id": "1c7941bb2d8095ab",
   "execution_count": 2
  },
  {
   "cell_type": "code",
   "outputs": [
    {
     "data": {
      "text/plain": "   timedelta  n_tokens_title  n_tokens_content  n_unique_tokens  \\\n0        594               9               702         0.454545   \n1        346               8              1197         0.470143   \n2        484               9               214         0.618090   \n3        639               8               249         0.621951   \n4        177              12              1219         0.397841   \n5        568               7               126         0.723577   \n6        318              12              1422         0.367994   \n7        582               6              1102         0.451287   \n8        269               9                 0         0.000000   \n9        567               7                94         0.755319   \n\n   n_non_stop_words  n_non_stop_unique_tokens  num_hrefs  num_self_hrefs  \\\n0               1.0                  0.620438         11               2   \n1               1.0                  0.666209         21               6   \n2               1.0                  0.748092          5               2   \n3               1.0                  0.664740         16               5   \n4               1.0                  0.583578         21               1   \n5               1.0                  0.774194          3               3   \n6               1.0                  0.469256         28              28   \n7               1.0                  0.642089          7               3   \n8               0.0                  0.000000          0               0   \n9               1.0                  0.812500          8               6   \n\n   num_imgs  num_videos  ...  max_positive_polarity  avg_negative_polarity  \\\n0         1           0  ...               1.000000              -0.153395   \n1         2          13  ...               1.000000              -0.308167   \n2         1           0  ...               0.433333              -0.141667   \n3         8           0  ...               0.500000              -0.500000   \n4         1           2  ...               0.800000              -0.441111   \n5         1           0  ...               0.285714               0.000000   \n6        26           0  ...               0.700000              -0.234167   \n7         1           0  ...               0.800000              -0.151630   \n8         5           0  ...               0.000000               0.000000   \n9         0          11  ...               1.000000              -0.183333   \n\n   min_negative_polarity  max_negative_polarity  title_subjectivity  \\\n0                   -0.4              -0.100000            0.000000   \n1                   -1.0              -0.100000            0.000000   \n2                   -0.2              -0.050000            0.000000   \n3                   -0.8              -0.400000            0.000000   \n4                   -1.0              -0.050000            0.000000   \n5                    0.0               0.000000            0.454545   \n6                   -0.5              -0.050000            1.000000   \n7                   -0.4              -0.050000            0.800000   \n8                    0.0               0.000000            0.500000   \n9                   -0.2              -0.166667            0.000000   \n\n   title_sentiment_polarity  abs_title_subjectivity  \\\n0                  0.000000                0.500000   \n1                  0.000000                0.500000   \n2                  0.000000                0.500000   \n3                  0.000000                0.500000   \n4                  0.000000                0.500000   \n5                  0.136364                0.045455   \n6                  0.100000                0.500000   \n7                  0.400000                0.300000   \n8                  0.500000                0.000000   \n9                  0.000000                0.500000   \n\n   abs_title_sentiment_polarity  is_popular  article_id  \n0                      0.000000           0           1  \n1                      0.000000           0           3  \n2                      0.000000           0           5  \n3                      0.000000           0           6  \n4                      0.000000           0           7  \n5                      0.136364           0           8  \n6                      0.100000           0           9  \n7                      0.400000           1          11  \n8                      0.500000           0          12  \n9                      0.000000           0          14  \n\n[10 rows x 61 columns]",
      "text/html": "<div>\n<style scoped>\n    .dataframe tbody tr th:only-of-type {\n        vertical-align: middle;\n    }\n\n    .dataframe tbody tr th {\n        vertical-align: top;\n    }\n\n    .dataframe thead th {\n        text-align: right;\n    }\n</style>\n<table border=\"1\" class=\"dataframe\">\n  <thead>\n    <tr style=\"text-align: right;\">\n      <th></th>\n      <th>timedelta</th>\n      <th>n_tokens_title</th>\n      <th>n_tokens_content</th>\n      <th>n_unique_tokens</th>\n      <th>n_non_stop_words</th>\n      <th>n_non_stop_unique_tokens</th>\n      <th>num_hrefs</th>\n      <th>num_self_hrefs</th>\n      <th>num_imgs</th>\n      <th>num_videos</th>\n      <th>...</th>\n      <th>max_positive_polarity</th>\n      <th>avg_negative_polarity</th>\n      <th>min_negative_polarity</th>\n      <th>max_negative_polarity</th>\n      <th>title_subjectivity</th>\n      <th>title_sentiment_polarity</th>\n      <th>abs_title_subjectivity</th>\n      <th>abs_title_sentiment_polarity</th>\n      <th>is_popular</th>\n      <th>article_id</th>\n    </tr>\n  </thead>\n  <tbody>\n    <tr>\n      <th>0</th>\n      <td>594</td>\n      <td>9</td>\n      <td>702</td>\n      <td>0.454545</td>\n      <td>1.0</td>\n      <td>0.620438</td>\n      <td>11</td>\n      <td>2</td>\n      <td>1</td>\n      <td>0</td>\n      <td>...</td>\n      <td>1.000000</td>\n      <td>-0.153395</td>\n      <td>-0.4</td>\n      <td>-0.100000</td>\n      <td>0.000000</td>\n      <td>0.000000</td>\n      <td>0.500000</td>\n      <td>0.000000</td>\n      <td>0</td>\n      <td>1</td>\n    </tr>\n    <tr>\n      <th>1</th>\n      <td>346</td>\n      <td>8</td>\n      <td>1197</td>\n      <td>0.470143</td>\n      <td>1.0</td>\n      <td>0.666209</td>\n      <td>21</td>\n      <td>6</td>\n      <td>2</td>\n      <td>13</td>\n      <td>...</td>\n      <td>1.000000</td>\n      <td>-0.308167</td>\n      <td>-1.0</td>\n      <td>-0.100000</td>\n      <td>0.000000</td>\n      <td>0.000000</td>\n      <td>0.500000</td>\n      <td>0.000000</td>\n      <td>0</td>\n      <td>3</td>\n    </tr>\n    <tr>\n      <th>2</th>\n      <td>484</td>\n      <td>9</td>\n      <td>214</td>\n      <td>0.618090</td>\n      <td>1.0</td>\n      <td>0.748092</td>\n      <td>5</td>\n      <td>2</td>\n      <td>1</td>\n      <td>0</td>\n      <td>...</td>\n      <td>0.433333</td>\n      <td>-0.141667</td>\n      <td>-0.2</td>\n      <td>-0.050000</td>\n      <td>0.000000</td>\n      <td>0.000000</td>\n      <td>0.500000</td>\n      <td>0.000000</td>\n      <td>0</td>\n      <td>5</td>\n    </tr>\n    <tr>\n      <th>3</th>\n      <td>639</td>\n      <td>8</td>\n      <td>249</td>\n      <td>0.621951</td>\n      <td>1.0</td>\n      <td>0.664740</td>\n      <td>16</td>\n      <td>5</td>\n      <td>8</td>\n      <td>0</td>\n      <td>...</td>\n      <td>0.500000</td>\n      <td>-0.500000</td>\n      <td>-0.8</td>\n      <td>-0.400000</td>\n      <td>0.000000</td>\n      <td>0.000000</td>\n      <td>0.500000</td>\n      <td>0.000000</td>\n      <td>0</td>\n      <td>6</td>\n    </tr>\n    <tr>\n      <th>4</th>\n      <td>177</td>\n      <td>12</td>\n      <td>1219</td>\n      <td>0.397841</td>\n      <td>1.0</td>\n      <td>0.583578</td>\n      <td>21</td>\n      <td>1</td>\n      <td>1</td>\n      <td>2</td>\n      <td>...</td>\n      <td>0.800000</td>\n      <td>-0.441111</td>\n      <td>-1.0</td>\n      <td>-0.050000</td>\n      <td>0.000000</td>\n      <td>0.000000</td>\n      <td>0.500000</td>\n      <td>0.000000</td>\n      <td>0</td>\n      <td>7</td>\n    </tr>\n    <tr>\n      <th>5</th>\n      <td>568</td>\n      <td>7</td>\n      <td>126</td>\n      <td>0.723577</td>\n      <td>1.0</td>\n      <td>0.774194</td>\n      <td>3</td>\n      <td>3</td>\n      <td>1</td>\n      <td>0</td>\n      <td>...</td>\n      <td>0.285714</td>\n      <td>0.000000</td>\n      <td>0.0</td>\n      <td>0.000000</td>\n      <td>0.454545</td>\n      <td>0.136364</td>\n      <td>0.045455</td>\n      <td>0.136364</td>\n      <td>0</td>\n      <td>8</td>\n    </tr>\n    <tr>\n      <th>6</th>\n      <td>318</td>\n      <td>12</td>\n      <td>1422</td>\n      <td>0.367994</td>\n      <td>1.0</td>\n      <td>0.469256</td>\n      <td>28</td>\n      <td>28</td>\n      <td>26</td>\n      <td>0</td>\n      <td>...</td>\n      <td>0.700000</td>\n      <td>-0.234167</td>\n      <td>-0.5</td>\n      <td>-0.050000</td>\n      <td>1.000000</td>\n      <td>0.100000</td>\n      <td>0.500000</td>\n      <td>0.100000</td>\n      <td>0</td>\n      <td>9</td>\n    </tr>\n    <tr>\n      <th>7</th>\n      <td>582</td>\n      <td>6</td>\n      <td>1102</td>\n      <td>0.451287</td>\n      <td>1.0</td>\n      <td>0.642089</td>\n      <td>7</td>\n      <td>3</td>\n      <td>1</td>\n      <td>0</td>\n      <td>...</td>\n      <td>0.800000</td>\n      <td>-0.151630</td>\n      <td>-0.4</td>\n      <td>-0.050000</td>\n      <td>0.800000</td>\n      <td>0.400000</td>\n      <td>0.300000</td>\n      <td>0.400000</td>\n      <td>1</td>\n      <td>11</td>\n    </tr>\n    <tr>\n      <th>8</th>\n      <td>269</td>\n      <td>9</td>\n      <td>0</td>\n      <td>0.000000</td>\n      <td>0.0</td>\n      <td>0.000000</td>\n      <td>0</td>\n      <td>0</td>\n      <td>5</td>\n      <td>0</td>\n      <td>...</td>\n      <td>0.000000</td>\n      <td>0.000000</td>\n      <td>0.0</td>\n      <td>0.000000</td>\n      <td>0.500000</td>\n      <td>0.500000</td>\n      <td>0.000000</td>\n      <td>0.500000</td>\n      <td>0</td>\n      <td>12</td>\n    </tr>\n    <tr>\n      <th>9</th>\n      <td>567</td>\n      <td>7</td>\n      <td>94</td>\n      <td>0.755319</td>\n      <td>1.0</td>\n      <td>0.812500</td>\n      <td>8</td>\n      <td>6</td>\n      <td>0</td>\n      <td>11</td>\n      <td>...</td>\n      <td>1.000000</td>\n      <td>-0.183333</td>\n      <td>-0.2</td>\n      <td>-0.166667</td>\n      <td>0.000000</td>\n      <td>0.000000</td>\n      <td>0.500000</td>\n      <td>0.000000</td>\n      <td>0</td>\n      <td>14</td>\n    </tr>\n  </tbody>\n</table>\n<p>10 rows × 61 columns</p>\n</div>"
     },
     "execution_count": 3,
     "metadata": {},
     "output_type": "execute_result"
    }
   ],
   "source": [
    "news_df.head(10)"
   ],
   "metadata": {
    "collapsed": false,
    "ExecuteTime": {
     "end_time": "2024-04-19T17:35:32.672278Z",
     "start_time": "2024-04-19T17:35:32.607530Z"
    }
   },
   "id": "7162f0e9961158ce",
   "execution_count": 3
  },
  {
   "cell_type": "markdown",
   "source": [
    "## Data Cleaning\n",
    "\n",
    "Upon investigation, there's no data cleaning needed since the dataset has no missing values and the values seem to make sense."
   ],
   "metadata": {
    "collapsed": false
   },
   "id": "7dc24ae74b63fee9"
  },
  {
   "cell_type": "markdown",
   "source": [
    "## EDA\n",
    "\n",
    "Checking the correlation between all the existing variables, I noticed that some of them have very high correlations. To reduce the redundancies, I removed the highly correlated variables before splitting the data into training and test set."
   ],
   "metadata": {
    "collapsed": false
   },
   "id": "3a8c654dcaa11b2"
  },
  {
   "cell_type": "code",
   "outputs": [
    {
     "data": {
      "text/plain": "[('n_unique_tokens', 'n_non_stop_words'),\n ('n_unique_tokens', 'n_non_stop_unique_tokens'),\n ('n_non_stop_words', 'n_non_stop_unique_tokens'),\n ('data_channel_is_world', 'LDA_02'),\n ('kw_min_min', 'kw_max_max'),\n ('kw_max_min', 'kw_avg_min'),\n ('kw_max_avg', 'kw_avg_avg'),\n ('self_reference_min_shares', 'self_reference_avg_sharess'),\n ('self_reference_max_shares', 'self_reference_avg_sharess')]"
     },
     "execution_count": 4,
     "metadata": {},
     "output_type": "execute_result"
    }
   ],
   "source": [
    "plot_data = news_df.drop(columns=['timedelta', 'is_popular', 'article_id']).corr()\n",
    "test = plot_data.applymap(lambda x: 1 if x >= 0.8 else -1 if x <= -0.8 else 0)\n",
    "\n",
    "high_correlation_pairs = []\n",
    "for row_index, row in test.iterrows():\n",
    "    for column_name, cell_value in row.items():\n",
    "        if (cell_value == 1 or cell_value == -1) and row_index != column_name and (row_index + '*' + column_name not in high_correlation_pairs and column_name + '*' + row_index not in high_correlation_pairs):\n",
    "            high_correlation_pairs.append(row_index + '*' + column_name)\n",
    "high_correlation_pairs = [(x.split('*')[0], x.split('*')[1]) for x in high_correlation_pairs]\n",
    "high_correlation_pairs"
   ],
   "metadata": {
    "collapsed": false,
    "ExecuteTime": {
     "end_time": "2024-04-19T17:35:32.820611Z",
     "start_time": "2024-04-19T17:35:32.625009Z"
    }
   },
   "id": "a73cd463368fc359",
   "execution_count": 4
  },
  {
   "cell_type": "code",
   "outputs": [
    {
     "name": "stdout",
     "output_type": "stream",
     "text": [
      "(26759, 39) (2974, 39) (2974, 39)\n"
     ]
    }
   ],
   "source": [
    "from sklearn.model_selection import train_test_split\n",
    "\n",
    "exclude_cols = ['timedelta', 'is_popular', 'article_id', 'kw_min_min', 'kw_max_min', 'kw_max_avg', 'n_non_stop_unique_tokens', 'self_reference_min_shares', 'self_reference_max_shares'] + [col for col in news_df.columns if col.startswith('weekday_is_')] + [col for col in news_df.columns if col.startswith('data_channel_is')]\n",
    "binary_cols = [col for col in news_df.columns if col.startswith('weekday_is_')] + [col for col in news_df.columns if col.startswith('data_channel_is')] + ['is_weekend']\n",
    "\n",
    "# split data to train & val & test\n",
    "outcome = news_df[\"is_popular\"]\n",
    "features = news_df.drop(columns=exclude_cols)\n",
    "# features = news_df.drop(columns=['timedelta', 'is_popular', 'article_id'])\n",
    "prng = np.random.RandomState(42)\n",
    "X_train, X_test, y_train, y_test = train_test_split(features, outcome, test_size=0.1, random_state=prng)\n",
    "# X_train, X_val, y_train, y_val = train_test_split(X_train, y_train, test_size=0.1, random_state=prng)\n",
    "X_val, y_val = X_test, y_test\n",
    "\n",
    "print(X_train.shape, X_val.shape, X_test.shape)"
   ],
   "metadata": {
    "collapsed": false,
    "ExecuteTime": {
     "end_time": "2024-04-19T17:35:32.959545Z",
     "start_time": "2024-04-19T17:35:32.765099Z"
    }
   },
   "id": "90b961f4a489af9a",
   "execution_count": 5
  },
  {
   "cell_type": "markdown",
   "source": [
    "## Modeling"
   ],
   "metadata": {
    "collapsed": false
   },
   "id": "43ae3ce41160ab2d"
  },
  {
   "cell_type": "markdown",
   "source": [
    "### Simple Logit\n",
    "\n",
    "This simple logit model only use the raw variables that is in the dataset to predict whether the article is popular."
   ],
   "metadata": {
    "collapsed": false
   },
   "id": "9adedf7958619c0e"
  },
  {
   "cell_type": "code",
   "outputs": [
    {
     "data": {
      "text/plain": "                Model  Train AUC  Val AUC  Test AUC\n0  Logit as Benchmark     0.6707   0.6637    0.6637",
      "text/html": "<div>\n<style scoped>\n    .dataframe tbody tr th:only-of-type {\n        vertical-align: middle;\n    }\n\n    .dataframe tbody tr th {\n        vertical-align: top;\n    }\n\n    .dataframe thead th {\n        text-align: right;\n    }\n</style>\n<table border=\"1\" class=\"dataframe\">\n  <thead>\n    <tr style=\"text-align: right;\">\n      <th></th>\n      <th>Model</th>\n      <th>Train AUC</th>\n      <th>Val AUC</th>\n      <th>Test AUC</th>\n    </tr>\n  </thead>\n  <tbody>\n    <tr>\n      <th>0</th>\n      <td>Logit as Benchmark</td>\n      <td>0.6707</td>\n      <td>0.6637</td>\n      <td>0.6637</td>\n    </tr>\n  </tbody>\n</table>\n</div>"
     },
     "execution_count": 6,
     "metadata": {},
     "output_type": "execute_result"
    }
   ],
   "source": [
    "from sklearn.linear_model import LogisticRegressionCV\n",
    "from sklearn.metrics import accuracy_score, roc_auc_score, f1_score\n",
    "\n",
    "# no regularisation needed so setting the parameter to very high value\n",
    "Cs_value_logit = [1e20]\n",
    "scoring='roc_auc'\n",
    "\n",
    "logit_model = LogisticRegressionCV(\n",
    "        Cs=Cs_value_logit,\n",
    "        refit=True, \n",
    "        scoring=scoring, \n",
    "        solver=\"liblinear\", \n",
    "        tol=1e-7, \n",
    "        random_state=prng\n",
    "    )\n",
    "\n",
    "logit_model.fit(X_train, y_train)\n",
    "\n",
    "summary_df = pd.DataFrame({'Model': ['Logit as Benchmark'],\n",
    "                           'Train AUC': [round(roc_auc_score(y_train, logit_model.predict_proba(X_train)[:,1]), 4)],\n",
    "                           'Val AUC': [round(roc_auc_score(y_val, logit_model.predict_proba(X_val)[:,1]), 4)],\n",
    "                           'Test AUC': [round(roc_auc_score(y_test, logit_model.predict_proba(X_test)[:,1]), 4)],\n",
    "                           # 'Train accuracy': [round(accuracy_score(y_train, logit_model.predict(X_train)), 4)],\n",
    "                           # 'Val accuracy': [round(accuracy_score(y_val, logit_model.predict(X_val)), 4)],\n",
    "                           # 'Test accuracy': [round(accuracy_score(y_test, logit_model.predict(X_test)), 4)],\n",
    "                           # 'Train F1 score': [round(f1_score(y_train, logit_model.predict(X_train)), 4)],\n",
    "                           # 'Val F1 score': [round(f1_score(y_val, logit_model.predict(X_val)), 4)],\n",
    "                           # 'Test F1 score': [round(f1_score(y_test, logit_model.predict(X_test)), 4)],\n",
    "                          })\n",
    "summary_df"
   ],
   "metadata": {
    "collapsed": false,
    "ExecuteTime": {
     "end_time": "2024-04-19T17:35:42.697060Z",
     "start_time": "2024-04-19T17:35:32.941650Z"
    }
   },
   "id": "2e04d6a7ae55be4",
   "execution_count": 6
  },
  {
   "cell_type": "markdown",
   "source": [
    "The AUC score for the logit model will be the benchmark for the subsequent models that I experiment with.\n",
    "\n",
    "In the summary table, there's a column for the validation set AUC score. For non-neural network model, this column is the same as the test AUC score since I will only split once for the training and test set. For the neural network, there is another split of the training set to obtain the validation set."
   ],
   "metadata": {
    "collapsed": false
   },
   "id": "64f8fd19386090b2"
  },
  {
   "cell_type": "markdown",
   "source": [
    "## Feature Engineering\n",
    "\n",
    "I also experiment with feature engineering via creating some ratio variables like:\n",
    "- Keyword density\n",
    "- Links ratio\n",
    "- Media ratio\n",
    "- Sentiment balance\n",
    "- Emotional intensity\n",
    "\n",
    "After engineering more features, I test for correlation again among all the variables and remove any that has high correlation. I then split the data again afterward, reseting the reandom seed to obtain the same splits."
   ],
   "metadata": {
    "collapsed": false
   },
   "id": "dd5b59b8e3aadcae"
  },
  {
   "cell_type": "code",
   "outputs": [],
   "source": [
    "def feature_engineer(df):\n",
    "    # normalized unique tokens and keywords\n",
    "    # df['e_unique_tokens_normalized'] = df.apply(lambda x: x['n_unique_tokens'] / x['n_tokens_content'] if x['n_tokens_content'] > 0 else 0, axis=1)\n",
    "    # df['e_non_stop_unique_tokens_normalized'] = df.apply(lambda x: x['n_non_stop_unique_tokens'] / x['n_tokens_content'] if x['n_tokens_content'] > 0 else 0, axis=1)\n",
    "    df['e_keyword_density'] = df.apply(lambda x: x['num_keywords'] / x['n_tokens_content'] if x['n_tokens_content'] > 0 else x['num_keywords'], axis=1)\n",
    "    df['e_title_length_ratio'] = df.apply(lambda x: x['n_tokens_title'] / x['n_tokens_content'] if x['n_tokens_content'] > 0 else x['n_tokens_title'], axis=1)\n",
    "    \n",
    "    # links ratio\n",
    "    df['e_external_link_ratio'] = df.apply(lambda x: x['num_hrefs'] / x['n_tokens_content'] if x['n_tokens_content'] > 0 else x['num_hrefs'], axis=1)\n",
    "    df['e_self_reference_link_ratio'] = df.apply(lambda x: x['num_self_hrefs'] / x['num_hrefs'] if x['num_hrefs'] > 0 else x['num_self_hrefs'], axis=1)\n",
    "    \n",
    "    # media ratio\n",
    "    df['e_multimedia_content_ratio'] = df.apply(lambda x: (x['num_imgs'] + x['num_videos']) / x['n_tokens_content'] if x['n_tokens_content'] > 0 else (x['num_imgs'] + x['num_videos']), axis=1)\n",
    "    \n",
    "    # composite indicators of sentiment balance or emotional intensity\n",
    "    df['e_sentiment_balance'] = df['global_rate_positive_words'] - df['global_rate_negative_words']\n",
    "    df['e_emotional_intensity'] = df['global_sentiment_polarity'] * df['global_subjectivity']\n",
    "    \n",
    "    # count of channels associated with each article\n",
    "    channel_cols = [col for col in news_df.columns if col.startswith('data_channel_is')]\n",
    "    df['e_num_channels'] = df[channel_cols].sum(axis=1)\n",
    "    df['e_is_multi_channel'] = df['e_num_channels'].apply(lambda x: 1 if x > 1 else 0)\n",
    "    \n",
    "    binary_cols = ['is_weekend', 'e_is_multi_channel']\n",
    "    \n",
    "    return df, binary_cols\n",
    "\n",
    "news_df, binary_cols = feature_engineer(news_df)"
   ],
   "metadata": {
    "collapsed": false,
    "ExecuteTime": {
     "end_time": "2024-04-19T17:35:44.193459Z",
     "start_time": "2024-04-19T17:35:42.705680Z"
    }
   },
   "id": "db8ecff74d856021",
   "execution_count": 7
  },
  {
   "cell_type": "code",
   "outputs": [
    {
     "data": {
      "text/plain": "[('n_unique_tokens', 'n_non_stop_words'),\n ('n_unique_tokens', 'n_non_stop_unique_tokens'),\n ('n_non_stop_words', 'n_non_stop_unique_tokens'),\n ('average_token_length', 'e_keyword_density'),\n ('average_token_length', 'e_title_length_ratio'),\n ('data_channel_is_world', 'LDA_02'),\n ('kw_min_min', 'kw_max_max'),\n ('kw_max_min', 'kw_avg_min'),\n ('kw_max_avg', 'kw_avg_avg'),\n ('self_reference_min_shares', 'self_reference_avg_sharess'),\n ('self_reference_max_shares', 'self_reference_avg_sharess'),\n ('global_sentiment_polarity', 'e_emotional_intensity'),\n ('global_rate_positive_words', 'e_sentiment_balance'),\n ('e_keyword_density', 'e_title_length_ratio')]"
     },
     "execution_count": 8,
     "metadata": {},
     "output_type": "execute_result"
    }
   ],
   "source": [
    "plot_data = news_df.drop(columns=['timedelta', 'is_popular', 'article_id']).corr()\n",
    "test = plot_data.applymap(lambda x: 1 if x >= 0.8 else -1 if x <= -0.8 else 0)\n",
    "\n",
    "high_correlation_pairs = []\n",
    "for row_index, row in test.iterrows():\n",
    "    for column_name, cell_value in row.items():\n",
    "        if (cell_value == 1 or cell_value == -1) and row_index != column_name and (row_index + '*' + column_name not in high_correlation_pairs and column_name + '*' + row_index not in high_correlation_pairs):\n",
    "            high_correlation_pairs.append(row_index + '*' + column_name)\n",
    "high_correlation_pairs = [(x.split('*')[0], x.split('*')[1]) for x in high_correlation_pairs]\n",
    "high_correlation_pairs"
   ],
   "metadata": {
    "collapsed": false,
    "ExecuteTime": {
     "end_time": "2024-04-19T17:35:44.390805Z",
     "start_time": "2024-04-19T17:35:44.191497Z"
    }
   },
   "id": "4ec084196b0b3a2a",
   "execution_count": 8
  },
  {
   "cell_type": "code",
   "outputs": [
    {
     "data": {
      "text/plain": "['timedelta',\n 'is_popular',\n 'article_id',\n 'kw_min_min',\n 'kw_max_min',\n 'kw_max_avg',\n 'n_non_stop_unique_tokens',\n 'self_reference_min_shares',\n 'self_reference_max_shares',\n 'weekday_is_monday',\n 'weekday_is_tuesday',\n 'weekday_is_wednesday',\n 'weekday_is_thursday',\n 'weekday_is_friday',\n 'weekday_is_saturday',\n 'weekday_is_sunday',\n 'data_channel_is_lifestyle',\n 'data_channel_is_entertainment',\n 'data_channel_is_bus',\n 'data_channel_is_socmed',\n 'data_channel_is_tech',\n 'data_channel_is_world',\n 'average_token_length',\n 'global_sentiment_polarity',\n 'global_rate_negative_words',\n 'e_title_length_ratio']"
     },
     "execution_count": 9,
     "metadata": {},
     "output_type": "execute_result"
    }
   ],
   "source": [
    "# exclude_cols_tmp = ['n_non_stop_words','kw_min_min','kw_max_min','kw_max_avg','self_reference_min_shares','self_reference_max_shares','global_sentiment_polarity','global_rate_positive_words','global_rate_negative_words','rate_positive_words','rate_negative_words','max_positive_polarity','min_negative_polarity','abs_title_sentiment_polarity'] + [col for col in news_df.columns if col.startswith('data_channel_is')]\n",
    "exclude_cols_tmp = ['average_token_length','global_sentiment_polarity','global_rate_negative_words', 'e_title_length_ratio']\n",
    "[exclude_cols.append(x) for x in exclude_cols_tmp if x not in exclude_cols]\n",
    "exclude_cols"
   ],
   "metadata": {
    "collapsed": false,
    "ExecuteTime": {
     "end_time": "2024-04-19T17:35:44.404027Z",
     "start_time": "2024-04-19T17:35:44.391288Z"
    }
   },
   "id": "98633b762d8484c3",
   "execution_count": 9
  },
  {
   "cell_type": "code",
   "outputs": [
    {
     "name": "stdout",
     "output_type": "stream",
     "text": [
      "(26759, 44) (2974, 44) (2974, 44) (26759,) (2974,) (2974,)\n"
     ]
    }
   ],
   "source": [
    "# split train, val, test again with engineered features\n",
    "outcome = news_df[\"is_popular\"]\n",
    "features = news_df.drop(columns=exclude_cols)\n",
    "# features = news_df.drop(columns=['timedelta', 'is_popular', 'article_id'])\n",
    "prng = np.random.RandomState(42)\n",
    "X_train, X_test, y_train, y_test = train_test_split(features, outcome, test_size=0.1, random_state=prng)\n",
    "# X_train, X_val, y_train, y_val = train_test_split(X_train, y_train, test_size=0.1, random_state=prng)\n",
    "X_val, y_val = X_test, y_test\n",
    "\n",
    "print(X_train.shape, X_val.shape, X_test.shape, y_train.shape, y_val.shape, y_test.shape)"
   ],
   "metadata": {
    "collapsed": false,
    "ExecuteTime": {
     "end_time": "2024-04-19T17:35:44.410846Z",
     "start_time": "2024-04-19T17:35:44.396502Z"
    }
   },
   "id": "e8aa560687dce6fe",
   "execution_count": 10
  },
  {
   "cell_type": "code",
   "outputs": [],
   "source": [
    "def update_summary(df, model_name, y_train_true, y_train_pred, y_val_true, y_val_pred, y_test_true, y_test_pred, class1_only=False):\n",
    "    if class1_only:\n",
    "        if model_name not in df.Model.values:\n",
    "            df.loc[len(df.index)] = [model_name, \n",
    "                                     '{:.4f}'.format(roc_auc_score(y_train_true, y_train_pred)),\n",
    "                                     '{:.4f}'.format(roc_auc_score(y_val_true, y_val_pred)),\n",
    "                                     '{:.4f}'.format(roc_auc_score(y_test_true, y_test_pred)),]\n",
    "        else:\n",
    "            df.loc[df.Model == model_name] = [model_name, \n",
    "                                             '{:.4f}'.format(roc_auc_score(y_train_true, y_train_pred)),\n",
    "                                             '{:.4f}'.format(roc_auc_score(y_val_true, y_val_pred)),\n",
    "                                             '{:.4f}'.format(roc_auc_score(y_test_true, y_test_pred)),]\n",
    "    else:\n",
    "        if model_name not in df.Model.values:\n",
    "            df.loc[len(df.index)] = [model_name, \n",
    "                                     '{:.4f}'.format(roc_auc_score(y_train_true, y_train_pred[:,1])),\n",
    "                                     '{:.4f}'.format(roc_auc_score(y_val_true, y_val_pred[:,1])),\n",
    "                                     '{:.4f}'.format(roc_auc_score(y_test_true, y_test_pred[:,1])),]\n",
    "                                     # '{:.4f}'.format(accuracy_score(y_train_true, y_train_pred)),\n",
    "                                     # '{:.4f}'.format(accuracy_score(y_val_true, y_val_pred)),\n",
    "                                     # '{:.4f}'.format(accuracy_score(y_test_true, y_test_pred)),\n",
    "                                     # '{:.4f}'.format(f1_score(y_train_true, y_train_pred)),\n",
    "                                     # '{:.4f}'.format(f1_score(y_val_true, y_val_pred)),\n",
    "                                     # '{:.4f}'.format(f1_score(y_test_true, y_test_pred))]\n",
    "        else:\n",
    "            df.loc[df.Model == model_name] = [model_name, \n",
    "                                             '{:.4f}'.format(roc_auc_score(y_train_true, y_train_pred[:,1])),\n",
    "                                             '{:.4f}'.format(roc_auc_score(y_val_true, y_val_pred[:,1])),\n",
    "                                             '{:.4f}'.format(roc_auc_score(y_test_true, y_test_pred[:,1])),]\n",
    "                                             # '{:.4f}'.format(accuracy_score(y_train_true, y_train_pred)),\n",
    "                                             # '{:.4f}'.format(accuracy_score(y_val_true, y_val_pred)),\n",
    "                                             # '{:.4f}'.format(accuracy_score(y_test_true, y_test_pred)),\n",
    "                                             # '{:.4f}'.format(f1_score(y_train_true, y_train_pred)),\n",
    "                                             # '{:.4f}'.format(f1_score(y_val_true, y_val_pred)),\n",
    "                                             # '{:.4f}'.format(f1_score(y_test_true, y_test_pred))]"
   ],
   "metadata": {
    "collapsed": false,
    "ExecuteTime": {
     "end_time": "2024-04-19T17:35:44.480293Z",
     "start_time": "2024-04-19T17:35:44.412321Z"
    }
   },
   "id": "15a57354ca349785",
   "execution_count": 11
  },
  {
   "cell_type": "markdown",
   "source": [
    "## Modeling with Feature Engineering"
   ],
   "metadata": {
    "collapsed": false
   },
   "id": "feaf7da57ee87fc0"
  },
  {
   "cell_type": "markdown",
   "source": [
    "### LASSO Logit\n",
    "\n",
    "After doing feature engineering, I combine it with a LASSO logit model to regularize the impact by adding more features into the model."
   ],
   "metadata": {
    "collapsed": false
   },
   "id": "64bd3f6bbf04a968"
  },
  {
   "cell_type": "code",
   "outputs": [
    {
     "name": "stdout",
     "output_type": "stream",
     "text": [
      "[Pipeline] ...... (step 1 of 2) Processing preprocessor, total=   0.0s\n",
      "[Pipeline] ......... (step 2 of 2) Processing regressor, total=   3.9s\n"
     ]
    },
    {
     "data": {
      "text/plain": "                Model Train AUC Val AUC Test AUC\n0  Logit as Benchmark    0.6707  0.6637   0.6637\n1         LASSO Logit    0.6835  0.6791   0.6791",
      "text/html": "<div>\n<style scoped>\n    .dataframe tbody tr th:only-of-type {\n        vertical-align: middle;\n    }\n\n    .dataframe tbody tr th {\n        vertical-align: top;\n    }\n\n    .dataframe thead th {\n        text-align: right;\n    }\n</style>\n<table border=\"1\" class=\"dataframe\">\n  <thead>\n    <tr style=\"text-align: right;\">\n      <th></th>\n      <th>Model</th>\n      <th>Train AUC</th>\n      <th>Val AUC</th>\n      <th>Test AUC</th>\n    </tr>\n  </thead>\n  <tbody>\n    <tr>\n      <th>0</th>\n      <td>Logit as Benchmark</td>\n      <td>0.6707</td>\n      <td>0.6637</td>\n      <td>0.6637</td>\n    </tr>\n    <tr>\n      <th>1</th>\n      <td>LASSO Logit</td>\n      <td>0.6835</td>\n      <td>0.6791</td>\n      <td>0.6791</td>\n    </tr>\n  </tbody>\n</table>\n</div>"
     },
     "execution_count": 12,
     "metadata": {},
     "output_type": "execute_result"
    }
   ],
   "source": [
    "from sklearn.compose import ColumnTransformer\n",
    "from sklearn.preprocessing import PolynomialFeatures, StandardScaler\n",
    "from sklearn.pipeline import Pipeline\n",
    "\n",
    "lambdas = list(10**np.arange(-1, -3.01, -1/3))\n",
    "n_obs = len(X_train)\n",
    "Cs_values = [1/(l*n_obs) for l in lambdas]\n",
    "\n",
    "lasso_search = LogisticRegressionCV(\n",
    "    Cs = Cs_values, \n",
    "    penalty = 'l1', # L1 makes it lasso\n",
    "    cv = 5, \n",
    "    refit = True, \n",
    "    scoring = scoring, \n",
    "    solver = 'liblinear',\n",
    "    random_state = prng,\n",
    "    # verbose=True\n",
    ")\n",
    "\n",
    "preprocessor = ColumnTransformer(\n",
    "    transformers=[\n",
    "        ('scale', StandardScaler(), features.drop(columns=binary_cols).columns),\n",
    "        ('leave_out', 'passthrough', binary_cols)  # Leave out columns without transformation\n",
    "    ],\n",
    "    remainder='passthrough'  # Drop columns not specified in transformers\n",
    ")\n",
    "\n",
    "lasso_model = Pipeline(\n",
    "     [('preprocessor', preprocessor),\n",
    "     (\"regressor\", lasso_search)\n",
    "     ], verbose=True\n",
    ")\n",
    "\n",
    "lasso_model.fit(X_train, y_train)\n",
    "\n",
    "update_summary(summary_df, \n",
    "               'LASSO Logit', \n",
    "               y_train, \n",
    "               lasso_model.predict_proba(X_train),\n",
    "               y_val, \n",
    "               lasso_model.predict_proba(X_val), \n",
    "               y_test, \n",
    "               lasso_model.predict_proba(X_test))\n",
    "summary_df"
   ],
   "metadata": {
    "collapsed": false,
    "ExecuteTime": {
     "end_time": "2024-04-19T17:35:48.453193Z",
     "start_time": "2024-04-19T17:35:44.417731Z"
    }
   },
   "id": "700f7e563c5c2b96",
   "execution_count": 12
  },
  {
   "cell_type": "markdown",
   "source": [
    "From the summary table, the LASSO logit's AUC score in both the training and test set improves compared to the benchmark. This gives me some confidence that the feature engineering does provide more information for the model to capture the data better."
   ],
   "metadata": {
    "collapsed": false
   },
   "id": "858660391aae0448"
  },
  {
   "cell_type": "markdown",
   "source": [
    "### Random Forest\n",
    "\n",
    "I experiment with ensemble methods starting with a random forest model. In the code, there are some optimizations that I have done to optimize this model:\n",
    "- Cross validation to obtain the best hyperparameters (the hyperparameters grid is commented out and replaced with the best parameters to cut down on the rerun time)\n",
    "- Perform permutation importance analysis to find the most impactful predictors\n",
    "- Refit the model after removing unimportant predictors from the available variables "
   ],
   "metadata": {
    "collapsed": false
   },
   "id": "50e0f765ce110dde"
  },
  {
   "cell_type": "code",
   "outputs": [],
   "source": [
    "rf_high_perm = ['kw_avg_avg',\n",
    " 'self_reference_avg_sharess',\n",
    " 'kw_min_avg',\n",
    " 'LDA_03',\n",
    " 'e_multimedia_content_ratio',\n",
    " 'e_num_channels',\n",
    " 'num_hrefs',\n",
    " 'num_imgs',\n",
    " 'LDA_04',\n",
    " 'kw_min_max',\n",
    " 'LDA_02',\n",
    " 'e_self_reference_link_ratio',\n",
    " 'n_unique_tokens',\n",
    " 'num_videos',\n",
    " 'global_subjectivity',\n",
    " 'n_tokens_title',\n",
    " 'e_external_link_ratio',\n",
    " 'n_tokens_content',\n",
    " 'avg_negative_polarity',\n",
    " 'title_sentiment_polarity',\n",
    " 'e_sentiment_balance',\n",
    " 'abs_title_sentiment_polarity',\n",
    " 'e_emotional_intensity',\n",
    " 'global_rate_positive_words',\n",
    " 'is_weekend',\n",
    " 'kw_max_max',\n",
    " 'kw_avg_max',\n",
    " 'num_self_hrefs',\n",
    " 'title_subjectivity',\n",
    " 'rate_positive_words',\n",
    " 'rate_negative_words',\n",
    " 'max_negative_polarity']"
   ],
   "metadata": {
    "collapsed": false,
    "ExecuteTime": {
     "end_time": "2024-04-19T17:35:48.470250Z",
     "start_time": "2024-04-19T17:35:48.453056Z"
    }
   },
   "id": "c80689dfec1f965f",
   "execution_count": 13
  },
  {
   "cell_type": "code",
   "outputs": [
    {
     "name": "stdout",
     "output_type": "stream",
     "text": [
      "Fitting 5 folds for each of 1 candidates, totalling 5 fits\n",
      "[Pipeline] ................ (step 1 of 1) Processing rf, total= 2.0min\n"
     ]
    },
    {
     "data": {
      "text/plain": "0.8910558170813719"
     },
     "execution_count": 14,
     "metadata": {},
     "output_type": "execute_result"
    }
   ],
   "source": [
    "from sklearn.model_selection import GridSearchCV, RandomizedSearchCV\n",
    "from sklearn.ensemble import RandomForestClassifier\n",
    "from sklearn.pipeline import Pipeline\n",
    "\n",
    "# max_depth = [int(x) for x in np.linspace(1, 100, num = 4)]\n",
    "max_depth = [15, 18, 20, 25]\n",
    "max_depth.append(None)\n",
    "\n",
    "# grid = {'max_features': [0.3, 0.5, 1],\n",
    "#         'criterion':['gini'],\n",
    "#         'max_depth': max_depth,\n",
    "#         'min_samples_split': [5, 10, 15],\n",
    "#         \"min_samples_leaf\": [2, 4, 8]\n",
    "#         }\n",
    "\n",
    "# grid =  {'criterion': ['gini'],\n",
    "#  'max_depth': [50],\n",
    "#  'max_features': [1],\n",
    "#  'min_samples_leaf': [4],\n",
    "#  'min_samples_split': [10]}\n",
    "\n",
    "grid = {'criterion': ['gini'],\n",
    "         'max_depth': [15],\n",
    "         'max_features': [0.3],\n",
    "         'min_samples_leaf': [8],\n",
    "         'min_samples_split': [5]}\n",
    "\n",
    "prob_forest_search = GridSearchCV(\n",
    "    RandomForestClassifier(random_state = prng, oob_score=True, n_estimators=500, bootstrap=True), \n",
    "    grid, \n",
    "    cv=5, \n",
    "    refit='roc_auc',\n",
    "    scoring = ['roc_auc'], \n",
    "    verbose=True,\n",
    "    # random_state=prng,\n",
    "    n_jobs=-1)\n",
    "\n",
    "rf_model = Pipeline(\n",
    "    [(\"rf\", prob_forest_search)\n",
    "     ], verbose=True\n",
    ")\n",
    "\n",
    "rf_model.fit(X_train[rf_high_perm], y_train)\n",
    "predictions_rf = rf_model.predict(X_val[rf_high_perm])\n",
    "accuracy_score(y_val, predictions_rf)"
   ],
   "metadata": {
    "collapsed": false,
    "ExecuteTime": {
     "end_time": "2024-04-19T17:37:47.854372Z",
     "start_time": "2024-04-19T17:35:48.465918Z"
    }
   },
   "id": "c7fb3f6c120b38bc",
   "execution_count": 14
  },
  {
   "cell_type": "code",
   "outputs": [
    {
     "data": {
      "text/plain": "{'criterion': 'gini',\n 'max_depth': 15,\n 'max_features': 0.3,\n 'min_samples_leaf': 8,\n 'min_samples_split': 5}"
     },
     "execution_count": 15,
     "metadata": {},
     "output_type": "execute_result"
    }
   ],
   "source": [
    "prob_forest_search.best_params_"
   ],
   "metadata": {
    "collapsed": false,
    "ExecuteTime": {
     "end_time": "2024-04-19T17:37:47.858897Z",
     "start_time": "2024-04-19T17:37:47.852386Z"
    }
   },
   "id": "4523ee1a174316fc",
   "execution_count": 15
  },
  {
   "cell_type": "code",
   "outputs": [
    {
     "data": {
      "text/plain": "                Model Train AUC Val AUC Test AUC\n0  Logit as Benchmark    0.6707  0.6637   0.6637\n1         LASSO Logit    0.6835  0.6791   0.6791\n2    Random Forest CV    0.9686  0.7086   0.7086",
      "text/html": "<div>\n<style scoped>\n    .dataframe tbody tr th:only-of-type {\n        vertical-align: middle;\n    }\n\n    .dataframe tbody tr th {\n        vertical-align: top;\n    }\n\n    .dataframe thead th {\n        text-align: right;\n    }\n</style>\n<table border=\"1\" class=\"dataframe\">\n  <thead>\n    <tr style=\"text-align: right;\">\n      <th></th>\n      <th>Model</th>\n      <th>Train AUC</th>\n      <th>Val AUC</th>\n      <th>Test AUC</th>\n    </tr>\n  </thead>\n  <tbody>\n    <tr>\n      <th>0</th>\n      <td>Logit as Benchmark</td>\n      <td>0.6707</td>\n      <td>0.6637</td>\n      <td>0.6637</td>\n    </tr>\n    <tr>\n      <th>1</th>\n      <td>LASSO Logit</td>\n      <td>0.6835</td>\n      <td>0.6791</td>\n      <td>0.6791</td>\n    </tr>\n    <tr>\n      <th>2</th>\n      <td>Random Forest CV</td>\n      <td>0.9686</td>\n      <td>0.7086</td>\n      <td>0.7086</td>\n    </tr>\n  </tbody>\n</table>\n</div>"
     },
     "execution_count": 16,
     "metadata": {},
     "output_type": "execute_result"
    }
   ],
   "source": [
    "update_summary(summary_df, \n",
    "               'Random Forest CV', \n",
    "               y_train, \n",
    "               rf_model.predict_proba(X_train[rf_high_perm]),\n",
    "               y_val, \n",
    "               rf_model.predict_proba(X_val[rf_high_perm]), \n",
    "               y_test, \n",
    "               rf_model.predict_proba(X_test[rf_high_perm]))\n",
    "summary_df"
   ],
   "metadata": {
    "collapsed": false,
    "ExecuteTime": {
     "end_time": "2024-04-19T17:37:49.048761Z",
     "start_time": "2024-04-19T17:37:47.856963Z"
    }
   },
   "id": "86db1b28f6d99801",
   "execution_count": 16
  },
  {
   "cell_type": "markdown",
   "source": [
    "There is a significant jump in the AUC score using the optimized random forest model by almost 3%. It seems that the ensemble method is better at fitting the data and capture more patterns compared to the other models, possibly because the random forest is able to pick up the non-linear and interaction relationship among the predictors."
   ],
   "metadata": {
    "collapsed": false
   },
   "id": "18c0013e93c37ef0"
  },
  {
   "cell_type": "code",
   "outputs": [],
   "source": [
    "# from sklearn.inspection import permutation_importance\n",
    "# \n",
    "# rf_imp = permutation_importance(\n",
    "#     rf_model,\n",
    "#     X_test[rf_high_perm],\n",
    "#     y_test,\n",
    "#     n_repeats=10,\n",
    "#     random_state=prng,\n",
    "#     # scoring=\"neg_root_mean_squared_error\"\n",
    "# )\n",
    "# \n",
    "# grouped_var_imp = (pd.DataFrame(\n",
    "#         rf_imp.importances_mean,\n",
    "#         features.columns)\n",
    "#                       .sort_values(by = 0, ascending = False)\n",
    "#                       .reset_index()\n",
    "#                       .rename(columns={'index': 'variable', 0: 'imp'}))\n",
    "# grouped_var_imp['cumulative_imp'] = grouped_var_imp.imp.cumsum()\n",
    "# \n",
    "# rf_fig = sns.barplot(\n",
    "#     data = grouped_var_imp,\n",
    "#     x=\"imp\", y=\"variable\")\n",
    "# rf_fig.set(title='Random forest model grouped feature importances', xlabel=\"importance\", ylabel=\"variable\")\n",
    "# plt.show()"
   ],
   "metadata": {
    "collapsed": false,
    "ExecuteTime": {
     "end_time": "2024-04-19T17:37:49.052189Z",
     "start_time": "2024-04-19T17:37:49.048160Z"
    }
   },
   "id": "95b345953b7828f7",
   "execution_count": 17
  },
  {
   "cell_type": "code",
   "outputs": [],
   "source": [
    "# grouped_var_imp[(grouped_var_imp['imp'] >= 0.0001)]['variable'].tolist()"
   ],
   "metadata": {
    "collapsed": false,
    "ExecuteTime": {
     "end_time": "2024-04-19T17:37:49.055014Z",
     "start_time": "2024-04-19T17:37:49.051043Z"
    }
   },
   "id": "46ca1e13ae74a325",
   "execution_count": 18
  },
  {
   "cell_type": "markdown",
   "source": [
    "### GBM\n",
    "\n",
    "I also experiment with the gradient boosting model (specifically a variant of it using sklearn HistGradientBoostingClassifier as it runs faster than the traditional GradientBoostingClassifier). I also run the optimization similarly to that of the random forest model. Again, the tuning grid is raplaced by the optimized grid for re-running purpose."
   ],
   "metadata": {
    "collapsed": false
   },
   "id": "e5ad6294541328a6"
  },
  {
   "cell_type": "code",
   "outputs": [],
   "source": [
    "gbm_high_perm = ['kw_avg_avg',\n",
    " 'self_reference_avg_sharess',\n",
    " 'kw_min_avg',\n",
    " 'e_self_reference_link_ratio',\n",
    " 'kw_min_max',\n",
    " 'kw_avg_max',\n",
    " 'num_videos',\n",
    " 'LDA_02',\n",
    " 'num_imgs',\n",
    " 'num_hrefs',\n",
    " 'e_num_channels',\n",
    " 'LDA_04',\n",
    " 'n_tokens_content',\n",
    " 'is_weekend',\n",
    " 'global_subjectivity',\n",
    " 'num_self_hrefs',\n",
    " 'n_non_stop_words',\n",
    " 'kw_max_max',\n",
    " 'n_tokens_title',\n",
    " 'title_subjectivity',\n",
    " 'e_emotional_intensity',\n",
    " 'e_multimedia_content_ratio',\n",
    " 'abs_title_subjectivity',\n",
    " 'kw_avg_min',\n",
    " 'abs_title_sentiment_polarity',\n",
    " 'LDA_03',\n",
    " 'title_sentiment_polarity',\n",
    " 'avg_negative_polarity',\n",
    " 'e_external_link_ratio',\n",
    " 'e_sentiment_balance',\n",
    " 'max_positive_polarity',\n",
    " 'LDA_01']"
   ],
   "metadata": {
    "collapsed": false,
    "ExecuteTime": {
     "end_time": "2024-04-19T17:37:49.065698Z",
     "start_time": "2024-04-19T17:37:49.054364Z"
    }
   },
   "id": "4edb7c273c33aca7",
   "execution_count": 19
  },
  {
   "cell_type": "code",
   "outputs": [
    {
     "name": "stdout",
     "output_type": "stream",
     "text": [
      "Fitting 5 folds for each of 1 candidates, totalling 5 fits\n",
      "[Pipeline] ............... (step 1 of 1) Processing gbm, total=  12.6s\n"
     ]
    },
    {
     "data": {
      "text/plain": "0.8910558170813719"
     },
     "execution_count": 20,
     "metadata": {},
     "output_type": "execute_result"
    }
   ],
   "source": [
    "from sklearn.model_selection import GridSearchCV\n",
    "from sklearn.ensemble import HistGradientBoostingClassifier\n",
    "\n",
    "# max_depth = [int(x) for x in np.linspace(1, 100, num = 5)]\n",
    "max_depth = [15, 18, 20, 25]\n",
    "max_depth.append(None)\n",
    "\n",
    "# gbm_grid = {'max_features': [0.1, 0.15],\n",
    "#         'max_depth': max_depth,\n",
    "#         \"min_samples_leaf\": [15, 18, 20],\n",
    "#         'l2_regularization': [0.05, 0.08, 0.1],\n",
    "#         'class_weight': [None],\n",
    "#         'max_iter': [500],\n",
    "#         'learning_rate': [0.01, 0.001]\n",
    "#         }\n",
    "\n",
    "gbm_grid =  {'class_weight': [None],\n",
    "         'l2_regularization': [0.05],\n",
    "         'learning_rate': [0.01],\n",
    "         'max_depth': [20],\n",
    "         'max_features': [0.1],\n",
    "         'max_iter': [500],\n",
    "         'min_samples_leaf': [15]}\n",
    "\n",
    "gbm_search = GridSearchCV(\n",
    "    HistGradientBoostingClassifier(random_state = prng), \n",
    "    gbm_grid, \n",
    "    cv=5, \n",
    "    refit='roc_auc',\n",
    "    scoring = ['roc_auc'], \n",
    "    verbose=True,\n",
    "    # random_state=prng,\n",
    "    n_jobs=-1)\n",
    "\n",
    "# RF as benchmark\n",
    "gbm_model = Pipeline(\n",
    "    [(\"gbm\", gbm_search)\n",
    "     ], verbose=True\n",
    ")\n",
    "\n",
    "gbm_model.fit(X_train[gbm_high_perm], y_train)\n",
    "predictions_gbm = gbm_model.predict(X_val[gbm_high_perm])\n",
    "accuracy_score(y_val, predictions_gbm)"
   ],
   "metadata": {
    "collapsed": false,
    "ExecuteTime": {
     "end_time": "2024-04-19T17:38:01.674914Z",
     "start_time": "2024-04-19T17:37:49.058847Z"
    }
   },
   "id": "ecdd8490b85a1a3a",
   "execution_count": 20
  },
  {
   "cell_type": "code",
   "outputs": [
    {
     "data": {
      "text/plain": "{'class_weight': None,\n 'l2_regularization': 0.05,\n 'learning_rate': 0.01,\n 'max_depth': 20,\n 'max_features': 0.1,\n 'max_iter': 500,\n 'min_samples_leaf': 15}"
     },
     "execution_count": 21,
     "metadata": {},
     "output_type": "execute_result"
    }
   ],
   "source": [
    "gbm_search.best_params_"
   ],
   "metadata": {
    "collapsed": false,
    "ExecuteTime": {
     "end_time": "2024-04-19T17:38:01.680517Z",
     "start_time": "2024-04-19T17:38:01.676554Z"
    }
   },
   "id": "fde10cf870450327",
   "execution_count": 21
  },
  {
   "cell_type": "code",
   "outputs": [
    {
     "data": {
      "text/plain": "                Model Train AUC Val AUC Test AUC\n0  Logit as Benchmark    0.6707  0.6637   0.6637\n1         LASSO Logit    0.6835  0.6791   0.6791\n2    Random Forest CV    0.9686  0.7086   0.7086\n3              GBM CV    0.8193  0.7133   0.7133",
      "text/html": "<div>\n<style scoped>\n    .dataframe tbody tr th:only-of-type {\n        vertical-align: middle;\n    }\n\n    .dataframe tbody tr th {\n        vertical-align: top;\n    }\n\n    .dataframe thead th {\n        text-align: right;\n    }\n</style>\n<table border=\"1\" class=\"dataframe\">\n  <thead>\n    <tr style=\"text-align: right;\">\n      <th></th>\n      <th>Model</th>\n      <th>Train AUC</th>\n      <th>Val AUC</th>\n      <th>Test AUC</th>\n    </tr>\n  </thead>\n  <tbody>\n    <tr>\n      <th>0</th>\n      <td>Logit as Benchmark</td>\n      <td>0.6707</td>\n      <td>0.6637</td>\n      <td>0.6637</td>\n    </tr>\n    <tr>\n      <th>1</th>\n      <td>LASSO Logit</td>\n      <td>0.6835</td>\n      <td>0.6791</td>\n      <td>0.6791</td>\n    </tr>\n    <tr>\n      <th>2</th>\n      <td>Random Forest CV</td>\n      <td>0.9686</td>\n      <td>0.7086</td>\n      <td>0.7086</td>\n    </tr>\n    <tr>\n      <th>3</th>\n      <td>GBM CV</td>\n      <td>0.8193</td>\n      <td>0.7133</td>\n      <td>0.7133</td>\n    </tr>\n  </tbody>\n</table>\n</div>"
     },
     "execution_count": 22,
     "metadata": {},
     "output_type": "execute_result"
    }
   ],
   "source": [
    "update_summary(summary_df, \n",
    "               'GBM CV', \n",
    "               y_train, \n",
    "               gbm_model.predict_proba(X_train[gbm_high_perm]),\n",
    "               y_val, \n",
    "               gbm_model.predict_proba(X_val[gbm_high_perm]), \n",
    "               y_test, \n",
    "               gbm_model.predict_proba(X_test[gbm_high_perm]))\n",
    "summary_df"
   ],
   "metadata": {
    "collapsed": false,
    "ExecuteTime": {
     "end_time": "2024-04-19T17:38:02.083296Z",
     "start_time": "2024-04-19T17:38:01.682045Z"
    }
   },
   "id": "8c38764da5191b09",
   "execution_count": 22
  },
  {
   "cell_type": "markdown",
   "source": [
    "From the summary table, the gradient boosting is the best model so far in terms of the AUC score for the unseen data. The lower AUC score in the training set compared to the random forest suggest that there might be some training overfitting happen with the random forest. The prediction submission on Kaggle also confirms this hypothesis as the score for the gradient boosting model is the highest. "
   ],
   "metadata": {
    "collapsed": false
   },
   "id": "57eb1eb2bf348e6a"
  },
  {
   "cell_type": "code",
   "outputs": [],
   "source": [
    "# from sklearn.inspection import permutation_importance\n",
    "# \n",
    "# gbm_imp = permutation_importance(\n",
    "#     gbm_model,\n",
    "#     X_test,\n",
    "#     y_test,\n",
    "#     n_repeats=10,\n",
    "#     random_state=prng,\n",
    "#     # scoring=\"neg_root_mean_squared_error\"\n",
    "# )\n",
    "# \n",
    "# grouped_var_imp = (pd.DataFrame(\n",
    "#         gbm_imp.importances_mean,\n",
    "#         features.columns)\n",
    "#                       .sort_values(by = 0, ascending = False)\n",
    "#                       .reset_index()\n",
    "#                       .rename(columns={'index': 'variable', 0: 'imp'}))\n",
    "# grouped_var_imp['cumulative_imp'] = grouped_var_imp.imp.cumsum()\n",
    "# \n",
    "# gbm_fig = sns.barplot(\n",
    "#     data = grouped_var_imp,\n",
    "#     x=\"imp\", y=\"variable\")\n",
    "# gbm_fig.set(title='GBM model grouped feature importances', xlabel=\"importance\", ylabel=\"variable\")\n",
    "# plt.show()"
   ],
   "metadata": {
    "collapsed": false,
    "ExecuteTime": {
     "end_time": "2024-04-19T17:38:02.087256Z",
     "start_time": "2024-04-19T17:38:02.082351Z"
    }
   },
   "id": "d084fa5e07e073f4",
   "execution_count": 23
  },
  {
   "cell_type": "code",
   "outputs": [],
   "source": [
    "# grouped_var_imp[(grouped_var_imp['imp'] >= 0.0001)]['variable'].tolist();"
   ],
   "metadata": {
    "collapsed": false,
    "ExecuteTime": {
     "end_time": "2024-04-19T17:38:02.089130Z",
     "start_time": "2024-04-19T17:38:02.084884Z"
    }
   },
   "id": "de78f26cab17d150",
   "execution_count": 24
  },
  {
   "cell_type": "code",
   "outputs": [
    {
     "name": "stdout",
     "output_type": "stream",
     "text": [
      "(26759, 44) (2974, 44) (2974, 44) (26759,) (2974,) (2974,)\n"
     ]
    }
   ],
   "source": [
    "# save original X, y data\n",
    "X_ori_sets = [X_train.copy(), X_val.copy(), X_test.copy()]\n",
    "y_ori_sets = [y_train.copy(), y_val.copy(), y_test.copy()]\n",
    "\n",
    "print(X_ori_sets[0].shape, X_ori_sets[1].shape, X_ori_sets[2].shape, y_ori_sets[0].shape, y_ori_sets[1].shape, y_ori_sets[2].shape)"
   ],
   "metadata": {
    "collapsed": false,
    "ExecuteTime": {
     "end_time": "2024-04-19T17:38:02.106648Z",
     "start_time": "2024-04-19T17:38:02.088915Z"
    }
   },
   "id": "10d962a76370fc91",
   "execution_count": 25
  },
  {
   "cell_type": "markdown",
   "source": [
    "### NN with Sigmoid activation\n",
    "\n",
    "Starting from here, all the subsequent models are neural network or include the neural network as part of the model. To train these models, I split the training set to obtain the validation set with the 9:1 ratio. \n",
    "\n",
    "The first neural network model consists of 1 hidden layer and an output layer with 1 neuron and use the sigmoid function as activation. The output thus can be directly interpreted as the probability for whether an article is popular.\n",
    "\n",
    "I have been optimizing the network to obtain the best AUC score by:\n",
    "- Increase the number of layers\n",
    "- Increase the number of neurons\n",
    "- Try different mini batch size\n",
    "- Introduce the kernel_regularizer with L1 regularization with different strength\n",
    "- Add dropout layer with different ratios\n",
    "- Introduce the kernel_initializer to pre-set the weight for different layers\n",
    "- Try different learning rates\n",
    "- Customize the loss function to heavily penalize false negative (FN) predictions\n",
    "\n",
    "I also think about convolution layers but since this is structured tabular data, there's no real relevant connection to the surrounding data points like in unstructured data. Hence, applying convolution results in less accurate data to train with.\n",
    "\n",
    "Subsequent neural network models will also undergo the same optimizations as above to obtain the best AUC score."
   ],
   "metadata": {
    "collapsed": false
   },
   "id": "b345d20a6ede47cb"
  },
  {
   "cell_type": "code",
   "outputs": [
    {
     "name": "stdout",
     "output_type": "stream",
     "text": [
      "(24083, 44) (2676, 44) (2974, 44)\n"
     ]
    }
   ],
   "source": [
    "# split train, val, test again with engineered features\n",
    "outcome = news_df[\"is_popular\"]\n",
    "# features = news_df[high_performance_predictors]\n",
    "features = news_df.drop(columns=exclude_cols)\n",
    "# features = news_df.drop(columns=['timedelta', 'is_popular', 'article_id'])\n",
    "prng = np.random.RandomState(42)\n",
    "X_train, X_test, y_train, y_test = train_test_split(features, outcome, test_size=0.1, random_state=prng)\n",
    "# X_val, y_val = X_test, y_test\n",
    "X_train, X_val, y_train, y_val = train_test_split(X_train, y_train, test_size=0.1, random_state=prng)\n",
    "\n",
    "\n",
    "print(X_train.shape, X_val.shape, X_test.shape)"
   ],
   "metadata": {
    "collapsed": false,
    "ExecuteTime": {
     "end_time": "2024-04-19T17:38:02.159985Z",
     "start_time": "2024-04-19T17:38:02.099286Z"
    }
   },
   "id": "62543a75041c825f",
   "execution_count": 26
  },
  {
   "cell_type": "code",
   "outputs": [],
   "source": [
    "from sklearn.preprocessing import MinMaxScaler\n",
    "\n",
    "# normalize data\n",
    "scaler = MinMaxScaler(feature_range=(-1, 1))\n",
    "# scaler = StandardScaler()\n",
    "# scaler.fit(features)\n",
    "columns_not_to_scale = [col for col in X_train.columns if col not in binary_cols]\n",
    "scaler.fit(X_train[columns_not_to_scale])\n",
    "\n",
    "X_train[columns_not_to_scale] = scaler.transform(X_train[columns_not_to_scale])\n",
    "X_val[columns_not_to_scale] = scaler.transform(X_val[columns_not_to_scale])\n",
    "X_test[columns_not_to_scale] = scaler.transform(X_test[columns_not_to_scale])"
   ],
   "metadata": {
    "collapsed": false,
    "ExecuteTime": {
     "end_time": "2024-04-19T17:38:02.191518Z",
     "start_time": "2024-04-19T17:38:02.119873Z"
    }
   },
   "id": "711c0f354294df6a",
   "execution_count": 27
  },
  {
   "cell_type": "code",
   "outputs": [],
   "source": [
    "def plot_history(fit_history):\n",
    "    train_auc_col = [col for col in fit_history.keys() if col.startswith('auc')][0]\n",
    "    val_auc_col = [col for col in fit_history.keys() if col.startswith('val_auc')][0]\n",
    "    plt.plot(fit_history[train_auc_col], label='Training AUC')\n",
    "    plt.plot(fit_history[val_auc_col], label='Validation AUC')\n",
    "    plt.xlabel('Epoch')\n",
    "    plt.ylabel('AUC Score')\n",
    "    plt.title('Training and Validation AUC score')\n",
    "    plt.legend()\n",
    "    plt.show()"
   ],
   "metadata": {
    "collapsed": false,
    "ExecuteTime": {
     "end_time": "2024-04-19T17:38:02.219895Z",
     "start_time": "2024-04-19T17:38:02.149612Z"
    }
   },
   "id": "6b1769a7806664e5",
   "execution_count": 28
  },
  {
   "cell_type": "code",
   "outputs": [],
   "source": [
    "y_train_sigmoid, y_val_sigmoid, y_test_sigmoid = y_train, y_val, y_test"
   ],
   "metadata": {
    "collapsed": false,
    "ExecuteTime": {
     "end_time": "2024-04-19T17:38:02.233843Z",
     "start_time": "2024-04-19T17:38:02.158822Z"
    }
   },
   "id": "1efb75d56f585fa3",
   "execution_count": 29
  },
  {
   "cell_type": "code",
   "outputs": [],
   "source": [
    "import tensorflow as tf\n",
    "\n",
    "def custom_loss(y_true, y_pred):\n",
    "    # Define weights\n",
    "    false_positive_weight = 1.0\n",
    "    false_negative_weight = 10000.0\n",
    "\n",
    "    # Calculate binary cross entropy\n",
    "    bce = tf.keras.losses.BinaryCrossentropy()\n",
    "\n",
    "    # Calculate loss\n",
    "    loss = bce(y_true, y_pred)\n",
    "\n",
    "    # Calculate weighted loss\n",
    "    weighted_loss = tf.where(tf.greater(y_true, y_pred), false_negative_weight * loss, false_positive_weight * loss)\n",
    "\n",
    "    return tf.reduce_mean(weighted_loss)"
   ],
   "metadata": {
    "collapsed": false,
    "ExecuteTime": {
     "end_time": "2024-04-19T17:38:05.331767Z",
     "start_time": "2024-04-19T17:38:02.160663Z"
    }
   },
   "id": "a9d37ac420897358",
   "execution_count": 30
  },
  {
   "cell_type": "code",
   "outputs": [
    {
     "name": "stdout",
     "output_type": "stream",
     "text": [
      "Epoch 1/200\n",
      "\u001B[1m8028/8028\u001B[0m \u001B[32m━━━━━━━━━━━━━━━━━━━━\u001B[0m\u001B[37m\u001B[0m \u001B[1m6s\u001B[0m 712us/step - accuracy: 0.7593 - auc: 0.5217 - f1_score: 0.2174 - loss: 1227.2429 - val_accuracy: 0.8610 - val_auc: 0.5912 - val_f1_score: 0.2231 - val_loss: 1187.1758\n",
      "Epoch 2/200\n",
      "\u001B[1m8028/8028\u001B[0m \u001B[32m━━━━━━━━━━━━━━━━━━━━\u001B[0m\u001B[37m\u001B[0m \u001B[1m5s\u001B[0m 645us/step - accuracy: 0.7919 - auc: 0.5843 - f1_score: 0.2174 - loss: 1151.6146 - val_accuracy: 0.8333 - val_auc: 0.6152 - val_f1_score: 0.2231 - val_loss: 1143.6550\n",
      "Epoch 3/200\n",
      "\u001B[1m8028/8028\u001B[0m \u001B[32m━━━━━━━━━━━━━━━━━━━━\u001B[0m\u001B[37m\u001B[0m \u001B[1m5s\u001B[0m 618us/step - accuracy: 0.7922 - auc: 0.6138 - f1_score: 0.2174 - loss: 1114.5966 - val_accuracy: 0.8188 - val_auc: 0.6238 - val_f1_score: 0.2231 - val_loss: 1115.6023\n",
      "Epoch 4/200\n",
      "\u001B[1m8028/8028\u001B[0m \u001B[32m━━━━━━━━━━━━━━━━━━━━\u001B[0m\u001B[37m\u001B[0m \u001B[1m5s\u001B[0m 617us/step - accuracy: 0.7836 - auc: 0.6218 - f1_score: 0.2174 - loss: 1084.9539 - val_accuracy: 0.8079 - val_auc: 0.6269 - val_f1_score: 0.2231 - val_loss: 1094.1700\n",
      "Epoch 5/200\n",
      "\u001B[1m8028/8028\u001B[0m \u001B[32m━━━━━━━━━━━━━━━━━━━━\u001B[0m\u001B[37m\u001B[0m \u001B[1m5s\u001B[0m 665us/step - accuracy: 0.7831 - auc: 0.6221 - f1_score: 0.2174 - loss: 1068.6283 - val_accuracy: 0.8046 - val_auc: 0.6291 - val_f1_score: 0.2231 - val_loss: 1078.6821\n",
      "Epoch 6/200\n",
      "\u001B[1m8028/8028\u001B[0m \u001B[32m━━━━━━━━━━━━━━━━━━━━\u001B[0m\u001B[37m\u001B[0m \u001B[1m5s\u001B[0m 651us/step - accuracy: 0.7860 - auc: 0.6342 - f1_score: 0.2174 - loss: 1046.2969 - val_accuracy: 0.8038 - val_auc: 0.6310 - val_f1_score: 0.2231 - val_loss: 1064.0073\n",
      "Epoch 7/200\n",
      "\u001B[1m8028/8028\u001B[0m \u001B[32m━━━━━━━━━━━━━━━━━━━━\u001B[0m\u001B[37m\u001B[0m \u001B[1m5s\u001B[0m 639us/step - accuracy: 0.7879 - auc: 0.6387 - f1_score: 0.2174 - loss: 1031.2081 - val_accuracy: 0.8008 - val_auc: 0.6312 - val_f1_score: 0.2231 - val_loss: 1050.4274\n",
      "Epoch 7: early stopping\n"
     ]
    },
    {
     "data": {
      "text/plain": "<Figure size 640x480 with 1 Axes>",
      "image/png": "[encoded data removed]"
     },
     "metadata": {},
     "output_type": "display_data"
    }
   ],
   "source": [
    "from keras.metrics import AUC, F1Score\n",
    "from keras.models import Sequential\n",
    "from keras.layers import Input, Dense, Normalization, Dropout, BatchNormalization\n",
    "from keras.optimizers import Adam\n",
    "from keras.callbacks import EarlyStopping\n",
    "from keras.regularizers import l1\n",
    "import keras\n",
    "\n",
    "# Build the simple fully connected single hidden layer network model\n",
    "# simple_model = Sequential([\n",
    "#     Input(shape=X_train.shape[1:]),\n",
    "#     Dense(22, activation='relu', kernel_regularizer=l1(0.5)), \n",
    "#     Dropout(0.7),\n",
    "#     Dense(1, activation='sigmoid', kernel_regularizer=l1(0.5), kernel_initializer='glorot_normal')\n",
    "# ])\n",
    "simple_model = Sequential([\n",
    "    Input(shape=X_train.shape[1:]),\n",
    "    # Normalization(axis=-1),\n",
    "    Dense(256, activation='relu', kernel_regularizer=l1(0.5)),   \n",
    "    Dropout(0.4),\n",
    "    Dense(1, activation='sigmoid', kernel_regularizer=l1(0.5), kernel_initializer='glorot_normal')\n",
    "])\n",
    "\n",
    "# Compile the model\n",
    "opt = Adam(learning_rate=0.00001)\n",
    "simple_model.compile(loss=custom_loss, optimizer=opt, metrics=[AUC(), 'accuracy', F1Score()])\n",
    "# print(simple_model.summary())\n",
    "\n",
    "# Fit the model\n",
    "keras.utils.set_random_seed(42)  # for reproducibility\n",
    "# simple_history = simple_model.fit(X_train, y_train_sigmoid, validation_data=(X_val, y_val_sigmoid), epochs=500, batch_size=256, callbacks=[EarlyStopping(monitor='val_auc', mode='max', patience=3, verbose=1, min_delta=0.01)], verbose=True)\n",
    "simple_history = simple_model.fit(X_train, y_train_sigmoid, validation_data=(X_val, y_val_sigmoid), epochs=200, batch_size=3, callbacks=[EarlyStopping(monitor='val_auc', mode='max', patience=3, verbose=1, min_delta=0.01)], verbose=True)\n",
    "\n",
    "plot_history(simple_history.history)"
   ],
   "metadata": {
    "collapsed": false,
    "ExecuteTime": {
     "end_time": "2024-04-19T17:38:42.735312Z",
     "start_time": "2024-04-19T17:38:05.344054Z"
    }
   },
   "id": "a1789348d5c53cc2",
   "execution_count": 31
  },
  {
   "cell_type": "code",
   "outputs": [
    {
     "name": "stdout",
     "output_type": "stream",
     "text": [
      "\u001B[1m753/753\u001B[0m \u001B[32m━━━━━━━━━━━━━━━━━━━━\u001B[0m\u001B[37m\u001B[0m \u001B[1m0s\u001B[0m 361us/step\n",
      "\u001B[1m84/84\u001B[0m \u001B[32m━━━━━━━━━━━━━━━━━━━━\u001B[0m\u001B[37m\u001B[0m \u001B[1m0s\u001B[0m 316us/step\n",
      "\u001B[1m93/93\u001B[0m \u001B[32m━━━━━━━━━━━━━━━━━━━━\u001B[0m\u001B[37m\u001B[0m \u001B[1m0s\u001B[0m 337us/step\n"
     ]
    },
    {
     "data": {
      "text/plain": "                Model Train AUC Val AUC Test AUC\n0  Logit as Benchmark    0.6707  0.6637   0.6637\n1         LASSO Logit    0.6835  0.6791   0.6791\n2    Random Forest CV    0.9686  0.7086   0.7086\n3              GBM CV    0.8193  0.7133   0.7133\n4          Sigmoid NN    0.6578  0.6321   0.6611",
      "text/html": "<div>\n<style scoped>\n    .dataframe tbody tr th:only-of-type {\n        vertical-align: middle;\n    }\n\n    .dataframe tbody tr th {\n        vertical-align: top;\n    }\n\n    .dataframe thead th {\n        text-align: right;\n    }\n</style>\n<table border=\"1\" class=\"dataframe\">\n  <thead>\n    <tr style=\"text-align: right;\">\n      <th></th>\n      <th>Model</th>\n      <th>Train AUC</th>\n      <th>Val AUC</th>\n      <th>Test AUC</th>\n    </tr>\n  </thead>\n  <tbody>\n    <tr>\n      <th>0</th>\n      <td>Logit as Benchmark</td>\n      <td>0.6707</td>\n      <td>0.6637</td>\n      <td>0.6637</td>\n    </tr>\n    <tr>\n      <th>1</th>\n      <td>LASSO Logit</td>\n      <td>0.6835</td>\n      <td>0.6791</td>\n      <td>0.6791</td>\n    </tr>\n    <tr>\n      <th>2</th>\n      <td>Random Forest CV</td>\n      <td>0.9686</td>\n      <td>0.7086</td>\n      <td>0.7086</td>\n    </tr>\n    <tr>\n      <th>3</th>\n      <td>GBM CV</td>\n      <td>0.8193</td>\n      <td>0.7133</td>\n      <td>0.7133</td>\n    </tr>\n    <tr>\n      <th>4</th>\n      <td>Sigmoid NN</td>\n      <td>0.6578</td>\n      <td>0.6321</td>\n      <td>0.6611</td>\n    </tr>\n  </tbody>\n</table>\n</div>"
     },
     "execution_count": 32,
     "metadata": {},
     "output_type": "execute_result"
    }
   ],
   "source": [
    "update_summary(summary_df, \n",
    "               'Sigmoid NN', \n",
    "               y_train_sigmoid,\n",
    "               simple_model.predict(X_train), \n",
    "               y_val_sigmoid,\n",
    "               simple_model.predict(X_val), \n",
    "               y_test_sigmoid,\n",
    "               simple_model.predict(X_test),\n",
    "               class1_only=True)\n",
    "summary_df"
   ],
   "metadata": {
    "collapsed": false,
    "ExecuteTime": {
     "end_time": "2024-04-19T17:38:43.280328Z",
     "start_time": "2024-04-19T17:38:42.724913Z"
    }
   },
   "id": "2512337d820451b8",
   "execution_count": 32
  },
  {
   "cell_type": "markdown",
   "source": [
    "The sigmoid neural network performs worse compared to the ensemble models even with all the trial and errors with optimizations. Interestingly, the more layers or neurons added, the worse the performance becomes. Although I do not have good explanation for this behavior, it seems likely that the neural network is not fit for structured data compared to ensemble models. There are also possible improvements for label engineering or other network type/configuration. However, with the dataset, I have already exhausted possible enegineering option that can be done. Hence, moving forward in the notebook, I will experiment with other network configurations."
   ],
   "metadata": {
    "collapsed": false
   },
   "id": "c1a5a7d9da114fef"
  },
  {
   "cell_type": "markdown",
   "source": [
    "## NN with Softmax activation\n",
    "\n",
    "This network is similar to the network using sigmoid activation functions, with the exception in the output layer: instead of a single neuron using sigmoid function, it uses a 2-neuron layer with a softmax activiation function. The network is also optimized with all the options like the sigmoid neural network."
   ],
   "metadata": {
    "collapsed": false
   },
   "id": "508eaa8cfab347fc"
  },
  {
   "cell_type": "code",
   "outputs": [
    {
     "name": "stdout",
     "output_type": "stream",
     "text": [
      "Dimension of y: (24083,)\n",
      "Dimension of y: (24083, 2)\n"
     ]
    }
   ],
   "source": [
    "from keras.utils import to_categorical\n",
    "\n",
    "print(f\"Dimension of y: {y_train.shape}\")\n",
    "\n",
    "# Convert target variables to categorical\n",
    "num_classes = 2\n",
    "y_sets = [y_train, y_val, y_test]\n",
    "y_train, y_val, y_test = [to_categorical(y, num_classes=num_classes) for y in y_sets]\n",
    "print(f\"Dimension of y: {y_train.shape}\")"
   ],
   "metadata": {
    "collapsed": false,
    "ExecuteTime": {
     "end_time": "2024-04-19T17:38:43.311744Z",
     "start_time": "2024-04-19T17:38:43.279578Z"
    }
   },
   "id": "6401c596373828e3",
   "execution_count": 33
  },
  {
   "cell_type": "code",
   "outputs": [],
   "source": [
    "def custom_categorical_loss(y_true, y_pred):\n",
    "    # Define class weights\n",
    "    class_weights = tf.constant([1.0, 1000.0])  # Assuming there are 2 classes with different weights\n",
    "\n",
    "    # Calculate Categorical Crossentropy\n",
    "    cat_crossentropy = tf.keras.losses.CategoricalCrossentropy(from_logits=False)\n",
    "\n",
    "    # Calculate raw loss\n",
    "    raw_loss = cat_crossentropy(y_true, y_pred)\n",
    "\n",
    "    # Apply class weights\n",
    "    weighted_loss = raw_loss * class_weights\n",
    "\n",
    "    # Reduce along the class axis\n",
    "    weighted_loss = tf.reduce_mean(weighted_loss, axis=-1)\n",
    "\n",
    "    return weighted_loss"
   ],
   "metadata": {
    "collapsed": false,
    "ExecuteTime": {
     "end_time": "2024-04-19T17:38:43.327315Z",
     "start_time": "2024-04-19T17:38:43.283958Z"
    }
   },
   "id": "474cf9620fed0659",
   "execution_count": 34
  },
  {
   "cell_type": "code",
   "outputs": [
    {
     "name": "stdout",
     "output_type": "stream",
     "text": [
      "Epoch 1/300\n",
      "\u001B[1m377/377\u001B[0m \u001B[32m━━━━━━━━━━━━━━━━━━━━\u001B[0m\u001B[37m\u001B[0m \u001B[1m1s\u001B[0m 1ms/step - accuracy: 0.7979 - auc_1: 0.8498 - f1_score: 0.5033 - loss: 362.8992 - val_accuracy: 0.8744 - val_auc_1: 0.8720 - val_f1_score: 0.4665 - val_loss: 278.6981\n",
      "Epoch 2/300\n",
      "\u001B[1m377/377\u001B[0m \u001B[32m━━━━━━━━━━━━━━━━━━━━\u001B[0m\u001B[37m\u001B[0m \u001B[1m0s\u001B[0m 711us/step - accuracy: 0.8102 - auc_1: 0.8540 - f1_score: 0.5027 - loss: 356.7601 - val_accuracy: 0.8744 - val_auc_1: 0.8721 - val_f1_score: 0.4665 - val_loss: 277.3033\n",
      "Epoch 3/300\n",
      "\u001B[1m377/377\u001B[0m \u001B[32m━━━━━━━━━━━━━━━━━━━━\u001B[0m\u001B[37m\u001B[0m \u001B[1m0s\u001B[0m 686us/step - accuracy: 0.8213 - auc_1: 0.8601 - f1_score: 0.5021 - loss: 346.4251 - val_accuracy: 0.8744 - val_auc_1: 0.8721 - val_f1_score: 0.4665 - val_loss: 275.6946\n",
      "Epoch 4/300\n",
      "\u001B[1m377/377\u001B[0m \u001B[32m━━━━━━━━━━━━━━━━━━━━\u001B[0m\u001B[37m\u001B[0m \u001B[1m0s\u001B[0m 699us/step - accuracy: 0.8281 - auc_1: 0.8627 - f1_score: 0.5004 - loss: 339.9158 - val_accuracy: 0.8744 - val_auc_1: 0.8728 - val_f1_score: 0.4665 - val_loss: 274.0124\n",
      "Epoch 5/300\n",
      "\u001B[1m377/377\u001B[0m \u001B[32m━━━━━━━━━━━━━━━━━━━━\u001B[0m\u001B[37m\u001B[0m \u001B[1m0s\u001B[0m 657us/step - accuracy: 0.8379 - auc_1: 0.8674 - f1_score: 0.5025 - loss: 330.7993 - val_accuracy: 0.8744 - val_auc_1: 0.8732 - val_f1_score: 0.4665 - val_loss: 272.4661\n",
      "Epoch 6/300\n",
      "\u001B[1m377/377\u001B[0m \u001B[32m━━━━━━━━━━━━━━━━━━━━\u001B[0m\u001B[37m\u001B[0m \u001B[1m0s\u001B[0m 700us/step - accuracy: 0.8386 - auc_1: 0.8699 - f1_score: 0.5088 - loss: 323.7843 - val_accuracy: 0.8744 - val_auc_1: 0.8735 - val_f1_score: 0.4665 - val_loss: 271.1880\n",
      "Epoch 7/300\n",
      "\u001B[1m377/377\u001B[0m \u001B[32m━━━━━━━━━━━━━━━━━━━━\u001B[0m\u001B[37m\u001B[0m \u001B[1m0s\u001B[0m 648us/step - accuracy: 0.8473 - auc_1: 0.8710 - f1_score: 0.5026 - loss: 320.2536 - val_accuracy: 0.8744 - val_auc_1: 0.8739 - val_f1_score: 0.4665 - val_loss: 269.8339\n",
      "Epoch 8/300\n",
      "\u001B[1m377/377\u001B[0m \u001B[32m━━━━━━━━━━━━━━━━━━━━\u001B[0m\u001B[37m\u001B[0m \u001B[1m0s\u001B[0m 817us/step - accuracy: 0.8463 - auc_1: 0.8699 - f1_score: 0.5040 - loss: 317.9762 - val_accuracy: 0.8744 - val_auc_1: 0.8740 - val_f1_score: 0.4665 - val_loss: 268.7202\n",
      "Epoch 9/300\n",
      "\u001B[1m377/377\u001B[0m \u001B[32m━━━━━━━━━━━━━━━━━━━━\u001B[0m\u001B[37m\u001B[0m \u001B[1m0s\u001B[0m 775us/step - accuracy: 0.8514 - auc_1: 0.8731 - f1_score: 0.4986 - loss: 311.6431 - val_accuracy: 0.8744 - val_auc_1: 0.8745 - val_f1_score: 0.4665 - val_loss: 267.7656\n",
      "Epoch 10/300\n",
      "\u001B[1m377/377\u001B[0m \u001B[32m━━━━━━━━━━━━━━━━━━━━\u001B[0m\u001B[37m\u001B[0m \u001B[1m0s\u001B[0m 861us/step - accuracy: 0.8555 - auc_1: 0.8728 - f1_score: 0.4971 - loss: 311.7391 - val_accuracy: 0.8744 - val_auc_1: 0.8747 - val_f1_score: 0.4665 - val_loss: 266.8932\n",
      "Epoch 11/300\n",
      "\u001B[1m377/377\u001B[0m \u001B[32m━━━━━━━━━━━━━━━━━━━━\u001B[0m\u001B[37m\u001B[0m \u001B[1m0s\u001B[0m 816us/step - accuracy: 0.8572 - auc_1: 0.8730 - f1_score: 0.4870 - loss: 308.0860 - val_accuracy: 0.8744 - val_auc_1: 0.8751 - val_f1_score: 0.4665 - val_loss: 266.0588\n",
      "Epoch 12/300\n",
      "\u001B[1m377/377\u001B[0m \u001B[32m━━━━━━━━━━━━━━━━━━━━\u001B[0m\u001B[37m\u001B[0m \u001B[1m0s\u001B[0m 656us/step - accuracy: 0.8626 - auc_1: 0.8744 - f1_score: 0.4966 - loss: 304.9740 - val_accuracy: 0.8744 - val_auc_1: 0.8751 - val_f1_score: 0.4665 - val_loss: 265.3321\n",
      "Epoch 13/300\n",
      "\u001B[1m377/377\u001B[0m \u001B[32m━━━━━━━━━━━━━━━━━━━━\u001B[0m\u001B[37m\u001B[0m \u001B[1m0s\u001B[0m 679us/step - accuracy: 0.8617 - auc_1: 0.8726 - f1_score: 0.4964 - loss: 305.2619 - val_accuracy: 0.8744 - val_auc_1: 0.8753 - val_f1_score: 0.4665 - val_loss: 264.6334\n",
      "Epoch 14/300\n",
      "\u001B[1m377/377\u001B[0m \u001B[32m━━━━━━━━━━━━━━━━━━━━\u001B[0m\u001B[37m\u001B[0m \u001B[1m0s\u001B[0m 663us/step - accuracy: 0.8653 - auc_1: 0.8784 - f1_score: 0.4888 - loss: 297.0869 - val_accuracy: 0.8744 - val_auc_1: 0.8758 - val_f1_score: 0.4665 - val_loss: 263.9635\n",
      "Epoch 15/300\n",
      "\u001B[1m377/377\u001B[0m \u001B[32m━━━━━━━━━━━━━━━━━━━━\u001B[0m\u001B[37m\u001B[0m \u001B[1m0s\u001B[0m 758us/step - accuracy: 0.8671 - auc_1: 0.8809 - f1_score: 0.4939 - loss: 292.7044 - val_accuracy: 0.8744 - val_auc_1: 0.8761 - val_f1_score: 0.4665 - val_loss: 263.2576\n",
      "Epoch 16/300\n",
      "\u001B[1m377/377\u001B[0m \u001B[32m━━━━━━━━━━━━━━━━━━━━\u001B[0m\u001B[37m\u001B[0m \u001B[1m0s\u001B[0m 720us/step - accuracy: 0.8670 - auc_1: 0.8757 - f1_score: 0.4860 - loss: 295.8681 - val_accuracy: 0.8744 - val_auc_1: 0.8767 - val_f1_score: 0.4665 - val_loss: 262.5631\n",
      "Epoch 17/300\n",
      "\u001B[1m377/377\u001B[0m \u001B[32m━━━━━━━━━━━━━━━━━━━━\u001B[0m\u001B[37m\u001B[0m \u001B[1m0s\u001B[0m 702us/step - accuracy: 0.8683 - auc_1: 0.8749 - f1_score: 0.4895 - loss: 295.3177 - val_accuracy: 0.8744 - val_auc_1: 0.8771 - val_f1_score: 0.4665 - val_loss: 261.9109\n",
      "Epoch 18/300\n",
      "\u001B[1m377/377\u001B[0m \u001B[32m━━━━━━━━━━━━━━━━━━━━\u001B[0m\u001B[37m\u001B[0m \u001B[1m0s\u001B[0m 713us/step - accuracy: 0.8690 - auc_1: 0.8795 - f1_score: 0.4883 - loss: 288.2843 - val_accuracy: 0.8744 - val_auc_1: 0.8774 - val_f1_score: 0.4665 - val_loss: 261.2415\n",
      "Epoch 19/300\n",
      "\u001B[1m377/377\u001B[0m \u001B[32m━━━━━━━━━━━━━━━━━━━━\u001B[0m\u001B[37m\u001B[0m \u001B[1m0s\u001B[0m 682us/step - accuracy: 0.8705 - auc_1: 0.8794 - f1_score: 0.4835 - loss: 288.2390 - val_accuracy: 0.8744 - val_auc_1: 0.8780 - val_f1_score: 0.4665 - val_loss: 260.5918\n",
      "Epoch 20/300\n",
      "\u001B[1m377/377\u001B[0m \u001B[32m━━━━━━━━━━━━━━━━━━━━\u001B[0m\u001B[37m\u001B[0m \u001B[1m0s\u001B[0m 714us/step - accuracy: 0.8713 - auc_1: 0.8781 - f1_score: 0.4856 - loss: 288.9445 - val_accuracy: 0.8744 - val_auc_1: 0.8786 - val_f1_score: 0.4665 - val_loss: 259.9552\n",
      "Epoch 21/300\n",
      "\u001B[1m377/377\u001B[0m \u001B[32m━━━━━━━━━━━━━━━━━━━━\u001B[0m\u001B[37m\u001B[0m \u001B[1m0s\u001B[0m 692us/step - accuracy: 0.8716 - auc_1: 0.8801 - f1_score: 0.4845 - loss: 285.4436 - val_accuracy: 0.8744 - val_auc_1: 0.8790 - val_f1_score: 0.4665 - val_loss: 259.3060\n",
      "Epoch 22/300\n",
      "\u001B[1m377/377\u001B[0m \u001B[32m━━━━━━━━━━━━━━━━━━━━\u001B[0m\u001B[37m\u001B[0m \u001B[1m0s\u001B[0m 731us/step - accuracy: 0.8723 - auc_1: 0.8801 - f1_score: 0.4851 - loss: 284.1415 - val_accuracy: 0.8744 - val_auc_1: 0.8794 - val_f1_score: 0.4665 - val_loss: 258.7033\n",
      "Epoch 23/300\n",
      "\u001B[1m377/377\u001B[0m \u001B[32m━━━━━━━━━━━━━━━━━━━━\u001B[0m\u001B[37m\u001B[0m \u001B[1m0s\u001B[0m 697us/step - accuracy: 0.8725 - auc_1: 0.8796 - f1_score: 0.4803 - loss: 284.2573 - val_accuracy: 0.8744 - val_auc_1: 0.8799 - val_f1_score: 0.4665 - val_loss: 258.0611\n",
      "Epoch 24/300\n",
      "\u001B[1m377/377\u001B[0m \u001B[32m━━━━━━━━━━━━━━━━━━━━\u001B[0m\u001B[37m\u001B[0m \u001B[1m0s\u001B[0m 1ms/step - accuracy: 0.8735 - auc_1: 0.8792 - f1_score: 0.4845 - loss: 282.3493 - val_accuracy: 0.8744 - val_auc_1: 0.8803 - val_f1_score: 0.4665 - val_loss: 257.4241\n",
      "Epoch 25/300\n",
      "\u001B[1m377/377\u001B[0m \u001B[32m━━━━━━━━━━━━━━━━━━━━\u001B[0m\u001B[37m\u001B[0m \u001B[1m0s\u001B[0m 933us/step - accuracy: 0.8724 - auc_1: 0.8769 - f1_score: 0.4744 - loss: 284.5573 - val_accuracy: 0.8744 - val_auc_1: 0.8810 - val_f1_score: 0.4665 - val_loss: 256.8414\n",
      "Epoch 26/300\n",
      "\u001B[1m377/377\u001B[0m \u001B[32m━━━━━━━━━━━━━━━━━━━━\u001B[0m\u001B[37m\u001B[0m \u001B[1m0s\u001B[0m 990us/step - accuracy: 0.8739 - auc_1: 0.8790 - f1_score: 0.4738 - loss: 281.0407 - val_accuracy: 0.8744 - val_auc_1: 0.8815 - val_f1_score: 0.4665 - val_loss: 256.2506\n",
      "Epoch 27/300\n",
      "\u001B[1m377/377\u001B[0m \u001B[32m━━━━━━━━━━━━━━━━━━━━\u001B[0m\u001B[37m\u001B[0m \u001B[1m0s\u001B[0m 796us/step - accuracy: 0.8746 - auc_1: 0.8759 - f1_score: 0.4795 - loss: 283.3280 - val_accuracy: 0.8744 - val_auc_1: 0.8823 - val_f1_score: 0.4665 - val_loss: 255.6639\n",
      "Epoch 28/300\n",
      "\u001B[1m377/377\u001B[0m \u001B[32m━━━━━━━━━━━━━━━━━━━━\u001B[0m\u001B[37m\u001B[0m \u001B[1m0s\u001B[0m 747us/step - accuracy: 0.8748 - auc_1: 0.8810 - f1_score: 0.4832 - loss: 278.7050 - val_accuracy: 0.8744 - val_auc_1: 0.8833 - val_f1_score: 0.4665 - val_loss: 255.0251\n",
      "Epoch 29/300\n",
      "\u001B[1m377/377\u001B[0m \u001B[32m━━━━━━━━━━━━━━━━━━━━\u001B[0m\u001B[37m\u001B[0m \u001B[1m0s\u001B[0m 689us/step - accuracy: 0.8748 - auc_1: 0.8800 - f1_score: 0.4742 - loss: 277.6123 - val_accuracy: 0.8744 - val_auc_1: 0.8841 - val_f1_score: 0.4665 - val_loss: 254.4524\n",
      "Epoch 30/300\n",
      "\u001B[1m377/377\u001B[0m \u001B[32m━━━━━━━━━━━━━━━━━━━━\u001B[0m\u001B[37m\u001B[0m \u001B[1m0s\u001B[0m 681us/step - accuracy: 0.8754 - auc_1: 0.8811 - f1_score: 0.4759 - loss: 275.9504 - val_accuracy: 0.8744 - val_auc_1: 0.8845 - val_f1_score: 0.4665 - val_loss: 253.8326\n",
      "Epoch 31/300\n",
      "\u001B[1m377/377\u001B[0m \u001B[32m━━━━━━━━━━━━━━━━━━━━\u001B[0m\u001B[37m\u001B[0m \u001B[1m0s\u001B[0m 651us/step - accuracy: 0.8755 - auc_1: 0.8821 - f1_score: 0.4835 - loss: 275.2339 - val_accuracy: 0.8744 - val_auc_1: 0.8852 - val_f1_score: 0.4665 - val_loss: 253.2269\n",
      "Epoch 32/300\n",
      "\u001B[1m377/377\u001B[0m \u001B[32m━━━━━━━━━━━━━━━━━━━━\u001B[0m\u001B[37m\u001B[0m \u001B[1m0s\u001B[0m 709us/step - accuracy: 0.8751 - auc_1: 0.8811 - f1_score: 0.4756 - loss: 275.4437 - val_accuracy: 0.8744 - val_auc_1: 0.8866 - val_f1_score: 0.4665 - val_loss: 252.5927\n",
      "Epoch 33/300\n",
      "\u001B[1m377/377\u001B[0m \u001B[32m━━━━━━━━━━━━━━━━━━━━\u001B[0m\u001B[37m\u001B[0m \u001B[1m0s\u001B[0m 677us/step - accuracy: 0.8755 - auc_1: 0.8824 - f1_score: 0.4743 - loss: 272.7816 - val_accuracy: 0.8744 - val_auc_1: 0.8872 - val_f1_score: 0.4665 - val_loss: 251.9821\n",
      "Epoch 34/300\n",
      "\u001B[1m377/377\u001B[0m \u001B[32m━━━━━━━━━━━━━━━━━━━━\u001B[0m\u001B[37m\u001B[0m \u001B[1m0s\u001B[0m 703us/step - accuracy: 0.8746 - auc_1: 0.8822 - f1_score: 0.4735 - loss: 271.9933 - val_accuracy: 0.8744 - val_auc_1: 0.8880 - val_f1_score: 0.4665 - val_loss: 251.4530\n",
      "Epoch 35/300\n",
      "\u001B[1m377/377\u001B[0m \u001B[32m━━━━━━━━━━━━━━━━━━━━\u001B[0m\u001B[37m\u001B[0m \u001B[1m0s\u001B[0m 707us/step - accuracy: 0.8757 - auc_1: 0.8826 - f1_score: 0.4726 - loss: 271.4977 - val_accuracy: 0.8744 - val_auc_1: 0.8887 - val_f1_score: 0.4665 - val_loss: 250.9027\n",
      "Epoch 36/300\n",
      "\u001B[1m377/377\u001B[0m \u001B[32m━━━━━━━━━━━━━━━━━━━━\u001B[0m\u001B[37m\u001B[0m \u001B[1m0s\u001B[0m 676us/step - accuracy: 0.8760 - auc_1: 0.8797 - f1_score: 0.4722 - loss: 272.7246 - val_accuracy: 0.8744 - val_auc_1: 0.8892 - val_f1_score: 0.4665 - val_loss: 250.3896\n",
      "Epoch 37/300\n",
      "\u001B[1m377/377\u001B[0m \u001B[32m━━━━━━━━━━━━━━━━━━━━\u001B[0m\u001B[37m\u001B[0m \u001B[1m0s\u001B[0m 640us/step - accuracy: 0.8761 - auc_1: 0.8837 - f1_score: 0.4749 - loss: 269.2080 - val_accuracy: 0.8744 - val_auc_1: 0.8900 - val_f1_score: 0.4665 - val_loss: 249.8452\n",
      "Epoch 38/300\n",
      "\u001B[1m377/377\u001B[0m \u001B[32m━━━━━━━━━━━━━━━━━━━━\u001B[0m\u001B[37m\u001B[0m \u001B[1m0s\u001B[0m 665us/step - accuracy: 0.8764 - auc_1: 0.8825 - f1_score: 0.4701 - loss: 268.6750 - val_accuracy: 0.8744 - val_auc_1: 0.8908 - val_f1_score: 0.4665 - val_loss: 249.3342\n",
      "Epoch 39/300\n",
      "\u001B[1m377/377\u001B[0m \u001B[32m━━━━━━━━━━━━━━━━━━━━\u001B[0m\u001B[37m\u001B[0m \u001B[1m0s\u001B[0m 649us/step - accuracy: 0.8762 - auc_1: 0.8836 - f1_score: 0.4738 - loss: 267.5653 - val_accuracy: 0.8744 - val_auc_1: 0.8912 - val_f1_score: 0.4665 - val_loss: 248.8061\n",
      "Epoch 40/300\n",
      "\u001B[1m377/377\u001B[0m \u001B[32m━━━━━━━━━━━━━━━━━━━━\u001B[0m\u001B[37m\u001B[0m \u001B[1m0s\u001B[0m 796us/step - accuracy: 0.8763 - auc_1: 0.8823 - f1_score: 0.4751 - loss: 268.1950 - val_accuracy: 0.8744 - val_auc_1: 0.8919 - val_f1_score: 0.4665 - val_loss: 248.2999\n",
      "Epoch 41/300\n",
      "\u001B[1m377/377\u001B[0m \u001B[32m━━━━━━━━━━━━━━━━━━━━\u001B[0m\u001B[37m\u001B[0m \u001B[1m0s\u001B[0m 776us/step - accuracy: 0.8766 - auc_1: 0.8853 - f1_score: 0.4723 - loss: 265.0376 - val_accuracy: 0.8744 - val_auc_1: 0.8926 - val_f1_score: 0.4665 - val_loss: 247.8090\n",
      "Epoch 42/300\n",
      "\u001B[1m377/377\u001B[0m \u001B[32m━━━━━━━━━━━━━━━━━━━━\u001B[0m\u001B[37m\u001B[0m \u001B[1m0s\u001B[0m 848us/step - accuracy: 0.8769 - auc_1: 0.8829 - f1_score: 0.4725 - loss: 266.5608 - val_accuracy: 0.8744 - val_auc_1: 0.8933 - val_f1_score: 0.4665 - val_loss: 247.3102\n",
      "Epoch 43/300\n",
      "\u001B[1m377/377\u001B[0m \u001B[32m━━━━━━━━━━━━━━━━━━━━\u001B[0m\u001B[37m\u001B[0m \u001B[1m0s\u001B[0m 858us/step - accuracy: 0.8769 - auc_1: 0.8834 - f1_score: 0.4706 - loss: 265.8503 - val_accuracy: 0.8744 - val_auc_1: 0.8936 - val_f1_score: 0.4665 - val_loss: 246.8232\n",
      "Epoch 44/300\n",
      "\u001B[1m377/377\u001B[0m \u001B[32m━━━━━━━━━━━━━━━━━━━━\u001B[0m\u001B[37m\u001B[0m \u001B[1m0s\u001B[0m 714us/step - accuracy: 0.8763 - auc_1: 0.8869 - f1_score: 0.4734 - loss: 262.3146 - val_accuracy: 0.8744 - val_auc_1: 0.8936 - val_f1_score: 0.4665 - val_loss: 246.3559\n",
      "Epoch 45/300\n",
      "\u001B[1m377/377\u001B[0m \u001B[32m━━━━━━━━━━━━━━━━━━━━\u001B[0m\u001B[37m\u001B[0m \u001B[1m0s\u001B[0m 725us/step - accuracy: 0.8767 - auc_1: 0.8858 - f1_score: 0.4705 - loss: 261.8951 - val_accuracy: 0.8744 - val_auc_1: 0.8941 - val_f1_score: 0.4665 - val_loss: 245.8770\n",
      "Epoch 46/300\n",
      "\u001B[1m377/377\u001B[0m \u001B[32m━━━━━━━━━━━━━━━━━━━━\u001B[0m\u001B[37m\u001B[0m \u001B[1m0s\u001B[0m 688us/step - accuracy: 0.8769 - auc_1: 0.8868 - f1_score: 0.4722 - loss: 261.4983 - val_accuracy: 0.8744 - val_auc_1: 0.8945 - val_f1_score: 0.4665 - val_loss: 245.4679\n",
      "Epoch 47/300\n",
      "\u001B[1m377/377\u001B[0m \u001B[32m━━━━━━━━━━━━━━━━━━━━\u001B[0m\u001B[37m\u001B[0m \u001B[1m0s\u001B[0m 684us/step - accuracy: 0.8765 - auc_1: 0.8858 - f1_score: 0.4692 - loss: 260.5423 - val_accuracy: 0.8744 - val_auc_1: 0.8950 - val_f1_score: 0.4665 - val_loss: 245.0021\n",
      "Epoch 48/300\n",
      "\u001B[1m377/377\u001B[0m \u001B[32m━━━━━━━━━━━━━━━━━━━━\u001B[0m\u001B[37m\u001B[0m \u001B[1m0s\u001B[0m 712us/step - accuracy: 0.8772 - auc_1: 0.8859 - f1_score: 0.4724 - loss: 260.6205 - val_accuracy: 0.8744 - val_auc_1: 0.8950 - val_f1_score: 0.4665 - val_loss: 244.5989\n",
      "Epoch 49/300\n",
      "\u001B[1m377/377\u001B[0m \u001B[32m━━━━━━━━━━━━━━━━━━━━\u001B[0m\u001B[37m\u001B[0m \u001B[1m0s\u001B[0m 732us/step - accuracy: 0.8766 - auc_1: 0.8850 - f1_score: 0.4702 - loss: 261.2877 - val_accuracy: 0.8744 - val_auc_1: 0.8956 - val_f1_score: 0.4665 - val_loss: 244.1949\n",
      "Epoch 50/300\n",
      "\u001B[1m377/377\u001B[0m \u001B[32m━━━━━━━━━━━━━━━━━━━━\u001B[0m\u001B[37m\u001B[0m \u001B[1m0s\u001B[0m 769us/step - accuracy: 0.8773 - auc_1: 0.8873 - f1_score: 0.4716 - loss: 258.7734 - val_accuracy: 0.8744 - val_auc_1: 0.8957 - val_f1_score: 0.4665 - val_loss: 243.7528\n",
      "Epoch 51/300\n",
      "\u001B[1m377/377\u001B[0m \u001B[32m━━━━━━━━━━━━━━━━━━━━\u001B[0m\u001B[37m\u001B[0m \u001B[1m0s\u001B[0m 663us/step - accuracy: 0.8774 - auc_1: 0.8834 - f1_score: 0.4717 - loss: 260.8684 - val_accuracy: 0.8744 - val_auc_1: 0.8958 - val_f1_score: 0.4665 - val_loss: 243.3228\n",
      "Epoch 52/300\n",
      "\u001B[1m377/377\u001B[0m \u001B[32m━━━━━━━━━━━━━━━━━━━━\u001B[0m\u001B[37m\u001B[0m \u001B[1m0s\u001B[0m 674us/step - accuracy: 0.8774 - auc_1: 0.8884 - f1_score: 0.4724 - loss: 256.6356 - val_accuracy: 0.8744 - val_auc_1: 0.8966 - val_f1_score: 0.4665 - val_loss: 242.8704\n",
      "Epoch 53/300\n",
      "\u001B[1m377/377\u001B[0m \u001B[32m━━━━━━━━━━━━━━━━━━━━\u001B[0m\u001B[37m\u001B[0m \u001B[1m0s\u001B[0m 680us/step - accuracy: 0.8770 - auc_1: 0.8864 - f1_score: 0.4697 - loss: 257.8554 - val_accuracy: 0.8744 - val_auc_1: 0.8972 - val_f1_score: 0.4665 - val_loss: 242.4455\n",
      "Epoch 54/300\n",
      "\u001B[1m377/377\u001B[0m \u001B[32m━━━━━━━━━━━━━━━━━━━━\u001B[0m\u001B[37m\u001B[0m \u001B[1m0s\u001B[0m 701us/step - accuracy: 0.8777 - auc_1: 0.8863 - f1_score: 0.4741 - loss: 257.8239 - val_accuracy: 0.8744 - val_auc_1: 0.8972 - val_f1_score: 0.4665 - val_loss: 242.0477\n",
      "Epoch 55/300\n",
      "\u001B[1m377/377\u001B[0m \u001B[32m━━━━━━━━━━━━━━━━━━━━\u001B[0m\u001B[37m\u001B[0m \u001B[1m0s\u001B[0m 673us/step - accuracy: 0.8774 - auc_1: 0.8875 - f1_score: 0.4731 - loss: 255.9737 - val_accuracy: 0.8744 - val_auc_1: 0.8977 - val_f1_score: 0.4665 - val_loss: 241.6282\n",
      "Epoch 56/300\n",
      "\u001B[1m377/377\u001B[0m \u001B[32m━━━━━━━━━━━━━━━━━━━━\u001B[0m\u001B[37m\u001B[0m \u001B[1m0s\u001B[0m 669us/step - accuracy: 0.8774 - auc_1: 0.8856 - f1_score: 0.4707 - loss: 257.1150 - val_accuracy: 0.8744 - val_auc_1: 0.8974 - val_f1_score: 0.4665 - val_loss: 241.2356\n",
      "Epoch 57/300\n",
      "\u001B[1m377/377\u001B[0m \u001B[32m━━━━━━━━━━━━━━━━━━━━\u001B[0m\u001B[37m\u001B[0m \u001B[1m0s\u001B[0m 672us/step - accuracy: 0.8775 - auc_1: 0.8878 - f1_score: 0.4713 - loss: 254.9570 - val_accuracy: 0.8744 - val_auc_1: 0.8974 - val_f1_score: 0.4665 - val_loss: 240.8176\n",
      "Epoch 58/300\n",
      "\u001B[1m377/377\u001B[0m \u001B[32m━━━━━━━━━━━━━━━━━━━━\u001B[0m\u001B[37m\u001B[0m \u001B[1m0s\u001B[0m 680us/step - accuracy: 0.8777 - auc_1: 0.8875 - f1_score: 0.4701 - loss: 254.3116 - val_accuracy: 0.8744 - val_auc_1: 0.8977 - val_f1_score: 0.4665 - val_loss: 240.4065\n",
      "Epoch 59/300\n",
      "\u001B[1m377/377\u001B[0m \u001B[32m━━━━━━━━━━━━━━━━━━━━\u001B[0m\u001B[37m\u001B[0m \u001B[1m0s\u001B[0m 619us/step - accuracy: 0.8774 - auc_1: 0.8875 - f1_score: 0.4717 - loss: 254.4640 - val_accuracy: 0.8744 - val_auc_1: 0.8981 - val_f1_score: 0.4665 - val_loss: 240.0066\n",
      "Epoch 60/300\n",
      "\u001B[1m377/377\u001B[0m \u001B[32m━━━━━━━━━━━━━━━━━━━━\u001B[0m\u001B[37m\u001B[0m \u001B[1m0s\u001B[0m 683us/step - accuracy: 0.8773 - auc_1: 0.8877 - f1_score: 0.4697 - loss: 253.6056 - val_accuracy: 0.8744 - val_auc_1: 0.8986 - val_f1_score: 0.4665 - val_loss: 239.5902\n",
      "Epoch 61/300\n",
      "\u001B[1m377/377\u001B[0m \u001B[32m━━━━━━━━━━━━━━━━━━━━\u001B[0m\u001B[37m\u001B[0m \u001B[1m0s\u001B[0m 674us/step - accuracy: 0.8772 - auc_1: 0.8854 - f1_score: 0.4698 - loss: 255.0900 - val_accuracy: 0.8744 - val_auc_1: 0.8985 - val_f1_score: 0.4665 - val_loss: 239.2228\n",
      "Epoch 62/300\n",
      "\u001B[1m377/377\u001B[0m \u001B[32m━━━━━━━━━━━━━━━━━━━━\u001B[0m\u001B[37m\u001B[0m \u001B[1m0s\u001B[0m 597us/step - accuracy: 0.8773 - auc_1: 0.8888 - f1_score: 0.4679 - loss: 252.0257 - val_accuracy: 0.8744 - val_auc_1: 0.8986 - val_f1_score: 0.4665 - val_loss: 238.8229\n",
      "Epoch 63/300\n",
      "\u001B[1m377/377\u001B[0m \u001B[32m━━━━━━━━━━━━━━━━━━━━\u001B[0m\u001B[37m\u001B[0m \u001B[1m0s\u001B[0m 692us/step - accuracy: 0.8779 - auc_1: 0.8892 - f1_score: 0.4705 - loss: 251.1526 - val_accuracy: 0.8744 - val_auc_1: 0.8990 - val_f1_score: 0.4665 - val_loss: 238.4407\n",
      "Epoch 64/300\n",
      "\u001B[1m377/377\u001B[0m \u001B[32m━━━━━━━━━━━━━━━━━━━━\u001B[0m\u001B[37m\u001B[0m \u001B[1m0s\u001B[0m 804us/step - accuracy: 0.8777 - auc_1: 0.8866 - f1_score: 0.4683 - loss: 252.7232 - val_accuracy: 0.8744 - val_auc_1: 0.8993 - val_f1_score: 0.4665 - val_loss: 238.0845\n",
      "Epoch 65/300\n",
      "\u001B[1m377/377\u001B[0m \u001B[32m━━━━━━━━━━━━━━━━━━━━\u001B[0m\u001B[37m\u001B[0m \u001B[1m0s\u001B[0m 694us/step - accuracy: 0.8776 - auc_1: 0.8882 - f1_score: 0.4698 - loss: 251.6288 - val_accuracy: 0.8744 - val_auc_1: 0.8991 - val_f1_score: 0.4665 - val_loss: 237.6721\n",
      "Epoch 66/300\n",
      "\u001B[1m377/377\u001B[0m \u001B[32m━━━━━━━━━━━━━━━━━━━━\u001B[0m\u001B[37m\u001B[0m \u001B[1m0s\u001B[0m 829us/step - accuracy: 0.8776 - auc_1: 0.8867 - f1_score: 0.4684 - loss: 251.6686 - val_accuracy: 0.8744 - val_auc_1: 0.8994 - val_f1_score: 0.4665 - val_loss: 237.2928\n",
      "Epoch 67/300\n",
      "\u001B[1m377/377\u001B[0m \u001B[32m━━━━━━━━━━━━━━━━━━━━\u001B[0m\u001B[37m\u001B[0m \u001B[1m0s\u001B[0m 789us/step - accuracy: 0.8777 - auc_1: 0.8868 - f1_score: 0.4695 - loss: 251.6272 - val_accuracy: 0.8744 - val_auc_1: 0.8998 - val_f1_score: 0.4665 - val_loss: 236.9030\n",
      "Epoch 68/300\n",
      "\u001B[1m377/377\u001B[0m \u001B[32m━━━━━━━━━━━━━━━━━━━━\u001B[0m\u001B[37m\u001B[0m \u001B[1m0s\u001B[0m 675us/step - accuracy: 0.8777 - auc_1: 0.8888 - f1_score: 0.4693 - loss: 248.7715 - val_accuracy: 0.8744 - val_auc_1: 0.8998 - val_f1_score: 0.4665 - val_loss: 236.5314\n",
      "Epoch 69/300\n",
      "\u001B[1m377/377\u001B[0m \u001B[32m━━━━━━━━━━━━━━━━━━━━\u001B[0m\u001B[37m\u001B[0m \u001B[1m0s\u001B[0m 654us/step - accuracy: 0.8778 - auc_1: 0.8887 - f1_score: 0.4712 - loss: 248.8644 - val_accuracy: 0.8744 - val_auc_1: 0.9000 - val_f1_score: 0.4665 - val_loss: 236.1656\n",
      "Epoch 70/300\n",
      "\u001B[1m377/377\u001B[0m \u001B[32m━━━━━━━━━━━━━━━━━━━━\u001B[0m\u001B[37m\u001B[0m \u001B[1m0s\u001B[0m 601us/step - accuracy: 0.8776 - auc_1: 0.8866 - f1_score: 0.4699 - loss: 250.4906 - val_accuracy: 0.8744 - val_auc_1: 0.8999 - val_f1_score: 0.4665 - val_loss: 235.8376\n",
      "Epoch 71/300\n",
      "\u001B[1m377/377\u001B[0m \u001B[32m━━━━━━━━━━━━━━━━━━━━\u001B[0m\u001B[37m\u001B[0m \u001B[1m0s\u001B[0m 649us/step - accuracy: 0.8777 - auc_1: 0.8883 - f1_score: 0.4683 - loss: 248.6644 - val_accuracy: 0.8744 - val_auc_1: 0.8999 - val_f1_score: 0.4665 - val_loss: 235.4749\n",
      "Epoch 72/300\n",
      "\u001B[1m377/377\u001B[0m \u001B[32m━━━━━━━━━━━━━━━━━━━━\u001B[0m\u001B[37m\u001B[0m \u001B[1m0s\u001B[0m 630us/step - accuracy: 0.8775 - auc_1: 0.8880 - f1_score: 0.4692 - loss: 248.2770 - val_accuracy: 0.8744 - val_auc_1: 0.9004 - val_f1_score: 0.4665 - val_loss: 235.1111\n",
      "Epoch 73/300\n",
      "\u001B[1m377/377\u001B[0m \u001B[32m━━━━━━━━━━━━━━━━━━━━\u001B[0m\u001B[37m\u001B[0m \u001B[1m0s\u001B[0m 659us/step - accuracy: 0.8775 - auc_1: 0.8911 - f1_score: 0.4699 - loss: 245.8486 - val_accuracy: 0.8744 - val_auc_1: 0.9004 - val_f1_score: 0.4665 - val_loss: 234.7605\n",
      "Epoch 74/300\n",
      "\u001B[1m377/377\u001B[0m \u001B[32m━━━━━━━━━━━━━━━━━━━━\u001B[0m\u001B[37m\u001B[0m \u001B[1m0s\u001B[0m 675us/step - accuracy: 0.8778 - auc_1: 0.8882 - f1_score: 0.4694 - loss: 247.0561 - val_accuracy: 0.8744 - val_auc_1: 0.9003 - val_f1_score: 0.4665 - val_loss: 234.4345\n",
      "Epoch 75/300\n",
      "\u001B[1m377/377\u001B[0m \u001B[32m━━━━━━━━━━━━━━━━━━━━\u001B[0m\u001B[37m\u001B[0m \u001B[1m0s\u001B[0m 724us/step - accuracy: 0.8780 - auc_1: 0.8908 - f1_score: 0.4700 - loss: 245.5005 - val_accuracy: 0.8744 - val_auc_1: 0.9006 - val_f1_score: 0.4665 - val_loss: 234.0832\n",
      "Epoch 76/300\n",
      "\u001B[1m377/377\u001B[0m \u001B[32m━━━━━━━━━━━━━━━━━━━━\u001B[0m\u001B[37m\u001B[0m \u001B[1m0s\u001B[0m 702us/step - accuracy: 0.8781 - auc_1: 0.8890 - f1_score: 0.4701 - loss: 245.8316 - val_accuracy: 0.8744 - val_auc_1: 0.9006 - val_f1_score: 0.4665 - val_loss: 233.7584\n",
      "Epoch 77/300\n",
      "\u001B[1m377/377\u001B[0m \u001B[32m━━━━━━━━━━━━━━━━━━━━\u001B[0m\u001B[37m\u001B[0m \u001B[1m0s\u001B[0m 690us/step - accuracy: 0.8777 - auc_1: 0.8896 - f1_score: 0.4690 - loss: 245.7168 - val_accuracy: 0.8744 - val_auc_1: 0.9004 - val_f1_score: 0.4665 - val_loss: 233.4050\n",
      "Epoch 78/300\n",
      "\u001B[1m377/377\u001B[0m \u001B[32m━━━━━━━━━━━━━━━━━━━━\u001B[0m\u001B[37m\u001B[0m \u001B[1m0s\u001B[0m 712us/step - accuracy: 0.8781 - auc_1: 0.8917 - f1_score: 0.4706 - loss: 243.3171 - val_accuracy: 0.8744 - val_auc_1: 0.9005 - val_f1_score: 0.4665 - val_loss: 233.0739\n",
      "Epoch 79/300\n",
      "\u001B[1m377/377\u001B[0m \u001B[32m━━━━━━━━━━━━━━━━━━━━\u001B[0m\u001B[37m\u001B[0m \u001B[1m0s\u001B[0m 720us/step - accuracy: 0.8776 - auc_1: 0.8906 - f1_score: 0.4682 - loss: 243.9493 - val_accuracy: 0.8744 - val_auc_1: 0.9005 - val_f1_score: 0.4665 - val_loss: 232.7537\n",
      "Epoch 80/300\n",
      "\u001B[1m377/377\u001B[0m \u001B[32m━━━━━━━━━━━━━━━━━━━━\u001B[0m\u001B[37m\u001B[0m \u001B[1m0s\u001B[0m 710us/step - accuracy: 0.8778 - auc_1: 0.8874 - f1_score: 0.4693 - loss: 245.1088 - val_accuracy: 0.8744 - val_auc_1: 0.9007 - val_f1_score: 0.4665 - val_loss: 232.4242\n",
      "Epoch 81/300\n",
      "\u001B[1m377/377\u001B[0m \u001B[32m━━━━━━━━━━━━━━━━━━━━\u001B[0m\u001B[37m\u001B[0m \u001B[1m0s\u001B[0m 696us/step - accuracy: 0.8779 - auc_1: 0.8935 - f1_score: 0.4688 - loss: 240.8039 - val_accuracy: 0.8744 - val_auc_1: 0.9011 - val_f1_score: 0.4665 - val_loss: 232.0849\n",
      "Epoch 82/300\n",
      "\u001B[1m377/377\u001B[0m \u001B[32m━━━━━━━━━━━━━━━━━━━━\u001B[0m\u001B[37m\u001B[0m \u001B[1m0s\u001B[0m 682us/step - accuracy: 0.8781 - auc_1: 0.8903 - f1_score: 0.4704 - loss: 242.6351 - val_accuracy: 0.8744 - val_auc_1: 0.9013 - val_f1_score: 0.4665 - val_loss: 231.7302\n",
      "Epoch 83/300\n",
      "\u001B[1m377/377\u001B[0m \u001B[32m━━━━━━━━━━━━━━━━━━━━\u001B[0m\u001B[37m\u001B[0m \u001B[1m0s\u001B[0m 679us/step - accuracy: 0.8775 - auc_1: 0.8936 - f1_score: 0.4679 - loss: 240.3530 - val_accuracy: 0.8744 - val_auc_1: 0.9012 - val_f1_score: 0.4665 - val_loss: 231.4103\n",
      "Epoch 84/300\n",
      "\u001B[1m377/377\u001B[0m \u001B[32m━━━━━━━━━━━━━━━━━━━━\u001B[0m\u001B[37m\u001B[0m \u001B[1m0s\u001B[0m 722us/step - accuracy: 0.8778 - auc_1: 0.8913 - f1_score: 0.4694 - loss: 242.0833 - val_accuracy: 0.8744 - val_auc_1: 0.9011 - val_f1_score: 0.4665 - val_loss: 231.1329\n",
      "Epoch 85/300\n",
      "\u001B[1m377/377\u001B[0m \u001B[32m━━━━━━━━━━━━━━━━━━━━\u001B[0m\u001B[37m\u001B[0m \u001B[1m0s\u001B[0m 665us/step - accuracy: 0.8777 - auc_1: 0.8884 - f1_score: 0.4674 - loss: 243.4775 - val_accuracy: 0.8744 - val_auc_1: 0.9012 - val_f1_score: 0.4665 - val_loss: 230.8317\n",
      "Epoch 86/300\n",
      "\u001B[1m377/377\u001B[0m \u001B[32m━━━━━━━━━━━━━━━━━━━━\u001B[0m\u001B[37m\u001B[0m \u001B[1m0s\u001B[0m 785us/step - accuracy: 0.8777 - auc_1: 0.8917 - f1_score: 0.4674 - loss: 240.9331 - val_accuracy: 0.8744 - val_auc_1: 0.9010 - val_f1_score: 0.4665 - val_loss: 230.5242\n",
      "Epoch 87/300\n",
      "\u001B[1m377/377\u001B[0m \u001B[32m━━━━━━━━━━━━━━━━━━━━\u001B[0m\u001B[37m\u001B[0m \u001B[1m0s\u001B[0m 877us/step - accuracy: 0.8779 - auc_1: 0.8912 - f1_score: 0.4682 - loss: 240.5585 - val_accuracy: 0.8744 - val_auc_1: 0.9016 - val_f1_score: 0.4665 - val_loss: 230.2099\n",
      "Epoch 88/300\n",
      "\u001B[1m377/377\u001B[0m \u001B[32m━━━━━━━━━━━━━━━━━━━━\u001B[0m\u001B[37m\u001B[0m \u001B[1m0s\u001B[0m 920us/step - accuracy: 0.8778 - auc_1: 0.8902 - f1_score: 0.4680 - loss: 240.6687 - val_accuracy: 0.8744 - val_auc_1: 0.9016 - val_f1_score: 0.4665 - val_loss: 229.9123\n",
      "Epoch 89/300\n",
      "\u001B[1m377/377\u001B[0m \u001B[32m━━━━━━━━━━━━━━━━━━━━\u001B[0m\u001B[37m\u001B[0m \u001B[1m0s\u001B[0m 834us/step - accuracy: 0.8776 - auc_1: 0.8951 - f1_score: 0.4683 - loss: 237.3921 - val_accuracy: 0.8744 - val_auc_1: 0.9018 - val_f1_score: 0.4665 - val_loss: 229.5898\n",
      "Epoch 90/300\n",
      "\u001B[1m377/377\u001B[0m \u001B[32m━━━━━━━━━━━━━━━━━━━━\u001B[0m\u001B[37m\u001B[0m \u001B[1m0s\u001B[0m 678us/step - accuracy: 0.8777 - auc_1: 0.8897 - f1_score: 0.4683 - loss: 240.5728 - val_accuracy: 0.8744 - val_auc_1: 0.9017 - val_f1_score: 0.4665 - val_loss: 229.3317\n",
      "Epoch 91/300\n",
      "\u001B[1m377/377\u001B[0m \u001B[32m━━━━━━━━━━━━━━━━━━━━\u001B[0m\u001B[37m\u001B[0m \u001B[1m0s\u001B[0m 744us/step - accuracy: 0.8777 - auc_1: 0.8922 - f1_score: 0.4680 - loss: 238.2964 - val_accuracy: 0.8744 - val_auc_1: 0.9020 - val_f1_score: 0.4665 - val_loss: 229.0263\n",
      "Epoch 92/300\n",
      "\u001B[1m377/377\u001B[0m \u001B[32m━━━━━━━━━━━━━━━━━━━━\u001B[0m\u001B[37m\u001B[0m \u001B[1m0s\u001B[0m 716us/step - accuracy: 0.8780 - auc_1: 0.8916 - f1_score: 0.4695 - loss: 238.3285 - val_accuracy: 0.8744 - val_auc_1: 0.9018 - val_f1_score: 0.4665 - val_loss: 228.7428\n",
      "Epoch 93/300\n",
      "\u001B[1m377/377\u001B[0m \u001B[32m━━━━━━━━━━━━━━━━━━━━\u001B[0m\u001B[37m\u001B[0m \u001B[1m0s\u001B[0m 682us/step - accuracy: 0.8781 - auc_1: 0.8921 - f1_score: 0.4698 - loss: 237.8770 - val_accuracy: 0.8744 - val_auc_1: 0.9018 - val_f1_score: 0.4665 - val_loss: 228.4573\n",
      "Epoch 94/300\n",
      "\u001B[1m377/377\u001B[0m \u001B[32m━━━━━━━━━━━━━━━━━━━━\u001B[0m\u001B[37m\u001B[0m \u001B[1m0s\u001B[0m 707us/step - accuracy: 0.8778 - auc_1: 0.8917 - f1_score: 0.4676 - loss: 238.0952 - val_accuracy: 0.8744 - val_auc_1: 0.9017 - val_f1_score: 0.4665 - val_loss: 228.1876\n",
      "Epoch 95/300\n",
      "\u001B[1m377/377\u001B[0m \u001B[32m━━━━━━━━━━━━━━━━━━━━\u001B[0m\u001B[37m\u001B[0m \u001B[1m0s\u001B[0m 677us/step - accuracy: 0.8777 - auc_1: 0.8930 - f1_score: 0.4682 - loss: 236.6122 - val_accuracy: 0.8744 - val_auc_1: 0.9018 - val_f1_score: 0.4665 - val_loss: 227.9052\n",
      "Epoch 96/300\n",
      "\u001B[1m377/377\u001B[0m \u001B[32m━━━━━━━━━━━━━━━━━━━━\u001B[0m\u001B[37m\u001B[0m \u001B[1m0s\u001B[0m 733us/step - accuracy: 0.8778 - auc_1: 0.8934 - f1_score: 0.4675 - loss: 236.4809 - val_accuracy: 0.8744 - val_auc_1: 0.9018 - val_f1_score: 0.4665 - val_loss: 227.6341\n",
      "Epoch 97/300\n",
      "\u001B[1m377/377\u001B[0m \u001B[32m━━━━━━━━━━━━━━━━━━━━\u001B[0m\u001B[37m\u001B[0m \u001B[1m0s\u001B[0m 708us/step - accuracy: 0.8778 - auc_1: 0.8946 - f1_score: 0.4681 - loss: 235.0625 - val_accuracy: 0.8744 - val_auc_1: 0.9019 - val_f1_score: 0.4665 - val_loss: 227.3583\n",
      "Epoch 98/300\n",
      "\u001B[1m377/377\u001B[0m \u001B[32m━━━━━━━━━━━━━━━━━━━━\u001B[0m\u001B[37m\u001B[0m \u001B[1m0s\u001B[0m 674us/step - accuracy: 0.8778 - auc_1: 0.8915 - f1_score: 0.4676 - loss: 236.7674 - val_accuracy: 0.8744 - val_auc_1: 0.9019 - val_f1_score: 0.4665 - val_loss: 227.1115\n",
      "Epoch 99/300\n",
      "\u001B[1m377/377\u001B[0m \u001B[32m━━━━━━━━━━━━━━━━━━━━\u001B[0m\u001B[37m\u001B[0m \u001B[1m0s\u001B[0m 684us/step - accuracy: 0.8777 - auc_1: 0.8940 - f1_score: 0.4674 - loss: 235.1824 - val_accuracy: 0.8744 - val_auc_1: 0.9017 - val_f1_score: 0.4665 - val_loss: 226.8241\n",
      "Epoch 100/300\n",
      "\u001B[1m377/377\u001B[0m \u001B[32m━━━━━━━━━━━━━━━━━━━━\u001B[0m\u001B[37m\u001B[0m \u001B[1m0s\u001B[0m 725us/step - accuracy: 0.8778 - auc_1: 0.8945 - f1_score: 0.4682 - loss: 234.3376 - val_accuracy: 0.8744 - val_auc_1: 0.9019 - val_f1_score: 0.4665 - val_loss: 226.5514\n",
      "Epoch 101/300\n",
      "\u001B[1m377/377\u001B[0m \u001B[32m━━━━━━━━━━━━━━━━━━━━\u001B[0m\u001B[37m\u001B[0m \u001B[1m0s\u001B[0m 718us/step - accuracy: 0.8777 - auc_1: 0.8962 - f1_score: 0.4683 - loss: 233.1636 - val_accuracy: 0.8744 - val_auc_1: 0.9018 - val_f1_score: 0.4665 - val_loss: 226.2628\n",
      "Epoch 102/300\n",
      "\u001B[1m377/377\u001B[0m \u001B[32m━━━━━━━━━━━━━━━━━━━━\u001B[0m\u001B[37m\u001B[0m \u001B[1m0s\u001B[0m 892us/step - accuracy: 0.8779 - auc_1: 0.8935 - f1_score: 0.4690 - loss: 233.6058 - val_accuracy: 0.8744 - val_auc_1: 0.9018 - val_f1_score: 0.4665 - val_loss: 226.0149\n",
      "Epoch 103/300\n",
      "\u001B[1m377/377\u001B[0m \u001B[32m━━━━━━━━━━━━━━━━━━━━\u001B[0m\u001B[37m\u001B[0m \u001B[1m0s\u001B[0m 883us/step - accuracy: 0.8780 - auc_1: 0.8901 - f1_score: 0.4689 - loss: 236.1443 - val_accuracy: 0.8744 - val_auc_1: 0.9020 - val_f1_score: 0.4665 - val_loss: 225.7624\n",
      "Epoch 104/300\n",
      "\u001B[1m377/377\u001B[0m \u001B[32m━━━━━━━━━━━━━━━━━━━━\u001B[0m\u001B[37m\u001B[0m \u001B[1m0s\u001B[0m 885us/step - accuracy: 0.8778 - auc_1: 0.8933 - f1_score: 0.4675 - loss: 233.5368 - val_accuracy: 0.8744 - val_auc_1: 0.9018 - val_f1_score: 0.4665 - val_loss: 225.5280\n",
      "Epoch 105/300\n",
      "\u001B[1m377/377\u001B[0m \u001B[32m━━━━━━━━━━━━━━━━━━━━\u001B[0m\u001B[37m\u001B[0m \u001B[1m0s\u001B[0m 735us/step - accuracy: 0.8779 - auc_1: 0.8918 - f1_score: 0.4677 - loss: 234.1672 - val_accuracy: 0.8744 - val_auc_1: 0.9022 - val_f1_score: 0.4665 - val_loss: 225.3047\n",
      "Epoch 106/300\n",
      "\u001B[1m377/377\u001B[0m \u001B[32m━━━━━━━━━━━━━━━━━━━━\u001B[0m\u001B[37m\u001B[0m \u001B[1m0s\u001B[0m 680us/step - accuracy: 0.8778 - auc_1: 0.8913 - f1_score: 0.4681 - loss: 234.4978 - val_accuracy: 0.8744 - val_auc_1: 0.9021 - val_f1_score: 0.4665 - val_loss: 225.0623\n",
      "Epoch 107/300\n",
      "\u001B[1m377/377\u001B[0m \u001B[32m━━━━━━━━━━━━━━━━━━━━\u001B[0m\u001B[37m\u001B[0m \u001B[1m0s\u001B[0m 661us/step - accuracy: 0.8778 - auc_1: 0.8932 - f1_score: 0.4674 - loss: 233.2300 - val_accuracy: 0.8744 - val_auc_1: 0.9023 - val_f1_score: 0.4665 - val_loss: 224.8128\n",
      "Epoch 108/300\n",
      "\u001B[1m377/377\u001B[0m \u001B[32m━━━━━━━━━━━━━━━━━━━━\u001B[0m\u001B[37m\u001B[0m \u001B[1m0s\u001B[0m 715us/step - accuracy: 0.8779 - auc_1: 0.8926 - f1_score: 0.4679 - loss: 233.7906 - val_accuracy: 0.8744 - val_auc_1: 0.9022 - val_f1_score: 0.4665 - val_loss: 224.5777\n",
      "Epoch 109/300\n",
      "\u001B[1m377/377\u001B[0m \u001B[32m━━━━━━━━━━━━━━━━━━━━\u001B[0m\u001B[37m\u001B[0m \u001B[1m0s\u001B[0m 671us/step - accuracy: 0.8780 - auc_1: 0.8935 - f1_score: 0.4689 - loss: 232.0510 - val_accuracy: 0.8744 - val_auc_1: 0.9023 - val_f1_score: 0.4665 - val_loss: 224.3383\n",
      "Epoch 110/300\n",
      "\u001B[1m377/377\u001B[0m \u001B[32m━━━━━━━━━━━━━━━━━━━━\u001B[0m\u001B[37m\u001B[0m \u001B[1m0s\u001B[0m 708us/step - accuracy: 0.8778 - auc_1: 0.8943 - f1_score: 0.4674 - loss: 231.5306 - val_accuracy: 0.8744 - val_auc_1: 0.9024 - val_f1_score: 0.4665 - val_loss: 224.1097\n",
      "Epoch 111/300\n",
      "\u001B[1m377/377\u001B[0m \u001B[32m━━━━━━━━━━━━━━━━━━━━\u001B[0m\u001B[37m\u001B[0m \u001B[1m0s\u001B[0m 722us/step - accuracy: 0.8779 - auc_1: 0.8954 - f1_score: 0.4684 - loss: 230.0845 - val_accuracy: 0.8744 - val_auc_1: 0.9024 - val_f1_score: 0.4665 - val_loss: 223.8551\n",
      "Epoch 112/300\n",
      "\u001B[1m377/377\u001B[0m \u001B[32m━━━━━━━━━━━━━━━━━━━━\u001B[0m\u001B[37m\u001B[0m \u001B[1m0s\u001B[0m 690us/step - accuracy: 0.8778 - auc_1: 0.8940 - f1_score: 0.4674 - loss: 231.1389 - val_accuracy: 0.8744 - val_auc_1: 0.9024 - val_f1_score: 0.4665 - val_loss: 223.6440\n",
      "Epoch 113/300\n",
      "\u001B[1m377/377\u001B[0m \u001B[32m━━━━━━━━━━━━━━━━━━━━\u001B[0m\u001B[37m\u001B[0m \u001B[1m0s\u001B[0m 714us/step - accuracy: 0.8778 - auc_1: 0.8924 - f1_score: 0.4675 - loss: 231.8656 - val_accuracy: 0.8744 - val_auc_1: 0.9025 - val_f1_score: 0.4665 - val_loss: 223.4309\n",
      "Epoch 114/300\n",
      "\u001B[1m377/377\u001B[0m \u001B[32m━━━━━━━━━━━━━━━━━━━━\u001B[0m\u001B[37m\u001B[0m \u001B[1m0s\u001B[0m 730us/step - accuracy: 0.8778 - auc_1: 0.8931 - f1_score: 0.4675 - loss: 230.9336 - val_accuracy: 0.8744 - val_auc_1: 0.9026 - val_f1_score: 0.4665 - val_loss: 223.2133\n",
      "Epoch 115/300\n",
      "\u001B[1m377/377\u001B[0m \u001B[32m━━━━━━━━━━━━━━━━━━━━\u001B[0m\u001B[37m\u001B[0m \u001B[1m0s\u001B[0m 709us/step - accuracy: 0.8778 - auc_1: 0.8937 - f1_score: 0.4679 - loss: 230.2968 - val_accuracy: 0.8744 - val_auc_1: 0.9026 - val_f1_score: 0.4665 - val_loss: 223.0016\n",
      "Epoch 116/300\n",
      "\u001B[1m377/377\u001B[0m \u001B[32m━━━━━━━━━━━━━━━━━━━━\u001B[0m\u001B[37m\u001B[0m \u001B[1m0s\u001B[0m 932us/step - accuracy: 0.8778 - auc_1: 0.8941 - f1_score: 0.4675 - loss: 229.9728 - val_accuracy: 0.8744 - val_auc_1: 0.9025 - val_f1_score: 0.4665 - val_loss: 222.7746\n",
      "Epoch 117/300\n",
      "\u001B[1m377/377\u001B[0m \u001B[32m━━━━━━━━━━━━━━━━━━━━\u001B[0m\u001B[37m\u001B[0m \u001B[1m0s\u001B[0m 855us/step - accuracy: 0.8779 - auc_1: 0.8924 - f1_score: 0.4679 - loss: 231.1205 - val_accuracy: 0.8744 - val_auc_1: 0.9028 - val_f1_score: 0.4665 - val_loss: 222.5906\n",
      "Epoch 118/300\n",
      "\u001B[1m377/377\u001B[0m \u001B[32m━━━━━━━━━━━━━━━━━━━━\u001B[0m\u001B[37m\u001B[0m \u001B[1m0s\u001B[0m 866us/step - accuracy: 0.8779 - auc_1: 0.8938 - f1_score: 0.4682 - loss: 229.9763 - val_accuracy: 0.8744 - val_auc_1: 0.9027 - val_f1_score: 0.4665 - val_loss: 222.3900\n",
      "Epoch 119/300\n",
      "\u001B[1m377/377\u001B[0m \u001B[32m━━━━━━━━━━━━━━━━━━━━\u001B[0m\u001B[37m\u001B[0m \u001B[1m0s\u001B[0m 829us/step - accuracy: 0.8778 - auc_1: 0.8957 - f1_score: 0.4675 - loss: 228.1880 - val_accuracy: 0.8744 - val_auc_1: 0.9027 - val_f1_score: 0.4665 - val_loss: 222.1814\n",
      "Epoch 120/300\n",
      "\u001B[1m377/377\u001B[0m \u001B[32m━━━━━━━━━━━━━━━━━━━━\u001B[0m\u001B[37m\u001B[0m \u001B[1m0s\u001B[0m 700us/step - accuracy: 0.8779 - auc_1: 0.8939 - f1_score: 0.4679 - loss: 229.5139 - val_accuracy: 0.8744 - val_auc_1: 0.9026 - val_f1_score: 0.4665 - val_loss: 221.9823\n",
      "Epoch 121/300\n",
      "\u001B[1m377/377\u001B[0m \u001B[32m━━━━━━━━━━━━━━━━━━━━\u001B[0m\u001B[37m\u001B[0m \u001B[1m0s\u001B[0m 704us/step - accuracy: 0.8779 - auc_1: 0.8966 - f1_score: 0.4679 - loss: 227.8776 - val_accuracy: 0.8744 - val_auc_1: 0.9026 - val_f1_score: 0.4665 - val_loss: 221.8023\n",
      "Epoch 122/300\n",
      "\u001B[1m377/377\u001B[0m \u001B[32m━━━━━━━━━━━━━━━━━━━━\u001B[0m\u001B[37m\u001B[0m \u001B[1m0s\u001B[0m 687us/step - accuracy: 0.8779 - auc_1: 0.8991 - f1_score: 0.4676 - loss: 225.8742 - val_accuracy: 0.8744 - val_auc_1: 0.9027 - val_f1_score: 0.4665 - val_loss: 221.5708\n",
      "Epoch 123/300\n",
      "\u001B[1m377/377\u001B[0m \u001B[32m━━━━━━━━━━━━━━━━━━━━\u001B[0m\u001B[37m\u001B[0m \u001B[1m0s\u001B[0m 687us/step - accuracy: 0.8778 - auc_1: 0.8933 - f1_score: 0.4675 - loss: 229.1751 - val_accuracy: 0.8744 - val_auc_1: 0.9025 - val_f1_score: 0.4665 - val_loss: 221.4085\n",
      "Epoch 124/300\n",
      "\u001B[1m377/377\u001B[0m \u001B[32m━━━━━━━━━━━━━━━━━━━━\u001B[0m\u001B[37m\u001B[0m \u001B[1m0s\u001B[0m 683us/step - accuracy: 0.8778 - auc_1: 0.8957 - f1_score: 0.4675 - loss: 226.9142 - val_accuracy: 0.8744 - val_auc_1: 0.9028 - val_f1_score: 0.4665 - val_loss: 221.2138\n",
      "Epoch 125/300\n",
      "\u001B[1m377/377\u001B[0m \u001B[32m━━━━━━━━━━━━━━━━━━━━\u001B[0m\u001B[37m\u001B[0m \u001B[1m0s\u001B[0m 734us/step - accuracy: 0.8778 - auc_1: 0.8953 - f1_score: 0.4675 - loss: 227.2702 - val_accuracy: 0.8744 - val_auc_1: 0.9027 - val_f1_score: 0.4665 - val_loss: 221.0308\n",
      "Epoch 126/300\n",
      "\u001B[1m377/377\u001B[0m \u001B[32m━━━━━━━━━━━━━━━━━━━━\u001B[0m\u001B[37m\u001B[0m \u001B[1m0s\u001B[0m 730us/step - accuracy: 0.8779 - auc_1: 0.8988 - f1_score: 0.4683 - loss: 224.7628 - val_accuracy: 0.8744 - val_auc_1: 0.9030 - val_f1_score: 0.4665 - val_loss: 220.8235\n",
      "Epoch 127/300\n",
      "\u001B[1m377/377\u001B[0m \u001B[32m━━━━━━━━━━━━━━━━━━━━\u001B[0m\u001B[37m\u001B[0m \u001B[1m0s\u001B[0m 691us/step - accuracy: 0.8778 - auc_1: 0.8960 - f1_score: 0.4679 - loss: 226.6329 - val_accuracy: 0.8744 - val_auc_1: 0.9031 - val_f1_score: 0.4665 - val_loss: 220.6400\n",
      "Epoch 128/300\n",
      "\u001B[1m377/377\u001B[0m \u001B[32m━━━━━━━━━━━━━━━━━━━━\u001B[0m\u001B[37m\u001B[0m \u001B[1m0s\u001B[0m 704us/step - accuracy: 0.8778 - auc_1: 0.8945 - f1_score: 0.4675 - loss: 227.3389 - val_accuracy: 0.8744 - val_auc_1: 0.9029 - val_f1_score: 0.4665 - val_loss: 220.4726\n",
      "Epoch 129/300\n",
      "\u001B[1m377/377\u001B[0m \u001B[32m━━━━━━━━━━━━━━━━━━━━\u001B[0m\u001B[37m\u001B[0m \u001B[1m0s\u001B[0m 697us/step - accuracy: 0.8778 - auc_1: 0.8965 - f1_score: 0.4674 - loss: 225.7496 - val_accuracy: 0.8744 - val_auc_1: 0.9028 - val_f1_score: 0.4665 - val_loss: 220.3056\n",
      "Epoch 130/300\n",
      "\u001B[1m377/377\u001B[0m \u001B[32m━━━━━━━━━━━━━━━━━━━━\u001B[0m\u001B[37m\u001B[0m \u001B[1m0s\u001B[0m 838us/step - accuracy: 0.8778 - auc_1: 0.8964 - f1_score: 0.4675 - loss: 226.0429 - val_accuracy: 0.8744 - val_auc_1: 0.9029 - val_f1_score: 0.4665 - val_loss: 220.1485\n",
      "Epoch 131/300\n",
      "\u001B[1m377/377\u001B[0m \u001B[32m━━━━━━━━━━━━━━━━━━━━\u001B[0m\u001B[37m\u001B[0m \u001B[1m0s\u001B[0m 870us/step - accuracy: 0.8778 - auc_1: 0.8957 - f1_score: 0.4675 - loss: 225.7683 - val_accuracy: 0.8744 - val_auc_1: 0.9028 - val_f1_score: 0.4665 - val_loss: 219.9762\n",
      "Epoch 132/300\n",
      "\u001B[1m377/377\u001B[0m \u001B[32m━━━━━━━━━━━━━━━━━━━━\u001B[0m\u001B[37m\u001B[0m \u001B[1m0s\u001B[0m 827us/step - accuracy: 0.8778 - auc_1: 0.8939 - f1_score: 0.4675 - loss: 227.0512 - val_accuracy: 0.8744 - val_auc_1: 0.9027 - val_f1_score: 0.4665 - val_loss: 219.8150\n",
      "Epoch 133/300\n",
      "\u001B[1m377/377\u001B[0m \u001B[32m━━━━━━━━━━━━━━━━━━━━\u001B[0m\u001B[37m\u001B[0m \u001B[1m0s\u001B[0m 783us/step - accuracy: 0.8780 - auc_1: 0.8964 - f1_score: 0.4687 - loss: 224.8206 - val_accuracy: 0.8744 - val_auc_1: 0.9027 - val_f1_score: 0.4665 - val_loss: 219.6413\n",
      "Epoch 134/300\n",
      "\u001B[1m377/377\u001B[0m \u001B[32m━━━━━━━━━━━━━━━━━━━━\u001B[0m\u001B[37m\u001B[0m \u001B[1m0s\u001B[0m 735us/step - accuracy: 0.8778 - auc_1: 0.8967 - f1_score: 0.4675 - loss: 224.3064 - val_accuracy: 0.8744 - val_auc_1: 0.9027 - val_f1_score: 0.4665 - val_loss: 219.4864\n",
      "Epoch 135/300\n",
      "\u001B[1m377/377\u001B[0m \u001B[32m━━━━━━━━━━━━━━━━━━━━\u001B[0m\u001B[37m\u001B[0m \u001B[1m0s\u001B[0m 703us/step - accuracy: 0.8779 - auc_1: 0.8961 - f1_score: 0.4679 - loss: 224.8927 - val_accuracy: 0.8744 - val_auc_1: 0.9024 - val_f1_score: 0.4665 - val_loss: 219.3442\n",
      "Epoch 136/300\n",
      "\u001B[1m377/377\u001B[0m \u001B[32m━━━━━━━━━━━━━━━━━━━━\u001B[0m\u001B[37m\u001B[0m \u001B[1m0s\u001B[0m 681us/step - accuracy: 0.8778 - auc_1: 0.8965 - f1_score: 0.4675 - loss: 224.4295 - val_accuracy: 0.8744 - val_auc_1: 0.9027 - val_f1_score: 0.4665 - val_loss: 219.1734\n",
      "Epoch 137/300\n",
      "\u001B[1m377/377\u001B[0m \u001B[32m━━━━━━━━━━━━━━━━━━━━\u001B[0m\u001B[37m\u001B[0m \u001B[1m0s\u001B[0m 740us/step - accuracy: 0.8778 - auc_1: 0.8961 - f1_score: 0.4675 - loss: 224.7274 - val_accuracy: 0.8744 - val_auc_1: 0.9028 - val_f1_score: 0.4665 - val_loss: 219.0006\n",
      "Epoch 138/300\n",
      "\u001B[1m377/377\u001B[0m \u001B[32m━━━━━━━━━━━━━━━━━━━━\u001B[0m\u001B[37m\u001B[0m \u001B[1m0s\u001B[0m 726us/step - accuracy: 0.8779 - auc_1: 0.8956 - f1_score: 0.4679 - loss: 224.4197 - val_accuracy: 0.8744 - val_auc_1: 0.9025 - val_f1_score: 0.4665 - val_loss: 218.8497\n",
      "Epoch 139/300\n",
      "\u001B[1m377/377\u001B[0m \u001B[32m━━━━━━━━━━━━━━━━━━━━\u001B[0m\u001B[37m\u001B[0m \u001B[1m0s\u001B[0m 658us/step - accuracy: 0.8778 - auc_1: 0.8976 - f1_score: 0.4675 - loss: 223.1997 - val_accuracy: 0.8744 - val_auc_1: 0.9026 - val_f1_score: 0.4665 - val_loss: 218.6906\n",
      "Epoch 140/300\n",
      "\u001B[1m377/377\u001B[0m \u001B[32m━━━━━━━━━━━━━━━━━━━━\u001B[0m\u001B[37m\u001B[0m \u001B[1m0s\u001B[0m 669us/step - accuracy: 0.8778 - auc_1: 0.8971 - f1_score: 0.4675 - loss: 223.4738 - val_accuracy: 0.8744 - val_auc_1: 0.9028 - val_f1_score: 0.4665 - val_loss: 218.5186\n",
      "Epoch 141/300\n",
      "\u001B[1m377/377\u001B[0m \u001B[32m━━━━━━━━━━━━━━━━━━━━\u001B[0m\u001B[37m\u001B[0m \u001B[1m0s\u001B[0m 686us/step - accuracy: 0.8778 - auc_1: 0.8951 - f1_score: 0.4675 - loss: 223.6574 - val_accuracy: 0.8744 - val_auc_1: 0.9028 - val_f1_score: 0.4665 - val_loss: 218.3763\n",
      "Epoch 142/300\n",
      "\u001B[1m377/377\u001B[0m \u001B[32m━━━━━━━━━━━━━━━━━━━━\u001B[0m\u001B[37m\u001B[0m \u001B[1m0s\u001B[0m 824us/step - accuracy: 0.8779 - auc_1: 0.8974 - f1_score: 0.4675 - loss: 222.5542 - val_accuracy: 0.8744 - val_auc_1: 0.9027 - val_f1_score: 0.4665 - val_loss: 218.2296\n",
      "Epoch 143/300\n",
      "\u001B[1m377/377\u001B[0m \u001B[32m━━━━━━━━━━━━━━━━━━━━\u001B[0m\u001B[37m\u001B[0m \u001B[1m0s\u001B[0m 850us/step - accuracy: 0.8778 - auc_1: 0.8958 - f1_score: 0.4675 - loss: 223.4530 - val_accuracy: 0.8744 - val_auc_1: 0.9026 - val_f1_score: 0.4665 - val_loss: 218.0891\n",
      "Epoch 144/300\n",
      "\u001B[1m377/377\u001B[0m \u001B[32m━━━━━━━━━━━━━━━━━━━━\u001B[0m\u001B[37m\u001B[0m \u001B[1m0s\u001B[0m 911us/step - accuracy: 0.8778 - auc_1: 0.8976 - f1_score: 0.4675 - loss: 222.4699 - val_accuracy: 0.8744 - val_auc_1: 0.9027 - val_f1_score: 0.4665 - val_loss: 217.9376\n",
      "Epoch 145/300\n",
      "\u001B[1m377/377\u001B[0m \u001B[32m━━━━━━━━━━━━━━━━━━━━\u001B[0m\u001B[37m\u001B[0m \u001B[1m0s\u001B[0m 817us/step - accuracy: 0.8778 - auc_1: 0.8983 - f1_score: 0.4675 - loss: 221.3305 - val_accuracy: 0.8744 - val_auc_1: 0.9028 - val_f1_score: 0.4665 - val_loss: 217.7930\n",
      "Epoch 146/300\n",
      "\u001B[1m377/377\u001B[0m \u001B[32m━━━━━━━━━━━━━━━━━━━━\u001B[0m\u001B[37m\u001B[0m \u001B[1m0s\u001B[0m 682us/step - accuracy: 0.8778 - auc_1: 0.8954 - f1_score: 0.4675 - loss: 222.7410 - val_accuracy: 0.8744 - val_auc_1: 0.9027 - val_f1_score: 0.4665 - val_loss: 217.6420\n",
      "Epoch 147/300\n",
      "\u001B[1m377/377\u001B[0m \u001B[32m━━━━━━━━━━━━━━━━━━━━\u001B[0m\u001B[37m\u001B[0m \u001B[1m0s\u001B[0m 679us/step - accuracy: 0.8778 - auc_1: 0.8965 - f1_score: 0.4675 - loss: 222.6530 - val_accuracy: 0.8744 - val_auc_1: 0.9027 - val_f1_score: 0.4665 - val_loss: 217.4822\n",
      "Epoch 148/300\n",
      "\u001B[1m377/377\u001B[0m \u001B[32m━━━━━━━━━━━━━━━━━━━━\u001B[0m\u001B[37m\u001B[0m \u001B[1m0s\u001B[0m 636us/step - accuracy: 0.8778 - auc_1: 0.8943 - f1_score: 0.4675 - loss: 223.4030 - val_accuracy: 0.8744 - val_auc_1: 0.9027 - val_f1_score: 0.4665 - val_loss: 217.3554\n",
      "Epoch 149/300\n",
      "\u001B[1m377/377\u001B[0m \u001B[32m━━━━━━━━━━━━━━━━━━━━\u001B[0m\u001B[37m\u001B[0m \u001B[1m0s\u001B[0m 750us/step - accuracy: 0.8779 - auc_1: 0.8971 - f1_score: 0.4683 - loss: 221.8311 - val_accuracy: 0.8744 - val_auc_1: 0.9028 - val_f1_score: 0.4665 - val_loss: 217.2051\n",
      "Epoch 150/300\n",
      "\u001B[1m377/377\u001B[0m \u001B[32m━━━━━━━━━━━━━━━━━━━━\u001B[0m\u001B[37m\u001B[0m \u001B[1m0s\u001B[0m 668us/step - accuracy: 0.8778 - auc_1: 0.8949 - f1_score: 0.4675 - loss: 222.7792 - val_accuracy: 0.8744 - val_auc_1: 0.9029 - val_f1_score: 0.4665 - val_loss: 217.0571\n",
      "Epoch 151/300\n",
      "\u001B[1m377/377\u001B[0m \u001B[32m━━━━━━━━━━━━━━━━━━━━\u001B[0m\u001B[37m\u001B[0m \u001B[1m0s\u001B[0m 684us/step - accuracy: 0.8778 - auc_1: 0.8987 - f1_score: 0.4675 - loss: 220.3582 - val_accuracy: 0.8744 - val_auc_1: 0.9028 - val_f1_score: 0.4665 - val_loss: 216.8938\n",
      "Epoch 152/300\n",
      "\u001B[1m377/377\u001B[0m \u001B[32m━━━━━━━━━━━━━━━━━━━━\u001B[0m\u001B[37m\u001B[0m \u001B[1m0s\u001B[0m 653us/step - accuracy: 0.8779 - auc_1: 0.8947 - f1_score: 0.4679 - loss: 222.4491 - val_accuracy: 0.8744 - val_auc_1: 0.9028 - val_f1_score: 0.4665 - val_loss: 216.7499\n",
      "Epoch 153/300\n",
      "\u001B[1m377/377\u001B[0m \u001B[32m━━━━━━━━━━━━━━━━━━━━\u001B[0m\u001B[37m\u001B[0m \u001B[1m0s\u001B[0m 676us/step - accuracy: 0.8778 - auc_1: 0.8964 - f1_score: 0.4675 - loss: 221.2161 - val_accuracy: 0.8744 - val_auc_1: 0.9028 - val_f1_score: 0.4665 - val_loss: 216.6020\n",
      "Epoch 154/300\n",
      "\u001B[1m377/377\u001B[0m \u001B[32m━━━━━━━━━━━━━━━━━━━━\u001B[0m\u001B[37m\u001B[0m \u001B[1m0s\u001B[0m 665us/step - accuracy: 0.8779 - auc_1: 0.8958 - f1_score: 0.4679 - loss: 221.0316 - val_accuracy: 0.8744 - val_auc_1: 0.9027 - val_f1_score: 0.4665 - val_loss: 216.4488\n",
      "Epoch 155/300\n",
      "\u001B[1m377/377\u001B[0m \u001B[32m━━━━━━━━━━━━━━━━━━━━\u001B[0m\u001B[37m\u001B[0m \u001B[1m0s\u001B[0m 675us/step - accuracy: 0.8779 - auc_1: 0.8974 - f1_score: 0.4683 - loss: 220.7567 - val_accuracy: 0.8744 - val_auc_1: 0.9027 - val_f1_score: 0.4665 - val_loss: 216.3130\n",
      "Epoch 156/300\n",
      "\u001B[1m377/377\u001B[0m \u001B[32m━━━━━━━━━━━━━━━━━━━━\u001B[0m\u001B[37m\u001B[0m \u001B[1m0s\u001B[0m 639us/step - accuracy: 0.8778 - auc_1: 0.9008 - f1_score: 0.4675 - loss: 218.3030 - val_accuracy: 0.8744 - val_auc_1: 0.9028 - val_f1_score: 0.4665 - val_loss: 216.1508\n",
      "Epoch 157/300\n",
      "\u001B[1m377/377\u001B[0m \u001B[32m━━━━━━━━━━━━━━━━━━━━\u001B[0m\u001B[37m\u001B[0m \u001B[1m0s\u001B[0m 800us/step - accuracy: 0.8778 - auc_1: 0.8982 - f1_score: 0.4675 - loss: 219.7637 - val_accuracy: 0.8744 - val_auc_1: 0.9028 - val_f1_score: 0.4665 - val_loss: 216.0031\n",
      "Epoch 158/300\n",
      "\u001B[1m377/377\u001B[0m \u001B[32m━━━━━━━━━━━━━━━━━━━━\u001B[0m\u001B[37m\u001B[0m \u001B[1m0s\u001B[0m 762us/step - accuracy: 0.8779 - auc_1: 0.8984 - f1_score: 0.4678 - loss: 219.3228 - val_accuracy: 0.8744 - val_auc_1: 0.9029 - val_f1_score: 0.4665 - val_loss: 215.8490\n",
      "Epoch 159/300\n",
      "\u001B[1m377/377\u001B[0m \u001B[32m━━━━━━━━━━━━━━━━━━━━\u001B[0m\u001B[37m\u001B[0m \u001B[1m0s\u001B[0m 812us/step - accuracy: 0.8778 - auc_1: 0.8959 - f1_score: 0.4675 - loss: 220.5470 - val_accuracy: 0.8744 - val_auc_1: 0.9028 - val_f1_score: 0.4665 - val_loss: 215.7042\n",
      "Epoch 160/300\n",
      "\u001B[1m377/377\u001B[0m \u001B[32m━━━━━━━━━━━━━━━━━━━━\u001B[0m\u001B[37m\u001B[0m \u001B[1m0s\u001B[0m 775us/step - accuracy: 0.8778 - auc_1: 0.8996 - f1_score: 0.4675 - loss: 218.4277 - val_accuracy: 0.8744 - val_auc_1: 0.9029 - val_f1_score: 0.4665 - val_loss: 215.5650\n",
      "Epoch 161/300\n",
      "\u001B[1m377/377\u001B[0m \u001B[32m━━━━━━━━━━━━━━━━━━━━\u001B[0m\u001B[37m\u001B[0m \u001B[1m0s\u001B[0m 651us/step - accuracy: 0.8778 - auc_1: 0.8956 - f1_score: 0.4675 - loss: 220.4581 - val_accuracy: 0.8744 - val_auc_1: 0.9027 - val_f1_score: 0.4665 - val_loss: 215.4558\n",
      "Epoch 162/300\n",
      "\u001B[1m377/377\u001B[0m \u001B[32m━━━━━━━━━━━━━━━━━━━━\u001B[0m\u001B[37m\u001B[0m \u001B[1m0s\u001B[0m 722us/step - accuracy: 0.8779 - auc_1: 0.8978 - f1_score: 0.4679 - loss: 219.0653 - val_accuracy: 0.8744 - val_auc_1: 0.9027 - val_f1_score: 0.4665 - val_loss: 215.3147\n",
      "Epoch 163/300\n",
      "\u001B[1m377/377\u001B[0m \u001B[32m━━━━━━━━━━━━━━━━━━━━\u001B[0m\u001B[37m\u001B[0m \u001B[1m0s\u001B[0m 686us/step - accuracy: 0.8778 - auc_1: 0.8962 - f1_score: 0.4675 - loss: 219.8069 - val_accuracy: 0.8744 - val_auc_1: 0.9027 - val_f1_score: 0.4665 - val_loss: 215.1950\n",
      "Epoch 164/300\n",
      "\u001B[1m377/377\u001B[0m \u001B[32m━━━━━━━━━━━━━━━━━━━━\u001B[0m\u001B[37m\u001B[0m \u001B[1m0s\u001B[0m 704us/step - accuracy: 0.8778 - auc_1: 0.8969 - f1_score: 0.4675 - loss: 219.0839 - val_accuracy: 0.8744 - val_auc_1: 0.9028 - val_f1_score: 0.4665 - val_loss: 215.0802\n",
      "Epoch 165/300\n",
      "\u001B[1m377/377\u001B[0m \u001B[32m━━━━━━━━━━━━━━━━━━━━\u001B[0m\u001B[37m\u001B[0m \u001B[1m0s\u001B[0m 722us/step - accuracy: 0.8778 - auc_1: 0.8968 - f1_score: 0.4675 - loss: 219.4819 - val_accuracy: 0.8744 - val_auc_1: 0.9028 - val_f1_score: 0.4665 - val_loss: 214.9447\n",
      "Epoch 166/300\n",
      "\u001B[1m377/377\u001B[0m \u001B[32m━━━━━━━━━━━━━━━━━━━━\u001B[0m\u001B[37m\u001B[0m \u001B[1m0s\u001B[0m 729us/step - accuracy: 0.8778 - auc_1: 0.8976 - f1_score: 0.4675 - loss: 218.4928 - val_accuracy: 0.8744 - val_auc_1: 0.9028 - val_f1_score: 0.4665 - val_loss: 214.8202\n",
      "Epoch 167/300\n",
      "\u001B[1m377/377\u001B[0m \u001B[32m━━━━━━━━━━━━━━━━━━━━\u001B[0m\u001B[37m\u001B[0m \u001B[1m0s\u001B[0m 717us/step - accuracy: 0.8778 - auc_1: 0.8983 - f1_score: 0.4675 - loss: 217.7543 - val_accuracy: 0.8744 - val_auc_1: 0.9028 - val_f1_score: 0.4665 - val_loss: 214.6788\n",
      "Epoch 168/300\n",
      "\u001B[1m377/377\u001B[0m \u001B[32m━━━━━━━━━━━━━━━━━━━━\u001B[0m\u001B[37m\u001B[0m \u001B[1m0s\u001B[0m 704us/step - accuracy: 0.8778 - auc_1: 0.8970 - f1_score: 0.4675 - loss: 218.4714 - val_accuracy: 0.8744 - val_auc_1: 0.9029 - val_f1_score: 0.4665 - val_loss: 214.5632\n",
      "Epoch 169/300\n",
      "\u001B[1m377/377\u001B[0m \u001B[32m━━━━━━━━━━━━━━━━━━━━\u001B[0m\u001B[37m\u001B[0m \u001B[1m0s\u001B[0m 738us/step - accuracy: 0.8778 - auc_1: 0.8964 - f1_score: 0.4675 - loss: 218.6245 - val_accuracy: 0.8744 - val_auc_1: 0.9027 - val_f1_score: 0.4665 - val_loss: 214.4555\n",
      "Epoch 170/300\n",
      "\u001B[1m377/377\u001B[0m \u001B[32m━━━━━━━━━━━━━━━━━━━━\u001B[0m\u001B[37m\u001B[0m \u001B[1m0s\u001B[0m 1ms/step - accuracy: 0.8779 - auc_1: 0.8990 - f1_score: 0.4679 - loss: 217.0827 - val_accuracy: 0.8744 - val_auc_1: 0.9029 - val_f1_score: 0.4665 - val_loss: 214.3207\n",
      "Epoch 171/300\n",
      "\u001B[1m377/377\u001B[0m \u001B[32m━━━━━━━━━━━━━━━━━━━━\u001B[0m\u001B[37m\u001B[0m \u001B[1m0s\u001B[0m 931us/step - accuracy: 0.8779 - auc_1: 0.8966 - f1_score: 0.4679 - loss: 218.3148 - val_accuracy: 0.8744 - val_auc_1: 0.9027 - val_f1_score: 0.4665 - val_loss: 214.2292\n",
      "Epoch 172/300\n",
      "\u001B[1m377/377\u001B[0m \u001B[32m━━━━━━━━━━━━━━━━━━━━\u001B[0m\u001B[37m\u001B[0m \u001B[1m0s\u001B[0m 863us/step - accuracy: 0.8778 - auc_1: 0.8977 - f1_score: 0.4675 - loss: 217.5596 - val_accuracy: 0.8744 - val_auc_1: 0.9028 - val_f1_score: 0.4665 - val_loss: 214.1124\n",
      "Epoch 173/300\n",
      "\u001B[1m377/377\u001B[0m \u001B[32m━━━━━━━━━━━━━━━━━━━━\u001B[0m\u001B[37m\u001B[0m \u001B[1m0s\u001B[0m 727us/step - accuracy: 0.8778 - auc_1: 0.8993 - f1_score: 0.4675 - loss: 216.4114 - val_accuracy: 0.8744 - val_auc_1: 0.9028 - val_f1_score: 0.4665 - val_loss: 213.9738\n",
      "Epoch 174/300\n",
      "\u001B[1m377/377\u001B[0m \u001B[32m━━━━━━━━━━━━━━━━━━━━\u001B[0m\u001B[37m\u001B[0m \u001B[1m0s\u001B[0m 720us/step - accuracy: 0.8778 - auc_1: 0.9011 - f1_score: 0.4675 - loss: 215.5465 - val_accuracy: 0.8744 - val_auc_1: 0.9029 - val_f1_score: 0.4665 - val_loss: 213.8448\n",
      "Epoch 175/300\n",
      "\u001B[1m377/377\u001B[0m \u001B[32m━━━━━━━━━━━━━━━━━━━━\u001B[0m\u001B[37m\u001B[0m \u001B[1m0s\u001B[0m 706us/step - accuracy: 0.8778 - auc_1: 0.8985 - f1_score: 0.4675 - loss: 216.7828 - val_accuracy: 0.8744 - val_auc_1: 0.9030 - val_f1_score: 0.4665 - val_loss: 213.7167\n",
      "Epoch 176/300\n",
      "\u001B[1m377/377\u001B[0m \u001B[32m━━━━━━━━━━━━━━━━━━━━\u001B[0m\u001B[37m\u001B[0m \u001B[1m0s\u001B[0m 722us/step - accuracy: 0.8778 - auc_1: 0.8984 - f1_score: 0.4675 - loss: 216.5472 - val_accuracy: 0.8744 - val_auc_1: 0.9029 - val_f1_score: 0.4665 - val_loss: 213.5884\n",
      "Epoch 177/300\n",
      "\u001B[1m377/377\u001B[0m \u001B[32m━━━━━━━━━━━━━━━━━━━━\u001B[0m\u001B[37m\u001B[0m \u001B[1m0s\u001B[0m 704us/step - accuracy: 0.8779 - auc_1: 0.8973 - f1_score: 0.4679 - loss: 216.9902 - val_accuracy: 0.8744 - val_auc_1: 0.9031 - val_f1_score: 0.4665 - val_loss: 213.4628\n",
      "Epoch 178/300\n",
      "\u001B[1m377/377\u001B[0m \u001B[32m━━━━━━━━━━━━━━━━━━━━\u001B[0m\u001B[37m\u001B[0m \u001B[1m0s\u001B[0m 732us/step - accuracy: 0.8778 - auc_1: 0.8997 - f1_score: 0.4675 - loss: 215.7553 - val_accuracy: 0.8744 - val_auc_1: 0.9029 - val_f1_score: 0.4665 - val_loss: 213.3493\n",
      "Epoch 179/300\n",
      "\u001B[1m377/377\u001B[0m \u001B[32m━━━━━━━━━━━━━━━━━━━━\u001B[0m\u001B[37m\u001B[0m \u001B[1m0s\u001B[0m 704us/step - accuracy: 0.8778 - auc_1: 0.8983 - f1_score: 0.4675 - loss: 216.2863 - val_accuracy: 0.8744 - val_auc_1: 0.9029 - val_f1_score: 0.4665 - val_loss: 213.2455\n",
      "Epoch 180/300\n",
      "\u001B[1m377/377\u001B[0m \u001B[32m━━━━━━━━━━━━━━━━━━━━\u001B[0m\u001B[37m\u001B[0m \u001B[1m0s\u001B[0m 664us/step - accuracy: 0.8779 - auc_1: 0.8997 - f1_score: 0.4679 - loss: 215.2988 - val_accuracy: 0.8744 - val_auc_1: 0.9030 - val_f1_score: 0.4665 - val_loss: 213.1220\n",
      "Epoch 181/300\n",
      "\u001B[1m377/377\u001B[0m \u001B[32m━━━━━━━━━━━━━━━━━━━━\u001B[0m\u001B[37m\u001B[0m \u001B[1m0s\u001B[0m 660us/step - accuracy: 0.8778 - auc_1: 0.8990 - f1_score: 0.4675 - loss: 215.3542 - val_accuracy: 0.8744 - val_auc_1: 0.9030 - val_f1_score: 0.4665 - val_loss: 213.0030\n",
      "Epoch 182/300\n",
      "\u001B[1m377/377\u001B[0m \u001B[32m━━━━━━━━━━━━━━━━━━━━\u001B[0m\u001B[37m\u001B[0m \u001B[1m0s\u001B[0m 670us/step - accuracy: 0.8778 - auc_1: 0.8975 - f1_score: 0.4675 - loss: 216.4713 - val_accuracy: 0.8744 - val_auc_1: 0.9030 - val_f1_score: 0.4665 - val_loss: 212.8810\n",
      "Epoch 183/300\n",
      "\u001B[1m377/377\u001B[0m \u001B[32m━━━━━━━━━━━━━━━━━━━━\u001B[0m\u001B[37m\u001B[0m \u001B[1m0s\u001B[0m 747us/step - accuracy: 0.8779 - auc_1: 0.8982 - f1_score: 0.4679 - loss: 215.5240 - val_accuracy: 0.8744 - val_auc_1: 0.9029 - val_f1_score: 0.4665 - val_loss: 212.7696\n",
      "Epoch 184/300\n",
      "\u001B[1m377/377\u001B[0m \u001B[32m━━━━━━━━━━━━━━━━━━━━\u001B[0m\u001B[37m\u001B[0m \u001B[1m0s\u001B[0m 805us/step - accuracy: 0.8779 - auc_1: 0.8960 - f1_score: 0.4679 - loss: 216.5542 - val_accuracy: 0.8744 - val_auc_1: 0.9028 - val_f1_score: 0.4665 - val_loss: 212.6675\n",
      "Epoch 185/300\n",
      "\u001B[1m377/377\u001B[0m \u001B[32m━━━━━━━━━━━━━━━━━━━━\u001B[0m\u001B[37m\u001B[0m \u001B[1m0s\u001B[0m 844us/step - accuracy: 0.8778 - auc_1: 0.8989 - f1_score: 0.4675 - loss: 214.9753 - val_accuracy: 0.8744 - val_auc_1: 0.9030 - val_f1_score: 0.4665 - val_loss: 212.5458\n",
      "Epoch 186/300\n",
      "\u001B[1m377/377\u001B[0m \u001B[32m━━━━━━━━━━━━━━━━━━━━\u001B[0m\u001B[37m\u001B[0m \u001B[1m0s\u001B[0m 790us/step - accuracy: 0.8778 - auc_1: 0.8973 - f1_score: 0.4675 - loss: 216.1735 - val_accuracy: 0.8744 - val_auc_1: 0.9029 - val_f1_score: 0.4665 - val_loss: 212.4464\n",
      "Epoch 187/300\n",
      "\u001B[1m377/377\u001B[0m \u001B[32m━━━━━━━━━━━━━━━━━━━━\u001B[0m\u001B[37m\u001B[0m \u001B[1m0s\u001B[0m 660us/step - accuracy: 0.8778 - auc_1: 0.8982 - f1_score: 0.4675 - loss: 215.3155 - val_accuracy: 0.8744 - val_auc_1: 0.9029 - val_f1_score: 0.4665 - val_loss: 212.3427\n",
      "Epoch 188/300\n",
      "\u001B[1m377/377\u001B[0m \u001B[32m━━━━━━━━━━━━━━━━━━━━\u001B[0m\u001B[37m\u001B[0m \u001B[1m0s\u001B[0m 649us/step - accuracy: 0.8778 - auc_1: 0.8986 - f1_score: 0.4675 - loss: 214.9396 - val_accuracy: 0.8744 - val_auc_1: 0.9029 - val_f1_score: 0.4665 - val_loss: 212.2316\n",
      "Epoch 189/300\n",
      "\u001B[1m377/377\u001B[0m \u001B[32m━━━━━━━━━━━━━━━━━━━━\u001B[0m\u001B[37m\u001B[0m \u001B[1m0s\u001B[0m 679us/step - accuracy: 0.8778 - auc_1: 0.8989 - f1_score: 0.4675 - loss: 214.6176 - val_accuracy: 0.8744 - val_auc_1: 0.9031 - val_f1_score: 0.4665 - val_loss: 212.1066\n",
      "Epoch 190/300\n",
      "\u001B[1m377/377\u001B[0m \u001B[32m━━━━━━━━━━━━━━━━━━━━\u001B[0m\u001B[37m\u001B[0m \u001B[1m0s\u001B[0m 645us/step - accuracy: 0.8778 - auc_1: 0.9010 - f1_score: 0.4675 - loss: 213.2942 - val_accuracy: 0.8744 - val_auc_1: 0.9031 - val_f1_score: 0.4665 - val_loss: 211.9870\n",
      "Epoch 191/300\n",
      "\u001B[1m377/377\u001B[0m \u001B[32m━━━━━━━━━━━━━━━━━━━━\u001B[0m\u001B[37m\u001B[0m \u001B[1m0s\u001B[0m 716us/step - accuracy: 0.8778 - auc_1: 0.8992 - f1_score: 0.4675 - loss: 214.6067 - val_accuracy: 0.8744 - val_auc_1: 0.9029 - val_f1_score: 0.4665 - val_loss: 211.9027\n",
      "Epoch 192/300\n",
      "\u001B[1m377/377\u001B[0m \u001B[32m━━━━━━━━━━━━━━━━━━━━\u001B[0m\u001B[37m\u001B[0m \u001B[1m0s\u001B[0m 678us/step - accuracy: 0.8778 - auc_1: 0.8985 - f1_score: 0.4675 - loss: 214.2854 - val_accuracy: 0.8744 - val_auc_1: 0.9029 - val_f1_score: 0.4665 - val_loss: 211.7905\n",
      "Epoch 193/300\n",
      "\u001B[1m377/377\u001B[0m \u001B[32m━━━━━━━━━━━━━━━━━━━━\u001B[0m\u001B[37m\u001B[0m \u001B[1m0s\u001B[0m 732us/step - accuracy: 0.8778 - auc_1: 0.8978 - f1_score: 0.4675 - loss: 214.5126 - val_accuracy: 0.8744 - val_auc_1: 0.9029 - val_f1_score: 0.4665 - val_loss: 211.6754\n",
      "Epoch 194/300\n",
      "\u001B[1m377/377\u001B[0m \u001B[32m━━━━━━━━━━━━━━━━━━━━\u001B[0m\u001B[37m\u001B[0m \u001B[1m0s\u001B[0m 686us/step - accuracy: 0.8778 - auc_1: 0.8998 - f1_score: 0.4675 - loss: 213.5922 - val_accuracy: 0.8744 - val_auc_1: 0.9030 - val_f1_score: 0.4665 - val_loss: 211.5625\n",
      "Epoch 195/300\n",
      "\u001B[1m377/377\u001B[0m \u001B[32m━━━━━━━━━━━━━━━━━━━━\u001B[0m\u001B[37m\u001B[0m \u001B[1m0s\u001B[0m 677us/step - accuracy: 0.8779 - auc_1: 0.8984 - f1_score: 0.4679 - loss: 214.2811 - val_accuracy: 0.8744 - val_auc_1: 0.9030 - val_f1_score: 0.4665 - val_loss: 211.4354\n",
      "Epoch 196/300\n",
      "\u001B[1m377/377\u001B[0m \u001B[32m━━━━━━━━━━━━━━━━━━━━\u001B[0m\u001B[37m\u001B[0m \u001B[1m0s\u001B[0m 706us/step - accuracy: 0.8778 - auc_1: 0.8994 - f1_score: 0.4675 - loss: 213.5934 - val_accuracy: 0.8744 - val_auc_1: 0.9030 - val_f1_score: 0.4665 - val_loss: 211.3269\n",
      "Epoch 197/300\n",
      "\u001B[1m377/377\u001B[0m \u001B[32m━━━━━━━━━━━━━━━━━━━━\u001B[0m\u001B[37m\u001B[0m \u001B[1m0s\u001B[0m 694us/step - accuracy: 0.8778 - auc_1: 0.8996 - f1_score: 0.4675 - loss: 213.1639 - val_accuracy: 0.8744 - val_auc_1: 0.9029 - val_f1_score: 0.4665 - val_loss: 211.2166\n",
      "Epoch 198/300\n",
      "\u001B[1m377/377\u001B[0m \u001B[32m━━━━━━━━━━━━━━━━━━━━\u001B[0m\u001B[37m\u001B[0m \u001B[1m0s\u001B[0m 777us/step - accuracy: 0.8778 - auc_1: 0.9005 - f1_score: 0.4675 - loss: 212.6048 - val_accuracy: 0.8744 - val_auc_1: 0.9029 - val_f1_score: 0.4665 - val_loss: 211.1162\n",
      "Epoch 199/300\n",
      "\u001B[1m377/377\u001B[0m \u001B[32m━━━━━━━━━━━━━━━━━━━━\u001B[0m\u001B[37m\u001B[0m \u001B[1m0s\u001B[0m 836us/step - accuracy: 0.8778 - auc_1: 0.9005 - f1_score: 0.4675 - loss: 212.0861 - val_accuracy: 0.8744 - val_auc_1: 0.9029 - val_f1_score: 0.4665 - val_loss: 211.0186\n",
      "Epoch 200/300\n",
      "\u001B[1m377/377\u001B[0m \u001B[32m━━━━━━━━━━━━━━━━━━━━\u001B[0m\u001B[37m\u001B[0m \u001B[1m0s\u001B[0m 896us/step - accuracy: 0.8778 - auc_1: 0.8988 - f1_score: 0.4675 - loss: 213.1337 - val_accuracy: 0.8744 - val_auc_1: 0.9030 - val_f1_score: 0.4665 - val_loss: 210.9031\n",
      "Epoch 201/300\n",
      "\u001B[1m377/377\u001B[0m \u001B[32m━━━━━━━━━━━━━━━━━━━━\u001B[0m\u001B[37m\u001B[0m \u001B[1m0s\u001B[0m 842us/step - accuracy: 0.8778 - auc_1: 0.8984 - f1_score: 0.4675 - loss: 213.8622 - val_accuracy: 0.8744 - val_auc_1: 0.9030 - val_f1_score: 0.4665 - val_loss: 210.8030\n",
      "Epoch 202/300\n",
      "\u001B[1m377/377\u001B[0m \u001B[32m━━━━━━━━━━━━━━━━━━━━\u001B[0m\u001B[37m\u001B[0m \u001B[1m0s\u001B[0m 738us/step - accuracy: 0.8778 - auc_1: 0.8988 - f1_score: 0.4675 - loss: 212.7587 - val_accuracy: 0.8744 - val_auc_1: 0.9029 - val_f1_score: 0.4665 - val_loss: 210.6979\n",
      "Epoch 203/300\n",
      "\u001B[1m377/377\u001B[0m \u001B[32m━━━━━━━━━━━━━━━━━━━━\u001B[0m\u001B[37m\u001B[0m \u001B[1m0s\u001B[0m 702us/step - accuracy: 0.8778 - auc_1: 0.9010 - f1_score: 0.4675 - loss: 211.4671 - val_accuracy: 0.8744 - val_auc_1: 0.9029 - val_f1_score: 0.4665 - val_loss: 210.5835\n",
      "Epoch 204/300\n",
      "\u001B[1m377/377\u001B[0m \u001B[32m━━━━━━━━━━━━━━━━━━━━\u001B[0m\u001B[37m\u001B[0m \u001B[1m0s\u001B[0m 663us/step - accuracy: 0.8778 - auc_1: 0.8988 - f1_score: 0.4675 - loss: 212.3822 - val_accuracy: 0.8744 - val_auc_1: 0.9030 - val_f1_score: 0.4665 - val_loss: 210.4821\n",
      "Epoch 205/300\n",
      "\u001B[1m377/377\u001B[0m \u001B[32m━━━━━━━━━━━━━━━━━━━━\u001B[0m\u001B[37m\u001B[0m \u001B[1m0s\u001B[0m 695us/step - accuracy: 0.8778 - auc_1: 0.9013 - f1_score: 0.4675 - loss: 211.1624 - val_accuracy: 0.8744 - val_auc_1: 0.9029 - val_f1_score: 0.4665 - val_loss: 210.3602\n",
      "Epoch 206/300\n",
      "\u001B[1m377/377\u001B[0m \u001B[32m━━━━━━━━━━━━━━━━━━━━\u001B[0m\u001B[37m\u001B[0m \u001B[1m0s\u001B[0m 659us/step - accuracy: 0.8778 - auc_1: 0.9008 - f1_score: 0.4675 - loss: 211.4044 - val_accuracy: 0.8744 - val_auc_1: 0.9030 - val_f1_score: 0.4665 - val_loss: 210.2519\n",
      "Epoch 207/300\n",
      "\u001B[1m377/377\u001B[0m \u001B[32m━━━━━━━━━━━━━━━━━━━━\u001B[0m\u001B[37m\u001B[0m \u001B[1m0s\u001B[0m 690us/step - accuracy: 0.8778 - auc_1: 0.8983 - f1_score: 0.4675 - loss: 212.4382 - val_accuracy: 0.8744 - val_auc_1: 0.9027 - val_f1_score: 0.4665 - val_loss: 210.1665\n",
      "Epoch 208/300\n",
      "\u001B[1m377/377\u001B[0m \u001B[32m━━━━━━━━━━━━━━━━━━━━\u001B[0m\u001B[37m\u001B[0m \u001B[1m0s\u001B[0m 655us/step - accuracy: 0.8779 - auc_1: 0.8984 - f1_score: 0.4679 - loss: 212.6429 - val_accuracy: 0.8744 - val_auc_1: 0.9028 - val_f1_score: 0.4665 - val_loss: 210.0702\n",
      "Epoch 209/300\n",
      "\u001B[1m377/377\u001B[0m \u001B[32m━━━━━━━━━━━━━━━━━━━━\u001B[0m\u001B[37m\u001B[0m \u001B[1m0s\u001B[0m 678us/step - accuracy: 0.8778 - auc_1: 0.8997 - f1_score: 0.4675 - loss: 211.8054 - val_accuracy: 0.8744 - val_auc_1: 0.9029 - val_f1_score: 0.4665 - val_loss: 209.9598\n",
      "Epoch 210/300\n",
      "\u001B[1m377/377\u001B[0m \u001B[32m━━━━━━━━━━━━━━━━━━━━\u001B[0m\u001B[37m\u001B[0m \u001B[1m0s\u001B[0m 662us/step - accuracy: 0.8778 - auc_1: 0.8977 - f1_score: 0.4675 - loss: 212.1513 - val_accuracy: 0.8744 - val_auc_1: 0.9028 - val_f1_score: 0.4665 - val_loss: 209.8590\n",
      "Epoch 211/300\n",
      "\u001B[1m377/377\u001B[0m \u001B[32m━━━━━━━━━━━━━━━━━━━━\u001B[0m\u001B[37m\u001B[0m \u001B[1m0s\u001B[0m 694us/step - accuracy: 0.8778 - auc_1: 0.8978 - f1_score: 0.4675 - loss: 212.3967 - val_accuracy: 0.8744 - val_auc_1: 0.9028 - val_f1_score: 0.4665 - val_loss: 209.7507\n",
      "Epoch 212/300\n",
      "\u001B[1m377/377\u001B[0m \u001B[32m━━━━━━━━━━━━━━━━━━━━\u001B[0m\u001B[37m\u001B[0m \u001B[1m0s\u001B[0m 700us/step - accuracy: 0.8778 - auc_1: 0.9018 - f1_score: 0.4675 - loss: 209.8564 - val_accuracy: 0.8744 - val_auc_1: 0.9029 - val_f1_score: 0.4665 - val_loss: 209.6109\n",
      "Epoch 213/300\n",
      "\u001B[1m377/377\u001B[0m \u001B[32m━━━━━━━━━━━━━━━━━━━━\u001B[0m\u001B[37m\u001B[0m \u001B[1m0s\u001B[0m 821us/step - accuracy: 0.8779 - auc_1: 0.9006 - f1_score: 0.4679 - loss: 210.2755 - val_accuracy: 0.8744 - val_auc_1: 0.9029 - val_f1_score: 0.4665 - val_loss: 209.4993\n",
      "Epoch 214/300\n",
      "\u001B[1m377/377\u001B[0m \u001B[32m━━━━━━━━━━━━━━━━━━━━\u001B[0m\u001B[37m\u001B[0m \u001B[1m0s\u001B[0m 751us/step - accuracy: 0.8779 - auc_1: 0.8995 - f1_score: 0.4679 - loss: 210.9921 - val_accuracy: 0.8744 - val_auc_1: 0.9029 - val_f1_score: 0.4665 - val_loss: 209.4006\n",
      "Epoch 215/300\n",
      "\u001B[1m377/377\u001B[0m \u001B[32m━━━━━━━━━━━━━━━━━━━━\u001B[0m\u001B[37m\u001B[0m \u001B[1m0s\u001B[0m 767us/step - accuracy: 0.8778 - auc_1: 0.9004 - f1_score: 0.4675 - loss: 210.1337 - val_accuracy: 0.8744 - val_auc_1: 0.9029 - val_f1_score: 0.4665 - val_loss: 209.3094\n",
      "Epoch 216/300\n",
      "\u001B[1m377/377\u001B[0m \u001B[32m━━━━━━━━━━━━━━━━━━━━\u001B[0m\u001B[37m\u001B[0m \u001B[1m0s\u001B[0m 763us/step - accuracy: 0.8778 - auc_1: 0.8995 - f1_score: 0.4675 - loss: 210.7101 - val_accuracy: 0.8744 - val_auc_1: 0.9029 - val_f1_score: 0.4665 - val_loss: 209.2149\n",
      "Epoch 217/300\n",
      "\u001B[1m377/377\u001B[0m \u001B[32m━━━━━━━━━━━━━━━━━━━━\u001B[0m\u001B[37m\u001B[0m \u001B[1m0s\u001B[0m 657us/step - accuracy: 0.8778 - auc_1: 0.8989 - f1_score: 0.4675 - loss: 211.1577 - val_accuracy: 0.8744 - val_auc_1: 0.9029 - val_f1_score: 0.4665 - val_loss: 209.1254\n",
      "Epoch 218/300\n",
      "\u001B[1m377/377\u001B[0m \u001B[32m━━━━━━━━━━━━━━━━━━━━\u001B[0m\u001B[37m\u001B[0m \u001B[1m0s\u001B[0m 673us/step - accuracy: 0.8778 - auc_1: 0.9009 - f1_score: 0.4675 - loss: 209.8326 - val_accuracy: 0.8744 - val_auc_1: 0.9028 - val_f1_score: 0.4665 - val_loss: 209.0049\n",
      "Epoch 219/300\n",
      "\u001B[1m377/377\u001B[0m \u001B[32m━━━━━━━━━━━━━━━━━━━━\u001B[0m\u001B[37m\u001B[0m \u001B[1m0s\u001B[0m 659us/step - accuracy: 0.8778 - auc_1: 0.9002 - f1_score: 0.4675 - loss: 210.0791 - val_accuracy: 0.8744 - val_auc_1: 0.9029 - val_f1_score: 0.4665 - val_loss: 208.9089\n",
      "Epoch 220/300\n",
      "\u001B[1m377/377\u001B[0m \u001B[32m━━━━━━━━━━━━━━━━━━━━\u001B[0m\u001B[37m\u001B[0m \u001B[1m0s\u001B[0m 712us/step - accuracy: 0.8778 - auc_1: 0.8993 - f1_score: 0.4675 - loss: 210.2959 - val_accuracy: 0.8744 - val_auc_1: 0.9028 - val_f1_score: 0.4665 - val_loss: 208.8151\n",
      "Epoch 221/300\n",
      "\u001B[1m377/377\u001B[0m \u001B[32m━━━━━━━━━━━━━━━━━━━━\u001B[0m\u001B[37m\u001B[0m \u001B[1m0s\u001B[0m 679us/step - accuracy: 0.8778 - auc_1: 0.9001 - f1_score: 0.4675 - loss: 209.9283 - val_accuracy: 0.8744 - val_auc_1: 0.9028 - val_f1_score: 0.4665 - val_loss: 208.7014\n",
      "Epoch 222/300\n",
      "\u001B[1m377/377\u001B[0m \u001B[32m━━━━━━━━━━━━━━━━━━━━\u001B[0m\u001B[37m\u001B[0m \u001B[1m0s\u001B[0m 711us/step - accuracy: 0.8778 - auc_1: 0.9012 - f1_score: 0.4675 - loss: 209.1002 - val_accuracy: 0.8744 - val_auc_1: 0.9028 - val_f1_score: 0.4665 - val_loss: 208.6060\n",
      "Epoch 223/300\n",
      "\u001B[1m377/377\u001B[0m \u001B[32m━━━━━━━━━━━━━━━━━━━━\u001B[0m\u001B[37m\u001B[0m \u001B[1m0s\u001B[0m 681us/step - accuracy: 0.8778 - auc_1: 0.9017 - f1_score: 0.4675 - loss: 208.6421 - val_accuracy: 0.8744 - val_auc_1: 0.9028 - val_f1_score: 0.4665 - val_loss: 208.5185\n",
      "Epoch 224/300\n",
      "\u001B[1m377/377\u001B[0m \u001B[32m━━━━━━━━━━━━━━━━━━━━\u001B[0m\u001B[37m\u001B[0m \u001B[1m0s\u001B[0m 693us/step - accuracy: 0.8778 - auc_1: 0.9028 - f1_score: 0.4675 - loss: 208.2277 - val_accuracy: 0.8744 - val_auc_1: 0.9029 - val_f1_score: 0.4665 - val_loss: 208.4207\n",
      "Epoch 225/300\n",
      "\u001B[1m377/377\u001B[0m \u001B[32m━━━━━━━━━━━━━━━━━━━━\u001B[0m\u001B[37m\u001B[0m \u001B[1m0s\u001B[0m 696us/step - accuracy: 0.8778 - auc_1: 0.9006 - f1_score: 0.4675 - loss: 208.6857 - val_accuracy: 0.8744 - val_auc_1: 0.9028 - val_f1_score: 0.4665 - val_loss: 208.3222\n",
      "Epoch 226/300\n",
      "\u001B[1m377/377\u001B[0m \u001B[32m━━━━━━━━━━━━━━━━━━━━\u001B[0m\u001B[37m\u001B[0m \u001B[1m0s\u001B[0m 694us/step - accuracy: 0.8778 - auc_1: 0.9001 - f1_score: 0.4675 - loss: 209.0662 - val_accuracy: 0.8744 - val_auc_1: 0.9029 - val_f1_score: 0.4665 - val_loss: 208.2201\n",
      "Epoch 227/300\n",
      "\u001B[1m377/377\u001B[0m \u001B[32m━━━━━━━━━━━━━━━━━━━━\u001B[0m\u001B[37m\u001B[0m \u001B[1m0s\u001B[0m 658us/step - accuracy: 0.8778 - auc_1: 0.9011 - f1_score: 0.4675 - loss: 208.3867 - val_accuracy: 0.8744 - val_auc_1: 0.9031 - val_f1_score: 0.4665 - val_loss: 208.1161\n",
      "Epoch 228/300\n",
      "\u001B[1m377/377\u001B[0m \u001B[32m━━━━━━━━━━━━━━━━━━━━\u001B[0m\u001B[37m\u001B[0m \u001B[1m0s\u001B[0m 829us/step - accuracy: 0.8778 - auc_1: 0.9004 - f1_score: 0.4675 - loss: 209.1249 - val_accuracy: 0.8744 - val_auc_1: 0.9029 - val_f1_score: 0.4665 - val_loss: 208.0100\n",
      "Epoch 229/300\n",
      "\u001B[1m377/377\u001B[0m \u001B[32m━━━━━━━━━━━━━━━━━━━━\u001B[0m\u001B[37m\u001B[0m \u001B[1m0s\u001B[0m 802us/step - accuracy: 0.8778 - auc_1: 0.8995 - f1_score: 0.4675 - loss: 209.2182 - val_accuracy: 0.8744 - val_auc_1: 0.9031 - val_f1_score: 0.4665 - val_loss: 207.9221\n",
      "Epoch 230/300\n",
      "\u001B[1m377/377\u001B[0m \u001B[32m━━━━━━━━━━━━━━━━━━━━\u001B[0m\u001B[37m\u001B[0m \u001B[1m0s\u001B[0m 846us/step - accuracy: 0.8778 - auc_1: 0.9031 - f1_score: 0.4675 - loss: 207.3110 - val_accuracy: 0.8744 - val_auc_1: 0.9032 - val_f1_score: 0.4665 - val_loss: 207.8188\n",
      "Epoch 231/300\n",
      "\u001B[1m377/377\u001B[0m \u001B[32m━━━━━━━━━━━━━━━━━━━━\u001B[0m\u001B[37m\u001B[0m \u001B[1m0s\u001B[0m 818us/step - accuracy: 0.8778 - auc_1: 0.8993 - f1_score: 0.4675 - loss: 209.1806 - val_accuracy: 0.8744 - val_auc_1: 0.9032 - val_f1_score: 0.4665 - val_loss: 207.7227\n",
      "Epoch 232/300\n",
      "\u001B[1m377/377\u001B[0m \u001B[32m━━━━━━━━━━━━━━━━━━━━\u001B[0m\u001B[37m\u001B[0m \u001B[1m0s\u001B[0m 710us/step - accuracy: 0.8778 - auc_1: 0.8989 - f1_score: 0.4675 - loss: 209.1755 - val_accuracy: 0.8744 - val_auc_1: 0.9031 - val_f1_score: 0.4665 - val_loss: 207.6258\n",
      "Epoch 233/300\n",
      "\u001B[1m377/377\u001B[0m \u001B[32m━━━━━━━━━━━━━━━━━━━━\u001B[0m\u001B[37m\u001B[0m \u001B[1m0s\u001B[0m 779us/step - accuracy: 0.8778 - auc_1: 0.9004 - f1_score: 0.4675 - loss: 208.0528 - val_accuracy: 0.8744 - val_auc_1: 0.9032 - val_f1_score: 0.4665 - val_loss: 207.5131\n",
      "Epoch 234/300\n",
      "\u001B[1m377/377\u001B[0m \u001B[32m━━━━━━━━━━━━━━━━━━━━\u001B[0m\u001B[37m\u001B[0m \u001B[1m0s\u001B[0m 704us/step - accuracy: 0.8778 - auc_1: 0.8982 - f1_score: 0.4675 - loss: 209.3469 - val_accuracy: 0.8744 - val_auc_1: 0.9030 - val_f1_score: 0.4665 - val_loss: 207.4317\n",
      "Epoch 235/300\n",
      "\u001B[1m377/377\u001B[0m \u001B[32m━━━━━━━━━━━━━━━━━━━━\u001B[0m\u001B[37m\u001B[0m \u001B[1m0s\u001B[0m 728us/step - accuracy: 0.8778 - auc_1: 0.8992 - f1_score: 0.4675 - loss: 208.8695 - val_accuracy: 0.8744 - val_auc_1: 0.9029 - val_f1_score: 0.4665 - val_loss: 207.3442\n",
      "Epoch 236/300\n",
      "\u001B[1m377/377\u001B[0m \u001B[32m━━━━━━━━━━━━━━━━━━━━\u001B[0m\u001B[37m\u001B[0m \u001B[1m0s\u001B[0m 713us/step - accuracy: 0.8778 - auc_1: 0.8990 - f1_score: 0.4675 - loss: 208.8219 - val_accuracy: 0.8744 - val_auc_1: 0.9029 - val_f1_score: 0.4665 - val_loss: 207.2454\n",
      "Epoch 237/300\n",
      "\u001B[1m377/377\u001B[0m \u001B[32m━━━━━━━━━━━━━━━━━━━━\u001B[0m\u001B[37m\u001B[0m \u001B[1m0s\u001B[0m 682us/step - accuracy: 0.8778 - auc_1: 0.9016 - f1_score: 0.4675 - loss: 207.2224 - val_accuracy: 0.8744 - val_auc_1: 0.9031 - val_f1_score: 0.4665 - val_loss: 207.1370\n",
      "Epoch 238/300\n",
      "\u001B[1m377/377\u001B[0m \u001B[32m━━━━━━━━━━━━━━━━━━━━\u001B[0m\u001B[37m\u001B[0m \u001B[1m0s\u001B[0m 693us/step - accuracy: 0.8778 - auc_1: 0.9019 - f1_score: 0.4675 - loss: 206.9764 - val_accuracy: 0.8744 - val_auc_1: 0.9032 - val_f1_score: 0.4665 - val_loss: 207.0307\n",
      "Epoch 239/300\n",
      "\u001B[1m377/377\u001B[0m \u001B[32m━━━━━━━━━━━━━━━━━━━━\u001B[0m\u001B[37m\u001B[0m \u001B[1m0s\u001B[0m 669us/step - accuracy: 0.8778 - auc_1: 0.9022 - f1_score: 0.4675 - loss: 206.7161 - val_accuracy: 0.8744 - val_auc_1: 0.9034 - val_f1_score: 0.4665 - val_loss: 206.9270\n",
      "Epoch 240/300\n",
      "\u001B[1m377/377\u001B[0m \u001B[32m━━━━━━━━━━━━━━━━━━━━\u001B[0m\u001B[37m\u001B[0m \u001B[1m0s\u001B[0m 732us/step - accuracy: 0.8778 - auc_1: 0.9009 - f1_score: 0.4675 - loss: 206.8746 - val_accuracy: 0.8744 - val_auc_1: 0.9033 - val_f1_score: 0.4665 - val_loss: 206.8362\n",
      "Epoch 241/300\n",
      "\u001B[1m377/377\u001B[0m \u001B[32m━━━━━━━━━━━━━━━━━━━━\u001B[0m\u001B[37m\u001B[0m \u001B[1m0s\u001B[0m 742us/step - accuracy: 0.8778 - auc_1: 0.9011 - f1_score: 0.4675 - loss: 207.1205 - val_accuracy: 0.8744 - val_auc_1: 0.9034 - val_f1_score: 0.4665 - val_loss: 206.7483\n",
      "Epoch 242/300\n",
      "\u001B[1m377/377\u001B[0m \u001B[32m━━━━━━━━━━━━━━━━━━━━\u001B[0m\u001B[37m\u001B[0m \u001B[1m0s\u001B[0m 807us/step - accuracy: 0.8778 - auc_1: 0.9007 - f1_score: 0.4675 - loss: 207.3440 - val_accuracy: 0.8744 - val_auc_1: 0.9033 - val_f1_score: 0.4665 - val_loss: 206.6562\n",
      "Epoch 243/300\n",
      "\u001B[1m377/377\u001B[0m \u001B[32m━━━━━━━━━━━━━━━━━━━━\u001B[0m\u001B[37m\u001B[0m \u001B[1m0s\u001B[0m 863us/step - accuracy: 0.8778 - auc_1: 0.9005 - f1_score: 0.4675 - loss: 207.3408 - val_accuracy: 0.8744 - val_auc_1: 0.9033 - val_f1_score: 0.4665 - val_loss: 206.5594\n",
      "Epoch 244/300\n",
      "\u001B[1m377/377\u001B[0m \u001B[32m━━━━━━━━━━━━━━━━━━━━\u001B[0m\u001B[37m\u001B[0m \u001B[1m0s\u001B[0m 759us/step - accuracy: 0.8778 - auc_1: 0.8985 - f1_score: 0.4675 - loss: 207.8175 - val_accuracy: 0.8744 - val_auc_1: 0.9032 - val_f1_score: 0.4665 - val_loss: 206.4693\n",
      "Epoch 245/300\n",
      "\u001B[1m377/377\u001B[0m \u001B[32m━━━━━━━━━━━━━━━━━━━━\u001B[0m\u001B[37m\u001B[0m \u001B[1m0s\u001B[0m 693us/step - accuracy: 0.8778 - auc_1: 0.8992 - f1_score: 0.4675 - loss: 207.7457 - val_accuracy: 0.8744 - val_auc_1: 0.9031 - val_f1_score: 0.4665 - val_loss: 206.3945\n",
      "Epoch 246/300\n",
      "\u001B[1m377/377\u001B[0m \u001B[32m━━━━━━━━━━━━━━━━━━━━\u001B[0m\u001B[37m\u001B[0m \u001B[1m0s\u001B[0m 669us/step - accuracy: 0.8778 - auc_1: 0.9021 - f1_score: 0.4675 - loss: 206.3295 - val_accuracy: 0.8744 - val_auc_1: 0.9032 - val_f1_score: 0.4665 - val_loss: 206.2984\n",
      "Epoch 247/300\n",
      "\u001B[1m377/377\u001B[0m \u001B[32m━━━━━━━━━━━━━━━━━━━━\u001B[0m\u001B[37m\u001B[0m \u001B[1m0s\u001B[0m 696us/step - accuracy: 0.8778 - auc_1: 0.9019 - f1_score: 0.4675 - loss: 206.1877 - val_accuracy: 0.8744 - val_auc_1: 0.9033 - val_f1_score: 0.4665 - val_loss: 206.2098\n",
      "Epoch 248/300\n",
      "\u001B[1m377/377\u001B[0m \u001B[32m━━━━━━━━━━━━━━━━━━━━\u001B[0m\u001B[37m\u001B[0m \u001B[1m0s\u001B[0m 656us/step - accuracy: 0.8778 - auc_1: 0.9011 - f1_score: 0.4675 - loss: 206.5966 - val_accuracy: 0.8744 - val_auc_1: 0.9032 - val_f1_score: 0.4665 - val_loss: 206.1174\n",
      "Epoch 249/300\n",
      "\u001B[1m377/377\u001B[0m \u001B[32m━━━━━━━━━━━━━━━━━━━━\u001B[0m\u001B[37m\u001B[0m \u001B[1m0s\u001B[0m 678us/step - accuracy: 0.8778 - auc_1: 0.9017 - f1_score: 0.4675 - loss: 206.3457 - val_accuracy: 0.8744 - val_auc_1: 0.9033 - val_f1_score: 0.4665 - val_loss: 206.0270\n",
      "Epoch 250/300\n",
      "\u001B[1m377/377\u001B[0m \u001B[32m━━━━━━━━━━━━━━━━━━━━\u001B[0m\u001B[37m\u001B[0m \u001B[1m0s\u001B[0m 661us/step - accuracy: 0.8778 - auc_1: 0.9022 - f1_score: 0.4675 - loss: 205.6619 - val_accuracy: 0.8744 - val_auc_1: 0.9033 - val_f1_score: 0.4665 - val_loss: 205.9271\n",
      "Epoch 251/300\n",
      "\u001B[1m377/377\u001B[0m \u001B[32m━━━━━━━━━━━━━━━━━━━━\u001B[0m\u001B[37m\u001B[0m \u001B[1m0s\u001B[0m 679us/step - accuracy: 0.8778 - auc_1: 0.9030 - f1_score: 0.4675 - loss: 205.1954 - val_accuracy: 0.8744 - val_auc_1: 0.9033 - val_f1_score: 0.4665 - val_loss: 205.8390\n",
      "Epoch 252/300\n",
      "\u001B[1m377/377\u001B[0m \u001B[32m━━━━━━━━━━━━━━━━━━━━\u001B[0m\u001B[37m\u001B[0m \u001B[1m0s\u001B[0m 658us/step - accuracy: 0.8778 - auc_1: 0.9016 - f1_score: 0.4675 - loss: 205.5876 - val_accuracy: 0.8744 - val_auc_1: 0.9031 - val_f1_score: 0.4665 - val_loss: 205.7489\n",
      "Epoch 253/300\n",
      "\u001B[1m377/377\u001B[0m \u001B[32m━━━━━━━━━━━━━━━━━━━━\u001B[0m\u001B[37m\u001B[0m \u001B[1m0s\u001B[0m 807us/step - accuracy: 0.8778 - auc_1: 0.9015 - f1_score: 0.4675 - loss: 205.5760 - val_accuracy: 0.8744 - val_auc_1: 0.9032 - val_f1_score: 0.4665 - val_loss: 205.6696\n",
      "Epoch 254/300\n",
      "\u001B[1m377/377\u001B[0m \u001B[32m━━━━━━━━━━━━━━━━━━━━\u001B[0m\u001B[37m\u001B[0m \u001B[1m0s\u001B[0m 793us/step - accuracy: 0.8778 - auc_1: 0.9001 - f1_score: 0.4675 - loss: 206.3465 - val_accuracy: 0.8744 - val_auc_1: 0.9033 - val_f1_score: 0.4665 - val_loss: 205.6000\n",
      "Epoch 255/300\n",
      "\u001B[1m377/377\u001B[0m \u001B[32m━━━━━━━━━━━━━━━━━━━━\u001B[0m\u001B[37m\u001B[0m \u001B[1m0s\u001B[0m 841us/step - accuracy: 0.8778 - auc_1: 0.9018 - f1_score: 0.4675 - loss: 205.6091 - val_accuracy: 0.8744 - val_auc_1: 0.9033 - val_f1_score: 0.4665 - val_loss: 205.4923\n",
      "Epoch 256/300\n",
      "\u001B[1m377/377\u001B[0m \u001B[32m━━━━━━━━━━━━━━━━━━━━\u001B[0m\u001B[37m\u001B[0m \u001B[1m0s\u001B[0m 780us/step - accuracy: 0.8778 - auc_1: 0.9023 - f1_score: 0.4675 - loss: 204.7856 - val_accuracy: 0.8744 - val_auc_1: 0.9033 - val_f1_score: 0.4665 - val_loss: 205.3956\n",
      "Epoch 257/300\n",
      "\u001B[1m377/377\u001B[0m \u001B[32m━━━━━━━━━━━━━━━━━━━━\u001B[0m\u001B[37m\u001B[0m \u001B[1m0s\u001B[0m 724us/step - accuracy: 0.8778 - auc_1: 0.9017 - f1_score: 0.4675 - loss: 205.2777 - val_accuracy: 0.8744 - val_auc_1: 0.9033 - val_f1_score: 0.4665 - val_loss: 205.3179\n",
      "Epoch 258/300\n",
      "\u001B[1m377/377\u001B[0m \u001B[32m━━━━━━━━━━━━━━━━━━━━\u001B[0m\u001B[37m\u001B[0m \u001B[1m0s\u001B[0m 760us/step - accuracy: 0.8778 - auc_1: 0.8996 - f1_score: 0.4675 - loss: 206.0054 - val_accuracy: 0.8744 - val_auc_1: 0.9032 - val_f1_score: 0.4665 - val_loss: 205.2310\n",
      "Epoch 259/300\n",
      "\u001B[1m377/377\u001B[0m \u001B[32m━━━━━━━━━━━━━━━━━━━━\u001B[0m\u001B[37m\u001B[0m \u001B[1m0s\u001B[0m 690us/step - accuracy: 0.8778 - auc_1: 0.9025 - f1_score: 0.4675 - loss: 204.7025 - val_accuracy: 0.8744 - val_auc_1: 0.9032 - val_f1_score: 0.4665 - val_loss: 205.1477\n",
      "Epoch 260/300\n",
      "\u001B[1m377/377\u001B[0m \u001B[32m━━━━━━━━━━━━━━━━━━━━\u001B[0m\u001B[37m\u001B[0m \u001B[1m0s\u001B[0m 727us/step - accuracy: 0.8778 - auc_1: 0.8998 - f1_score: 0.4675 - loss: 206.0380 - val_accuracy: 0.8744 - val_auc_1: 0.9032 - val_f1_score: 0.4665 - val_loss: 205.0644\n",
      "Epoch 261/300\n",
      "\u001B[1m377/377\u001B[0m \u001B[32m━━━━━━━━━━━━━━━━━━━━\u001B[0m\u001B[37m\u001B[0m \u001B[1m0s\u001B[0m 768us/step - accuracy: 0.8778 - auc_1: 0.9003 - f1_score: 0.4675 - loss: 205.5366 - val_accuracy: 0.8744 - val_auc_1: 0.9031 - val_f1_score: 0.4665 - val_loss: 204.9789\n",
      "Epoch 262/300\n",
      "\u001B[1m377/377\u001B[0m \u001B[32m━━━━━━━━━━━━━━━━━━━━\u001B[0m\u001B[37m\u001B[0m \u001B[1m0s\u001B[0m 698us/step - accuracy: 0.8778 - auc_1: 0.9015 - f1_score: 0.4675 - loss: 204.7909 - val_accuracy: 0.8744 - val_auc_1: 0.9032 - val_f1_score: 0.4665 - val_loss: 204.8846\n",
      "Epoch 263/300\n",
      "\u001B[1m377/377\u001B[0m \u001B[32m━━━━━━━━━━━━━━━━━━━━\u001B[0m\u001B[37m\u001B[0m \u001B[1m0s\u001B[0m 649us/step - accuracy: 0.8778 - auc_1: 0.9020 - f1_score: 0.4675 - loss: 204.4743 - val_accuracy: 0.8744 - val_auc_1: 0.9033 - val_f1_score: 0.4665 - val_loss: 204.8107\n",
      "Epoch 264/300\n",
      "\u001B[1m377/377\u001B[0m \u001B[32m━━━━━━━━━━━━━━━━━━━━\u001B[0m\u001B[37m\u001B[0m \u001B[1m0s\u001B[0m 679us/step - accuracy: 0.8778 - auc_1: 0.9029 - f1_score: 0.4675 - loss: 203.9232 - val_accuracy: 0.8744 - val_auc_1: 0.9033 - val_f1_score: 0.4665 - val_loss: 204.7190\n",
      "Epoch 265/300\n",
      "\u001B[1m377/377\u001B[0m \u001B[32m━━━━━━━━━━━━━━━━━━━━\u001B[0m\u001B[37m\u001B[0m \u001B[1m0s\u001B[0m 662us/step - accuracy: 0.8778 - auc_1: 0.9020 - f1_score: 0.4675 - loss: 204.1087 - val_accuracy: 0.8744 - val_auc_1: 0.9034 - val_f1_score: 0.4665 - val_loss: 204.6296\n",
      "Epoch 266/300\n",
      "\u001B[1m377/377\u001B[0m \u001B[32m━━━━━━━━━━━━━━━━━━━━\u001B[0m\u001B[37m\u001B[0m \u001B[1m0s\u001B[0m 850us/step - accuracy: 0.8778 - auc_1: 0.8994 - f1_score: 0.4675 - loss: 205.0992 - val_accuracy: 0.8744 - val_auc_1: 0.9033 - val_f1_score: 0.4665 - val_loss: 204.5428\n",
      "Epoch 267/300\n",
      "\u001B[1m377/377\u001B[0m \u001B[32m━━━━━━━━━━━━━━━━━━━━\u001B[0m\u001B[37m\u001B[0m \u001B[1m0s\u001B[0m 806us/step - accuracy: 0.8778 - auc_1: 0.9039 - f1_score: 0.4675 - loss: 203.5257 - val_accuracy: 0.8744 - val_auc_1: 0.9032 - val_f1_score: 0.4665 - val_loss: 204.4396\n",
      "Epoch 268/300\n",
      "\u001B[1m377/377\u001B[0m \u001B[32m━━━━━━━━━━━━━━━━━━━━\u001B[0m\u001B[37m\u001B[0m \u001B[1m0s\u001B[0m 771us/step - accuracy: 0.8778 - auc_1: 0.9019 - f1_score: 0.4675 - loss: 204.1063 - val_accuracy: 0.8744 - val_auc_1: 0.9031 - val_f1_score: 0.4665 - val_loss: 204.3540\n",
      "Epoch 269/300\n",
      "\u001B[1m377/377\u001B[0m \u001B[32m━━━━━━━━━━━━━━━━━━━━\u001B[0m\u001B[37m\u001B[0m \u001B[1m0s\u001B[0m 805us/step - accuracy: 0.8778 - auc_1: 0.9007 - f1_score: 0.4675 - loss: 204.3012 - val_accuracy: 0.8744 - val_auc_1: 0.9032 - val_f1_score: 0.4665 - val_loss: 204.2626\n",
      "Epoch 270/300\n",
      "\u001B[1m377/377\u001B[0m \u001B[32m━━━━━━━━━━━━━━━━━━━━\u001B[0m\u001B[37m\u001B[0m \u001B[1m0s\u001B[0m 720us/step - accuracy: 0.8778 - auc_1: 0.9018 - f1_score: 0.4675 - loss: 203.7831 - val_accuracy: 0.8744 - val_auc_1: 0.9031 - val_f1_score: 0.4665 - val_loss: 204.1726\n",
      "Epoch 271/300\n",
      "\u001B[1m377/377\u001B[0m \u001B[32m━━━━━━━━━━━━━━━━━━━━\u001B[0m\u001B[37m\u001B[0m \u001B[1m0s\u001B[0m 719us/step - accuracy: 0.8778 - auc_1: 0.9019 - f1_score: 0.4675 - loss: 203.8212 - val_accuracy: 0.8744 - val_auc_1: 0.9033 - val_f1_score: 0.4665 - val_loss: 204.0948\n",
      "Epoch 272/300\n",
      "\u001B[1m377/377\u001B[0m \u001B[32m━━━━━━━━━━━━━━━━━━━━\u001B[0m\u001B[37m\u001B[0m \u001B[1m0s\u001B[0m 683us/step - accuracy: 0.8778 - auc_1: 0.9025 - f1_score: 0.4675 - loss: 203.5469 - val_accuracy: 0.8744 - val_auc_1: 0.9033 - val_f1_score: 0.4665 - val_loss: 204.0101\n",
      "Epoch 273/300\n",
      "\u001B[1m377/377\u001B[0m \u001B[32m━━━━━━━━━━━━━━━━━━━━\u001B[0m\u001B[37m\u001B[0m \u001B[1m0s\u001B[0m 738us/step - accuracy: 0.8778 - auc_1: 0.9029 - f1_score: 0.4675 - loss: 202.7610 - val_accuracy: 0.8744 - val_auc_1: 0.9032 - val_f1_score: 0.4665 - val_loss: 203.9174\n",
      "Epoch 274/300\n",
      "\u001B[1m377/377\u001B[0m \u001B[32m━━━━━━━━━━━━━━━━━━━━\u001B[0m\u001B[37m\u001B[0m \u001B[1m0s\u001B[0m 770us/step - accuracy: 0.8778 - auc_1: 0.9014 - f1_score: 0.4675 - loss: 203.6824 - val_accuracy: 0.8744 - val_auc_1: 0.9033 - val_f1_score: 0.4665 - val_loss: 203.8495\n",
      "Epoch 275/300\n",
      "\u001B[1m377/377\u001B[0m \u001B[32m━━━━━━━━━━━━━━━━━━━━\u001B[0m\u001B[37m\u001B[0m \u001B[1m0s\u001B[0m 707us/step - accuracy: 0.8778 - auc_1: 0.9029 - f1_score: 0.4675 - loss: 202.9781 - val_accuracy: 0.8744 - val_auc_1: 0.9031 - val_f1_score: 0.4665 - val_loss: 203.7655\n",
      "Epoch 276/300\n",
      "\u001B[1m377/377\u001B[0m \u001B[32m━━━━━━━━━━━━━━━━━━━━\u001B[0m\u001B[37m\u001B[0m \u001B[1m0s\u001B[0m 699us/step - accuracy: 0.8778 - auc_1: 0.9019 - f1_score: 0.4675 - loss: 203.0142 - val_accuracy: 0.8744 - val_auc_1: 0.9033 - val_f1_score: 0.4665 - val_loss: 203.6753\n",
      "Epoch 277/300\n",
      "\u001B[1m377/377\u001B[0m \u001B[32m━━━━━━━━━━━━━━━━━━━━\u001B[0m\u001B[37m\u001B[0m \u001B[1m0s\u001B[0m 690us/step - accuracy: 0.8778 - auc_1: 0.9014 - f1_score: 0.4675 - loss: 203.2569 - val_accuracy: 0.8744 - val_auc_1: 0.9033 - val_f1_score: 0.4665 - val_loss: 203.6164\n",
      "Epoch 278/300\n",
      "\u001B[1m377/377\u001B[0m \u001B[32m━━━━━━━━━━━━━━━━━━━━\u001B[0m\u001B[37m\u001B[0m \u001B[1m0s\u001B[0m 858us/step - accuracy: 0.8778 - auc_1: 0.9009 - f1_score: 0.4675 - loss: 203.4170 - val_accuracy: 0.8744 - val_auc_1: 0.9033 - val_f1_score: 0.4665 - val_loss: 203.5439\n",
      "Epoch 279/300\n",
      "\u001B[1m377/377\u001B[0m \u001B[32m━━━━━━━━━━━━━━━━━━━━\u001B[0m\u001B[37m\u001B[0m \u001B[1m0s\u001B[0m 749us/step - accuracy: 0.8778 - auc_1: 0.9031 - f1_score: 0.4675 - loss: 202.3165 - val_accuracy: 0.8744 - val_auc_1: 0.9033 - val_f1_score: 0.4665 - val_loss: 203.4564\n",
      "Epoch 280/300\n",
      "\u001B[1m377/377\u001B[0m \u001B[32m━━━━━━━━━━━━━━━━━━━━\u001B[0m\u001B[37m\u001B[0m \u001B[1m0s\u001B[0m 920us/step - accuracy: 0.8778 - auc_1: 0.9031 - f1_score: 0.4675 - loss: 202.3595 - val_accuracy: 0.8744 - val_auc_1: 0.9033 - val_f1_score: 0.4665 - val_loss: 203.3880\n",
      "Epoch 281/300\n",
      "\u001B[1m377/377\u001B[0m \u001B[32m━━━━━━━━━━━━━━━━━━━━\u001B[0m\u001B[37m\u001B[0m \u001B[1m0s\u001B[0m 737us/step - accuracy: 0.8778 - auc_1: 0.9009 - f1_score: 0.4675 - loss: 203.3910 - val_accuracy: 0.8744 - val_auc_1: 0.9034 - val_f1_score: 0.4665 - val_loss: 203.3309\n",
      "Epoch 282/300\n",
      "\u001B[1m377/377\u001B[0m \u001B[32m━━━━━━━━━━━━━━━━━━━━\u001B[0m\u001B[37m\u001B[0m \u001B[1m0s\u001B[0m 663us/step - accuracy: 0.8778 - auc_1: 0.9018 - f1_score: 0.4675 - loss: 202.6034 - val_accuracy: 0.8744 - val_auc_1: 0.9034 - val_f1_score: 0.4665 - val_loss: 203.2600\n",
      "Epoch 283/300\n",
      "\u001B[1m377/377\u001B[0m \u001B[32m━━━━━━━━━━━━━━━━━━━━\u001B[0m\u001B[37m\u001B[0m \u001B[1m0s\u001B[0m 713us/step - accuracy: 0.8778 - auc_1: 0.9014 - f1_score: 0.4675 - loss: 202.9577 - val_accuracy: 0.8744 - val_auc_1: 0.9034 - val_f1_score: 0.4665 - val_loss: 203.1984\n",
      "Epoch 284/300\n",
      "\u001B[1m377/377\u001B[0m \u001B[32m━━━━━━━━━━━━━━━━━━━━\u001B[0m\u001B[37m\u001B[0m \u001B[1m0s\u001B[0m 721us/step - accuracy: 0.8778 - auc_1: 0.9028 - f1_score: 0.4675 - loss: 202.3462 - val_accuracy: 0.8744 - val_auc_1: 0.9033 - val_f1_score: 0.4665 - val_loss: 203.1224\n",
      "Epoch 285/300\n",
      "\u001B[1m377/377\u001B[0m \u001B[32m━━━━━━━━━━━━━━━━━━━━\u001B[0m\u001B[37m\u001B[0m \u001B[1m0s\u001B[0m 695us/step - accuracy: 0.8778 - auc_1: 0.9012 - f1_score: 0.4675 - loss: 202.5495 - val_accuracy: 0.8744 - val_auc_1: 0.9033 - val_f1_score: 0.4665 - val_loss: 203.0687\n",
      "Epoch 286/300\n",
      "\u001B[1m377/377\u001B[0m \u001B[32m━━━━━━━━━━━━━━━━━━━━\u001B[0m\u001B[37m\u001B[0m \u001B[1m0s\u001B[0m 665us/step - accuracy: 0.8778 - auc_1: 0.9020 - f1_score: 0.4675 - loss: 202.4036 - val_accuracy: 0.8744 - val_auc_1: 0.9033 - val_f1_score: 0.4665 - val_loss: 202.9883\n",
      "Epoch 287/300\n",
      "\u001B[1m377/377\u001B[0m \u001B[32m━━━━━━━━━━━━━━━━━━━━\u001B[0m\u001B[37m\u001B[0m \u001B[1m0s\u001B[0m 675us/step - accuracy: 0.8778 - auc_1: 0.9026 - f1_score: 0.4675 - loss: 202.3551 - val_accuracy: 0.8744 - val_auc_1: 0.9034 - val_f1_score: 0.4665 - val_loss: 202.9214\n",
      "Epoch 288/300\n",
      "\u001B[1m377/377\u001B[0m \u001B[32m━━━━━━━━━━━━━━━━━━━━\u001B[0m\u001B[37m\u001B[0m \u001B[1m0s\u001B[0m 666us/step - accuracy: 0.8778 - auc_1: 0.9028 - f1_score: 0.4675 - loss: 201.8435 - val_accuracy: 0.8744 - val_auc_1: 0.9033 - val_f1_score: 0.4665 - val_loss: 202.8567\n",
      "Epoch 289/300\n",
      "\u001B[1m377/377\u001B[0m \u001B[32m━━━━━━━━━━━━━━━━━━━━\u001B[0m\u001B[37m\u001B[0m \u001B[1m0s\u001B[0m 682us/step - accuracy: 0.8778 - auc_1: 0.9004 - f1_score: 0.4675 - loss: 203.0456 - val_accuracy: 0.8744 - val_auc_1: 0.9033 - val_f1_score: 0.4665 - val_loss: 202.8162\n",
      "Epoch 290/300\n",
      "\u001B[1m377/377\u001B[0m \u001B[32m━━━━━━━━━━━━━━━━━━━━\u001B[0m\u001B[37m\u001B[0m \u001B[1m0s\u001B[0m 669us/step - accuracy: 0.8778 - auc_1: 0.9014 - f1_score: 0.4675 - loss: 202.1904 - val_accuracy: 0.8744 - val_auc_1: 0.9033 - val_f1_score: 0.4665 - val_loss: 202.7631\n",
      "Epoch 291/300\n",
      "\u001B[1m377/377\u001B[0m \u001B[32m━━━━━━━━━━━━━━━━━━━━\u001B[0m\u001B[37m\u001B[0m \u001B[1m0s\u001B[0m 792us/step - accuracy: 0.8778 - auc_1: 0.9029 - f1_score: 0.4675 - loss: 201.6490 - val_accuracy: 0.8744 - val_auc_1: 0.9033 - val_f1_score: 0.4665 - val_loss: 202.6948\n",
      "Epoch 292/300\n",
      "\u001B[1m377/377\u001B[0m \u001B[32m━━━━━━━━━━━━━━━━━━━━\u001B[0m\u001B[37m\u001B[0m \u001B[1m0s\u001B[0m 816us/step - accuracy: 0.8778 - auc_1: 0.9005 - f1_score: 0.4675 - loss: 202.7788 - val_accuracy: 0.8744 - val_auc_1: 0.9033 - val_f1_score: 0.4665 - val_loss: 202.6334\n",
      "Epoch 293/300\n",
      "\u001B[1m377/377\u001B[0m \u001B[32m━━━━━━━━━━━━━━━━━━━━\u001B[0m\u001B[37m\u001B[0m \u001B[1m0s\u001B[0m 921us/step - accuracy: 0.8778 - auc_1: 0.9028 - f1_score: 0.4675 - loss: 201.6376 - val_accuracy: 0.8744 - val_auc_1: 0.9033 - val_f1_score: 0.4665 - val_loss: 202.5527\n",
      "Epoch 294/300\n",
      "\u001B[1m377/377\u001B[0m \u001B[32m━━━━━━━━━━━━━━━━━━━━\u001B[0m\u001B[37m\u001B[0m \u001B[1m0s\u001B[0m 910us/step - accuracy: 0.8778 - auc_1: 0.9037 - f1_score: 0.4675 - loss: 201.0339 - val_accuracy: 0.8744 - val_auc_1: 0.9032 - val_f1_score: 0.4665 - val_loss: 202.5062\n",
      "Epoch 295/300\n",
      "\u001B[1m377/377\u001B[0m \u001B[32m━━━━━━━━━━━━━━━━━━━━\u001B[0m\u001B[37m\u001B[0m \u001B[1m0s\u001B[0m 728us/step - accuracy: 0.8778 - auc_1: 0.8999 - f1_score: 0.4675 - loss: 202.3806 - val_accuracy: 0.8744 - val_auc_1: 0.9032 - val_f1_score: 0.4665 - val_loss: 202.4417\n",
      "Epoch 296/300\n",
      "\u001B[1m377/377\u001B[0m \u001B[32m━━━━━━━━━━━━━━━━━━━━\u001B[0m\u001B[37m\u001B[0m \u001B[1m0s\u001B[0m 719us/step - accuracy: 0.8778 - auc_1: 0.9037 - f1_score: 0.4675 - loss: 201.0287 - val_accuracy: 0.8744 - val_auc_1: 0.9032 - val_f1_score: 0.4665 - val_loss: 202.3751\n",
      "Epoch 297/300\n",
      "\u001B[1m377/377\u001B[0m \u001B[32m━━━━━━━━━━━━━━━━━━━━\u001B[0m\u001B[37m\u001B[0m \u001B[1m0s\u001B[0m 700us/step - accuracy: 0.8778 - auc_1: 0.9016 - f1_score: 0.4675 - loss: 201.8615 - val_accuracy: 0.8744 - val_auc_1: 0.9033 - val_f1_score: 0.4665 - val_loss: 202.3076\n",
      "Epoch 298/300\n",
      "\u001B[1m377/377\u001B[0m \u001B[32m━━━━━━━━━━━━━━━━━━━━\u001B[0m\u001B[37m\u001B[0m \u001B[1m0s\u001B[0m 714us/step - accuracy: 0.8778 - auc_1: 0.9000 - f1_score: 0.4675 - loss: 202.4212 - val_accuracy: 0.8744 - val_auc_1: 0.9033 - val_f1_score: 0.4665 - val_loss: 202.2474\n",
      "Epoch 299/300\n",
      "\u001B[1m377/377\u001B[0m \u001B[32m━━━━━━━━━━━━━━━━━━━━\u001B[0m\u001B[37m\u001B[0m \u001B[1m0s\u001B[0m 698us/step - accuracy: 0.8778 - auc_1: 0.9017 - f1_score: 0.4675 - loss: 201.6089 - val_accuracy: 0.8744 - val_auc_1: 0.9032 - val_f1_score: 0.4665 - val_loss: 202.2003\n",
      "Epoch 300/300\n",
      "\u001B[1m377/377\u001B[0m \u001B[32m━━━━━━━━━━━━━━━━━━━━\u001B[0m\u001B[37m\u001B[0m \u001B[1m0s\u001B[0m 689us/step - accuracy: 0.8778 - auc_1: 0.9030 - f1_score: 0.4675 - loss: 200.9285 - val_accuracy: 0.8744 - val_auc_1: 0.9032 - val_f1_score: 0.4665 - val_loss: 202.1338\n",
      "\u001B[1m84/84\u001B[0m \u001B[32m━━━━━━━━━━━━━━━━━━━━\u001B[0m\u001B[37m\u001B[0m \u001B[1m0s\u001B[0m 532us/step - accuracy: 0.8680 - auc_1: 0.8985 - f1_score: 0.4646 - loss: 208.0001\n"
     ]
    },
    {
     "data": {
      "text/plain": "<Figure size 640x480 with 1 Axes>",
      "image/png": "[encoded data removed]"
     },
     "metadata": {},
     "output_type": "display_data"
    }
   ],
   "source": [
    "from keras.models import Sequential\n",
    "from keras.layers import Input, Dense\n",
    "import keras\n",
    "\n",
    "# Build the simple fully connected single hidden layer network model\n",
    "simple_softmax_model = Sequential([\n",
    "    Input(shape=X_train.shape[1:]), \n",
    "    # Dropout(0.4), \n",
    "    # Normalization(),\n",
    "    # Dense(16384, activation='relu', kernel_regularizer=l1(0.5), kernel_initializer='glorot_normal'), \n",
    "    Dense(22, activation='relu', kernel_regularizer=l1(0.5)), \n",
    "    Dropout(0.7),\n",
    "    Dense(2, activation='softmax', kernel_regularizer=l1(0.5), kernel_initializer='glorot_normal')\n",
    "])\n",
    "\n",
    "# Compile the model\n",
    "opt = Adam(learning_rate=0.00001)\n",
    "simple_softmax_model.compile(loss=custom_categorical_loss, optimizer=opt, metrics=[AUC(), 'accuracy', F1Score()])\n",
    "# print(simple_model.summary())\n",
    "\n",
    "# Fit the model\n",
    "keras.utils.set_random_seed(42)  # for reproducibility\n",
    "simple_softmax_history = simple_softmax_model.fit(X_train, y_train, validation_data=(X_val, y_val), epochs=300, callbacks=[EarlyStopping(monitor='val_auc', mode='max', patience=3, verbose=1, min_delta=0.01)], batch_size=64)\n",
    "# simple_softmax_history = simple_softmax_model.fit(X_train, y_train, validation_data=(X_test, y_test), epochs=300, callbacks=[EarlyStopping(monitor='val_accuracy', patience=5, verbose=1)], batch_size=128)\n",
    "\n",
    "# Evaluation of the model on the validation set\n",
    "scores = simple_softmax_model.evaluate(X_val, y_val)\n",
    "# scores = simple_softmax_model.evaluate(X_test, y_test)\n",
    "\n",
    "plot_history(simple_softmax_history.history)"
   ],
   "metadata": {
    "collapsed": false,
    "ExecuteTime": {
     "end_time": "2024-04-19T17:40:10.762502Z",
     "start_time": "2024-04-19T17:38:43.290783Z"
    }
   },
   "id": "d14b2aa92a20cbad",
   "execution_count": 35
  },
  {
   "cell_type": "code",
   "outputs": [
    {
     "name": "stdout",
     "output_type": "stream",
     "text": [
      "\u001B[1m753/753\u001B[0m \u001B[32m━━━━━━━━━━━━━━━━━━━━\u001B[0m\u001B[37m\u001B[0m \u001B[1m0s\u001B[0m 371us/step\n",
      "\u001B[1m84/84\u001B[0m \u001B[32m━━━━━━━━━━━━━━━━━━━━\u001B[0m\u001B[37m\u001B[0m \u001B[1m0s\u001B[0m 318us/step\n",
      "\u001B[1m93/93\u001B[0m \u001B[32m━━━━━━━━━━━━━━━━━━━━\u001B[0m\u001B[37m\u001B[0m \u001B[1m0s\u001B[0m 321us/step\n"
     ]
    },
    {
     "data": {
      "text/plain": "                Model Train AUC Val AUC Test AUC\n0  Logit as Benchmark    0.6707  0.6637   0.6637\n1         LASSO Logit    0.6835  0.6791   0.6791\n2    Random Forest CV    0.9686  0.7086   0.7086\n3              GBM CV    0.8193  0.7133   0.7133\n4          Sigmoid NN    0.6578  0.6321   0.6611\n5          Softmax NN    0.6555  0.6314   0.6611",
      "text/html": "<div>\n<style scoped>\n    .dataframe tbody tr th:only-of-type {\n        vertical-align: middle;\n    }\n\n    .dataframe tbody tr th {\n        vertical-align: top;\n    }\n\n    .dataframe thead th {\n        text-align: right;\n    }\n</style>\n<table border=\"1\" class=\"dataframe\">\n  <thead>\n    <tr style=\"text-align: right;\">\n      <th></th>\n      <th>Model</th>\n      <th>Train AUC</th>\n      <th>Val AUC</th>\n      <th>Test AUC</th>\n    </tr>\n  </thead>\n  <tbody>\n    <tr>\n      <th>0</th>\n      <td>Logit as Benchmark</td>\n      <td>0.6707</td>\n      <td>0.6637</td>\n      <td>0.6637</td>\n    </tr>\n    <tr>\n      <th>1</th>\n      <td>LASSO Logit</td>\n      <td>0.6835</td>\n      <td>0.6791</td>\n      <td>0.6791</td>\n    </tr>\n    <tr>\n      <th>2</th>\n      <td>Random Forest CV</td>\n      <td>0.9686</td>\n      <td>0.7086</td>\n      <td>0.7086</td>\n    </tr>\n    <tr>\n      <th>3</th>\n      <td>GBM CV</td>\n      <td>0.8193</td>\n      <td>0.7133</td>\n      <td>0.7133</td>\n    </tr>\n    <tr>\n      <th>4</th>\n      <td>Sigmoid NN</td>\n      <td>0.6578</td>\n      <td>0.6321</td>\n      <td>0.6611</td>\n    </tr>\n    <tr>\n      <th>5</th>\n      <td>Softmax NN</td>\n      <td>0.6555</td>\n      <td>0.6314</td>\n      <td>0.6611</td>\n    </tr>\n  </tbody>\n</table>\n</div>"
     },
     "execution_count": 36,
     "metadata": {},
     "output_type": "execute_result"
    }
   ],
   "source": [
    "# update_summary_score(summary_df, \n",
    "#                'Softmax NN', \n",
    "#                simple_softmax_model.evaluate(X_train, y_train)[2], \n",
    "#                scores[2], \n",
    "#                simple_softmax_model.evaluate(X_test, y_test)[2])\n",
    "               # simple_softmax_model.evaluate(X_train, y_train)[1], \n",
    "               # scores[1], \n",
    "               # simple_softmax_model.evaluate(X_test, y_test)[1],\n",
    "               # simple_softmax_model.evaluate(X_train, y_train)[3].numpy()[1], \n",
    "               # scores[3].numpy()[1], \n",
    "               # simple_softmax_model.evaluate(X_test, y_test)[3].numpy()[1])\n",
    "update_summary(summary_df, \n",
    "               'Softmax NN', \n",
    "               y_train_sigmoid,\n",
    "               simple_softmax_model.predict(X_train), \n",
    "               y_val_sigmoid,\n",
    "               simple_softmax_model.predict(X_val), \n",
    "               y_test_sigmoid,\n",
    "               simple_softmax_model.predict(X_test))\n",
    "summary_df"
   ],
   "metadata": {
    "collapsed": false,
    "ExecuteTime": {
     "end_time": "2024-04-19T17:40:11.328915Z",
     "start_time": "2024-04-19T17:40:10.762376Z"
    }
   },
   "id": "2c680a4cde42cb7e",
   "execution_count": 36
  },
  {
   "cell_type": "markdown",
   "source": [
    "The softmax neural network performs comparable to the sigmoid neural network in predicting for popularity with the test set. However, the performance on the validation set is worse, which raise some concern how it performs on a different unseen dataset."
   ],
   "metadata": {
    "collapsed": false
   },
   "id": "a66e1f5f86cdd5ff"
  },
  {
   "cell_type": "markdown",
   "source": [
    "### Neural network with SMOTE\n",
    "\n",
    "I also experiment with oversampling since the poplar articles are rarer than the non-popular ones. The hypothesis is the model might nto be able to capture the patterns of the rare cases, hence oversampling the positive cases might help. This neural network share the same configuration with the sigmoid neural network and undergo the same optimizations, except for the adjustment in the oversampling strategy."
   ],
   "metadata": {
    "collapsed": false
   },
   "id": "2653f08282f16d32"
  },
  {
   "cell_type": "code",
   "outputs": [],
   "source": [
    "from imblearn.over_sampling import SMOTE, RandomOverSampler\n",
    "\n",
    "smt = RandomOverSampler(sampling_strategy=0.5, random_state=prng)\n",
    "X_smote, y_smote = smt.fit_resample(X_train, y_train_sigmoid)\n",
    "# y_smote = to_categorical(y_smote, num_classes=num_classes)"
   ],
   "metadata": {
    "collapsed": false,
    "ExecuteTime": {
     "end_time": "2024-04-19T17:40:11.478972Z",
     "start_time": "2024-04-19T17:40:11.328961Z"
    }
   },
   "id": "219e0dccaac2ee89",
   "execution_count": 37
  },
  {
   "cell_type": "code",
   "outputs": [],
   "source": [
    "def custom_loss_smote(y_true, y_pred):\n",
    "    # Define weights\n",
    "    false_positive_weight = 1.0\n",
    "    false_negative_weight = 10000.0\n",
    "\n",
    "    # Calculate binary cross entropy\n",
    "    bce = tf.keras.losses.BinaryCrossentropy()\n",
    "\n",
    "    # Calculate loss\n",
    "    loss = bce(y_true, y_pred)\n",
    "\n",
    "    # Calculate weighted loss\n",
    "    weighted_loss = tf.where(tf.greater(y_true, y_pred), false_negative_weight * loss, false_positive_weight * loss)\n",
    "\n",
    "    return tf.reduce_mean(weighted_loss)"
   ],
   "metadata": {
    "collapsed": false,
    "ExecuteTime": {
     "end_time": "2024-04-19T17:40:11.481726Z",
     "start_time": "2024-04-19T17:40:11.456377Z"
    }
   },
   "id": "fb805007f2963e21",
   "execution_count": 38
  },
  {
   "cell_type": "code",
   "outputs": [
    {
     "name": "stdout",
     "output_type": "stream",
     "text": [
      "Epoch 1/200\n",
      "\u001B[1m991/991\u001B[0m \u001B[32m━━━━━━━━━━━━━━━━━━━━\u001B[0m\u001B[37m\u001B[0m \u001B[1m1s\u001B[0m 894us/step - accuracy: 0.6478 - auc_3: 0.5224 - f1_score: 0.4939 - loss: 2565.2551 - val_accuracy: 0.8726 - val_auc_3: 0.6188 - val_f1_score: 0.2231 - val_loss: 1042.6143\n",
      "Epoch 2/200\n",
      "\u001B[1m991/991\u001B[0m \u001B[32m━━━━━━━━━━━━━━━━━━━━\u001B[0m\u001B[37m\u001B[0m \u001B[1m1s\u001B[0m 829us/step - accuracy: 0.6739 - auc_3: 0.5809 - f1_score: 0.4939 - loss: 2490.7603 - val_accuracy: 0.8636 - val_auc_3: 0.6284 - val_f1_score: 0.2231 - val_loss: 1028.4751\n",
      "Epoch 3/200\n",
      "\u001B[1m991/991\u001B[0m \u001B[32m━━━━━━━━━━━━━━━━━━━━\u001B[0m\u001B[37m\u001B[0m \u001B[1m1s\u001B[0m 742us/step - accuracy: 0.6728 - auc_3: 0.6013 - f1_score: 0.4939 - loss: 2462.0571 - val_accuracy: 0.8498 - val_auc_3: 0.6335 - val_f1_score: 0.2231 - val_loss: 1014.7947\n",
      "Epoch 4/200\n",
      "\u001B[1m991/991\u001B[0m \u001B[32m━━━━━━━━━━━━━━━━━━━━\u001B[0m\u001B[37m\u001B[0m \u001B[1m1s\u001B[0m 680us/step - accuracy: 0.6708 - auc_3: 0.6183 - f1_score: 0.4939 - loss: 2435.5093 - val_accuracy: 0.8363 - val_auc_3: 0.6353 - val_f1_score: 0.2231 - val_loss: 1002.3637\n",
      "Epoch 5/200\n",
      "\u001B[1m991/991\u001B[0m \u001B[32m━━━━━━━━━━━━━━━━━━━━\u001B[0m\u001B[37m\u001B[0m \u001B[1m1s\u001B[0m 702us/step - accuracy: 0.6752 - auc_3: 0.6237 - f1_score: 0.4939 - loss: 2418.4424 - val_accuracy: 0.8341 - val_auc_3: 0.6362 - val_f1_score: 0.2231 - val_loss: 995.2867\n",
      "Epoch 6/200\n",
      "\u001B[1m991/991\u001B[0m \u001B[32m━━━━━━━━━━━━━━━━━━━━\u001B[0m\u001B[37m\u001B[0m \u001B[1m1s\u001B[0m 693us/step - accuracy: 0.6733 - auc_3: 0.6306 - f1_score: 0.4939 - loss: 2400.5874 - val_accuracy: 0.8296 - val_auc_3: 0.6360 - val_f1_score: 0.2231 - val_loss: 985.0209\n",
      "Epoch 7/200\n",
      "\u001B[1m991/991\u001B[0m \u001B[32m━━━━━━━━━━━━━━━━━━━━\u001B[0m\u001B[37m\u001B[0m \u001B[1m1s\u001B[0m 690us/step - accuracy: 0.6761 - auc_3: 0.6357 - f1_score: 0.4939 - loss: 2386.1846 - val_accuracy: 0.8285 - val_auc_3: 0.6365 - val_f1_score: 0.2231 - val_loss: 976.4055\n",
      "Epoch 8/200\n",
      "\u001B[1m991/991\u001B[0m \u001B[32m━━━━━━━━━━━━━━━━━━━━\u001B[0m\u001B[37m\u001B[0m \u001B[1m1s\u001B[0m 674us/step - accuracy: 0.6779 - auc_3: 0.6407 - f1_score: 0.4939 - loss: 2373.9929 - val_accuracy: 0.8262 - val_auc_3: 0.6368 - val_f1_score: 0.2231 - val_loss: 968.0669\n",
      "Epoch 9/200\n",
      "\u001B[1m991/991\u001B[0m \u001B[32m━━━━━━━━━━━━━━━━━━━━\u001B[0m\u001B[37m\u001B[0m \u001B[1m1s\u001B[0m 695us/step - accuracy: 0.6808 - auc_3: 0.6404 - f1_score: 0.4939 - loss: 2366.0818 - val_accuracy: 0.8236 - val_auc_3: 0.6363 - val_f1_score: 0.2231 - val_loss: 962.6808\n",
      "Epoch 10/200\n",
      "\u001B[1m991/991\u001B[0m \u001B[32m━━━━━━━━━━━━━━━━━━━━\u001B[0m\u001B[37m\u001B[0m \u001B[1m1s\u001B[0m 739us/step - accuracy: 0.6809 - auc_3: 0.6471 - f1_score: 0.4939 - loss: 2348.3066 - val_accuracy: 0.8232 - val_auc_3: 0.6365 - val_f1_score: 0.2231 - val_loss: 953.6549\n",
      "Epoch 11/200\n",
      "\u001B[1m991/991\u001B[0m \u001B[32m━━━━━━━━━━━━━━━━━━━━\u001B[0m\u001B[37m\u001B[0m \u001B[1m1s\u001B[0m 843us/step - accuracy: 0.6791 - auc_3: 0.6486 - f1_score: 0.4939 - loss: 2341.5945 - val_accuracy: 0.8229 - val_auc_3: 0.6361 - val_f1_score: 0.2231 - val_loss: 946.8198\n",
      "Epoch 12/200\n",
      "\u001B[1m991/991\u001B[0m \u001B[32m━━━━━━━━━━━━━━━━━━━━\u001B[0m\u001B[37m\u001B[0m \u001B[1m1s\u001B[0m 691us/step - accuracy: 0.6829 - auc_3: 0.6535 - f1_score: 0.4939 - loss: 2325.3489 - val_accuracy: 0.8229 - val_auc_3: 0.6366 - val_f1_score: 0.2231 - val_loss: 942.0395\n",
      "Epoch 13/200\n",
      "\u001B[1m991/991\u001B[0m \u001B[32m━━━━━━━━━━━━━━━━━━━━\u001B[0m\u001B[37m\u001B[0m \u001B[1m1s\u001B[0m 704us/step - accuracy: 0.6800 - auc_3: 0.6545 - f1_score: 0.4939 - loss: 2318.3796 - val_accuracy: 0.8225 - val_auc_3: 0.6367 - val_f1_score: 0.2231 - val_loss: 935.9697\n",
      "Epoch 14/200\n",
      "\u001B[1m991/991\u001B[0m \u001B[32m━━━━━━━━━━━━━━━━━━━━\u001B[0m\u001B[37m\u001B[0m \u001B[1m1s\u001B[0m 700us/step - accuracy: 0.6808 - auc_3: 0.6494 - f1_score: 0.4939 - loss: 2322.1477 - val_accuracy: 0.8203 - val_auc_3: 0.6368 - val_f1_score: 0.2231 - val_loss: 930.9672\n",
      "Epoch 15/200\n",
      "\u001B[1m991/991\u001B[0m \u001B[32m━━━━━━━━━━━━━━━━━━━━\u001B[0m\u001B[37m\u001B[0m \u001B[1m1s\u001B[0m 709us/step - accuracy: 0.6781 - auc_3: 0.6508 - f1_score: 0.4939 - loss: 2314.0659 - val_accuracy: 0.8203 - val_auc_3: 0.6370 - val_f1_score: 0.2231 - val_loss: 925.4462\n",
      "Epoch 16/200\n",
      "\u001B[1m991/991\u001B[0m \u001B[32m━━━━━━━━━━━━━━━━━━━━\u001B[0m\u001B[37m\u001B[0m \u001B[1m1s\u001B[0m 688us/step - accuracy: 0.6805 - auc_3: 0.6510 - f1_score: 0.4939 - loss: 2310.2319 - val_accuracy: 0.8191 - val_auc_3: 0.6366 - val_f1_score: 0.2231 - val_loss: 922.4958\n",
      "Epoch 17/200\n",
      "\u001B[1m991/991\u001B[0m \u001B[32m━━━━━━━━━━━━━━━━━━━━\u001B[0m\u001B[37m\u001B[0m \u001B[1m1s\u001B[0m 688us/step - accuracy: 0.6804 - auc_3: 0.6547 - f1_score: 0.4939 - loss: 2301.2209 - val_accuracy: 0.8173 - val_auc_3: 0.6369 - val_f1_score: 0.2231 - val_loss: 919.5569\n",
      "Epoch 18/200\n",
      "\u001B[1m991/991\u001B[0m \u001B[32m━━━━━━━━━━━━━━━━━━━━\u001B[0m\u001B[37m\u001B[0m \u001B[1m1s\u001B[0m 720us/step - accuracy: 0.6818 - auc_3: 0.6541 - f1_score: 0.4939 - loss: 2298.1094 - val_accuracy: 0.8195 - val_auc_3: 0.6369 - val_f1_score: 0.2231 - val_loss: 915.0072\n",
      "Epoch 19/200\n",
      "\u001B[1m991/991\u001B[0m \u001B[32m━━━━━━━━━━━━━━━━━━━━\u001B[0m\u001B[37m\u001B[0m \u001B[1m1s\u001B[0m 857us/step - accuracy: 0.6808 - auc_3: 0.6587 - f1_score: 0.4939 - loss: 2288.4224 - val_accuracy: 0.8191 - val_auc_3: 0.6370 - val_f1_score: 0.2231 - val_loss: 911.1318\n",
      "Epoch 20/200\n",
      "\u001B[1m991/991\u001B[0m \u001B[32m━━━━━━━━━━━━━━━━━━━━\u001B[0m\u001B[37m\u001B[0m \u001B[1m1s\u001B[0m 711us/step - accuracy: 0.6833 - auc_3: 0.6572 - f1_score: 0.4939 - loss: 2285.6956 - val_accuracy: 0.8206 - val_auc_3: 0.6372 - val_f1_score: 0.2231 - val_loss: 907.3270\n",
      "Epoch 21/200\n",
      "\u001B[1m991/991\u001B[0m \u001B[32m━━━━━━━━━━━━━━━━━━━━\u001B[0m\u001B[37m\u001B[0m \u001B[1m1s\u001B[0m 681us/step - accuracy: 0.6805 - auc_3: 0.6620 - f1_score: 0.4939 - loss: 2277.0833 - val_accuracy: 0.8203 - val_auc_3: 0.6374 - val_f1_score: 0.2231 - val_loss: 903.8914\n",
      "Epoch 22/200\n",
      "\u001B[1m991/991\u001B[0m \u001B[32m━━━━━━━━━━━━━━━━━━━━\u001B[0m\u001B[37m\u001B[0m \u001B[1m1s\u001B[0m 691us/step - accuracy: 0.6823 - auc_3: 0.6586 - f1_score: 0.4939 - loss: 2275.2319 - val_accuracy: 0.8199 - val_auc_3: 0.6375 - val_f1_score: 0.2231 - val_loss: 900.3234\n",
      "Epoch 23/200\n",
      "\u001B[1m991/991\u001B[0m \u001B[32m━━━━━━━━━━━━━━━━━━━━\u001B[0m\u001B[37m\u001B[0m \u001B[1m1s\u001B[0m 736us/step - accuracy: 0.6849 - auc_3: 0.6612 - f1_score: 0.4939 - loss: 2267.8237 - val_accuracy: 0.8214 - val_auc_3: 0.6375 - val_f1_score: 0.2231 - val_loss: 896.6500\n",
      "Epoch 24/200\n",
      "\u001B[1m991/991\u001B[0m \u001B[32m━━━━━━━━━━━━━━━━━━━━\u001B[0m\u001B[37m\u001B[0m \u001B[1m1s\u001B[0m 703us/step - accuracy: 0.6832 - auc_3: 0.6623 - f1_score: 0.4939 - loss: 2265.7454 - val_accuracy: 0.8188 - val_auc_3: 0.6377 - val_f1_score: 0.2231 - val_loss: 895.4241\n",
      "Epoch 25/200\n",
      "\u001B[1m991/991\u001B[0m \u001B[32m━━━━━━━━━━━━━━━━━━━━\u001B[0m\u001B[37m\u001B[0m \u001B[1m1s\u001B[0m 675us/step - accuracy: 0.6827 - auc_3: 0.6600 - f1_score: 0.4939 - loss: 2264.5203 - val_accuracy: 0.8217 - val_auc_3: 0.6375 - val_f1_score: 0.2231 - val_loss: 890.4979\n",
      "Epoch 26/200\n",
      "\u001B[1m991/991\u001B[0m \u001B[32m━━━━━━━━━━━━━━━━━━━━\u001B[0m\u001B[37m\u001B[0m \u001B[1m1s\u001B[0m 761us/step - accuracy: 0.6825 - auc_3: 0.6580 - f1_score: 0.4939 - loss: 2263.0469 - val_accuracy: 0.8210 - val_auc_3: 0.6371 - val_f1_score: 0.2231 - val_loss: 887.8550\n",
      "Epoch 27/200\n",
      "\u001B[1m991/991\u001B[0m \u001B[32m━━━━━━━━━━━━━━━━━━━━\u001B[0m\u001B[37m\u001B[0m \u001B[1m1s\u001B[0m 888us/step - accuracy: 0.6854 - auc_3: 0.6638 - f1_score: 0.4939 - loss: 2253.3777 - val_accuracy: 0.8206 - val_auc_3: 0.6382 - val_f1_score: 0.2231 - val_loss: 884.6188\n",
      "Epoch 28/200\n",
      "\u001B[1m991/991\u001B[0m \u001B[32m━━━━━━━━━━━━━━━━━━━━\u001B[0m\u001B[37m\u001B[0m \u001B[1m1s\u001B[0m 705us/step - accuracy: 0.6824 - auc_3: 0.6632 - f1_score: 0.4939 - loss: 2251.8613 - val_accuracy: 0.8191 - val_auc_3: 0.6380 - val_f1_score: 0.2231 - val_loss: 882.1913\n",
      "Epoch 29/200\n",
      "\u001B[1m991/991\u001B[0m \u001B[32m━━━━━━━━━━━━━━━━━━━━\u001B[0m\u001B[37m\u001B[0m \u001B[1m1s\u001B[0m 753us/step - accuracy: 0.6837 - auc_3: 0.6623 - f1_score: 0.4939 - loss: 2250.4260 - val_accuracy: 0.8184 - val_auc_3: 0.6380 - val_f1_score: 0.2231 - val_loss: 879.7242\n",
      "Epoch 30/200\n",
      "\u001B[1m991/991\u001B[0m \u001B[32m━━━━━━━━━━━━━━━━━━━━\u001B[0m\u001B[37m\u001B[0m \u001B[1m1s\u001B[0m 798us/step - accuracy: 0.6825 - auc_3: 0.6640 - f1_score: 0.4939 - loss: 2246.7422 - val_accuracy: 0.8184 - val_auc_3: 0.6379 - val_f1_score: 0.2231 - val_loss: 876.7336\n",
      "Epoch 31/200\n",
      "\u001B[1m991/991\u001B[0m \u001B[32m━━━━━━━━━━━━━━━━━━━━\u001B[0m\u001B[37m\u001B[0m \u001B[1m1s\u001B[0m 704us/step - accuracy: 0.6847 - auc_3: 0.6634 - f1_score: 0.4939 - loss: 2243.4526 - val_accuracy: 0.8184 - val_auc_3: 0.6380 - val_f1_score: 0.2231 - val_loss: 874.1961\n",
      "Epoch 32/200\n",
      "\u001B[1m991/991\u001B[0m \u001B[32m━━━━━━━━━━━━━━━━━━━━\u001B[0m\u001B[37m\u001B[0m \u001B[1m1s\u001B[0m 684us/step - accuracy: 0.6846 - auc_3: 0.6651 - f1_score: 0.4939 - loss: 2237.8982 - val_accuracy: 0.8191 - val_auc_3: 0.6385 - val_f1_score: 0.2231 - val_loss: 872.2775\n",
      "Epoch 33/200\n",
      "\u001B[1m991/991\u001B[0m \u001B[32m━━━━━━━━━━━━━━━━━━━━\u001B[0m\u001B[37m\u001B[0m \u001B[1m1s\u001B[0m 676us/step - accuracy: 0.6865 - auc_3: 0.6621 - f1_score: 0.4939 - loss: 2239.0540 - val_accuracy: 0.8173 - val_auc_3: 0.6385 - val_f1_score: 0.2231 - val_loss: 869.5399\n",
      "Epoch 34/200\n",
      "\u001B[1m991/991\u001B[0m \u001B[32m━━━━━━━━━━━━━━━━━━━━\u001B[0m\u001B[37m\u001B[0m \u001B[1m1s\u001B[0m 852us/step - accuracy: 0.6886 - auc_3: 0.6679 - f1_score: 0.4939 - loss: 2228.4021 - val_accuracy: 0.8176 - val_auc_3: 0.6390 - val_f1_score: 0.2231 - val_loss: 868.0243\n",
      "Epoch 35/200\n",
      "\u001B[1m991/991\u001B[0m \u001B[32m━━━━━━━━━━━━━━━━━━━━\u001B[0m\u001B[37m\u001B[0m \u001B[1m1s\u001B[0m 788us/step - accuracy: 0.6875 - auc_3: 0.6647 - f1_score: 0.4939 - loss: 2229.9585 - val_accuracy: 0.8180 - val_auc_3: 0.6390 - val_f1_score: 0.2231 - val_loss: 865.5854\n",
      "Epoch 36/200\n",
      "\u001B[1m991/991\u001B[0m \u001B[32m━━━━━━━━━━━━━━━━━━━━\u001B[0m\u001B[37m\u001B[0m \u001B[1m1s\u001B[0m 723us/step - accuracy: 0.6831 - auc_3: 0.6647 - f1_score: 0.4939 - loss: 2230.2002 - val_accuracy: 0.8191 - val_auc_3: 0.6388 - val_f1_score: 0.2231 - val_loss: 862.7111\n",
      "Epoch 37/200\n",
      "\u001B[1m991/991\u001B[0m \u001B[32m━━━━━━━━━━━━━━━━━━━━\u001B[0m\u001B[37m\u001B[0m \u001B[1m1s\u001B[0m 697us/step - accuracy: 0.6848 - auc_3: 0.6652 - f1_score: 0.4939 - loss: 2226.6157 - val_accuracy: 0.8184 - val_auc_3: 0.6391 - val_f1_score: 0.2231 - val_loss: 861.0197\n",
      "Epoch 38/200\n",
      "\u001B[1m991/991\u001B[0m \u001B[32m━━━━━━━━━━━━━━━━━━━━\u001B[0m\u001B[37m\u001B[0m \u001B[1m1s\u001B[0m 683us/step - accuracy: 0.6860 - auc_3: 0.6664 - f1_score: 0.4939 - loss: 2223.0776 - val_accuracy: 0.8176 - val_auc_3: 0.6396 - val_f1_score: 0.2231 - val_loss: 859.3624\n",
      "Epoch 39/200\n",
      "\u001B[1m991/991\u001B[0m \u001B[32m━━━━━━━━━━━━━━━━━━━━\u001B[0m\u001B[37m\u001B[0m \u001B[1m1s\u001B[0m 693us/step - accuracy: 0.6865 - auc_3: 0.6669 - f1_score: 0.4939 - loss: 2221.5420 - val_accuracy: 0.8188 - val_auc_3: 0.6399 - val_f1_score: 0.2231 - val_loss: 856.6826\n",
      "Epoch 40/200\n",
      "\u001B[1m991/991\u001B[0m \u001B[32m━━━━━━━━━━━━━━━━━━━━\u001B[0m\u001B[37m\u001B[0m \u001B[1m1s\u001B[0m 674us/step - accuracy: 0.6855 - auc_3: 0.6671 - f1_score: 0.4939 - loss: 2218.7739 - val_accuracy: 0.8184 - val_auc_3: 0.6396 - val_f1_score: 0.2231 - val_loss: 854.5861\n",
      "Epoch 41/200\n",
      "\u001B[1m991/991\u001B[0m \u001B[32m━━━━━━━━━━━━━━━━━━━━\u001B[0m\u001B[37m\u001B[0m \u001B[1m1s\u001B[0m 738us/step - accuracy: 0.6874 - auc_3: 0.6674 - f1_score: 0.4939 - loss: 2215.0764 - val_accuracy: 0.8180 - val_auc_3: 0.6394 - val_f1_score: 0.2231 - val_loss: 852.8400\n",
      "Epoch 42/200\n",
      "\u001B[1m991/991\u001B[0m \u001B[32m━━━━━━━━━━━━━━━━━━━━\u001B[0m\u001B[37m\u001B[0m \u001B[1m1s\u001B[0m 891us/step - accuracy: 0.6872 - auc_3: 0.6691 - f1_score: 0.4939 - loss: 2211.9751 - val_accuracy: 0.8180 - val_auc_3: 0.6403 - val_f1_score: 0.2231 - val_loss: 851.5481\n",
      "Epoch 43/200\n",
      "\u001B[1m991/991\u001B[0m \u001B[32m━━━━━━━━━━━━━━━━━━━━\u001B[0m\u001B[37m\u001B[0m \u001B[1m1s\u001B[0m 775us/step - accuracy: 0.6870 - auc_3: 0.6664 - f1_score: 0.4939 - loss: 2211.2058 - val_accuracy: 0.8180 - val_auc_3: 0.6403 - val_f1_score: 0.2231 - val_loss: 849.6806\n",
      "Epoch 44/200\n",
      "\u001B[1m991/991\u001B[0m \u001B[32m━━━━━━━━━━━━━━━━━━━━\u001B[0m\u001B[37m\u001B[0m \u001B[1m1s\u001B[0m 713us/step - accuracy: 0.6878 - auc_3: 0.6675 - f1_score: 0.4939 - loss: 2210.9792 - val_accuracy: 0.8180 - val_auc_3: 0.6402 - val_f1_score: 0.2231 - val_loss: 848.4230\n",
      "Epoch 45/200\n",
      "\u001B[1m991/991\u001B[0m \u001B[32m━━━━━━━━━━━━━━━━━━━━\u001B[0m\u001B[37m\u001B[0m \u001B[1m1s\u001B[0m 724us/step - accuracy: 0.6843 - auc_3: 0.6676 - f1_score: 0.4939 - loss: 2209.0640 - val_accuracy: 0.8176 - val_auc_3: 0.6406 - val_f1_score: 0.2231 - val_loss: 846.3737\n",
      "Epoch 46/200\n",
      "\u001B[1m991/991\u001B[0m \u001B[32m━━━━━━━━━━━━━━━━━━━━\u001B[0m\u001B[37m\u001B[0m \u001B[1m1s\u001B[0m 700us/step - accuracy: 0.6879 - auc_3: 0.6664 - f1_score: 0.4939 - loss: 2208.5942 - val_accuracy: 0.8188 - val_auc_3: 0.6408 - val_f1_score: 0.2231 - val_loss: 843.8352\n",
      "Epoch 47/200\n",
      "\u001B[1m991/991\u001B[0m \u001B[32m━━━━━━━━━━━━━━━━━━━━\u001B[0m\u001B[37m\u001B[0m \u001B[1m1s\u001B[0m 684us/step - accuracy: 0.6891 - auc_3: 0.6703 - f1_score: 0.4939 - loss: 2201.0637 - val_accuracy: 0.8191 - val_auc_3: 0.6407 - val_f1_score: 0.2231 - val_loss: 842.2385\n",
      "Epoch 48/200\n",
      "\u001B[1m991/991\u001B[0m \u001B[32m━━━━━━━━━━━━━━━━━━━━\u001B[0m\u001B[37m\u001B[0m \u001B[1m1s\u001B[0m 699us/step - accuracy: 0.6864 - auc_3: 0.6692 - f1_score: 0.4939 - loss: 2201.6548 - val_accuracy: 0.8191 - val_auc_3: 0.6409 - val_f1_score: 0.2231 - val_loss: 840.4570\n",
      "Epoch 49/200\n",
      "\u001B[1m991/991\u001B[0m \u001B[32m━━━━━━━━━━━━━━━━━━━━\u001B[0m\u001B[37m\u001B[0m \u001B[1m1s\u001B[0m 762us/step - accuracy: 0.6888 - auc_3: 0.6697 - f1_score: 0.4939 - loss: 2198.3218 - val_accuracy: 0.8191 - val_auc_3: 0.6411 - val_f1_score: 0.2231 - val_loss: 838.8671\n",
      "Epoch 50/200\n",
      "\u001B[1m991/991\u001B[0m \u001B[32m━━━━━━━━━━━━━━━━━━━━\u001B[0m\u001B[37m\u001B[0m \u001B[1m1s\u001B[0m 854us/step - accuracy: 0.6866 - auc_3: 0.6659 - f1_score: 0.4939 - loss: 2201.5876 - val_accuracy: 0.8173 - val_auc_3: 0.6410 - val_f1_score: 0.2231 - val_loss: 838.4476\n",
      "Epoch 51/200\n",
      "\u001B[1m991/991\u001B[0m \u001B[32m━━━━━━━━━━━━━━━━━━━━\u001B[0m\u001B[37m\u001B[0m \u001B[1m1s\u001B[0m 1ms/step - accuracy: 0.6877 - auc_3: 0.6697 - f1_score: 0.4939 - loss: 2194.4158 - val_accuracy: 0.8188 - val_auc_3: 0.6413 - val_f1_score: 0.2231 - val_loss: 836.0755\n",
      "Epoch 52/200\n",
      "\u001B[1m991/991\u001B[0m \u001B[32m━━━━━━━━━━━━━━━━━━━━\u001B[0m\u001B[37m\u001B[0m \u001B[1m1s\u001B[0m 704us/step - accuracy: 0.6854 - auc_3: 0.6705 - f1_score: 0.4939 - loss: 2193.8276 - val_accuracy: 0.8188 - val_auc_3: 0.6413 - val_f1_score: 0.2231 - val_loss: 834.4206\n",
      "Epoch 53/200\n",
      "\u001B[1m991/991\u001B[0m \u001B[32m━━━━━━━━━━━━━━━━━━━━\u001B[0m\u001B[37m\u001B[0m \u001B[1m1s\u001B[0m 716us/step - accuracy: 0.6840 - auc_3: 0.6695 - f1_score: 0.4939 - loss: 2193.7175 - val_accuracy: 0.8191 - val_auc_3: 0.6412 - val_f1_score: 0.2231 - val_loss: 833.1984\n",
      "Epoch 54/200\n",
      "\u001B[1m991/991\u001B[0m \u001B[32m━━━━━━━━━━━━━━━━━━━━\u001B[0m\u001B[37m\u001B[0m \u001B[1m1s\u001B[0m 756us/step - accuracy: 0.6850 - auc_3: 0.6694 - f1_score: 0.4939 - loss: 2191.3376 - val_accuracy: 0.8191 - val_auc_3: 0.6416 - val_f1_score: 0.2231 - val_loss: 831.2665\n",
      "Epoch 55/200\n",
      "\u001B[1m991/991\u001B[0m \u001B[32m━━━━━━━━━━━━━━━━━━━━\u001B[0m\u001B[37m\u001B[0m \u001B[1m1s\u001B[0m 903us/step - accuracy: 0.6860 - auc_3: 0.6706 - f1_score: 0.4939 - loss: 2188.7773 - val_accuracy: 0.8195 - val_auc_3: 0.6420 - val_f1_score: 0.2231 - val_loss: 829.9159\n",
      "Epoch 56/200\n",
      "\u001B[1m991/991\u001B[0m \u001B[32m━━━━━━━━━━━━━━━━━━━━\u001B[0m\u001B[37m\u001B[0m \u001B[1m1s\u001B[0m 751us/step - accuracy: 0.6869 - auc_3: 0.6694 - f1_score: 0.4939 - loss: 2188.0515 - val_accuracy: 0.8191 - val_auc_3: 0.6422 - val_f1_score: 0.2231 - val_loss: 828.9991\n",
      "Epoch 57/200\n",
      "\u001B[1m991/991\u001B[0m \u001B[32m━━━━━━━━━━━━━━━━━━━━\u001B[0m\u001B[37m\u001B[0m \u001B[1m1s\u001B[0m 752us/step - accuracy: 0.6904 - auc_3: 0.6723 - f1_score: 0.4939 - loss: 2182.4934 - val_accuracy: 0.8195 - val_auc_3: 0.6423 - val_f1_score: 0.2231 - val_loss: 826.5319\n",
      "Epoch 58/200\n",
      "\u001B[1m991/991\u001B[0m \u001B[32m━━━━━━━━━━━━━━━━━━━━\u001B[0m\u001B[37m\u001B[0m \u001B[1m1s\u001B[0m 735us/step - accuracy: 0.6863 - auc_3: 0.6687 - f1_score: 0.4939 - loss: 2186.1597 - val_accuracy: 0.8195 - val_auc_3: 0.6423 - val_f1_score: 0.2231 - val_loss: 826.0394\n",
      "Epoch 59/200\n",
      "\u001B[1m991/991\u001B[0m \u001B[32m━━━━━━━━━━━━━━━━━━━━\u001B[0m\u001B[37m\u001B[0m \u001B[1m1s\u001B[0m 737us/step - accuracy: 0.6860 - auc_3: 0.6717 - f1_score: 0.4939 - loss: 2181.3845 - val_accuracy: 0.8199 - val_auc_3: 0.6427 - val_f1_score: 0.2231 - val_loss: 824.4956\n",
      "Epoch 60/200\n",
      "\u001B[1m991/991\u001B[0m \u001B[32m━━━━━━━━━━━━━━━━━━━━\u001B[0m\u001B[37m\u001B[0m \u001B[1m1s\u001B[0m 804us/step - accuracy: 0.6868 - auc_3: 0.6730 - f1_score: 0.4939 - loss: 2177.5901 - val_accuracy: 0.8203 - val_auc_3: 0.6426 - val_f1_score: 0.2231 - val_loss: 823.1273\n",
      "Epoch 61/200\n",
      "\u001B[1m991/991\u001B[0m \u001B[32m━━━━━━━━━━━━━━━━━━━━\u001B[0m\u001B[37m\u001B[0m \u001B[1m1s\u001B[0m 880us/step - accuracy: 0.6855 - auc_3: 0.6712 - f1_score: 0.4939 - loss: 2180.2041 - val_accuracy: 0.8199 - val_auc_3: 0.6431 - val_f1_score: 0.2231 - val_loss: 821.6808\n",
      "Epoch 62/200\n",
      "\u001B[1m991/991\u001B[0m \u001B[32m━━━━━━━━━━━━━━━━━━━━\u001B[0m\u001B[37m\u001B[0m \u001B[1m1s\u001B[0m 723us/step - accuracy: 0.6874 - auc_3: 0.6727 - f1_score: 0.4939 - loss: 2176.2090 - val_accuracy: 0.8199 - val_auc_3: 0.6430 - val_f1_score: 0.2231 - val_loss: 820.3537\n",
      "Epoch 63/200\n",
      "\u001B[1m991/991\u001B[0m \u001B[32m━━━━━━━━━━━━━━━━━━━━\u001B[0m\u001B[37m\u001B[0m \u001B[1m1s\u001B[0m 714us/step - accuracy: 0.6879 - auc_3: 0.6712 - f1_score: 0.4939 - loss: 2176.4783 - val_accuracy: 0.8188 - val_auc_3: 0.6435 - val_f1_score: 0.2231 - val_loss: 819.0206\n",
      "Epoch 64/200\n",
      "\u001B[1m991/991\u001B[0m \u001B[32m━━━━━━━━━━━━━━━━━━━━\u001B[0m\u001B[37m\u001B[0m \u001B[1m1s\u001B[0m 707us/step - accuracy: 0.6877 - auc_3: 0.6731 - f1_score: 0.4939 - loss: 2171.1484 - val_accuracy: 0.8199 - val_auc_3: 0.6437 - val_f1_score: 0.2231 - val_loss: 817.9370\n",
      "Epoch 65/200\n",
      "\u001B[1m991/991\u001B[0m \u001B[32m━━━━━━━━━━━━━━━━━━━━\u001B[0m\u001B[37m\u001B[0m \u001B[1m1s\u001B[0m 705us/step - accuracy: 0.6879 - auc_3: 0.6728 - f1_score: 0.4939 - loss: 2171.6831 - val_accuracy: 0.8199 - val_auc_3: 0.6437 - val_f1_score: 0.2231 - val_loss: 816.2812\n",
      "Epoch 66/200\n",
      "\u001B[1m991/991\u001B[0m \u001B[32m━━━━━━━━━━━━━━━━━━━━\u001B[0m\u001B[37m\u001B[0m \u001B[1m1s\u001B[0m 789us/step - accuracy: 0.6883 - auc_3: 0.6729 - f1_score: 0.4939 - loss: 2168.7676 - val_accuracy: 0.8199 - val_auc_3: 0.6437 - val_f1_score: 0.2231 - val_loss: 815.3873\n",
      "Epoch 67/200\n",
      "\u001B[1m991/991\u001B[0m \u001B[32m━━━━━━━━━━━━━━━━━━━━\u001B[0m\u001B[37m\u001B[0m \u001B[1m1s\u001B[0m 870us/step - accuracy: 0.6878 - auc_3: 0.6727 - f1_score: 0.4939 - loss: 2168.9343 - val_accuracy: 0.8188 - val_auc_3: 0.6435 - val_f1_score: 0.2231 - val_loss: 813.8256\n",
      "Epoch 68/200\n",
      "\u001B[1m991/991\u001B[0m \u001B[32m━━━━━━━━━━━━━━━━━━━━\u001B[0m\u001B[37m\u001B[0m \u001B[1m1s\u001B[0m 707us/step - accuracy: 0.6895 - auc_3: 0.6721 - f1_score: 0.4939 - loss: 2168.2893 - val_accuracy: 0.8188 - val_auc_3: 0.6439 - val_f1_score: 0.2231 - val_loss: 812.8397\n",
      "Epoch 69/200\n",
      "\u001B[1m991/991\u001B[0m \u001B[32m━━━━━━━━━━━━━━━━━━━━\u001B[0m\u001B[37m\u001B[0m \u001B[1m1s\u001B[0m 746us/step - accuracy: 0.6856 - auc_3: 0.6717 - f1_score: 0.4939 - loss: 2168.6147 - val_accuracy: 0.8195 - val_auc_3: 0.6440 - val_f1_score: 0.2231 - val_loss: 810.9688\n",
      "Epoch 70/200\n",
      "\u001B[1m991/991\u001B[0m \u001B[32m━━━━━━━━━━━━━━━━━━━━\u001B[0m\u001B[37m\u001B[0m \u001B[1m1s\u001B[0m 705us/step - accuracy: 0.6884 - auc_3: 0.6730 - f1_score: 0.4939 - loss: 2163.8818 - val_accuracy: 0.8188 - val_auc_3: 0.6440 - val_f1_score: 0.2231 - val_loss: 809.8965\n",
      "Epoch 71/200\n",
      "\u001B[1m991/991\u001B[0m \u001B[32m━━━━━━━━━━━━━━━━━━━━\u001B[0m\u001B[37m\u001B[0m \u001B[1m1s\u001B[0m 728us/step - accuracy: 0.6893 - auc_3: 0.6742 - f1_score: 0.4939 - loss: 2161.5898 - val_accuracy: 0.8184 - val_auc_3: 0.6439 - val_f1_score: 0.2231 - val_loss: 808.8779\n",
      "Epoch 72/200\n",
      "\u001B[1m991/991\u001B[0m \u001B[32m━━━━━━━━━━━━━━━━━━━━\u001B[0m\u001B[37m\u001B[0m \u001B[1m1s\u001B[0m 700us/step - accuracy: 0.6881 - auc_3: 0.6728 - f1_score: 0.4939 - loss: 2162.8982 - val_accuracy: 0.8184 - val_auc_3: 0.6442 - val_f1_score: 0.2231 - val_loss: 807.4987\n",
      "Epoch 73/200\n",
      "\u001B[1m991/991\u001B[0m \u001B[32m━━━━━━━━━━━━━━━━━━━━\u001B[0m\u001B[37m\u001B[0m \u001B[1m1s\u001B[0m 692us/step - accuracy: 0.6881 - auc_3: 0.6739 - f1_score: 0.4939 - loss: 2159.4360 - val_accuracy: 0.8173 - val_auc_3: 0.6443 - val_f1_score: 0.2231 - val_loss: 806.6118\n",
      "Epoch 74/200\n",
      "\u001B[1m991/991\u001B[0m \u001B[32m━━━━━━━━━━━━━━━━━━━━\u001B[0m\u001B[37m\u001B[0m \u001B[1m1s\u001B[0m 892us/step - accuracy: 0.6858 - auc_3: 0.6733 - f1_score: 0.4939 - loss: 2160.1626 - val_accuracy: 0.8180 - val_auc_3: 0.6448 - val_f1_score: 0.2231 - val_loss: 805.1989\n",
      "Epoch 75/200\n",
      "\u001B[1m991/991\u001B[0m \u001B[32m━━━━━━━━━━━━━━━━━━━━\u001B[0m\u001B[37m\u001B[0m \u001B[1m1s\u001B[0m 779us/step - accuracy: 0.6900 - auc_3: 0.6757 - f1_score: 0.4939 - loss: 2155.8025 - val_accuracy: 0.8173 - val_auc_3: 0.6443 - val_f1_score: 0.2231 - val_loss: 804.9405\n",
      "Epoch 76/200\n",
      "\u001B[1m991/991\u001B[0m \u001B[32m━━━━━━━━━━━━━━━━━━━━\u001B[0m\u001B[37m\u001B[0m \u001B[1m1s\u001B[0m 765us/step - accuracy: 0.6907 - auc_3: 0.6755 - f1_score: 0.4939 - loss: 2153.8794 - val_accuracy: 0.8180 - val_auc_3: 0.6449 - val_f1_score: 0.2231 - val_loss: 802.6245\n",
      "Epoch 77/200\n",
      "\u001B[1m991/991\u001B[0m \u001B[32m━━━━━━━━━━━━━━━━━━━━\u001B[0m\u001B[37m\u001B[0m \u001B[1m1s\u001B[0m 691us/step - accuracy: 0.6899 - auc_3: 0.6732 - f1_score: 0.4939 - loss: 2156.6453 - val_accuracy: 0.8184 - val_auc_3: 0.6448 - val_f1_score: 0.2231 - val_loss: 801.8363\n",
      "Epoch 78/200\n",
      "\u001B[1m991/991\u001B[0m \u001B[32m━━━━━━━━━━━━━━━━━━━━\u001B[0m\u001B[37m\u001B[0m \u001B[1m1s\u001B[0m 704us/step - accuracy: 0.6868 - auc_3: 0.6749 - f1_score: 0.4939 - loss: 2152.2415 - val_accuracy: 0.8188 - val_auc_3: 0.6449 - val_f1_score: 0.2231 - val_loss: 800.5794\n",
      "Epoch 79/200\n",
      "\u001B[1m991/991\u001B[0m \u001B[32m━━━━━━━━━━━━━━━━━━━━\u001B[0m\u001B[37m\u001B[0m \u001B[1m1s\u001B[0m 669us/step - accuracy: 0.6878 - auc_3: 0.6745 - f1_score: 0.4939 - loss: 2151.4912 - val_accuracy: 0.8169 - val_auc_3: 0.6446 - val_f1_score: 0.2231 - val_loss: 800.7315\n",
      "Epoch 80/200\n",
      "\u001B[1m991/991\u001B[0m \u001B[32m━━━━━━━━━━━━━━━━━━━━\u001B[0m\u001B[37m\u001B[0m \u001B[1m1s\u001B[0m 690us/step - accuracy: 0.6882 - auc_3: 0.6747 - f1_score: 0.4939 - loss: 2151.2698 - val_accuracy: 0.8165 - val_auc_3: 0.6449 - val_f1_score: 0.2231 - val_loss: 799.6884\n",
      "Epoch 81/200\n",
      "\u001B[1m991/991\u001B[0m \u001B[32m━━━━━━━━━━━━━━━━━━━━\u001B[0m\u001B[37m\u001B[0m \u001B[1m1s\u001B[0m 757us/step - accuracy: 0.6889 - auc_3: 0.6738 - f1_score: 0.4939 - loss: 2151.8792 - val_accuracy: 0.8184 - val_auc_3: 0.6451 - val_f1_score: 0.2231 - val_loss: 798.3287\n",
      "Epoch 82/200\n",
      "\u001B[1m991/991\u001B[0m \u001B[32m━━━━━━━━━━━━━━━━━━━━\u001B[0m\u001B[37m\u001B[0m \u001B[1m1s\u001B[0m 819us/step - accuracy: 0.6886 - auc_3: 0.6749 - f1_score: 0.4939 - loss: 2147.1523 - val_accuracy: 0.8180 - val_auc_3: 0.6451 - val_f1_score: 0.2231 - val_loss: 796.8068\n",
      "Epoch 83/200\n",
      "\u001B[1m991/991\u001B[0m \u001B[32m━━━━━━━━━━━━━━━━━━━━\u001B[0m\u001B[37m\u001B[0m \u001B[1m1s\u001B[0m 698us/step - accuracy: 0.6894 - auc_3: 0.6755 - f1_score: 0.4939 - loss: 2146.8257 - val_accuracy: 0.8176 - val_auc_3: 0.6456 - val_f1_score: 0.2231 - val_loss: 796.1012\n",
      "Epoch 84/200\n",
      "\u001B[1m991/991\u001B[0m \u001B[32m━━━━━━━━━━━━━━━━━━━━\u001B[0m\u001B[37m\u001B[0m \u001B[1m1s\u001B[0m 699us/step - accuracy: 0.6902 - auc_3: 0.6744 - f1_score: 0.4939 - loss: 2147.1133 - val_accuracy: 0.8195 - val_auc_3: 0.6455 - val_f1_score: 0.2231 - val_loss: 794.1171\n",
      "Epoch 85/200\n",
      "\u001B[1m991/991\u001B[0m \u001B[32m━━━━━━━━━━━━━━━━━━━━\u001B[0m\u001B[37m\u001B[0m \u001B[1m1s\u001B[0m 687us/step - accuracy: 0.6896 - auc_3: 0.6736 - f1_score: 0.4939 - loss: 2148.3394 - val_accuracy: 0.8176 - val_auc_3: 0.6457 - val_f1_score: 0.2231 - val_loss: 793.9586\n",
      "Epoch 86/200\n",
      "\u001B[1m991/991\u001B[0m \u001B[32m━━━━━━━━━━━━━━━━━━━━\u001B[0m\u001B[37m\u001B[0m \u001B[1m1s\u001B[0m 694us/step - accuracy: 0.6869 - auc_3: 0.6765 - f1_score: 0.4939 - loss: 2142.5173 - val_accuracy: 0.8184 - val_auc_3: 0.6459 - val_f1_score: 0.2231 - val_loss: 792.6176\n",
      "Epoch 87/200\n",
      "\u001B[1m991/991\u001B[0m \u001B[32m━━━━━━━━━━━━━━━━━━━━\u001B[0m\u001B[37m\u001B[0m \u001B[1m1s\u001B[0m 703us/step - accuracy: 0.6918 - auc_3: 0.6742 - f1_score: 0.4939 - loss: 2144.1904 - val_accuracy: 0.8180 - val_auc_3: 0.6462 - val_f1_score: 0.2231 - val_loss: 791.9048\n",
      "Epoch 88/200\n",
      "\u001B[1m991/991\u001B[0m \u001B[32m━━━━━━━━━━━━━━━━━━━━\u001B[0m\u001B[37m\u001B[0m \u001B[1m1s\u001B[0m 668us/step - accuracy: 0.6871 - auc_3: 0.6766 - f1_score: 0.4939 - loss: 2141.8384 - val_accuracy: 0.8191 - val_auc_3: 0.6467 - val_f1_score: 0.2231 - val_loss: 790.2050\n",
      "Epoch 89/200\n",
      "\u001B[1m991/991\u001B[0m \u001B[32m━━━━━━━━━━━━━━━━━━━━\u001B[0m\u001B[37m\u001B[0m \u001B[1m1s\u001B[0m 740us/step - accuracy: 0.6882 - auc_3: 0.6751 - f1_score: 0.4939 - loss: 2142.2463 - val_accuracy: 0.8173 - val_auc_3: 0.6466 - val_f1_score: 0.2231 - val_loss: 789.8747\n",
      "Epoch 90/200\n",
      "\u001B[1m991/991\u001B[0m \u001B[32m━━━━━━━━━━━━━━━━━━━━\u001B[0m\u001B[37m\u001B[0m \u001B[1m1s\u001B[0m 844us/step - accuracy: 0.6883 - auc_3: 0.6761 - f1_score: 0.4939 - loss: 2139.4565 - val_accuracy: 0.8184 - val_auc_3: 0.6468 - val_f1_score: 0.2231 - val_loss: 788.6678\n",
      "Epoch 91/200\n",
      "\u001B[1m991/991\u001B[0m \u001B[32m━━━━━━━━━━━━━━━━━━━━\u001B[0m\u001B[37m\u001B[0m \u001B[1m1s\u001B[0m 704us/step - accuracy: 0.6889 - auc_3: 0.6773 - f1_score: 0.4939 - loss: 2138.2244 - val_accuracy: 0.8176 - val_auc_3: 0.6470 - val_f1_score: 0.2231 - val_loss: 787.7002\n",
      "Epoch 92/200\n",
      "\u001B[1m991/991\u001B[0m \u001B[32m━━━━━━━━━━━━━━━━━━━━\u001B[0m\u001B[37m\u001B[0m \u001B[1m1s\u001B[0m 697us/step - accuracy: 0.6875 - auc_3: 0.6744 - f1_score: 0.4939 - loss: 2140.9678 - val_accuracy: 0.8180 - val_auc_3: 0.6467 - val_f1_score: 0.2231 - val_loss: 786.7294\n",
      "Epoch 93/200\n",
      "\u001B[1m991/991\u001B[0m \u001B[32m━━━━━━━━━━━━━━━━━━━━\u001B[0m\u001B[37m\u001B[0m \u001B[1m1s\u001B[0m 694us/step - accuracy: 0.6902 - auc_3: 0.6754 - f1_score: 0.4939 - loss: 2136.2581 - val_accuracy: 0.8180 - val_auc_3: 0.6470 - val_f1_score: 0.2231 - val_loss: 786.0438\n",
      "Epoch 94/200\n",
      "\u001B[1m991/991\u001B[0m \u001B[32m━━━━━━━━━━━━━━━━━━━━\u001B[0m\u001B[37m\u001B[0m \u001B[1m1s\u001B[0m 660us/step - accuracy: 0.6893 - auc_3: 0.6777 - f1_score: 0.4939 - loss: 2133.3257 - val_accuracy: 0.8176 - val_auc_3: 0.6470 - val_f1_score: 0.2231 - val_loss: 785.7266\n",
      "Epoch 95/200\n",
      "\u001B[1m991/991\u001B[0m \u001B[32m━━━━━━━━━━━━━━━━━━━━\u001B[0m\u001B[37m\u001B[0m \u001B[1m1s\u001B[0m 685us/step - accuracy: 0.6905 - auc_3: 0.6777 - f1_score: 0.4939 - loss: 2131.4763 - val_accuracy: 0.8191 - val_auc_3: 0.6473 - val_f1_score: 0.2231 - val_loss: 783.3875\n",
      "Epoch 96/200\n",
      "\u001B[1m991/991\u001B[0m \u001B[32m━━━━━━━━━━━━━━━━━━━━\u001B[0m\u001B[37m\u001B[0m \u001B[1m1s\u001B[0m 661us/step - accuracy: 0.6877 - auc_3: 0.6765 - f1_score: 0.4939 - loss: 2134.4099 - val_accuracy: 0.8173 - val_auc_3: 0.6475 - val_f1_score: 0.2231 - val_loss: 783.5164\n",
      "Epoch 97/200\n",
      "\u001B[1m991/991\u001B[0m \u001B[32m━━━━━━━━━━━━━━━━━━━━\u001B[0m\u001B[37m\u001B[0m \u001B[1m1s\u001B[0m 811us/step - accuracy: 0.6885 - auc_3: 0.6764 - f1_score: 0.4939 - loss: 2134.8218 - val_accuracy: 0.8184 - val_auc_3: 0.6475 - val_f1_score: 0.2231 - val_loss: 782.1556\n",
      "Epoch 98/200\n",
      "\u001B[1m991/991\u001B[0m \u001B[32m━━━━━━━━━━━━━━━━━━━━\u001B[0m\u001B[37m\u001B[0m \u001B[1m1s\u001B[0m 776us/step - accuracy: 0.6899 - auc_3: 0.6795 - f1_score: 0.4939 - loss: 2127.9729 - val_accuracy: 0.8180 - val_auc_3: 0.6474 - val_f1_score: 0.2231 - val_loss: 781.0989\n",
      "Epoch 99/200\n",
      "\u001B[1m991/991\u001B[0m \u001B[32m━━━━━━━━━━━━━━━━━━━━\u001B[0m\u001B[37m\u001B[0m \u001B[1m1s\u001B[0m 691us/step - accuracy: 0.6906 - auc_3: 0.6768 - f1_score: 0.4939 - loss: 2129.0554 - val_accuracy: 0.8180 - val_auc_3: 0.6476 - val_f1_score: 0.2231 - val_loss: 780.4418\n",
      "Epoch 100/200\n",
      "\u001B[1m991/991\u001B[0m \u001B[32m━━━━━━━━━━━━━━━━━━━━\u001B[0m\u001B[37m\u001B[0m \u001B[1m1s\u001B[0m 667us/step - accuracy: 0.6914 - auc_3: 0.6789 - f1_score: 0.4939 - loss: 2126.3318 - val_accuracy: 0.8180 - val_auc_3: 0.6482 - val_f1_score: 0.2231 - val_loss: 779.7672\n",
      "Epoch 101/200\n",
      "\u001B[1m991/991\u001B[0m \u001B[32m━━━━━━━━━━━━━━━━━━━━\u001B[0m\u001B[37m\u001B[0m \u001B[1m1s\u001B[0m 678us/step - accuracy: 0.6888 - auc_3: 0.6796 - f1_score: 0.4939 - loss: 2126.1538 - val_accuracy: 0.8176 - val_auc_3: 0.6480 - val_f1_score: 0.2231 - val_loss: 778.7658\n",
      "Epoch 102/200\n",
      "\u001B[1m991/991\u001B[0m \u001B[32m━━━━━━━━━━━━━━━━━━━━\u001B[0m\u001B[37m\u001B[0m \u001B[1m1s\u001B[0m 679us/step - accuracy: 0.6900 - auc_3: 0.6775 - f1_score: 0.4939 - loss: 2127.9062 - val_accuracy: 0.8176 - val_auc_3: 0.6480 - val_f1_score: 0.2231 - val_loss: 779.1167\n",
      "Epoch 103/200\n",
      "\u001B[1m991/991\u001B[0m \u001B[32m━━━━━━━━━━━━━━━━━━━━\u001B[0m\u001B[37m\u001B[0m \u001B[1m1s\u001B[0m 689us/step - accuracy: 0.6895 - auc_3: 0.6770 - f1_score: 0.4939 - loss: 2126.9111 - val_accuracy: 0.8188 - val_auc_3: 0.6480 - val_f1_score: 0.2231 - val_loss: 777.7007\n",
      "Epoch 104/200\n",
      "\u001B[1m991/991\u001B[0m \u001B[32m━━━━━━━━━━━━━━━━━━━━\u001B[0m\u001B[37m\u001B[0m \u001B[1m1s\u001B[0m 729us/step - accuracy: 0.6909 - auc_3: 0.6780 - f1_score: 0.4939 - loss: 2125.0618 - val_accuracy: 0.8176 - val_auc_3: 0.6485 - val_f1_score: 0.2231 - val_loss: 776.8036\n",
      "Epoch 105/200\n",
      "\u001B[1m991/991\u001B[0m \u001B[32m━━━━━━━━━━━━━━━━━━━━\u001B[0m\u001B[37m\u001B[0m \u001B[1m1s\u001B[0m 817us/step - accuracy: 0.6897 - auc_3: 0.6769 - f1_score: 0.4939 - loss: 2126.0693 - val_accuracy: 0.8176 - val_auc_3: 0.6484 - val_f1_score: 0.2231 - val_loss: 775.7505\n",
      "Epoch 106/200\n",
      "\u001B[1m991/991\u001B[0m \u001B[32m━━━━━━━━━━━━━━━━━━━━\u001B[0m\u001B[37m\u001B[0m \u001B[1m1s\u001B[0m 686us/step - accuracy: 0.6877 - auc_3: 0.6768 - f1_score: 0.4939 - loss: 2125.5273 - val_accuracy: 0.8176 - val_auc_3: 0.6488 - val_f1_score: 0.2231 - val_loss: 774.4695\n",
      "Epoch 107/200\n",
      "\u001B[1m991/991\u001B[0m \u001B[32m━━━━━━━━━━━━━━━━━━━━\u001B[0m\u001B[37m\u001B[0m \u001B[1m1s\u001B[0m 670us/step - accuracy: 0.6908 - auc_3: 0.6795 - f1_score: 0.4939 - loss: 2120.2368 - val_accuracy: 0.8169 - val_auc_3: 0.6484 - val_f1_score: 0.2231 - val_loss: 774.0714\n",
      "Epoch 108/200\n",
      "\u001B[1m991/991\u001B[0m \u001B[32m━━━━━━━━━━━━━━━━━━━━\u001B[0m\u001B[37m\u001B[0m \u001B[1m1s\u001B[0m 726us/step - accuracy: 0.6904 - auc_3: 0.6795 - f1_score: 0.4939 - loss: 2119.4558 - val_accuracy: 0.8165 - val_auc_3: 0.6488 - val_f1_score: 0.2231 - val_loss: 774.7234\n",
      "Epoch 109/200\n",
      "\u001B[1m991/991\u001B[0m \u001B[32m━━━━━━━━━━━━━━━━━━━━\u001B[0m\u001B[37m\u001B[0m \u001B[1m1s\u001B[0m 660us/step - accuracy: 0.6902 - auc_3: 0.6783 - f1_score: 0.4939 - loss: 2121.4978 - val_accuracy: 0.8173 - val_auc_3: 0.6490 - val_f1_score: 0.2231 - val_loss: 773.2806\n",
      "Epoch 110/200\n",
      "\u001B[1m991/991\u001B[0m \u001B[32m━━━━━━━━━━━━━━━━━━━━\u001B[0m\u001B[37m\u001B[0m \u001B[1m1s\u001B[0m 698us/step - accuracy: 0.6899 - auc_3: 0.6791 - f1_score: 0.4939 - loss: 2120.2607 - val_accuracy: 0.8173 - val_auc_3: 0.6489 - val_f1_score: 0.2231 - val_loss: 772.2445\n",
      "Epoch 111/200\n",
      "\u001B[1m991/991\u001B[0m \u001B[32m━━━━━━━━━━━━━━━━━━━━\u001B[0m\u001B[37m\u001B[0m \u001B[1m1s\u001B[0m 729us/step - accuracy: 0.6904 - auc_3: 0.6800 - f1_score: 0.4939 - loss: 2115.9368 - val_accuracy: 0.8173 - val_auc_3: 0.6495 - val_f1_score: 0.2231 - val_loss: 770.7770\n",
      "Epoch 112/200\n",
      "\u001B[1m991/991\u001B[0m \u001B[32m━━━━━━━━━━━━━━━━━━━━\u001B[0m\u001B[37m\u001B[0m \u001B[1m1s\u001B[0m 806us/step - accuracy: 0.6880 - auc_3: 0.6771 - f1_score: 0.4939 - loss: 2119.9812 - val_accuracy: 0.8173 - val_auc_3: 0.6491 - val_f1_score: 0.2231 - val_loss: 771.9280\n",
      "Epoch 113/200\n",
      "\u001B[1m991/991\u001B[0m \u001B[32m━━━━━━━━━━━━━━━━━━━━\u001B[0m\u001B[37m\u001B[0m \u001B[1m1s\u001B[0m 781us/step - accuracy: 0.6908 - auc_3: 0.6797 - f1_score: 0.4939 - loss: 2115.7400 - val_accuracy: 0.8180 - val_auc_3: 0.6492 - val_f1_score: 0.2231 - val_loss: 770.7756\n",
      "Epoch 114/200\n",
      "\u001B[1m991/991\u001B[0m \u001B[32m━━━━━━━━━━━━━━━━━━━━\u001B[0m\u001B[37m\u001B[0m \u001B[1m1s\u001B[0m 696us/step - accuracy: 0.6923 - auc_3: 0.6807 - f1_score: 0.4939 - loss: 2112.9194 - val_accuracy: 0.8180 - val_auc_3: 0.6494 - val_f1_score: 0.2231 - val_loss: 769.0343\n",
      "Epoch 115/200\n",
      "\u001B[1m991/991\u001B[0m \u001B[32m━━━━━━━━━━━━━━━━━━━━\u001B[0m\u001B[37m\u001B[0m \u001B[1m1s\u001B[0m 708us/step - accuracy: 0.6929 - auc_3: 0.6815 - f1_score: 0.4939 - loss: 2111.7788 - val_accuracy: 0.8169 - val_auc_3: 0.6491 - val_f1_score: 0.2231 - val_loss: 769.1921\n",
      "Epoch 116/200\n",
      "\u001B[1m991/991\u001B[0m \u001B[32m━━━━━━━━━━━━━━━━━━━━\u001B[0m\u001B[37m\u001B[0m \u001B[1m1s\u001B[0m 725us/step - accuracy: 0.6911 - auc_3: 0.6781 - f1_score: 0.4939 - loss: 2115.7727 - val_accuracy: 0.8165 - val_auc_3: 0.6496 - val_f1_score: 0.2231 - val_loss: 768.2681\n",
      "Epoch 117/200\n",
      "\u001B[1m991/991\u001B[0m \u001B[32m━━━━━━━━━━━━━━━━━━━━\u001B[0m\u001B[37m\u001B[0m \u001B[1m1s\u001B[0m 723us/step - accuracy: 0.6917 - auc_3: 0.6816 - f1_score: 0.4939 - loss: 2109.3398 - val_accuracy: 0.8165 - val_auc_3: 0.6500 - val_f1_score: 0.2231 - val_loss: 767.2527\n",
      "Epoch 118/200\n",
      "\u001B[1m991/991\u001B[0m \u001B[32m━━━━━━━━━━━━━━━━━━━━\u001B[0m\u001B[37m\u001B[0m \u001B[1m1s\u001B[0m 887us/step - accuracy: 0.6900 - auc_3: 0.6818 - f1_score: 0.4939 - loss: 2109.2964 - val_accuracy: 0.8169 - val_auc_3: 0.6498 - val_f1_score: 0.2231 - val_loss: 767.0977\n",
      "Epoch 119/200\n",
      "\u001B[1m991/991\u001B[0m \u001B[32m━━━━━━━━━━━━━━━━━━━━\u001B[0m\u001B[37m\u001B[0m \u001B[1m1s\u001B[0m 776us/step - accuracy: 0.6896 - auc_3: 0.6813 - f1_score: 0.4939 - loss: 2109.3130 - val_accuracy: 0.8169 - val_auc_3: 0.6501 - val_f1_score: 0.2231 - val_loss: 766.4718\n",
      "Epoch 120/200\n",
      "\u001B[1m991/991\u001B[0m \u001B[32m━━━━━━━━━━━━━━━━━━━━\u001B[0m\u001B[37m\u001B[0m \u001B[1m1s\u001B[0m 862us/step - accuracy: 0.6898 - auc_3: 0.6801 - f1_score: 0.4939 - loss: 2110.2271 - val_accuracy: 0.8173 - val_auc_3: 0.6500 - val_f1_score: 0.2231 - val_loss: 764.8976\n",
      "Epoch 121/200\n",
      "\u001B[1m991/991\u001B[0m \u001B[32m━━━━━━━━━━━━━━━━━━━━\u001B[0m\u001B[37m\u001B[0m \u001B[1m1s\u001B[0m 745us/step - accuracy: 0.6912 - auc_3: 0.6805 - f1_score: 0.4939 - loss: 2108.9014 - val_accuracy: 0.8161 - val_auc_3: 0.6503 - val_f1_score: 0.2231 - val_loss: 764.5753\n",
      "Epoch 122/200\n",
      "\u001B[1m991/991\u001B[0m \u001B[32m━━━━━━━━━━━━━━━━━━━━\u001B[0m\u001B[37m\u001B[0m \u001B[1m1s\u001B[0m 747us/step - accuracy: 0.6927 - auc_3: 0.6804 - f1_score: 0.4939 - loss: 2109.4609 - val_accuracy: 0.8165 - val_auc_3: 0.6503 - val_f1_score: 0.2231 - val_loss: 763.7055\n",
      "Epoch 123/200\n",
      "\u001B[1m991/991\u001B[0m \u001B[32m━━━━━━━━━━━━━━━━━━━━\u001B[0m\u001B[37m\u001B[0m \u001B[1m1s\u001B[0m 771us/step - accuracy: 0.6935 - auc_3: 0.6838 - f1_score: 0.4939 - loss: 2103.4893 - val_accuracy: 0.8154 - val_auc_3: 0.6501 - val_f1_score: 0.2231 - val_loss: 763.7889\n",
      "Epoch 124/200\n",
      "\u001B[1m991/991\u001B[0m \u001B[32m━━━━━━━━━━━━━━━━━━━━\u001B[0m\u001B[37m\u001B[0m \u001B[1m1s\u001B[0m 856us/step - accuracy: 0.6898 - auc_3: 0.6803 - f1_score: 0.4939 - loss: 2107.7117 - val_accuracy: 0.8158 - val_auc_3: 0.6502 - val_f1_score: 0.2231 - val_loss: 762.4655\n",
      "Epoch 125/200\n",
      "\u001B[1m991/991\u001B[0m \u001B[32m━━━━━━━━━━━━━━━━━━━━\u001B[0m\u001B[37m\u001B[0m \u001B[1m1s\u001B[0m 740us/step - accuracy: 0.6917 - auc_3: 0.6829 - f1_score: 0.4939 - loss: 2103.0767 - val_accuracy: 0.8173 - val_auc_3: 0.6506 - val_f1_score: 0.2231 - val_loss: 761.8130\n",
      "Epoch 126/200\n",
      "\u001B[1m991/991\u001B[0m \u001B[32m━━━━━━━━━━━━━━━━━━━━\u001B[0m\u001B[37m\u001B[0m \u001B[1m1s\u001B[0m 707us/step - accuracy: 0.6906 - auc_3: 0.6800 - f1_score: 0.4939 - loss: 2106.2437 - val_accuracy: 0.8146 - val_auc_3: 0.6504 - val_f1_score: 0.2231 - val_loss: 762.3754\n",
      "Epoch 127/200\n",
      "\u001B[1m991/991\u001B[0m \u001B[32m━━━━━━━━━━━━━━━━━━━━\u001B[0m\u001B[37m\u001B[0m \u001B[1m1s\u001B[0m 703us/step - accuracy: 0.6900 - auc_3: 0.6799 - f1_score: 0.4939 - loss: 2106.6228 - val_accuracy: 0.8154 - val_auc_3: 0.6504 - val_f1_score: 0.2231 - val_loss: 760.6650\n",
      "Epoch 128/200\n",
      "\u001B[1m991/991\u001B[0m \u001B[32m━━━━━━━━━━━━━━━━━━━━\u001B[0m\u001B[37m\u001B[0m \u001B[1m1s\u001B[0m 739us/step - accuracy: 0.6912 - auc_3: 0.6811 - f1_score: 0.4939 - loss: 2103.7290 - val_accuracy: 0.8165 - val_auc_3: 0.6507 - val_f1_score: 0.2231 - val_loss: 759.7440\n",
      "Epoch 129/200\n",
      "\u001B[1m991/991\u001B[0m \u001B[32m━━━━━━━━━━━━━━━━━━━━\u001B[0m\u001B[37m\u001B[0m \u001B[1m1s\u001B[0m 697us/step - accuracy: 0.6923 - auc_3: 0.6815 - f1_score: 0.4939 - loss: 2102.1819 - val_accuracy: 0.8150 - val_auc_3: 0.6506 - val_f1_score: 0.2231 - val_loss: 760.3443\n",
      "Epoch 130/200\n",
      "\u001B[1m991/991\u001B[0m \u001B[32m━━━━━━━━━━━━━━━━━━━━\u001B[0m\u001B[37m\u001B[0m \u001B[1m1s\u001B[0m 787us/step - accuracy: 0.6888 - auc_3: 0.6794 - f1_score: 0.4939 - loss: 2103.1589 - val_accuracy: 0.8161 - val_auc_3: 0.6510 - val_f1_score: 0.2231 - val_loss: 758.7997\n",
      "Epoch 131/200\n",
      "\u001B[1m991/991\u001B[0m \u001B[32m━━━━━━━━━━━━━━━━━━━━\u001B[0m\u001B[37m\u001B[0m \u001B[1m1s\u001B[0m 901us/step - accuracy: 0.6902 - auc_3: 0.6807 - f1_score: 0.4939 - loss: 2103.2627 - val_accuracy: 0.8150 - val_auc_3: 0.6510 - val_f1_score: 0.2231 - val_loss: 759.2770\n",
      "Epoch 132/200\n",
      "\u001B[1m991/991\u001B[0m \u001B[32m━━━━━━━━━━━━━━━━━━━━\u001B[0m\u001B[37m\u001B[0m \u001B[1m1s\u001B[0m 713us/step - accuracy: 0.6928 - auc_3: 0.6810 - f1_score: 0.4939 - loss: 2100.8376 - val_accuracy: 0.8158 - val_auc_3: 0.6507 - val_f1_score: 0.2231 - val_loss: 758.3180\n",
      "Epoch 133/200\n",
      "\u001B[1m991/991\u001B[0m \u001B[32m━━━━━━━━━━━━━━━━━━━━\u001B[0m\u001B[37m\u001B[0m \u001B[1m1s\u001B[0m 679us/step - accuracy: 0.6900 - auc_3: 0.6817 - f1_score: 0.4939 - loss: 2101.0461 - val_accuracy: 0.8161 - val_auc_3: 0.6509 - val_f1_score: 0.2231 - val_loss: 757.5227\n",
      "Epoch 134/200\n",
      "\u001B[1m991/991\u001B[0m \u001B[32m━━━━━━━━━━━━━━━━━━━━\u001B[0m\u001B[37m\u001B[0m \u001B[1m1s\u001B[0m 684us/step - accuracy: 0.6913 - auc_3: 0.6789 - f1_score: 0.4939 - loss: 2104.2805 - val_accuracy: 0.8161 - val_auc_3: 0.6508 - val_f1_score: 0.2231 - val_loss: 757.1846\n",
      "Epoch 135/200\n",
      "\u001B[1m991/991\u001B[0m \u001B[32m━━━━━━━━━━━━━━━━━━━━\u001B[0m\u001B[37m\u001B[0m \u001B[1m1s\u001B[0m 687us/step - accuracy: 0.6907 - auc_3: 0.6836 - f1_score: 0.4939 - loss: 2096.0752 - val_accuracy: 0.8150 - val_auc_3: 0.6511 - val_f1_score: 0.2231 - val_loss: 756.3127\n",
      "Epoch 136/200\n",
      "\u001B[1m991/991\u001B[0m \u001B[32m━━━━━━━━━━━━━━━━━━━━\u001B[0m\u001B[37m\u001B[0m \u001B[1m1s\u001B[0m 653us/step - accuracy: 0.6918 - auc_3: 0.6817 - f1_score: 0.4939 - loss: 2098.1990 - val_accuracy: 0.8169 - val_auc_3: 0.6518 - val_f1_score: 0.2231 - val_loss: 755.5259\n",
      "Epoch 137/200\n",
      "\u001B[1m991/991\u001B[0m \u001B[32m━━━━━━━━━━━━━━━━━━━━\u001B[0m\u001B[37m\u001B[0m \u001B[1m1s\u001B[0m 736us/step - accuracy: 0.6924 - auc_3: 0.6827 - f1_score: 0.4939 - loss: 2096.3582 - val_accuracy: 0.8161 - val_auc_3: 0.6515 - val_f1_score: 0.2231 - val_loss: 755.5557\n",
      "Epoch 138/200\n",
      "\u001B[1m991/991\u001B[0m \u001B[32m━━━━━━━━━━━━━━━━━━━━\u001B[0m\u001B[37m\u001B[0m \u001B[1m1s\u001B[0m 739us/step - accuracy: 0.6904 - auc_3: 0.6819 - f1_score: 0.4939 - loss: 2096.7625 - val_accuracy: 0.8165 - val_auc_3: 0.6519 - val_f1_score: 0.2231 - val_loss: 754.2095\n",
      "Epoch 139/200\n",
      "\u001B[1m991/991\u001B[0m \u001B[32m━━━━━━━━━━━━━━━━━━━━\u001B[0m\u001B[37m\u001B[0m \u001B[1m1s\u001B[0m 755us/step - accuracy: 0.6914 - auc_3: 0.6809 - f1_score: 0.4939 - loss: 2099.5054 - val_accuracy: 0.8158 - val_auc_3: 0.6522 - val_f1_score: 0.2231 - val_loss: 754.0060\n",
      "Epoch 140/200\n",
      "\u001B[1m991/991\u001B[0m \u001B[32m━━━━━━━━━━━━━━━━━━━━\u001B[0m\u001B[37m\u001B[0m \u001B[1m1s\u001B[0m 769us/step - accuracy: 0.6919 - auc_3: 0.6824 - f1_score: 0.4939 - loss: 2094.8264 - val_accuracy: 0.8173 - val_auc_3: 0.6522 - val_f1_score: 0.2231 - val_loss: 752.6600\n",
      "Epoch 141/200\n",
      "\u001B[1m991/991\u001B[0m \u001B[32m━━━━━━━━━━━━━━━━━━━━\u001B[0m\u001B[37m\u001B[0m \u001B[1m1s\u001B[0m 750us/step - accuracy: 0.6905 - auc_3: 0.6812 - f1_score: 0.4939 - loss: 2095.7515 - val_accuracy: 0.8165 - val_auc_3: 0.6521 - val_f1_score: 0.2231 - val_loss: 752.3420\n",
      "Epoch 142/200\n",
      "\u001B[1m991/991\u001B[0m \u001B[32m━━━━━━━━━━━━━━━━━━━━\u001B[0m\u001B[37m\u001B[0m \u001B[1m1s\u001B[0m 757us/step - accuracy: 0.6902 - auc_3: 0.6827 - f1_score: 0.4939 - loss: 2093.5623 - val_accuracy: 0.8165 - val_auc_3: 0.6524 - val_f1_score: 0.2231 - val_loss: 751.6852\n",
      "Epoch 143/200\n",
      "\u001B[1m991/991\u001B[0m \u001B[32m━━━━━━━━━━━━━━━━━━━━\u001B[0m\u001B[37m\u001B[0m \u001B[1m1s\u001B[0m 714us/step - accuracy: 0.6913 - auc_3: 0.6812 - f1_score: 0.4939 - loss: 2095.9246 - val_accuracy: 0.8165 - val_auc_3: 0.6523 - val_f1_score: 0.2231 - val_loss: 751.5945\n",
      "Epoch 144/200\n",
      "\u001B[1m991/991\u001B[0m \u001B[32m━━━━━━━━━━━━━━━━━━━━\u001B[0m\u001B[37m\u001B[0m \u001B[1m1s\u001B[0m 712us/step - accuracy: 0.6910 - auc_3: 0.6828 - f1_score: 0.4939 - loss: 2091.8796 - val_accuracy: 0.8158 - val_auc_3: 0.6527 - val_f1_score: 0.2231 - val_loss: 751.6364\n",
      "Epoch 145/200\n",
      "\u001B[1m991/991\u001B[0m \u001B[32m━━━━━━━━━━━━━━━━━━━━\u001B[0m\u001B[37m\u001B[0m \u001B[1m1s\u001B[0m 949us/step - accuracy: 0.6908 - auc_3: 0.6813 - f1_score: 0.4939 - loss: 2093.7834 - val_accuracy: 0.8161 - val_auc_3: 0.6527 - val_f1_score: 0.2231 - val_loss: 750.8409\n",
      "Epoch 146/200\n",
      "\u001B[1m991/991\u001B[0m \u001B[32m━━━━━━━━━━━━━━━━━━━━\u001B[0m\u001B[37m\u001B[0m \u001B[1m1s\u001B[0m 728us/step - accuracy: 0.6899 - auc_3: 0.6829 - f1_score: 0.4939 - loss: 2092.4287 - val_accuracy: 0.8161 - val_auc_3: 0.6527 - val_f1_score: 0.2231 - val_loss: 750.2346\n",
      "Epoch 147/200\n",
      "\u001B[1m991/991\u001B[0m \u001B[32m━━━━━━━━━━━━━━━━━━━━\u001B[0m\u001B[37m\u001B[0m \u001B[1m1s\u001B[0m 758us/step - accuracy: 0.6916 - auc_3: 0.6835 - f1_score: 0.4939 - loss: 2089.6750 - val_accuracy: 0.8154 - val_auc_3: 0.6529 - val_f1_score: 0.2231 - val_loss: 749.5161\n",
      "Epoch 148/200\n",
      "\u001B[1m991/991\u001B[0m \u001B[32m━━━━━━━━━━━━━━━━━━━━\u001B[0m\u001B[37m\u001B[0m \u001B[1m1s\u001B[0m 740us/step - accuracy: 0.6923 - auc_3: 0.6816 - f1_score: 0.4939 - loss: 2092.3074 - val_accuracy: 0.8146 - val_auc_3: 0.6530 - val_f1_score: 0.2231 - val_loss: 749.5339\n",
      "Epoch 149/200\n",
      "\u001B[1m991/991\u001B[0m \u001B[32m━━━━━━━━━━━━━━━━━━━━\u001B[0m\u001B[37m\u001B[0m \u001B[1m1s\u001B[0m 743us/step - accuracy: 0.6909 - auc_3: 0.6825 - f1_score: 0.4939 - loss: 2091.2629 - val_accuracy: 0.8150 - val_auc_3: 0.6528 - val_f1_score: 0.2231 - val_loss: 748.7080\n",
      "Epoch 150/200\n",
      "\u001B[1m991/991\u001B[0m \u001B[32m━━━━━━━━━━━━━━━━━━━━\u001B[0m\u001B[37m\u001B[0m \u001B[1m1s\u001B[0m 682us/step - accuracy: 0.6930 - auc_3: 0.6834 - f1_score: 0.4939 - loss: 2089.3379 - val_accuracy: 0.8150 - val_auc_3: 0.6531 - val_f1_score: 0.2231 - val_loss: 748.4804\n",
      "Epoch 151/200\n",
      "\u001B[1m991/991\u001B[0m \u001B[32m━━━━━━━━━━━━━━━━━━━━\u001B[0m\u001B[37m\u001B[0m \u001B[1m1s\u001B[0m 715us/step - accuracy: 0.6931 - auc_3: 0.6836 - f1_score: 0.4939 - loss: 2088.9373 - val_accuracy: 0.8143 - val_auc_3: 0.6534 - val_f1_score: 0.2231 - val_loss: 747.5773\n",
      "Epoch 152/200\n",
      "\u001B[1m991/991\u001B[0m \u001B[32m━━━━━━━━━━━━━━━━━━━━\u001B[0m\u001B[37m\u001B[0m \u001B[1m1s\u001B[0m 808us/step - accuracy: 0.6941 - auc_3: 0.6839 - f1_score: 0.4939 - loss: 2087.7092 - val_accuracy: 0.8143 - val_auc_3: 0.6536 - val_f1_score: 0.2231 - val_loss: 747.0736\n",
      "Epoch 153/200\n",
      "\u001B[1m991/991\u001B[0m \u001B[32m━━━━━━━━━━━━━━━━━━━━\u001B[0m\u001B[37m\u001B[0m \u001B[1m1s\u001B[0m 689us/step - accuracy: 0.6928 - auc_3: 0.6827 - f1_score: 0.4939 - loss: 2088.2463 - val_accuracy: 0.8143 - val_auc_3: 0.6537 - val_f1_score: 0.2231 - val_loss: 746.9031\n",
      "Epoch 154/200\n",
      "\u001B[1m991/991\u001B[0m \u001B[32m━━━━━━━━━━━━━━━━━━━━\u001B[0m\u001B[37m\u001B[0m \u001B[1m1s\u001B[0m 730us/step - accuracy: 0.6933 - auc_3: 0.6832 - f1_score: 0.4939 - loss: 2086.9546 - val_accuracy: 0.8154 - val_auc_3: 0.6536 - val_f1_score: 0.2231 - val_loss: 746.0906\n",
      "Epoch 155/200\n",
      "\u001B[1m991/991\u001B[0m \u001B[32m━━━━━━━━━━━━━━━━━━━━\u001B[0m\u001B[37m\u001B[0m \u001B[1m1s\u001B[0m 694us/step - accuracy: 0.6924 - auc_3: 0.6837 - f1_score: 0.4939 - loss: 2085.5266 - val_accuracy: 0.8146 - val_auc_3: 0.6538 - val_f1_score: 0.2231 - val_loss: 745.9182\n",
      "Epoch 156/200\n",
      "\u001B[1m991/991\u001B[0m \u001B[32m━━━━━━━━━━━━━━━━━━━━\u001B[0m\u001B[37m\u001B[0m \u001B[1m1s\u001B[0m 715us/step - accuracy: 0.6921 - auc_3: 0.6841 - f1_score: 0.4939 - loss: 2084.4963 - val_accuracy: 0.8158 - val_auc_3: 0.6540 - val_f1_score: 0.2231 - val_loss: 745.1731\n",
      "Epoch 157/200\n",
      "\u001B[1m991/991\u001B[0m \u001B[32m━━━━━━━━━━━━━━━━━━━━\u001B[0m\u001B[37m\u001B[0m \u001B[1m1s\u001B[0m 704us/step - accuracy: 0.6922 - auc_3: 0.6825 - f1_score: 0.4939 - loss: 2085.8650 - val_accuracy: 0.8150 - val_auc_3: 0.6541 - val_f1_score: 0.2231 - val_loss: 744.6752\n",
      "Epoch 158/200\n",
      "\u001B[1m991/991\u001B[0m \u001B[32m━━━━━━━━━━━━━━━━━━━━\u001B[0m\u001B[37m\u001B[0m \u001B[1m1s\u001B[0m 736us/step - accuracy: 0.6937 - auc_3: 0.6845 - f1_score: 0.4939 - loss: 2084.3140 - val_accuracy: 0.8150 - val_auc_3: 0.6540 - val_f1_score: 0.2231 - val_loss: 744.2276\n",
      "Epoch 159/200\n",
      "\u001B[1m991/991\u001B[0m \u001B[32m━━━━━━━━━━━━━━━━━━━━\u001B[0m\u001B[37m\u001B[0m \u001B[1m1s\u001B[0m 746us/step - accuracy: 0.6929 - auc_3: 0.6830 - f1_score: 0.4939 - loss: 2082.6958 - val_accuracy: 0.8150 - val_auc_3: 0.6540 - val_f1_score: 0.2231 - val_loss: 744.0947\n",
      "Epoch 160/200\n",
      "\u001B[1m991/991\u001B[0m \u001B[32m━━━━━━━━━━━━━━━━━━━━\u001B[0m\u001B[37m\u001B[0m \u001B[1m1s\u001B[0m 688us/step - accuracy: 0.6911 - auc_3: 0.6807 - f1_score: 0.4939 - loss: 2087.2473 - val_accuracy: 0.8150 - val_auc_3: 0.6539 - val_f1_score: 0.2231 - val_loss: 743.6872\n",
      "Epoch 161/200\n",
      "\u001B[1m991/991\u001B[0m \u001B[32m━━━━━━━━━━━━━━━━━━━━\u001B[0m\u001B[37m\u001B[0m \u001B[1m1s\u001B[0m 674us/step - accuracy: 0.6915 - auc_3: 0.6841 - f1_score: 0.4939 - loss: 2083.7012 - val_accuracy: 0.8143 - val_auc_3: 0.6537 - val_f1_score: 0.2231 - val_loss: 743.4077\n",
      "Epoch 162/200\n",
      "\u001B[1m991/991\u001B[0m \u001B[32m━━━━━━━━━━━━━━━━━━━━\u001B[0m\u001B[37m\u001B[0m \u001B[1m1s\u001B[0m 641us/step - accuracy: 0.6929 - auc_3: 0.6837 - f1_score: 0.4939 - loss: 2082.1597 - val_accuracy: 0.8158 - val_auc_3: 0.6543 - val_f1_score: 0.2231 - val_loss: 741.9312\n",
      "Epoch 163/200\n",
      "\u001B[1m991/991\u001B[0m \u001B[32m━━━━━━━━━━━━━━━━━━━━\u001B[0m\u001B[37m\u001B[0m \u001B[1m1s\u001B[0m 684us/step - accuracy: 0.6921 - auc_3: 0.6855 - f1_score: 0.4939 - loss: 2080.1670 - val_accuracy: 0.8143 - val_auc_3: 0.6543 - val_f1_score: 0.2231 - val_loss: 742.2313\n",
      "Epoch 164/200\n",
      "\u001B[1m991/991\u001B[0m \u001B[32m━━━━━━━━━━━━━━━━━━━━\u001B[0m\u001B[37m\u001B[0m \u001B[1m1s\u001B[0m 681us/step - accuracy: 0.6945 - auc_3: 0.6844 - f1_score: 0.4939 - loss: 2078.8362 - val_accuracy: 0.8154 - val_auc_3: 0.6541 - val_f1_score: 0.2231 - val_loss: 741.5776\n",
      "Epoch 165/200\n",
      "\u001B[1m991/991\u001B[0m \u001B[32m━━━━━━━━━━━━━━━━━━━━\u001B[0m\u001B[37m\u001B[0m \u001B[1m1s\u001B[0m 689us/step - accuracy: 0.6934 - auc_3: 0.6824 - f1_score: 0.4939 - loss: 2083.4480 - val_accuracy: 0.8143 - val_auc_3: 0.6541 - val_f1_score: 0.2231 - val_loss: 742.0972\n",
      "Epoch 166/200\n",
      "\u001B[1m991/991\u001B[0m \u001B[32m━━━━━━━━━━━━━━━━━━━━\u001B[0m\u001B[37m\u001B[0m \u001B[1m1s\u001B[0m 815us/step - accuracy: 0.6918 - auc_3: 0.6847 - f1_score: 0.4939 - loss: 2079.7808 - val_accuracy: 0.8154 - val_auc_3: 0.6545 - val_f1_score: 0.2231 - val_loss: 740.8836\n",
      "Epoch 167/200\n",
      "\u001B[1m991/991\u001B[0m \u001B[32m━━━━━━━━━━━━━━━━━━━━\u001B[0m\u001B[37m\u001B[0m \u001B[1m1s\u001B[0m 736us/step - accuracy: 0.6945 - auc_3: 0.6831 - f1_score: 0.4939 - loss: 2080.3994 - val_accuracy: 0.8135 - val_auc_3: 0.6544 - val_f1_score: 0.2231 - val_loss: 740.7405\n",
      "Epoch 168/200\n",
      "\u001B[1m991/991\u001B[0m \u001B[32m━━━━━━━━━━━━━━━━━━━━\u001B[0m\u001B[37m\u001B[0m \u001B[1m1s\u001B[0m 699us/step - accuracy: 0.6957 - auc_3: 0.6862 - f1_score: 0.4939 - loss: 2076.3818 - val_accuracy: 0.8143 - val_auc_3: 0.6546 - val_f1_score: 0.2231 - val_loss: 740.4163\n",
      "Epoch 169/200\n",
      "\u001B[1m991/991\u001B[0m \u001B[32m━━━━━━━━━━━━━━━━━━━━\u001B[0m\u001B[37m\u001B[0m \u001B[1m1s\u001B[0m 675us/step - accuracy: 0.6915 - auc_3: 0.6850 - f1_score: 0.4939 - loss: 2077.9370 - val_accuracy: 0.8154 - val_auc_3: 0.6547 - val_f1_score: 0.2231 - val_loss: 739.2770\n",
      "Epoch 170/200\n",
      "\u001B[1m991/991\u001B[0m \u001B[32m━━━━━━━━━━━━━━━━━━━━\u001B[0m\u001B[37m\u001B[0m \u001B[1m1s\u001B[0m 701us/step - accuracy: 0.6951 - auc_3: 0.6884 - f1_score: 0.4939 - loss: 2073.0508 - val_accuracy: 0.8161 - val_auc_3: 0.6547 - val_f1_score: 0.2231 - val_loss: 739.1093\n",
      "Epoch 171/200\n",
      "\u001B[1m991/991\u001B[0m \u001B[32m━━━━━━━━━━━━━━━━━━━━\u001B[0m\u001B[37m\u001B[0m \u001B[1m1s\u001B[0m 716us/step - accuracy: 0.6920 - auc_3: 0.6827 - f1_score: 0.4939 - loss: 2081.9160 - val_accuracy: 0.8161 - val_auc_3: 0.6549 - val_f1_score: 0.2231 - val_loss: 738.9121\n",
      "Epoch 172/200\n",
      "\u001B[1m991/991\u001B[0m \u001B[32m━━━━━━━━━━━━━━━━━━━━\u001B[0m\u001B[37m\u001B[0m \u001B[1m1s\u001B[0m 722us/step - accuracy: 0.6924 - auc_3: 0.6833 - f1_score: 0.4939 - loss: 2078.2607 - val_accuracy: 0.8146 - val_auc_3: 0.6549 - val_f1_score: 0.2231 - val_loss: 738.4277\n",
      "Epoch 173/200\n",
      "\u001B[1m991/991\u001B[0m \u001B[32m━━━━━━━━━━━━━━━━━━━━\u001B[0m\u001B[37m\u001B[0m \u001B[1m1s\u001B[0m 939us/step - accuracy: 0.6947 - auc_3: 0.6867 - f1_score: 0.4939 - loss: 2072.7400 - val_accuracy: 0.8143 - val_auc_3: 0.6554 - val_f1_score: 0.2231 - val_loss: 738.3849\n",
      "Epoch 174/200\n",
      "\u001B[1m991/991\u001B[0m \u001B[32m━━━━━━━━━━━━━━━━━━━━\u001B[0m\u001B[37m\u001B[0m \u001B[1m1s\u001B[0m 702us/step - accuracy: 0.6903 - auc_3: 0.6846 - f1_score: 0.4939 - loss: 2076.5325 - val_accuracy: 0.8143 - val_auc_3: 0.6554 - val_f1_score: 0.2231 - val_loss: 737.6655\n",
      "Epoch 175/200\n",
      "\u001B[1m991/991\u001B[0m \u001B[32m━━━━━━━━━━━━━━━━━━━━\u001B[0m\u001B[37m\u001B[0m \u001B[1m1s\u001B[0m 718us/step - accuracy: 0.6944 - auc_3: 0.6867 - f1_score: 0.4939 - loss: 2073.6716 - val_accuracy: 0.8154 - val_auc_3: 0.6556 - val_f1_score: 0.2231 - val_loss: 737.3701\n",
      "Epoch 176/200\n",
      "\u001B[1m991/991\u001B[0m \u001B[32m━━━━━━━━━━━━━━━━━━━━\u001B[0m\u001B[37m\u001B[0m \u001B[1m1s\u001B[0m 704us/step - accuracy: 0.6936 - auc_3: 0.6853 - f1_score: 0.4939 - loss: 2074.3950 - val_accuracy: 0.8143 - val_auc_3: 0.6556 - val_f1_score: 0.2231 - val_loss: 737.6127\n",
      "Epoch 177/200\n",
      "\u001B[1m991/991\u001B[0m \u001B[32m━━━━━━━━━━━━━━━━━━━━\u001B[0m\u001B[37m\u001B[0m \u001B[1m1s\u001B[0m 696us/step - accuracy: 0.6952 - auc_3: 0.6882 - f1_score: 0.4939 - loss: 2070.4893 - val_accuracy: 0.8150 - val_auc_3: 0.6558 - val_f1_score: 0.2231 - val_loss: 736.3100\n",
      "Epoch 178/200\n",
      "\u001B[1m991/991\u001B[0m \u001B[32m━━━━━━━━━━━━━━━━━━━━\u001B[0m\u001B[37m\u001B[0m \u001B[1m1s\u001B[0m 681us/step - accuracy: 0.6945 - auc_3: 0.6867 - f1_score: 0.4939 - loss: 2072.1895 - val_accuracy: 0.8146 - val_auc_3: 0.6558 - val_f1_score: 0.2231 - val_loss: 736.9030\n",
      "Epoch 179/200\n",
      "\u001B[1m991/991\u001B[0m \u001B[32m━━━━━━━━━━━━━━━━━━━━\u001B[0m\u001B[37m\u001B[0m \u001B[1m1s\u001B[0m 773us/step - accuracy: 0.6918 - auc_3: 0.6851 - f1_score: 0.4939 - loss: 2073.8020 - val_accuracy: 0.8143 - val_auc_3: 0.6554 - val_f1_score: 0.2231 - val_loss: 736.2632\n",
      "Epoch 180/200\n",
      "\u001B[1m991/991\u001B[0m \u001B[32m━━━━━━━━━━━━━━━━━━━━\u001B[0m\u001B[37m\u001B[0m \u001B[1m1s\u001B[0m 796us/step - accuracy: 0.6955 - auc_3: 0.6867 - f1_score: 0.4939 - loss: 2071.1414 - val_accuracy: 0.8146 - val_auc_3: 0.6562 - val_f1_score: 0.2231 - val_loss: 735.0018\n",
      "Epoch 181/200\n",
      "\u001B[1m991/991\u001B[0m \u001B[32m━━━━━━━━━━━━━━━━━━━━\u001B[0m\u001B[37m\u001B[0m \u001B[1m1s\u001B[0m 710us/step - accuracy: 0.6940 - auc_3: 0.6844 - f1_score: 0.4939 - loss: 2073.4524 - val_accuracy: 0.8135 - val_auc_3: 0.6561 - val_f1_score: 0.2231 - val_loss: 735.6100\n",
      "Epoch 182/200\n",
      "\u001B[1m991/991\u001B[0m \u001B[32m━━━━━━━━━━━━━━━━━━━━\u001B[0m\u001B[37m\u001B[0m \u001B[1m1s\u001B[0m 716us/step - accuracy: 0.6941 - auc_3: 0.6875 - f1_score: 0.4939 - loss: 2070.5229 - val_accuracy: 0.8135 - val_auc_3: 0.6561 - val_f1_score: 0.2231 - val_loss: 735.4761\n",
      "Epoch 183/200\n",
      "\u001B[1m991/991\u001B[0m \u001B[32m━━━━━━━━━━━━━━━━━━━━\u001B[0m\u001B[37m\u001B[0m \u001B[1m1s\u001B[0m 670us/step - accuracy: 0.6923 - auc_3: 0.6849 - f1_score: 0.4939 - loss: 2071.7368 - val_accuracy: 0.8132 - val_auc_3: 0.6563 - val_f1_score: 0.2231 - val_loss: 735.3262\n",
      "Epoch 184/200\n",
      "\u001B[1m991/991\u001B[0m \u001B[32m━━━━━━━━━━━━━━━━━━━━\u001B[0m\u001B[37m\u001B[0m \u001B[1m1s\u001B[0m 684us/step - accuracy: 0.6939 - auc_3: 0.6869 - f1_score: 0.4939 - loss: 2069.9504 - val_accuracy: 0.8146 - val_auc_3: 0.6566 - val_f1_score: 0.2231 - val_loss: 733.9603\n",
      "Epoch 185/200\n",
      "\u001B[1m991/991\u001B[0m \u001B[32m━━━━━━━━━━━━━━━━━━━━\u001B[0m\u001B[37m\u001B[0m \u001B[1m1s\u001B[0m 751us/step - accuracy: 0.6937 - auc_3: 0.6859 - f1_score: 0.4939 - loss: 2069.3342 - val_accuracy: 0.8146 - val_auc_3: 0.6566 - val_f1_score: 0.2231 - val_loss: 733.6747\n",
      "Epoch 186/200\n",
      "\u001B[1m991/991\u001B[0m \u001B[32m━━━━━━━━━━━━━━━━━━━━\u001B[0m\u001B[37m\u001B[0m \u001B[1m1s\u001B[0m 766us/step - accuracy: 0.6944 - auc_3: 0.6857 - f1_score: 0.4939 - loss: 2069.3828 - val_accuracy: 0.8135 - val_auc_3: 0.6568 - val_f1_score: 0.2231 - val_loss: 734.0336\n",
      "Epoch 187/200\n",
      "\u001B[1m991/991\u001B[0m \u001B[32m━━━━━━━━━━━━━━━━━━━━\u001B[0m\u001B[37m\u001B[0m \u001B[1m1s\u001B[0m 672us/step - accuracy: 0.6920 - auc_3: 0.6878 - f1_score: 0.4939 - loss: 2066.5139 - val_accuracy: 0.8143 - val_auc_3: 0.6570 - val_f1_score: 0.2231 - val_loss: 732.8321\n",
      "Epoch 188/200\n",
      "\u001B[1m991/991\u001B[0m \u001B[32m━━━━━━━━━━━━━━━━━━━━\u001B[0m\u001B[37m\u001B[0m \u001B[1m1s\u001B[0m 693us/step - accuracy: 0.6941 - auc_3: 0.6885 - f1_score: 0.4939 - loss: 2065.1406 - val_accuracy: 0.8143 - val_auc_3: 0.6568 - val_f1_score: 0.2231 - val_loss: 732.7299\n",
      "Epoch 189/200\n",
      "\u001B[1m991/991\u001B[0m \u001B[32m━━━━━━━━━━━━━━━━━━━━\u001B[0m\u001B[37m\u001B[0m \u001B[1m1s\u001B[0m 700us/step - accuracy: 0.6930 - auc_3: 0.6845 - f1_score: 0.4939 - loss: 2071.5432 - val_accuracy: 0.8143 - val_auc_3: 0.6569 - val_f1_score: 0.2231 - val_loss: 732.3109\n",
      "Epoch 190/200\n",
      "\u001B[1m991/991\u001B[0m \u001B[32m━━━━━━━━━━━━━━━━━━━━\u001B[0m\u001B[37m\u001B[0m \u001B[1m1s\u001B[0m 666us/step - accuracy: 0.6946 - auc_3: 0.6861 - f1_score: 0.4939 - loss: 2067.6934 - val_accuracy: 0.8143 - val_auc_3: 0.6569 - val_f1_score: 0.2231 - val_loss: 732.5128\n",
      "Epoch 191/200\n",
      "\u001B[1m991/991\u001B[0m \u001B[32m━━━━━━━━━━━━━━━━━━━━\u001B[0m\u001B[37m\u001B[0m \u001B[1m1s\u001B[0m 676us/step - accuracy: 0.6946 - auc_3: 0.6885 - f1_score: 0.4939 - loss: 2063.1323 - val_accuracy: 0.8146 - val_auc_3: 0.6570 - val_f1_score: 0.2231 - val_loss: 731.8049\n",
      "Epoch 192/200\n",
      "\u001B[1m991/991\u001B[0m \u001B[32m━━━━━━━━━━━━━━━━━━━━\u001B[0m\u001B[37m\u001B[0m \u001B[1m1s\u001B[0m 759us/step - accuracy: 0.6921 - auc_3: 0.6861 - f1_score: 0.4939 - loss: 2068.4553 - val_accuracy: 0.8146 - val_auc_3: 0.6574 - val_f1_score: 0.2231 - val_loss: 730.8094\n",
      "Epoch 193/200\n",
      "\u001B[1m991/991\u001B[0m \u001B[32m━━━━━━━━━━━━━━━━━━━━\u001B[0m\u001B[37m\u001B[0m \u001B[1m1s\u001B[0m 780us/step - accuracy: 0.6940 - auc_3: 0.6858 - f1_score: 0.4939 - loss: 2066.6428 - val_accuracy: 0.8150 - val_auc_3: 0.6574 - val_f1_score: 0.2231 - val_loss: 730.7613\n",
      "Epoch 194/200\n",
      "\u001B[1m991/991\u001B[0m \u001B[32m━━━━━━━━━━━━━━━━━━━━\u001B[0m\u001B[37m\u001B[0m \u001B[1m1s\u001B[0m 686us/step - accuracy: 0.6937 - auc_3: 0.6872 - f1_score: 0.4939 - loss: 2066.1494 - val_accuracy: 0.8146 - val_auc_3: 0.6573 - val_f1_score: 0.2231 - val_loss: 730.8159\n",
      "Epoch 195/200\n",
      "\u001B[1m991/991\u001B[0m \u001B[32m━━━━━━━━━━━━━━━━━━━━\u001B[0m\u001B[37m\u001B[0m \u001B[1m1s\u001B[0m 731us/step - accuracy: 0.6934 - auc_3: 0.6868 - f1_score: 0.4939 - loss: 2066.3591 - val_accuracy: 0.8150 - val_auc_3: 0.6575 - val_f1_score: 0.2231 - val_loss: 729.9662\n",
      "Epoch 196/200\n",
      "\u001B[1m991/991\u001B[0m \u001B[32m━━━━━━━━━━━━━━━━━━━━\u001B[0m\u001B[37m\u001B[0m \u001B[1m1s\u001B[0m 696us/step - accuracy: 0.6949 - auc_3: 0.6877 - f1_score: 0.4939 - loss: 2064.1123 - val_accuracy: 0.8150 - val_auc_3: 0.6575 - val_f1_score: 0.2231 - val_loss: 729.7014\n",
      "Epoch 197/200\n",
      "\u001B[1m991/991\u001B[0m \u001B[32m━━━━━━━━━━━━━━━━━━━━\u001B[0m\u001B[37m\u001B[0m \u001B[1m1s\u001B[0m 756us/step - accuracy: 0.6922 - auc_3: 0.6863 - f1_score: 0.4939 - loss: 2066.5059 - val_accuracy: 0.8158 - val_auc_3: 0.6574 - val_f1_score: 0.2231 - val_loss: 729.1404\n",
      "Epoch 198/200\n",
      "\u001B[1m991/991\u001B[0m \u001B[32m━━━━━━━━━━━━━━━━━━━━\u001B[0m\u001B[37m\u001B[0m \u001B[1m1s\u001B[0m 870us/step - accuracy: 0.6941 - auc_3: 0.6884 - f1_score: 0.4939 - loss: 2062.9297 - val_accuracy: 0.8139 - val_auc_3: 0.6571 - val_f1_score: 0.2231 - val_loss: 729.5283\n",
      "Epoch 199/200\n",
      "\u001B[1m991/991\u001B[0m \u001B[32m━━━━━━━━━━━━━━━━━━━━\u001B[0m\u001B[37m\u001B[0m \u001B[1m1s\u001B[0m 742us/step - accuracy: 0.6936 - auc_3: 0.6851 - f1_score: 0.4939 - loss: 2066.9243 - val_accuracy: 0.8143 - val_auc_3: 0.6575 - val_f1_score: 0.2231 - val_loss: 728.7767\n",
      "Epoch 200/200\n",
      "\u001B[1m991/991\u001B[0m \u001B[32m━━━━━━━━━━━━━━━━━━━━\u001B[0m\u001B[37m\u001B[0m \u001B[1m1s\u001B[0m 713us/step - accuracy: 0.6945 - auc_3: 0.6875 - f1_score: 0.4939 - loss: 2063.8174 - val_accuracy: 0.8146 - val_auc_3: 0.6575 - val_f1_score: 0.2231 - val_loss: 728.6266\n"
     ]
    },
    {
     "data": {
      "text/plain": "<Figure size 640x480 with 1 Axes>",
      "image/png": "[encoded data removed]"
     },
     "metadata": {},
     "output_type": "display_data"
    }
   ],
   "source": [
    "from sklearn.utils import compute_class_weight\n",
    "\n",
    "# Build the simple fully connected single hidden layer network model\n",
    "# smote_model = Sequential([\n",
    "#     Input(shape=X_train.shape[1:]),\n",
    "#     # Dense(22, activation='relu', kernel_regularizer=l1(0.5), kernel_initializer='glorot_normal'),   \n",
    "#     # Dropout(0.4),\n",
    "#     Dense(22, activation='relu', kernel_regularizer=l1(0.5)), \n",
    "#     Dropout(0.7),\n",
    "#     # Dense(1, activation='sigmoid', kernel_regularizer=l1(0.5), kernel_initializer='glorot_normal')\n",
    "#     Dense(1, activation='sigmoid', kernel_regularizer=l1(0.5), kernel_initializer='glorot_normal')\n",
    "# ])\n",
    "smote_model = Sequential([\n",
    "    Input(shape=X_train.shape[1:]),\n",
    "    # Normalization(axis=-1),\n",
    "    Dense(256, activation='relu', kernel_regularizer=l1(0.5)),   \n",
    "    Dropout(0.4),\n",
    "    Dense(1, activation='sigmoid', kernel_regularizer=l1(0.5), kernel_initializer='glorot_normal')\n",
    "])\n",
    "\n",
    "# Compile the model\n",
    "opt = Adam(learning_rate=0.00001)\n",
    "smote_model.compile(loss=custom_loss_smote, optimizer=opt, metrics=[AUC(), 'accuracy', F1Score()])\n",
    "\n",
    "# Fit the model\n",
    "keras.utils.set_random_seed(42)  # for reproducibility\n",
    "# smote_history = smote_model.fit(X_smote, y_smote, validation_data=(X_val, y_val_sigmoid), epochs=500, batch_size=256, callbacks=[EarlyStopping(monitor='val_auc', mode='max', patience=3, verbose=1, min_delta=0.01)], verbose=True)\n",
    "smote_history = smote_model.fit(X_smote, y_smote, validation_data=(X_val, y_val_sigmoid), epochs=200, batch_size=32, callbacks=[EarlyStopping(monitor='val_auc', mode='max', patience=3, verbose=1, min_delta=0.01)], verbose=True)\n",
    "\n",
    "plot_history(smote_history.history)"
   ],
   "metadata": {
    "collapsed": false,
    "ExecuteTime": {
     "end_time": "2024-04-19T17:51:06.202680Z",
     "start_time": "2024-04-19T17:48:36.866250Z"
    }
   },
   "id": "a82213acdaa9807b",
   "execution_count": 40
  },
  {
   "cell_type": "code",
   "outputs": [
    {
     "name": "stdout",
     "output_type": "stream",
     "text": [
      "\u001B[1m753/753\u001B[0m \u001B[32m━━━━━━━━━━━━━━━━━━━━\u001B[0m\u001B[37m\u001B[0m \u001B[1m0s\u001B[0m 329us/step\n",
      "\u001B[1m84/84\u001B[0m \u001B[32m━━━━━━━━━━━━━━━━━━━━\u001B[0m\u001B[37m\u001B[0m \u001B[1m0s\u001B[0m 301us/step\n",
      "\u001B[1m93/93\u001B[0m \u001B[32m━━━━━━━━━━━━━━━━━━━━\u001B[0m\u001B[37m\u001B[0m \u001B[1m0s\u001B[0m 391us/step\n"
     ]
    },
    {
     "data": {
      "text/plain": "                Model Train AUC Val AUC Test AUC\n0  Logit as Benchmark    0.6707  0.6637   0.6637\n1         LASSO Logit    0.6835  0.6791   0.6791\n2    Random Forest CV    0.9686  0.7086   0.7086\n3              GBM CV    0.8193  0.7133   0.7133\n4          Sigmoid NN    0.6578  0.6321   0.6611\n5          Softmax NN    0.6555  0.6314   0.6611\n6            SMOTE NN    0.6879  0.6579   0.6740",
      "text/html": "<div>\n<style scoped>\n    .dataframe tbody tr th:only-of-type {\n        vertical-align: middle;\n    }\n\n    .dataframe tbody tr th {\n        vertical-align: top;\n    }\n\n    .dataframe thead th {\n        text-align: right;\n    }\n</style>\n<table border=\"1\" class=\"dataframe\">\n  <thead>\n    <tr style=\"text-align: right;\">\n      <th></th>\n      <th>Model</th>\n      <th>Train AUC</th>\n      <th>Val AUC</th>\n      <th>Test AUC</th>\n    </tr>\n  </thead>\n  <tbody>\n    <tr>\n      <th>0</th>\n      <td>Logit as Benchmark</td>\n      <td>0.6707</td>\n      <td>0.6637</td>\n      <td>0.6637</td>\n    </tr>\n    <tr>\n      <th>1</th>\n      <td>LASSO Logit</td>\n      <td>0.6835</td>\n      <td>0.6791</td>\n      <td>0.6791</td>\n    </tr>\n    <tr>\n      <th>2</th>\n      <td>Random Forest CV</td>\n      <td>0.9686</td>\n      <td>0.7086</td>\n      <td>0.7086</td>\n    </tr>\n    <tr>\n      <th>3</th>\n      <td>GBM CV</td>\n      <td>0.8193</td>\n      <td>0.7133</td>\n      <td>0.7133</td>\n    </tr>\n    <tr>\n      <th>4</th>\n      <td>Sigmoid NN</td>\n      <td>0.6578</td>\n      <td>0.6321</td>\n      <td>0.6611</td>\n    </tr>\n    <tr>\n      <th>5</th>\n      <td>Softmax NN</td>\n      <td>0.6555</td>\n      <td>0.6314</td>\n      <td>0.6611</td>\n    </tr>\n    <tr>\n      <th>6</th>\n      <td>SMOTE NN</td>\n      <td>0.6879</td>\n      <td>0.6579</td>\n      <td>0.6740</td>\n    </tr>\n  </tbody>\n</table>\n</div>"
     },
     "execution_count": 41,
     "metadata": {},
     "output_type": "execute_result"
    }
   ],
   "source": [
    "update_summary(summary_df, \n",
    "               'SMOTE NN', \n",
    "               y_train_sigmoid,\n",
    "               smote_model.predict(X_train), \n",
    "               y_val_sigmoid,\n",
    "               smote_model.predict(X_val), \n",
    "               y_test_sigmoid,\n",
    "               smote_model.predict(X_test),\n",
    "               class1_only=True)\n",
    "summary_df"
   ],
   "metadata": {
    "collapsed": false,
    "ExecuteTime": {
     "end_time": "2024-04-19T17:51:11.462701Z",
     "start_time": "2024-04-19T17:51:10.917796Z"
    }
   },
   "id": "bbe302a39d884ef8",
   "execution_count": 41
  },
  {
   "cell_type": "markdown",
   "source": [
    "Surprisingly, with oversampling, the neural network performs much better. This result gives confidence that the model capture the patterns of popular articles better via oversampling."
   ],
   "metadata": {
    "collapsed": false
   },
   "id": "62ec253f0257a813"
  },
  {
   "cell_type": "markdown",
   "source": [
    "## Stacked Model\n",
    "\n",
    "This model is a neural network similar to the sigmoid neural network, with a twist that it includes the predictions of the gradient boosting model as an input. The idea is to take advantages of the gradient boosting great performance to improve the neural network performance."
   ],
   "metadata": {
    "collapsed": false
   },
   "id": "11fa9a9bee7da7f7"
  },
  {
   "cell_type": "code",
   "outputs": [],
   "source": [
    "# split train, val, test again with engineered features\n",
    "outcome = news_df[\"is_popular\"]\n",
    "# features = news_df[high_performance_predictors]\n",
    "features = news_df.drop(columns=exclude_cols)\n",
    "# features = news_df.drop(columns=['timedelta', 'is_popular', 'article_id'])\n",
    "prng = np.random.RandomState(42)\n",
    "X_train, X_test, y_train, y_test = train_test_split(features, outcome, test_size=0.1, random_state=prng)\n",
    "X_val, y_val = X_test, y_test\n",
    "# X_train, X_val, y_train, y_val = train_test_split(X_train, y_train, test_size=0.1, random_state=prng)\n",
    "X_train_no_scale, X_val_no_scale, X_test_no_scale = X_train.copy()[gbm_high_perm], X_val.copy()[gbm_high_perm], X_test.copy()[gbm_high_perm]\n",
    "\n",
    "# normalize data\n",
    "scaler = MinMaxScaler(feature_range=(-1, 1))\n",
    "# scaler = StandardScaler()\n",
    "# scaler.fit(features)\n",
    "columns_not_to_scale = [col for col in X_train.columns if col not in binary_cols]\n",
    "scaler.fit(X_train[columns_not_to_scale])\n",
    "\n",
    "X_train[columns_not_to_scale] = scaler.transform(X_train[columns_not_to_scale])\n",
    "X_val[columns_not_to_scale] = scaler.transform(X_val[columns_not_to_scale])\n",
    "X_test[columns_not_to_scale] = scaler.transform(X_test[columns_not_to_scale])\n",
    "\n",
    "gbm_pred_train, gbm_pred_val, gbm_pred_test = gbm_model.predict_proba(X_train_no_scale), gbm_model.predict_proba(X_val_no_scale), gbm_model.predict_proba(X_test_no_scale)\n",
    "\n",
    "X_train = np.hstack((X_train, gbm_pred_train))\n",
    "X_val = np.hstack((X_val, gbm_pred_val))\n",
    "X_test = np.hstack((X_test, gbm_pred_test))\n",
    "# X_train = np.hstack((X_train, gbm_pred_train[:,1].reshape(-1, 1)))\n",
    "# X_val = np.hstack((X_val, gbm_pred_val[:,1].reshape(-1, 1)))\n",
    "# X_test = np.hstack((X_test, gbm_pred_test[:,1].reshape(-1, 1)))"
   ],
   "metadata": {
    "collapsed": false,
    "ExecuteTime": {
     "end_time": "2024-04-19T17:51:39.554190Z",
     "start_time": "2024-04-19T17:51:39.160267Z"
    }
   },
   "id": "9ca7c26acc55080",
   "execution_count": 42
  },
  {
   "cell_type": "code",
   "outputs": [
    {
     "name": "stdout",
     "output_type": "stream",
     "text": [
      "Epoch 1/200\n",
      "\u001B[1m419/419\u001B[0m \u001B[32m━━━━━━━━━━━━━━━━━━━━\u001B[0m\u001B[37m\u001B[0m \u001B[1m1s\u001B[0m 1ms/step - accuracy: 0.7849 - auc_4: 0.5201 - f1_score: 0.2223 - loss: 1157.2595 - val_accuracy: 0.8911 - val_auc_4: 0.5272 - val_f1_score: 0.1965 - val_loss: 856.8764\n",
      "Epoch 2/200\n",
      "\u001B[1m419/419\u001B[0m \u001B[32m━━━━━━━━━━━━━━━━━━━━\u001B[0m\u001B[37m\u001B[0m \u001B[1m0s\u001B[0m 746us/step - accuracy: 0.8750 - auc_4: 0.5539 - f1_score: 0.2223 - loss: 954.2651 - val_accuracy: 0.8911 - val_auc_4: 0.5547 - val_f1_score: 0.1965 - val_loss: 942.5197\n",
      "Epoch 3/200\n",
      "\u001B[1m419/419\u001B[0m \u001B[32m━━━━━━━━━━━━━━━━━━━━\u001B[0m\u001B[37m\u001B[0m \u001B[1m0s\u001B[0m 729us/step - accuracy: 0.8750 - auc_4: 0.5749 - f1_score: 0.2223 - loss: 911.5139 - val_accuracy: 0.8911 - val_auc_4: 0.5690 - val_f1_score: 0.1965 - val_loss: 977.7761\n",
      "Epoch 4/200\n",
      "\u001B[1m419/419\u001B[0m \u001B[32m━━━━━━━━━━━━━━━━━━━━\u001B[0m\u001B[37m\u001B[0m \u001B[1m0s\u001B[0m 750us/step - accuracy: 0.8750 - auc_4: 0.5908 - f1_score: 0.2223 - loss: 896.9622 - val_accuracy: 0.8911 - val_auc_4: 0.5842 - val_f1_score: 0.1965 - val_loss: 980.3577\n",
      "Epoch 5/200\n",
      "\u001B[1m419/419\u001B[0m \u001B[32m━━━━━━━━━━━━━━━━━━━━\u001B[0m\u001B[37m\u001B[0m \u001B[1m0s\u001B[0m 720us/step - accuracy: 0.8750 - auc_4: 0.6038 - f1_score: 0.2223 - loss: 885.4709 - val_accuracy: 0.8911 - val_auc_4: 0.6047 - val_f1_score: 0.1965 - val_loss: 971.7957\n",
      "Epoch 6/200\n",
      "\u001B[1m419/419\u001B[0m \u001B[32m━━━━━━━━━━━━━━━━━━━━\u001B[0m\u001B[37m\u001B[0m \u001B[1m0s\u001B[0m 739us/step - accuracy: 0.8750 - auc_4: 0.6159 - f1_score: 0.2223 - loss: 874.2792 - val_accuracy: 0.8911 - val_auc_4: 0.6118 - val_f1_score: 0.1965 - val_loss: 960.7734\n",
      "Epoch 7/200\n",
      "\u001B[1m419/419\u001B[0m \u001B[32m━━━━━━━━━━━━━━━━━━━━\u001B[0m\u001B[37m\u001B[0m \u001B[1m0s\u001B[0m 698us/step - accuracy: 0.8750 - auc_4: 0.6270 - f1_score: 0.2223 - loss: 863.2770 - val_accuracy: 0.8911 - val_auc_4: 0.6203 - val_f1_score: 0.1965 - val_loss: 949.4267\n",
      "Epoch 8/200\n",
      "\u001B[1m419/419\u001B[0m \u001B[32m━━━━━━━━━━━━━━━━━━━━\u001B[0m\u001B[37m\u001B[0m \u001B[1m0s\u001B[0m 720us/step - accuracy: 0.8750 - auc_4: 0.6361 - f1_score: 0.2223 - loss: 852.4893 - val_accuracy: 0.8911 - val_auc_4: 0.6310 - val_f1_score: 0.1965 - val_loss: 938.3997\n",
      "Epoch 9/200\n",
      "\u001B[1m419/419\u001B[0m \u001B[32m━━━━━━━━━━━━━━━━━━━━\u001B[0m\u001B[37m\u001B[0m \u001B[1m0s\u001B[0m 914us/step - accuracy: 0.8750 - auc_4: 0.6439 - f1_score: 0.2223 - loss: 841.9200 - val_accuracy: 0.8911 - val_auc_4: 0.6397 - val_f1_score: 0.1965 - val_loss: 927.5270\n",
      "Epoch 10/200\n",
      "\u001B[1m419/419\u001B[0m \u001B[32m━━━━━━━━━━━━━━━━━━━━\u001B[0m\u001B[37m\u001B[0m \u001B[1m0s\u001B[0m 990us/step - accuracy: 0.8750 - auc_4: 0.6510 - f1_score: 0.2223 - loss: 831.5875 - val_accuracy: 0.8911 - val_auc_4: 0.6453 - val_f1_score: 0.1965 - val_loss: 917.1147\n",
      "Epoch 11/200\n",
      "\u001B[1m419/419\u001B[0m \u001B[32m━━━━━━━━━━━━━━━━━━━━\u001B[0m\u001B[37m\u001B[0m \u001B[1m0s\u001B[0m 931us/step - accuracy: 0.8750 - auc_4: 0.6569 - f1_score: 0.2223 - loss: 821.5290 - val_accuracy: 0.8911 - val_auc_4: 0.6441 - val_f1_score: 0.1965 - val_loss: 907.0573\n",
      "Epoch 12/200\n",
      "\u001B[1m419/419\u001B[0m \u001B[32m━━━━━━━━━━━━━━━━━━━━\u001B[0m\u001B[37m\u001B[0m \u001B[1m0s\u001B[0m 862us/step - accuracy: 0.8750 - auc_4: 0.6612 - f1_score: 0.2223 - loss: 811.7304 - val_accuracy: 0.8911 - val_auc_4: 0.6444 - val_f1_score: 0.1965 - val_loss: 897.2170\n",
      "Epoch 13/200\n",
      "\u001B[1m419/419\u001B[0m \u001B[32m━━━━━━━━━━━━━━━━━━━━\u001B[0m\u001B[37m\u001B[0m \u001B[1m0s\u001B[0m 782us/step - accuracy: 0.8750 - auc_4: 0.6653 - f1_score: 0.2223 - loss: 802.1935 - val_accuracy: 0.8911 - val_auc_4: 0.6492 - val_f1_score: 0.1965 - val_loss: 887.6238\n",
      "Epoch 14/200\n",
      "\u001B[1m419/419\u001B[0m \u001B[32m━━━━━━━━━━━━━━━━━━━━\u001B[0m\u001B[37m\u001B[0m \u001B[1m0s\u001B[0m 767us/step - accuracy: 0.8750 - auc_4: 0.6691 - f1_score: 0.2223 - loss: 792.9376 - val_accuracy: 0.8911 - val_auc_4: 0.6502 - val_f1_score: 0.1965 - val_loss: 878.4175\n",
      "Epoch 15/200\n",
      "\u001B[1m419/419\u001B[0m \u001B[32m━━━━━━━━━━━━━━━━━━━━\u001B[0m\u001B[37m\u001B[0m \u001B[1m0s\u001B[0m 740us/step - accuracy: 0.8750 - auc_4: 0.6715 - f1_score: 0.2223 - loss: 783.9577 - val_accuracy: 0.8911 - val_auc_4: 0.6536 - val_f1_score: 0.1965 - val_loss: 869.5032\n",
      "Epoch 16/200\n",
      "\u001B[1m419/419\u001B[0m \u001B[32m━━━━━━━━━━━━━━━━━━━━\u001B[0m\u001B[37m\u001B[0m \u001B[1m0s\u001B[0m 727us/step - accuracy: 0.8750 - auc_4: 0.6736 - f1_score: 0.2223 - loss: 775.2225 - val_accuracy: 0.8911 - val_auc_4: 0.6525 - val_f1_score: 0.1965 - val_loss: 860.7593\n",
      "Epoch 17/200\n",
      "\u001B[1m419/419\u001B[0m \u001B[32m━━━━━━━━━━━━━━━━━━━━\u001B[0m\u001B[37m\u001B[0m \u001B[1m0s\u001B[0m 761us/step - accuracy: 0.8750 - auc_4: 0.6760 - f1_score: 0.2223 - loss: 766.7442 - val_accuracy: 0.8911 - val_auc_4: 0.6543 - val_f1_score: 0.1965 - val_loss: 852.2482\n",
      "Epoch 18/200\n",
      "\u001B[1m419/419\u001B[0m \u001B[32m━━━━━━━━━━━━━━━━━━━━\u001B[0m\u001B[37m\u001B[0m \u001B[1m0s\u001B[0m 697us/step - accuracy: 0.8750 - auc_4: 0.6779 - f1_score: 0.2223 - loss: 758.4991 - val_accuracy: 0.8911 - val_auc_4: 0.6568 - val_f1_score: 0.1965 - val_loss: 843.8710\n",
      "Epoch 19/200\n",
      "\u001B[1m419/419\u001B[0m \u001B[32m━━━━━━━━━━━━━━━━━━━━\u001B[0m\u001B[37m\u001B[0m \u001B[1m0s\u001B[0m 741us/step - accuracy: 0.8750 - auc_4: 0.6798 - f1_score: 0.2223 - loss: 750.4719 - val_accuracy: 0.8911 - val_auc_4: 0.6557 - val_f1_score: 0.1965 - val_loss: 835.7199\n",
      "Epoch 20/200\n",
      "\u001B[1m419/419\u001B[0m \u001B[32m━━━━━━━━━━━━━━━━━━━━\u001B[0m\u001B[37m\u001B[0m \u001B[1m0s\u001B[0m 731us/step - accuracy: 0.8750 - auc_4: 0.6812 - f1_score: 0.2223 - loss: 742.6714 - val_accuracy: 0.8911 - val_auc_4: 0.6536 - val_f1_score: 0.1965 - val_loss: 827.6408\n",
      "Epoch 21/200\n",
      "\u001B[1m419/419\u001B[0m \u001B[32m━━━━━━━━━━━━━━━━━━━━\u001B[0m\u001B[37m\u001B[0m \u001B[1m0s\u001B[0m 773us/step - accuracy: 0.8750 - auc_4: 0.6824 - f1_score: 0.2223 - loss: 735.1001 - val_accuracy: 0.8911 - val_auc_4: 0.6526 - val_f1_score: 0.1965 - val_loss: 819.6082\n",
      "Epoch 22/200\n",
      "\u001B[1m419/419\u001B[0m \u001B[32m━━━━━━━━━━━━━━━━━━━━\u001B[0m\u001B[37m\u001B[0m \u001B[1m0s\u001B[0m 784us/step - accuracy: 0.8750 - auc_4: 0.6839 - f1_score: 0.2223 - loss: 727.7625 - val_accuracy: 0.8911 - val_auc_4: 0.6543 - val_f1_score: 0.1965 - val_loss: 811.6664\n",
      "Epoch 23/200\n",
      "\u001B[1m419/419\u001B[0m \u001B[32m━━━━━━━━━━━━━━━━━━━━\u001B[0m\u001B[37m\u001B[0m \u001B[1m0s\u001B[0m 793us/step - accuracy: 0.8750 - auc_4: 0.6853 - f1_score: 0.2223 - loss: 720.6577 - val_accuracy: 0.8911 - val_auc_4: 0.6568 - val_f1_score: 0.1965 - val_loss: 804.0173\n",
      "Epoch 24/200\n",
      "\u001B[1m419/419\u001B[0m \u001B[32m━━━━━━━━━━━━━━━━━━━━\u001B[0m\u001B[37m\u001B[0m \u001B[1m1s\u001B[0m 1ms/step - accuracy: 0.8750 - auc_4: 0.6868 - f1_score: 0.2223 - loss: 713.7670 - val_accuracy: 0.8911 - val_auc_4: 0.6539 - val_f1_score: 0.1965 - val_loss: 796.3500\n",
      "Epoch 25/200\n",
      "\u001B[1m419/419\u001B[0m \u001B[32m━━━━━━━━━━━━━━━━━━━━\u001B[0m\u001B[37m\u001B[0m \u001B[1m0s\u001B[0m 768us/step - accuracy: 0.8750 - auc_4: 0.6879 - f1_score: 0.2223 - loss: 707.0864 - val_accuracy: 0.8911 - val_auc_4: 0.6539 - val_f1_score: 0.1965 - val_loss: 788.7993\n",
      "Epoch 26/200\n",
      "\u001B[1m419/419\u001B[0m \u001B[32m━━━━━━━━━━━━━━━━━━━━\u001B[0m\u001B[37m\u001B[0m \u001B[1m0s\u001B[0m 721us/step - accuracy: 0.8750 - auc_4: 0.6894 - f1_score: 0.2223 - loss: 700.6521 - val_accuracy: 0.8911 - val_auc_4: 0.6563 - val_f1_score: 0.1965 - val_loss: 781.4426\n",
      "Epoch 27/200\n",
      "\u001B[1m419/419\u001B[0m \u001B[32m━━━━━━━━━━━━━━━━━━━━\u001B[0m\u001B[37m\u001B[0m \u001B[1m0s\u001B[0m 702us/step - accuracy: 0.8750 - auc_4: 0.6904 - f1_score: 0.2223 - loss: 694.4930 - val_accuracy: 0.8911 - val_auc_4: 0.6556 - val_f1_score: 0.1965 - val_loss: 774.3315\n",
      "Epoch 28/200\n",
      "\u001B[1m419/419\u001B[0m \u001B[32m━━━━━━━━━━━━━━━━━━━━\u001B[0m\u001B[37m\u001B[0m \u001B[1m0s\u001B[0m 721us/step - accuracy: 0.8750 - auc_4: 0.6913 - f1_score: 0.2223 - loss: 688.5939 - val_accuracy: 0.8911 - val_auc_4: 0.6594 - val_f1_score: 0.1965 - val_loss: 767.5202\n",
      "Epoch 29/200\n",
      "\u001B[1m419/419\u001B[0m \u001B[32m━━━━━━━━━━━━━━━━━━━━\u001B[0m\u001B[37m\u001B[0m \u001B[1m0s\u001B[0m 730us/step - accuracy: 0.8750 - auc_4: 0.6924 - f1_score: 0.2223 - loss: 682.9404 - val_accuracy: 0.8911 - val_auc_4: 0.6589 - val_f1_score: 0.1965 - val_loss: 761.0078\n",
      "Epoch 30/200\n",
      "\u001B[1m419/419\u001B[0m \u001B[32m━━━━━━━━━━━━━━━━━━━━\u001B[0m\u001B[37m\u001B[0m \u001B[1m0s\u001B[0m 718us/step - accuracy: 0.8750 - auc_4: 0.6935 - f1_score: 0.2223 - loss: 677.5295 - val_accuracy: 0.8911 - val_auc_4: 0.6602 - val_f1_score: 0.1965 - val_loss: 754.5483\n",
      "Epoch 31/200\n",
      "\u001B[1m419/419\u001B[0m \u001B[32m━━━━━━━━━━━━━━━━━━━━\u001B[0m\u001B[37m\u001B[0m \u001B[1m0s\u001B[0m 709us/step - accuracy: 0.8750 - auc_4: 0.6948 - f1_score: 0.2223 - loss: 672.3798 - val_accuracy: 0.8911 - val_auc_4: 0.6614 - val_f1_score: 0.1965 - val_loss: 748.4949\n",
      "Epoch 32/200\n",
      "\u001B[1m419/419\u001B[0m \u001B[32m━━━━━━━━━━━━━━━━━━━━\u001B[0m\u001B[37m\u001B[0m \u001B[1m0s\u001B[0m 775us/step - accuracy: 0.8750 - auc_4: 0.6958 - f1_score: 0.2223 - loss: 667.4724 - val_accuracy: 0.8911 - val_auc_4: 0.6631 - val_f1_score: 0.1965 - val_loss: 742.7950\n",
      "Epoch 33/200\n",
      "\u001B[1m419/419\u001B[0m \u001B[32m━━━━━━━━━━━━━━━━━━━━\u001B[0m\u001B[37m\u001B[0m \u001B[1m0s\u001B[0m 703us/step - accuracy: 0.8750 - auc_4: 0.6972 - f1_score: 0.2223 - loss: 662.8398 - val_accuracy: 0.8911 - val_auc_4: 0.6620 - val_f1_score: 0.1965 - val_loss: 737.4274\n",
      "Epoch 34/200\n",
      "\u001B[1m419/419\u001B[0m \u001B[32m━━━━━━━━━━━━━━━━━━━━\u001B[0m\u001B[37m\u001B[0m \u001B[1m0s\u001B[0m 698us/step - accuracy: 0.8750 - auc_4: 0.6982 - f1_score: 0.2223 - loss: 658.4838 - val_accuracy: 0.8911 - val_auc_4: 0.6604 - val_f1_score: 0.1965 - val_loss: 732.2485\n",
      "Epoch 35/200\n",
      "\u001B[1m419/419\u001B[0m \u001B[32m━━━━━━━━━━━━━━━━━━━━\u001B[0m\u001B[37m\u001B[0m \u001B[1m0s\u001B[0m 736us/step - accuracy: 0.8750 - auc_4: 0.6993 - f1_score: 0.2223 - loss: 654.3916 - val_accuracy: 0.8911 - val_auc_4: 0.6608 - val_f1_score: 0.1965 - val_loss: 727.1181\n",
      "Epoch 36/200\n",
      "\u001B[1m419/419\u001B[0m \u001B[32m━━━━━━━━━━━━━━━━━━━━\u001B[0m\u001B[37m\u001B[0m \u001B[1m0s\u001B[0m 720us/step - accuracy: 0.8750 - auc_4: 0.7001 - f1_score: 0.2223 - loss: 650.4872 - val_accuracy: 0.8911 - val_auc_4: 0.6602 - val_f1_score: 0.1965 - val_loss: 722.0392\n",
      "Epoch 37/200\n",
      "\u001B[1m419/419\u001B[0m \u001B[32m━━━━━━━━━━━━━━━━━━━━\u001B[0m\u001B[37m\u001B[0m \u001B[1m0s\u001B[0m 707us/step - accuracy: 0.8750 - auc_4: 0.7013 - f1_score: 0.2223 - loss: 646.7524 - val_accuracy: 0.8911 - val_auc_4: 0.6632 - val_f1_score: 0.1965 - val_loss: 717.0428\n",
      "Epoch 38/200\n",
      "\u001B[1m419/419\u001B[0m \u001B[32m━━━━━━━━━━━━━━━━━━━━\u001B[0m\u001B[37m\u001B[0m \u001B[1m0s\u001B[0m 722us/step - accuracy: 0.8750 - auc_4: 0.7021 - f1_score: 0.2223 - loss: 643.1577 - val_accuracy: 0.8911 - val_auc_4: 0.6632 - val_f1_score: 0.1965 - val_loss: 712.3145\n",
      "Epoch 39/200\n",
      "\u001B[1m419/419\u001B[0m \u001B[32m━━━━━━━━━━━━━━━━━━━━\u001B[0m\u001B[37m\u001B[0m \u001B[1m0s\u001B[0m 737us/step - accuracy: 0.8750 - auc_4: 0.7029 - f1_score: 0.2223 - loss: 639.7089 - val_accuracy: 0.8911 - val_auc_4: 0.6647 - val_f1_score: 0.1965 - val_loss: 707.7613\n",
      "Epoch 40/200\n",
      "\u001B[1m419/419\u001B[0m \u001B[32m━━━━━━━━━━━━━━━━━━━━\u001B[0m\u001B[37m\u001B[0m \u001B[1m0s\u001B[0m 797us/step - accuracy: 0.8750 - auc_4: 0.7037 - f1_score: 0.2223 - loss: 636.4146 - val_accuracy: 0.8911 - val_auc_4: 0.6629 - val_f1_score: 0.1965 - val_loss: 703.2966\n",
      "Epoch 41/200\n",
      "\u001B[1m419/419\u001B[0m \u001B[32m━━━━━━━━━━━━━━━━━━━━\u001B[0m\u001B[37m\u001B[0m \u001B[1m0s\u001B[0m 815us/step - accuracy: 0.8750 - auc_4: 0.7046 - f1_score: 0.2223 - loss: 633.2495 - val_accuracy: 0.8911 - val_auc_4: 0.6611 - val_f1_score: 0.1965 - val_loss: 698.8715\n",
      "Epoch 42/200\n",
      "\u001B[1m419/419\u001B[0m \u001B[32m━━━━━━━━━━━━━━━━━━━━\u001B[0m\u001B[37m\u001B[0m \u001B[1m0s\u001B[0m 1ms/step - accuracy: 0.8750 - auc_4: 0.7055 - f1_score: 0.2223 - loss: 630.1923 - val_accuracy: 0.8911 - val_auc_4: 0.6603 - val_f1_score: 0.1965 - val_loss: 694.5441\n",
      "Epoch 43/200\n",
      "\u001B[1m419/419\u001B[0m \u001B[32m━━━━━━━━━━━━━━━━━━━━\u001B[0m\u001B[37m\u001B[0m \u001B[1m0s\u001B[0m 865us/step - accuracy: 0.8750 - auc_4: 0.7066 - f1_score: 0.2223 - loss: 627.2326 - val_accuracy: 0.8911 - val_auc_4: 0.6622 - val_f1_score: 0.1965 - val_loss: 690.2726\n",
      "Epoch 44/200\n",
      "\u001B[1m419/419\u001B[0m \u001B[32m━━━━━━━━━━━━━━━━━━━━\u001B[0m\u001B[37m\u001B[0m \u001B[1m0s\u001B[0m 694us/step - accuracy: 0.8750 - auc_4: 0.7074 - f1_score: 0.2223 - loss: 624.3751 - val_accuracy: 0.8911 - val_auc_4: 0.6669 - val_f1_score: 0.1965 - val_loss: 685.9086\n",
      "Epoch 45/200\n",
      "\u001B[1m419/419\u001B[0m \u001B[32m━━━━━━━━━━━━━━━━━━━━\u001B[0m\u001B[37m\u001B[0m \u001B[1m0s\u001B[0m 768us/step - accuracy: 0.8750 - auc_4: 0.7085 - f1_score: 0.2223 - loss: 621.6097 - val_accuracy: 0.8911 - val_auc_4: 0.6635 - val_f1_score: 0.1965 - val_loss: 681.4852\n",
      "Epoch 46/200\n",
      "\u001B[1m419/419\u001B[0m \u001B[32m━━━━━━━━━━━━━━━━━━━━\u001B[0m\u001B[37m\u001B[0m \u001B[1m0s\u001B[0m 728us/step - accuracy: 0.8750 - auc_4: 0.7095 - f1_score: 0.2223 - loss: 618.9382 - val_accuracy: 0.8911 - val_auc_4: 0.6632 - val_f1_score: 0.1965 - val_loss: 677.1259\n",
      "Epoch 47/200\n",
      "\u001B[1m419/419\u001B[0m \u001B[32m━━━━━━━━━━━━━━━━━━━━\u001B[0m\u001B[37m\u001B[0m \u001B[1m0s\u001B[0m 743us/step - accuracy: 0.8750 - auc_4: 0.7103 - f1_score: 0.2223 - loss: 616.3609 - val_accuracy: 0.8911 - val_auc_4: 0.6651 - val_f1_score: 0.1965 - val_loss: 672.8178\n",
      "Epoch 48/200\n",
      "\u001B[1m419/419\u001B[0m \u001B[32m━━━━━━━━━━━━━━━━━━━━\u001B[0m\u001B[37m\u001B[0m \u001B[1m0s\u001B[0m 788us/step - accuracy: 0.8750 - auc_4: 0.7113 - f1_score: 0.2223 - loss: 613.8810 - val_accuracy: 0.8911 - val_auc_4: 0.6656 - val_f1_score: 0.1965 - val_loss: 668.6255\n",
      "Epoch 49/200\n",
      "\u001B[1m419/419\u001B[0m \u001B[32m━━━━━━━━━━━━━━━━━━━━\u001B[0m\u001B[37m\u001B[0m \u001B[1m0s\u001B[0m 738us/step - accuracy: 0.8750 - auc_4: 0.7122 - f1_score: 0.2223 - loss: 611.4866 - val_accuracy: 0.8911 - val_auc_4: 0.6641 - val_f1_score: 0.1965 - val_loss: 664.5699\n",
      "Epoch 50/200\n",
      "\u001B[1m419/419\u001B[0m \u001B[32m━━━━━━━━━━━━━━━━━━━━\u001B[0m\u001B[37m\u001B[0m \u001B[1m0s\u001B[0m 810us/step - accuracy: 0.8750 - auc_4: 0.7132 - f1_score: 0.2223 - loss: 609.1716 - val_accuracy: 0.8911 - val_auc_4: 0.6676 - val_f1_score: 0.1965 - val_loss: 660.4726\n",
      "Epoch 51/200\n",
      "\u001B[1m419/419\u001B[0m \u001B[32m━━━━━━━━━━━━━━━━━━━━\u001B[0m\u001B[37m\u001B[0m \u001B[1m0s\u001B[0m 755us/step - accuracy: 0.8750 - auc_4: 0.7137 - f1_score: 0.2223 - loss: 606.9265 - val_accuracy: 0.8911 - val_auc_4: 0.6672 - val_f1_score: 0.1965 - val_loss: 656.4532\n",
      "Epoch 52/200\n",
      "\u001B[1m419/419\u001B[0m \u001B[32m━━━━━━━━━━━━━━━━━━━━\u001B[0m\u001B[37m\u001B[0m \u001B[1m0s\u001B[0m 717us/step - accuracy: 0.8750 - auc_4: 0.7145 - f1_score: 0.2223 - loss: 604.7449 - val_accuracy: 0.8911 - val_auc_4: 0.6666 - val_f1_score: 0.1965 - val_loss: 652.4829\n",
      "Epoch 53/200\n",
      "\u001B[1m419/419\u001B[0m \u001B[32m━━━━━━━━━━━━━━━━━━━━\u001B[0m\u001B[37m\u001B[0m \u001B[1m0s\u001B[0m 742us/step - accuracy: 0.8750 - auc_4: 0.7154 - f1_score: 0.2223 - loss: 602.6267 - val_accuracy: 0.8911 - val_auc_4: 0.6681 - val_f1_score: 0.1965 - val_loss: 648.5151\n",
      "Epoch 54/200\n",
      "\u001B[1m419/419\u001B[0m \u001B[32m━━━━━━━━━━━━━━━━━━━━\u001B[0m\u001B[37m\u001B[0m \u001B[1m0s\u001B[0m 729us/step - accuracy: 0.8750 - auc_4: 0.7159 - f1_score: 0.2223 - loss: 600.5743 - val_accuracy: 0.8911 - val_auc_4: 0.6709 - val_f1_score: 0.1965 - val_loss: 644.5064\n",
      "Epoch 55/200\n",
      "\u001B[1m419/419\u001B[0m \u001B[32m━━━━━━━━━━━━━━━━━━━━\u001B[0m\u001B[37m\u001B[0m \u001B[1m0s\u001B[0m 744us/step - accuracy: 0.8750 - auc_4: 0.7168 - f1_score: 0.2223 - loss: 598.5731 - val_accuracy: 0.8911 - val_auc_4: 0.6702 - val_f1_score: 0.1965 - val_loss: 640.5411\n",
      "Epoch 56/200\n",
      "\u001B[1m419/419\u001B[0m \u001B[32m━━━━━━━━━━━━━━━━━━━━\u001B[0m\u001B[37m\u001B[0m \u001B[1m0s\u001B[0m 1ms/step - accuracy: 0.8750 - auc_4: 0.7175 - f1_score: 0.2223 - loss: 596.6133 - val_accuracy: 0.8911 - val_auc_4: 0.6713 - val_f1_score: 0.1965 - val_loss: 636.7484\n",
      "Epoch 57/200\n",
      "\u001B[1m419/419\u001B[0m \u001B[32m━━━━━━━━━━━━━━━━━━━━\u001B[0m\u001B[37m\u001B[0m \u001B[1m0s\u001B[0m 895us/step - accuracy: 0.8750 - auc_4: 0.7183 - f1_score: 0.2223 - loss: 594.6987 - val_accuracy: 0.8911 - val_auc_4: 0.6694 - val_f1_score: 0.1965 - val_loss: 633.0470\n",
      "Epoch 58/200\n",
      "\u001B[1m419/419\u001B[0m \u001B[32m━━━━━━━━━━━━━━━━━━━━\u001B[0m\u001B[37m\u001B[0m \u001B[1m0s\u001B[0m 885us/step - accuracy: 0.8750 - auc_4: 0.7190 - f1_score: 0.2223 - loss: 592.8211 - val_accuracy: 0.8911 - val_auc_4: 0.6702 - val_f1_score: 0.1965 - val_loss: 629.4686\n",
      "Epoch 59/200\n",
      "\u001B[1m419/419\u001B[0m \u001B[32m━━━━━━━━━━━━━━━━━━━━\u001B[0m\u001B[37m\u001B[0m \u001B[1m0s\u001B[0m 766us/step - accuracy: 0.8750 - auc_4: 0.7197 - f1_score: 0.2223 - loss: 590.9929 - val_accuracy: 0.8911 - val_auc_4: 0.6677 - val_f1_score: 0.1965 - val_loss: 625.9331\n",
      "Epoch 60/200\n",
      "\u001B[1m419/419\u001B[0m \u001B[32m━━━━━━━━━━━━━━━━━━━━\u001B[0m\u001B[37m\u001B[0m \u001B[1m0s\u001B[0m 754us/step - accuracy: 0.8750 - auc_4: 0.7204 - f1_score: 0.2223 - loss: 589.2036 - val_accuracy: 0.8911 - val_auc_4: 0.6677 - val_f1_score: 0.1965 - val_loss: 622.4139\n",
      "Epoch 61/200\n",
      "\u001B[1m419/419\u001B[0m \u001B[32m━━━━━━━━━━━━━━━━━━━━\u001B[0m\u001B[37m\u001B[0m \u001B[1m0s\u001B[0m 770us/step - accuracy: 0.8750 - auc_4: 0.7211 - f1_score: 0.2223 - loss: 587.4493 - val_accuracy: 0.8911 - val_auc_4: 0.6675 - val_f1_score: 0.1965 - val_loss: 619.0092\n",
      "Epoch 62/200\n",
      "\u001B[1m419/419\u001B[0m \u001B[32m━━━━━━━━━━━━━━━━━━━━\u001B[0m\u001B[37m\u001B[0m \u001B[1m0s\u001B[0m 746us/step - accuracy: 0.8750 - auc_4: 0.7218 - f1_score: 0.2223 - loss: 585.7355 - val_accuracy: 0.8911 - val_auc_4: 0.6669 - val_f1_score: 0.1965 - val_loss: 615.5430\n",
      "Epoch 63/200\n",
      "\u001B[1m419/419\u001B[0m \u001B[32m━━━━━━━━━━━━━━━━━━━━\u001B[0m\u001B[37m\u001B[0m \u001B[1m0s\u001B[0m 745us/step - accuracy: 0.8750 - auc_4: 0.7225 - f1_score: 0.2223 - loss: 584.0563 - val_accuracy: 0.8911 - val_auc_4: 0.6657 - val_f1_score: 0.1965 - val_loss: 612.1453\n",
      "Epoch 64/200\n",
      "\u001B[1m419/419\u001B[0m \u001B[32m━━━━━━━━━━━━━━━━━━━━\u001B[0m\u001B[37m\u001B[0m \u001B[1m0s\u001B[0m 725us/step - accuracy: 0.8750 - auc_4: 0.7233 - f1_score: 0.2223 - loss: 582.4098 - val_accuracy: 0.8911 - val_auc_4: 0.6682 - val_f1_score: 0.1965 - val_loss: 608.8386\n",
      "Epoch 65/200\n",
      "\u001B[1m419/419\u001B[0m \u001B[32m━━━━━━━━━━━━━━━━━━━━\u001B[0m\u001B[37m\u001B[0m \u001B[1m0s\u001B[0m 748us/step - accuracy: 0.8750 - auc_4: 0.7240 - f1_score: 0.2223 - loss: 580.7983 - val_accuracy: 0.8911 - val_auc_4: 0.6695 - val_f1_score: 0.1965 - val_loss: 605.6873\n",
      "Epoch 66/200\n",
      "\u001B[1m419/419\u001B[0m \u001B[32m━━━━━━━━━━━━━━━━━━━━\u001B[0m\u001B[37m\u001B[0m \u001B[1m0s\u001B[0m 839us/step - accuracy: 0.8750 - auc_4: 0.7250 - f1_score: 0.2223 - loss: 579.2125 - val_accuracy: 0.8911 - val_auc_4: 0.6722 - val_f1_score: 0.1965 - val_loss: 602.6767\n",
      "Epoch 67/200\n",
      "\u001B[1m419/419\u001B[0m \u001B[32m━━━━━━━━━━━━━━━━━━━━\u001B[0m\u001B[37m\u001B[0m \u001B[1m0s\u001B[0m 995us/step - accuracy: 0.8750 - auc_4: 0.7257 - f1_score: 0.2223 - loss: 577.6552 - val_accuracy: 0.8911 - val_auc_4: 0.6709 - val_f1_score: 0.1965 - val_loss: 599.7070\n",
      "Epoch 68/200\n",
      "\u001B[1m419/419\u001B[0m \u001B[32m━━━━━━━━━━━━━━━━━━━━\u001B[0m\u001B[37m\u001B[0m \u001B[1m0s\u001B[0m 894us/step - accuracy: 0.8750 - auc_4: 0.7269 - f1_score: 0.2223 - loss: 576.1352 - val_accuracy: 0.8911 - val_auc_4: 0.6710 - val_f1_score: 0.1965 - val_loss: 596.8080\n",
      "Epoch 69/200\n",
      "\u001B[1m419/419\u001B[0m \u001B[32m━━━━━━━━━━━━━━━━━━━━\u001B[0m\u001B[37m\u001B[0m \u001B[1m0s\u001B[0m 858us/step - accuracy: 0.8750 - auc_4: 0.7277 - f1_score: 0.2223 - loss: 574.6472 - val_accuracy: 0.8911 - val_auc_4: 0.6721 - val_f1_score: 0.1965 - val_loss: 593.9603\n",
      "Epoch 70/200\n",
      "\u001B[1m419/419\u001B[0m \u001B[32m━━━━━━━━━━━━━━━━━━━━\u001B[0m\u001B[37m\u001B[0m \u001B[1m0s\u001B[0m 768us/step - accuracy: 0.8750 - auc_4: 0.7284 - f1_score: 0.2223 - loss: 573.1807 - val_accuracy: 0.8911 - val_auc_4: 0.6727 - val_f1_score: 0.1965 - val_loss: 591.1071\n",
      "Epoch 71/200\n",
      "\u001B[1m419/419\u001B[0m \u001B[32m━━━━━━━━━━━━━━━━━━━━\u001B[0m\u001B[37m\u001B[0m \u001B[1m0s\u001B[0m 757us/step - accuracy: 0.8750 - auc_4: 0.7293 - f1_score: 0.2223 - loss: 571.7453 - val_accuracy: 0.8911 - val_auc_4: 0.6714 - val_f1_score: 0.1965 - val_loss: 588.3195\n",
      "Epoch 72/200\n",
      "\u001B[1m419/419\u001B[0m \u001B[32m━━━━━━━━━━━━━━━━━━━━\u001B[0m\u001B[37m\u001B[0m \u001B[1m0s\u001B[0m 765us/step - accuracy: 0.8750 - auc_4: 0.7300 - f1_score: 0.2223 - loss: 570.3401 - val_accuracy: 0.8911 - val_auc_4: 0.6714 - val_f1_score: 0.1965 - val_loss: 585.6163\n",
      "Epoch 73/200\n",
      "\u001B[1m419/419\u001B[0m \u001B[32m━━━━━━━━━━━━━━━━━━━━\u001B[0m\u001B[37m\u001B[0m \u001B[1m0s\u001B[0m 747us/step - accuracy: 0.8750 - auc_4: 0.7310 - f1_score: 0.2223 - loss: 568.9551 - val_accuracy: 0.8911 - val_auc_4: 0.6716 - val_f1_score: 0.1965 - val_loss: 582.9995\n",
      "Epoch 74/200\n",
      "\u001B[1m419/419\u001B[0m \u001B[32m━━━━━━━━━━━━━━━━━━━━\u001B[0m\u001B[37m\u001B[0m \u001B[1m0s\u001B[0m 729us/step - accuracy: 0.8750 - auc_4: 0.7320 - f1_score: 0.2223 - loss: 567.6018 - val_accuracy: 0.8911 - val_auc_4: 0.6724 - val_f1_score: 0.1965 - val_loss: 580.3709\n",
      "Epoch 75/200\n",
      "\u001B[1m419/419\u001B[0m \u001B[32m━━━━━━━━━━━━━━━━━━━━\u001B[0m\u001B[37m\u001B[0m \u001B[1m0s\u001B[0m 726us/step - accuracy: 0.8750 - auc_4: 0.7329 - f1_score: 0.2223 - loss: 566.2757 - val_accuracy: 0.8911 - val_auc_4: 0.6731 - val_f1_score: 0.1965 - val_loss: 577.7936\n",
      "Epoch 76/200\n",
      "\u001B[1m419/419\u001B[0m \u001B[32m━━━━━━━━━━━━━━━━━━━━\u001B[0m\u001B[37m\u001B[0m \u001B[1m0s\u001B[0m 699us/step - accuracy: 0.8750 - auc_4: 0.7335 - f1_score: 0.2223 - loss: 564.9736 - val_accuracy: 0.8911 - val_auc_4: 0.6735 - val_f1_score: 0.1965 - val_loss: 575.2816\n",
      "Epoch 77/200\n",
      "\u001B[1m419/419\u001B[0m \u001B[32m━━━━━━━━━━━━━━━━━━━━\u001B[0m\u001B[37m\u001B[0m \u001B[1m0s\u001B[0m 724us/step - accuracy: 0.8750 - auc_4: 0.7340 - f1_score: 0.2223 - loss: 563.6965 - val_accuracy: 0.8911 - val_auc_4: 0.6719 - val_f1_score: 0.1965 - val_loss: 572.8641\n",
      "Epoch 78/200\n",
      "\u001B[1m419/419\u001B[0m \u001B[32m━━━━━━━━━━━━━━━━━━━━\u001B[0m\u001B[37m\u001B[0m \u001B[1m0s\u001B[0m 960us/step - accuracy: 0.8750 - auc_4: 0.7349 - f1_score: 0.2223 - loss: 562.4411 - val_accuracy: 0.8911 - val_auc_4: 0.6745 - val_f1_score: 0.1965 - val_loss: 570.5334\n",
      "Epoch 79/200\n",
      "\u001B[1m419/419\u001B[0m \u001B[32m━━━━━━━━━━━━━━━━━━━━\u001B[0m\u001B[37m\u001B[0m \u001B[1m0s\u001B[0m 794us/step - accuracy: 0.8750 - auc_4: 0.7355 - f1_score: 0.2223 - loss: 561.2058 - val_accuracy: 0.8911 - val_auc_4: 0.6743 - val_f1_score: 0.1965 - val_loss: 568.3072\n",
      "Epoch 80/200\n",
      "\u001B[1m419/419\u001B[0m \u001B[32m━━━━━━━━━━━━━━━━━━━━\u001B[0m\u001B[37m\u001B[0m \u001B[1m0s\u001B[0m 844us/step - accuracy: 0.8750 - auc_4: 0.7361 - f1_score: 0.2223 - loss: 559.9832 - val_accuracy: 0.8911 - val_auc_4: 0.6730 - val_f1_score: 0.1965 - val_loss: 566.1485\n",
      "Epoch 81/200\n",
      "\u001B[1m419/419\u001B[0m \u001B[32m━━━━━━━━━━━━━━━━━━━━\u001B[0m\u001B[37m\u001B[0m \u001B[1m0s\u001B[0m 826us/step - accuracy: 0.8750 - auc_4: 0.7367 - f1_score: 0.2223 - loss: 558.7756 - val_accuracy: 0.8911 - val_auc_4: 0.6709 - val_f1_score: 0.1965 - val_loss: 564.0312\n",
      "Epoch 82/200\n",
      "\u001B[1m419/419\u001B[0m \u001B[32m━━━━━━━━━━━━━━━━━━━━\u001B[0m\u001B[37m\u001B[0m \u001B[1m0s\u001B[0m 708us/step - accuracy: 0.8750 - auc_4: 0.7376 - f1_score: 0.2223 - loss: 557.5821 - val_accuracy: 0.8911 - val_auc_4: 0.6722 - val_f1_score: 0.1965 - val_loss: 561.9153\n",
      "Epoch 83/200\n",
      "\u001B[1m419/419\u001B[0m \u001B[32m━━━━━━━━━━━━━━━━━━━━\u001B[0m\u001B[37m\u001B[0m \u001B[1m0s\u001B[0m 664us/step - accuracy: 0.8750 - auc_4: 0.7384 - f1_score: 0.2223 - loss: 556.3986 - val_accuracy: 0.8911 - val_auc_4: 0.6716 - val_f1_score: 0.1965 - val_loss: 559.9485\n",
      "Epoch 84/200\n",
      "\u001B[1m419/419\u001B[0m \u001B[32m━━━━━━━━━━━━━━━━━━━━\u001B[0m\u001B[37m\u001B[0m \u001B[1m0s\u001B[0m 838us/step - accuracy: 0.8750 - auc_4: 0.7391 - f1_score: 0.2223 - loss: 555.2306 - val_accuracy: 0.8911 - val_auc_4: 0.6724 - val_f1_score: 0.1965 - val_loss: 558.0300\n",
      "Epoch 85/200\n",
      "\u001B[1m419/419\u001B[0m \u001B[32m━━━━━━━━━━━━━━━━━━━━\u001B[0m\u001B[37m\u001B[0m \u001B[1m0s\u001B[0m 726us/step - accuracy: 0.8750 - auc_4: 0.7402 - f1_score: 0.2223 - loss: 554.0790 - val_accuracy: 0.8911 - val_auc_4: 0.6760 - val_f1_score: 0.1965 - val_loss: 556.0998\n",
      "Epoch 86/200\n",
      "\u001B[1m419/419\u001B[0m \u001B[32m━━━━━━━━━━━━━━━━━━━━\u001B[0m\u001B[37m\u001B[0m \u001B[1m0s\u001B[0m 732us/step - accuracy: 0.8750 - auc_4: 0.7408 - f1_score: 0.2223 - loss: 552.9378 - val_accuracy: 0.8911 - val_auc_4: 0.6757 - val_f1_score: 0.1965 - val_loss: 554.2283\n",
      "Epoch 87/200\n",
      "\u001B[1m419/419\u001B[0m \u001B[32m━━━━━━━━━━━━━━━━━━━━\u001B[0m\u001B[37m\u001B[0m \u001B[1m0s\u001B[0m 724us/step - accuracy: 0.8750 - auc_4: 0.7415 - f1_score: 0.2223 - loss: 551.8156 - val_accuracy: 0.8911 - val_auc_4: 0.6767 - val_f1_score: 0.1965 - val_loss: 552.3509\n",
      "Epoch 88/200\n",
      "\u001B[1m419/419\u001B[0m \u001B[32m━━━━━━━━━━━━━━━━━━━━\u001B[0m\u001B[37m\u001B[0m \u001B[1m0s\u001B[0m 719us/step - accuracy: 0.8750 - auc_4: 0.7423 - f1_score: 0.2223 - loss: 550.7051 - val_accuracy: 0.8911 - val_auc_4: 0.6774 - val_f1_score: 0.1965 - val_loss: 550.5029\n",
      "Epoch 89/200\n",
      "\u001B[1m419/419\u001B[0m \u001B[32m━━━━━━━━━━━━━━━━━━━━\u001B[0m\u001B[37m\u001B[0m \u001B[1m0s\u001B[0m 687us/step - accuracy: 0.8750 - auc_4: 0.7431 - f1_score: 0.2223 - loss: 549.6049 - val_accuracy: 0.8911 - val_auc_4: 0.6775 - val_f1_score: 0.1965 - val_loss: 548.7502\n",
      "Epoch 90/200\n",
      "\u001B[1m419/419\u001B[0m \u001B[32m━━━━━━━━━━━━━━━━━━━━\u001B[0m\u001B[37m\u001B[0m \u001B[1m0s\u001B[0m 733us/step - accuracy: 0.8750 - auc_4: 0.7439 - f1_score: 0.2223 - loss: 548.5195 - val_accuracy: 0.8911 - val_auc_4: 0.6778 - val_f1_score: 0.1965 - val_loss: 547.0430\n",
      "Epoch 91/200\n",
      "\u001B[1m419/419\u001B[0m \u001B[32m━━━━━━━━━━━━━━━━━━━━\u001B[0m\u001B[37m\u001B[0m \u001B[1m0s\u001B[0m 699us/step - accuracy: 0.8750 - auc_4: 0.7447 - f1_score: 0.2223 - loss: 547.4476 - val_accuracy: 0.8911 - val_auc_4: 0.6788 - val_f1_score: 0.1965 - val_loss: 545.3835\n",
      "Epoch 92/200\n",
      "\u001B[1m419/419\u001B[0m \u001B[32m━━━━━━━━━━━━━━━━━━━━\u001B[0m\u001B[37m\u001B[0m \u001B[1m0s\u001B[0m 733us/step - accuracy: 0.8750 - auc_4: 0.7453 - f1_score: 0.2223 - loss: 546.3885 - val_accuracy: 0.8911 - val_auc_4: 0.6785 - val_f1_score: 0.1965 - val_loss: 543.6931\n",
      "Epoch 93/200\n",
      "\u001B[1m419/419\u001B[0m \u001B[32m━━━━━━━━━━━━━━━━━━━━\u001B[0m\u001B[37m\u001B[0m \u001B[1m0s\u001B[0m 778us/step - accuracy: 0.8751 - auc_4: 0.7460 - f1_score: 0.2223 - loss: 545.3415 - val_accuracy: 0.8911 - val_auc_4: 0.6785 - val_f1_score: 0.1965 - val_loss: 542.0182\n",
      "Epoch 94/200\n",
      "\u001B[1m419/419\u001B[0m \u001B[32m━━━━━━━━━━━━━━━━━━━━\u001B[0m\u001B[37m\u001B[0m \u001B[1m0s\u001B[0m 908us/step - accuracy: 0.8751 - auc_4: 0.7467 - f1_score: 0.2223 - loss: 544.3083 - val_accuracy: 0.8911 - val_auc_4: 0.6769 - val_f1_score: 0.1965 - val_loss: 540.2875\n",
      "Epoch 95/200\n",
      "\u001B[1m419/419\u001B[0m \u001B[32m━━━━━━━━━━━━━━━━━━━━\u001B[0m\u001B[37m\u001B[0m \u001B[1m0s\u001B[0m 944us/step - accuracy: 0.8751 - auc_4: 0.7474 - f1_score: 0.2223 - loss: 543.2853 - val_accuracy: 0.8911 - val_auc_4: 0.6758 - val_f1_score: 0.1965 - val_loss: 538.5621\n",
      "Epoch 96/200\n",
      "\u001B[1m419/419\u001B[0m \u001B[32m━━━━━━━━━━━━━━━━━━━━\u001B[0m\u001B[37m\u001B[0m \u001B[1m0s\u001B[0m 981us/step - accuracy: 0.8751 - auc_4: 0.7482 - f1_score: 0.2223 - loss: 542.2791 - val_accuracy: 0.8911 - val_auc_4: 0.6759 - val_f1_score: 0.1965 - val_loss: 536.8636\n",
      "Epoch 97/200\n",
      "\u001B[1m419/419\u001B[0m \u001B[32m━━━━━━━━━━━━━━━━━━━━\u001B[0m\u001B[37m\u001B[0m \u001B[1m0s\u001B[0m 823us/step - accuracy: 0.8751 - auc_4: 0.7491 - f1_score: 0.2223 - loss: 541.2900 - val_accuracy: 0.8911 - val_auc_4: 0.6767 - val_f1_score: 0.1965 - val_loss: 535.1469\n",
      "Epoch 98/200\n",
      "\u001B[1m419/419\u001B[0m \u001B[32m━━━━━━━━━━━━━━━━━━━━\u001B[0m\u001B[37m\u001B[0m \u001B[1m0s\u001B[0m 795us/step - accuracy: 0.8751 - auc_4: 0.7499 - f1_score: 0.2223 - loss: 540.3122 - val_accuracy: 0.8911 - val_auc_4: 0.6768 - val_f1_score: 0.1965 - val_loss: 533.4470\n",
      "Epoch 99/200\n",
      "\u001B[1m419/419\u001B[0m \u001B[32m━━━━━━━━━━━━━━━━━━━━\u001B[0m\u001B[37m\u001B[0m \u001B[1m0s\u001B[0m 763us/step - accuracy: 0.8751 - auc_4: 0.7506 - f1_score: 0.2223 - loss: 539.3460 - val_accuracy: 0.8911 - val_auc_4: 0.6777 - val_f1_score: 0.1965 - val_loss: 531.7258\n",
      "Epoch 100/200\n",
      "\u001B[1m419/419\u001B[0m \u001B[32m━━━━━━━━━━━━━━━━━━━━\u001B[0m\u001B[37m\u001B[0m \u001B[1m0s\u001B[0m 733us/step - accuracy: 0.8751 - auc_4: 0.7515 - f1_score: 0.2223 - loss: 538.3873 - val_accuracy: 0.8911 - val_auc_4: 0.6779 - val_f1_score: 0.1965 - val_loss: 530.0265\n",
      "Epoch 101/200\n",
      "\u001B[1m419/419\u001B[0m \u001B[32m━━━━━━━━━━━━━━━━━━━━\u001B[0m\u001B[37m\u001B[0m \u001B[1m0s\u001B[0m 703us/step - accuracy: 0.8751 - auc_4: 0.7521 - f1_score: 0.2223 - loss: 537.4406 - val_accuracy: 0.8911 - val_auc_4: 0.6774 - val_f1_score: 0.1965 - val_loss: 528.3421\n",
      "Epoch 102/200\n",
      "\u001B[1m419/419\u001B[0m \u001B[32m━━━━━━━━━━━━━━━━━━━━\u001B[0m\u001B[37m\u001B[0m \u001B[1m0s\u001B[0m 766us/step - accuracy: 0.8751 - auc_4: 0.7529 - f1_score: 0.2223 - loss: 536.5018 - val_accuracy: 0.8911 - val_auc_4: 0.6777 - val_f1_score: 0.1965 - val_loss: 526.6680\n",
      "Epoch 103/200\n",
      "\u001B[1m419/419\u001B[0m \u001B[32m━━━━━━━━━━━━━━━━━━━━\u001B[0m\u001B[37m\u001B[0m \u001B[1m0s\u001B[0m 706us/step - accuracy: 0.8751 - auc_4: 0.7536 - f1_score: 0.2223 - loss: 535.5745 - val_accuracy: 0.8911 - val_auc_4: 0.6786 - val_f1_score: 0.1965 - val_loss: 524.9967\n",
      "Epoch 104/200\n",
      "\u001B[1m419/419\u001B[0m \u001B[32m━━━━━━━━━━━━━━━━━━━━\u001B[0m\u001B[37m\u001B[0m \u001B[1m0s\u001B[0m 676us/step - accuracy: 0.8751 - auc_4: 0.7544 - f1_score: 0.2223 - loss: 534.6587 - val_accuracy: 0.8911 - val_auc_4: 0.6818 - val_f1_score: 0.1965 - val_loss: 523.3652\n",
      "Epoch 105/200\n",
      "\u001B[1m419/419\u001B[0m \u001B[32m━━━━━━━━━━━━━━━━━━━━\u001B[0m\u001B[37m\u001B[0m \u001B[1m0s\u001B[0m 701us/step - accuracy: 0.8751 - auc_4: 0.7552 - f1_score: 0.2223 - loss: 533.7543 - val_accuracy: 0.8911 - val_auc_4: 0.6812 - val_f1_score: 0.1965 - val_loss: 521.7517\n",
      "Epoch 106/200\n",
      "\u001B[1m419/419\u001B[0m \u001B[32m━━━━━━━━━━━━━━━━━━━━\u001B[0m\u001B[37m\u001B[0m \u001B[1m0s\u001B[0m 874us/step - accuracy: 0.8751 - auc_4: 0.7558 - f1_score: 0.2223 - loss: 532.8565 - val_accuracy: 0.8911 - val_auc_4: 0.6822 - val_f1_score: 0.1965 - val_loss: 520.1176\n",
      "Epoch 107/200\n",
      "\u001B[1m419/419\u001B[0m \u001B[32m━━━━━━━━━━━━━━━━━━━━\u001B[0m\u001B[37m\u001B[0m \u001B[1m0s\u001B[0m 879us/step - accuracy: 0.8751 - auc_4: 0.7565 - f1_score: 0.2223 - loss: 531.9703 - val_accuracy: 0.8911 - val_auc_4: 0.6827 - val_f1_score: 0.1965 - val_loss: 518.5396\n",
      "Epoch 108/200\n",
      "\u001B[1m419/419\u001B[0m \u001B[32m━━━━━━━━━━━━━━━━━━━━\u001B[0m\u001B[37m\u001B[0m \u001B[1m0s\u001B[0m 922us/step - accuracy: 0.8751 - auc_4: 0.7573 - f1_score: 0.2223 - loss: 531.0963 - val_accuracy: 0.8911 - val_auc_4: 0.6819 - val_f1_score: 0.1965 - val_loss: 516.9844\n",
      "Epoch 109/200\n",
      "\u001B[1m419/419\u001B[0m \u001B[32m━━━━━━━━━━━━━━━━━━━━\u001B[0m\u001B[37m\u001B[0m \u001B[1m0s\u001B[0m 770us/step - accuracy: 0.8753 - auc_4: 0.7579 - f1_score: 0.2223 - loss: 530.2303 - val_accuracy: 0.8911 - val_auc_4: 0.6819 - val_f1_score: 0.1965 - val_loss: 515.4613\n",
      "Epoch 110/200\n",
      "\u001B[1m419/419\u001B[0m \u001B[32m━━━━━━━━━━━━━━━━━━━━\u001B[0m\u001B[37m\u001B[0m \u001B[1m0s\u001B[0m 728us/step - accuracy: 0.8753 - auc_4: 0.7587 - f1_score: 0.2223 - loss: 529.3700 - val_accuracy: 0.8911 - val_auc_4: 0.6832 - val_f1_score: 0.1965 - val_loss: 513.9733\n",
      "Epoch 111/200\n",
      "\u001B[1m419/419\u001B[0m \u001B[32m━━━━━━━━━━━━━━━━━━━━\u001B[0m\u001B[37m\u001B[0m \u001B[1m0s\u001B[0m 701us/step - accuracy: 0.8753 - auc_4: 0.7594 - f1_score: 0.2223 - loss: 528.5153 - val_accuracy: 0.8911 - val_auc_4: 0.6840 - val_f1_score: 0.1965 - val_loss: 512.5312\n",
      "Epoch 112/200\n",
      "\u001B[1m419/419\u001B[0m \u001B[32m━━━━━━━━━━━━━━━━━━━━\u001B[0m\u001B[37m\u001B[0m \u001B[1m0s\u001B[0m 723us/step - accuracy: 0.8755 - auc_4: 0.7602 - f1_score: 0.2223 - loss: 527.6667 - val_accuracy: 0.8911 - val_auc_4: 0.6823 - val_f1_score: 0.1965 - val_loss: 511.1270\n",
      "Epoch 113/200\n",
      "\u001B[1m419/419\u001B[0m \u001B[32m━━━━━━━━━━━━━━━━━━━━\u001B[0m\u001B[37m\u001B[0m \u001B[1m0s\u001B[0m 696us/step - accuracy: 0.8756 - auc_4: 0.7610 - f1_score: 0.2223 - loss: 526.8254 - val_accuracy: 0.8911 - val_auc_4: 0.6820 - val_f1_score: 0.1965 - val_loss: 509.7452\n",
      "Epoch 114/200\n",
      "\u001B[1m419/419\u001B[0m \u001B[32m━━━━━━━━━━━━━━━━━━━━\u001B[0m\u001B[37m\u001B[0m \u001B[1m0s\u001B[0m 746us/step - accuracy: 0.8756 - auc_4: 0.7616 - f1_score: 0.2223 - loss: 525.9894 - val_accuracy: 0.8911 - val_auc_4: 0.6820 - val_f1_score: 0.1965 - val_loss: 508.3095\n",
      "Epoch 115/200\n",
      "\u001B[1m419/419\u001B[0m \u001B[32m━━━━━━━━━━━━━━━━━━━━\u001B[0m\u001B[37m\u001B[0m \u001B[1m0s\u001B[0m 715us/step - accuracy: 0.8757 - auc_4: 0.7625 - f1_score: 0.2223 - loss: 525.1589 - val_accuracy: 0.8911 - val_auc_4: 0.6818 - val_f1_score: 0.1965 - val_loss: 506.8862\n",
      "Epoch 116/200\n",
      "\u001B[1m419/419\u001B[0m \u001B[32m━━━━━━━━━━━━━━━━━━━━\u001B[0m\u001B[37m\u001B[0m \u001B[1m0s\u001B[0m 716us/step - accuracy: 0.8757 - auc_4: 0.7632 - f1_score: 0.2223 - loss: 524.3339 - val_accuracy: 0.8911 - val_auc_4: 0.6827 - val_f1_score: 0.1965 - val_loss: 505.4649\n",
      "Epoch 117/200\n",
      "\u001B[1m419/419\u001B[0m \u001B[32m━━━━━━━━━━━━━━━━━━━━\u001B[0m\u001B[37m\u001B[0m \u001B[1m0s\u001B[0m 759us/step - accuracy: 0.8757 - auc_4: 0.7639 - f1_score: 0.2223 - loss: 523.5137 - val_accuracy: 0.8911 - val_auc_4: 0.6839 - val_f1_score: 0.1965 - val_loss: 504.0258\n",
      "Epoch 118/200\n",
      "\u001B[1m419/419\u001B[0m \u001B[32m━━━━━━━━━━━━━━━━━━━━\u001B[0m\u001B[37m\u001B[0m \u001B[1m0s\u001B[0m 679us/step - accuracy: 0.8757 - auc_4: 0.7646 - f1_score: 0.2223 - loss: 522.6963 - val_accuracy: 0.8911 - val_auc_4: 0.6845 - val_f1_score: 0.1965 - val_loss: 502.5916\n",
      "Epoch 119/200\n",
      "\u001B[1m419/419\u001B[0m \u001B[32m━━━━━━━━━━━━━━━━━━━━\u001B[0m\u001B[37m\u001B[0m \u001B[1m0s\u001B[0m 766us/step - accuracy: 0.8757 - auc_4: 0.7653 - f1_score: 0.2223 - loss: 521.8833 - val_accuracy: 0.8911 - val_auc_4: 0.6853 - val_f1_score: 0.1965 - val_loss: 501.1460\n",
      "Epoch 120/200\n",
      "\u001B[1m419/419\u001B[0m \u001B[32m━━━━━━━━━━━━━━━━━━━━\u001B[0m\u001B[37m\u001B[0m \u001B[1m0s\u001B[0m 911us/step - accuracy: 0.8757 - auc_4: 0.7660 - f1_score: 0.2223 - loss: 521.0762 - val_accuracy: 0.8911 - val_auc_4: 0.6845 - val_f1_score: 0.1965 - val_loss: 499.7105\n",
      "Epoch 121/200\n",
      "\u001B[1m419/419\u001B[0m \u001B[32m━━━━━━━━━━━━━━━━━━━━\u001B[0m\u001B[37m\u001B[0m \u001B[1m0s\u001B[0m 895us/step - accuracy: 0.8758 - auc_4: 0.7666 - f1_score: 0.2223 - loss: 520.2744 - val_accuracy: 0.8911 - val_auc_4: 0.6837 - val_f1_score: 0.1965 - val_loss: 498.2331\n",
      "Epoch 122/200\n",
      "\u001B[1m419/419\u001B[0m \u001B[32m━━━━━━━━━━━━━━━━━━━━\u001B[0m\u001B[37m\u001B[0m \u001B[1m0s\u001B[0m 916us/step - accuracy: 0.8758 - auc_4: 0.7675 - f1_score: 0.2223 - loss: 519.4793 - val_accuracy: 0.8911 - val_auc_4: 0.6841 - val_f1_score: 0.1965 - val_loss: 496.7709\n",
      "Epoch 123/200\n",
      "\u001B[1m419/419\u001B[0m \u001B[32m━━━━━━━━━━━━━━━━━━━━\u001B[0m\u001B[37m\u001B[0m \u001B[1m0s\u001B[0m 835us/step - accuracy: 0.8758 - auc_4: 0.7684 - f1_score: 0.2223 - loss: 518.6899 - val_accuracy: 0.8911 - val_auc_4: 0.6835 - val_f1_score: 0.1965 - val_loss: 495.3561\n",
      "Epoch 124/200\n",
      "\u001B[1m419/419\u001B[0m \u001B[32m━━━━━━━━━━━━━━━━━━━━\u001B[0m\u001B[37m\u001B[0m \u001B[1m0s\u001B[0m 770us/step - accuracy: 0.8759 - auc_4: 0.7692 - f1_score: 0.2223 - loss: 517.9068 - val_accuracy: 0.8911 - val_auc_4: 0.6839 - val_f1_score: 0.1965 - val_loss: 493.9756\n",
      "Epoch 125/200\n",
      "\u001B[1m419/419\u001B[0m \u001B[32m━━━━━━━━━━━━━━━━━━━━\u001B[0m\u001B[37m\u001B[0m \u001B[1m0s\u001B[0m 751us/step - accuracy: 0.8760 - auc_4: 0.7698 - f1_score: 0.2223 - loss: 517.1296 - val_accuracy: 0.8911 - val_auc_4: 0.6853 - val_f1_score: 0.1965 - val_loss: 492.5779\n",
      "Epoch 126/200\n",
      "\u001B[1m419/419\u001B[0m \u001B[32m━━━━━━━━━━━━━━━━━━━━\u001B[0m\u001B[37m\u001B[0m \u001B[1m0s\u001B[0m 756us/step - accuracy: 0.8760 - auc_4: 0.7705 - f1_score: 0.2223 - loss: 516.3582 - val_accuracy: 0.8911 - val_auc_4: 0.6859 - val_f1_score: 0.1965 - val_loss: 491.2317\n",
      "Epoch 127/200\n",
      "\u001B[1m419/419\u001B[0m \u001B[32m━━━━━━━━━━━━━━━━━━━━\u001B[0m\u001B[37m\u001B[0m \u001B[1m0s\u001B[0m 791us/step - accuracy: 0.8760 - auc_4: 0.7714 - f1_score: 0.2223 - loss: 515.5905 - val_accuracy: 0.8911 - val_auc_4: 0.6870 - val_f1_score: 0.1965 - val_loss: 489.8914\n",
      "Epoch 128/200\n",
      "\u001B[1m419/419\u001B[0m \u001B[32m━━━━━━━━━━━━━━━━━━━━\u001B[0m\u001B[37m\u001B[0m \u001B[1m0s\u001B[0m 731us/step - accuracy: 0.8761 - auc_4: 0.7721 - f1_score: 0.2223 - loss: 514.8262 - val_accuracy: 0.8911 - val_auc_4: 0.6901 - val_f1_score: 0.1965 - val_loss: 488.6101\n",
      "Epoch 129/200\n",
      "\u001B[1m419/419\u001B[0m \u001B[32m━━━━━━━━━━━━━━━━━━━━\u001B[0m\u001B[37m\u001B[0m \u001B[1m0s\u001B[0m 722us/step - accuracy: 0.8763 - auc_4: 0.7726 - f1_score: 0.2223 - loss: 514.0675 - val_accuracy: 0.8911 - val_auc_4: 0.6907 - val_f1_score: 0.1965 - val_loss: 487.3263\n",
      "Epoch 130/200\n",
      "\u001B[1m419/419\u001B[0m \u001B[32m━━━━━━━━━━━━━━━━━━━━\u001B[0m\u001B[37m\u001B[0m \u001B[1m0s\u001B[0m 714us/step - accuracy: 0.8764 - auc_4: 0.7734 - f1_score: 0.2223 - loss: 513.3159 - val_accuracy: 0.8911 - val_auc_4: 0.6894 - val_f1_score: 0.1965 - val_loss: 486.0417\n",
      "Epoch 131/200\n",
      "\u001B[1m419/419\u001B[0m \u001B[32m━━━━━━━━━━━━━━━━━━━━\u001B[0m\u001B[37m\u001B[0m \u001B[1m0s\u001B[0m 723us/step - accuracy: 0.8765 - auc_4: 0.7740 - f1_score: 0.2223 - loss: 512.5686 - val_accuracy: 0.8911 - val_auc_4: 0.6892 - val_f1_score: 0.1965 - val_loss: 484.7619\n",
      "Epoch 132/200\n",
      "\u001B[1m419/419\u001B[0m \u001B[32m━━━━━━━━━━━━━━━━━━━━\u001B[0m\u001B[37m\u001B[0m \u001B[1m0s\u001B[0m 787us/step - accuracy: 0.8765 - auc_4: 0.7746 - f1_score: 0.2223 - loss: 511.8248 - val_accuracy: 0.8911 - val_auc_4: 0.6899 - val_f1_score: 0.1965 - val_loss: 483.5048\n",
      "Epoch 133/200\n",
      "\u001B[1m419/419\u001B[0m \u001B[32m━━━━━━━━━━━━━━━━━━━━\u001B[0m\u001B[37m\u001B[0m \u001B[1m0s\u001B[0m 834us/step - accuracy: 0.8768 - auc_4: 0.7754 - f1_score: 0.2223 - loss: 511.0856 - val_accuracy: 0.8911 - val_auc_4: 0.6886 - val_f1_score: 0.1965 - val_loss: 482.2527\n",
      "Epoch 134/200\n",
      "\u001B[1m419/419\u001B[0m \u001B[32m━━━━━━━━━━━━━━━━━━━━\u001B[0m\u001B[37m\u001B[0m \u001B[1m0s\u001B[0m 911us/step - accuracy: 0.8768 - auc_4: 0.7762 - f1_score: 0.2223 - loss: 510.3516 - val_accuracy: 0.8911 - val_auc_4: 0.6874 - val_f1_score: 0.1965 - val_loss: 481.0274\n",
      "Epoch 135/200\n",
      "\u001B[1m419/419\u001B[0m \u001B[32m━━━━━━━━━━━━━━━━━━━━\u001B[0m\u001B[37m\u001B[0m \u001B[1m0s\u001B[0m 837us/step - accuracy: 0.8769 - auc_4: 0.7770 - f1_score: 0.2223 - loss: 509.6215 - val_accuracy: 0.8911 - val_auc_4: 0.6875 - val_f1_score: 0.1965 - val_loss: 479.7998\n",
      "Epoch 136/200\n",
      "\u001B[1m419/419\u001B[0m \u001B[32m━━━━━━━━━━━━━━━━━━━━\u001B[0m\u001B[37m\u001B[0m \u001B[1m0s\u001B[0m 688us/step - accuracy: 0.8769 - auc_4: 0.7774 - f1_score: 0.2223 - loss: 508.8944 - val_accuracy: 0.8911 - val_auc_4: 0.6887 - val_f1_score: 0.1965 - val_loss: 478.5957\n",
      "Epoch 137/200\n",
      "\u001B[1m419/419\u001B[0m \u001B[32m━━━━━━━━━━━━━━━━━━━━\u001B[0m\u001B[37m\u001B[0m \u001B[1m0s\u001B[0m 742us/step - accuracy: 0.8769 - auc_4: 0.7781 - f1_score: 0.2223 - loss: 508.1693 - val_accuracy: 0.8911 - val_auc_4: 0.6901 - val_f1_score: 0.1965 - val_loss: 477.4048\n",
      "Epoch 138/200\n",
      "\u001B[1m419/419\u001B[0m \u001B[32m━━━━━━━━━━━━━━━━━━━━\u001B[0m\u001B[37m\u001B[0m \u001B[1m0s\u001B[0m 772us/step - accuracy: 0.8769 - auc_4: 0.7788 - f1_score: 0.2223 - loss: 507.4474 - val_accuracy: 0.8911 - val_auc_4: 0.6902 - val_f1_score: 0.1965 - val_loss: 476.2098\n",
      "Epoch 139/200\n",
      "\u001B[1m419/419\u001B[0m \u001B[32m━━━━━━━━━━━━━━━━━━━━\u001B[0m\u001B[37m\u001B[0m \u001B[1m0s\u001B[0m 711us/step - accuracy: 0.8770 - auc_4: 0.7797 - f1_score: 0.2223 - loss: 506.7299 - val_accuracy: 0.8911 - val_auc_4: 0.6916 - val_f1_score: 0.1965 - val_loss: 475.0405\n",
      "Epoch 140/200\n",
      "\u001B[1m419/419\u001B[0m \u001B[32m━━━━━━━━━━━━━━━━━━━━\u001B[0m\u001B[37m\u001B[0m \u001B[1m0s\u001B[0m 745us/step - accuracy: 0.8770 - auc_4: 0.7804 - f1_score: 0.2223 - loss: 506.0157 - val_accuracy: 0.8911 - val_auc_4: 0.6939 - val_f1_score: 0.1965 - val_loss: 473.8836\n",
      "Epoch 141/200\n",
      "\u001B[1m419/419\u001B[0m \u001B[32m━━━━━━━━━━━━━━━━━━━━\u001B[0m\u001B[37m\u001B[0m \u001B[1m0s\u001B[0m 745us/step - accuracy: 0.8773 - auc_4: 0.7809 - f1_score: 0.2223 - loss: 505.3062 - val_accuracy: 0.8911 - val_auc_4: 0.6932 - val_f1_score: 0.1965 - val_loss: 472.6931\n",
      "Epoch 142/200\n",
      "\u001B[1m419/419\u001B[0m \u001B[32m━━━━━━━━━━━━━━━━━━━━\u001B[0m\u001B[37m\u001B[0m \u001B[1m0s\u001B[0m 751us/step - accuracy: 0.8774 - auc_4: 0.7815 - f1_score: 0.2223 - loss: 504.6022 - val_accuracy: 0.8911 - val_auc_4: 0.6936 - val_f1_score: 0.1965 - val_loss: 471.5343\n",
      "Epoch 143/200\n",
      "\u001B[1m419/419\u001B[0m \u001B[32m━━━━━━━━━━━━━━━━━━━━\u001B[0m\u001B[37m\u001B[0m \u001B[1m0s\u001B[0m 716us/step - accuracy: 0.8776 - auc_4: 0.7824 - f1_score: 0.2223 - loss: 503.9036 - val_accuracy: 0.8911 - val_auc_4: 0.6926 - val_f1_score: 0.1965 - val_loss: 470.4199\n",
      "Epoch 144/200\n",
      "\u001B[1m419/419\u001B[0m \u001B[32m━━━━━━━━━━━━━━━━━━━━\u001B[0m\u001B[37m\u001B[0m \u001B[1m0s\u001B[0m 703us/step - accuracy: 0.8777 - auc_4: 0.7832 - f1_score: 0.2223 - loss: 503.2133 - val_accuracy: 0.8911 - val_auc_4: 0.6924 - val_f1_score: 0.1965 - val_loss: 469.3541\n",
      "Epoch 145/200\n",
      "\u001B[1m419/419\u001B[0m \u001B[32m━━━━━━━━━━━━━━━━━━━━\u001B[0m\u001B[37m\u001B[0m \u001B[1m0s\u001B[0m 714us/step - accuracy: 0.8777 - auc_4: 0.7837 - f1_score: 0.2223 - loss: 502.5296 - val_accuracy: 0.8911 - val_auc_4: 0.6923 - val_f1_score: 0.1965 - val_loss: 468.2781\n",
      "Epoch 146/200\n",
      "\u001B[1m419/419\u001B[0m \u001B[32m━━━━━━━━━━━━━━━━━━━━\u001B[0m\u001B[37m\u001B[0m \u001B[1m0s\u001B[0m 747us/step - accuracy: 0.8777 - auc_4: 0.7843 - f1_score: 0.2223 - loss: 501.8504 - val_accuracy: 0.8911 - val_auc_4: 0.6933 - val_f1_score: 0.1965 - val_loss: 467.2048\n",
      "Epoch 147/200\n",
      "\u001B[1m419/419\u001B[0m \u001B[32m━━━━━━━━━━━━━━━━━━━━\u001B[0m\u001B[37m\u001B[0m \u001B[1m0s\u001B[0m 763us/step - accuracy: 0.8779 - auc_4: 0.7848 - f1_score: 0.2223 - loss: 501.1753 - val_accuracy: 0.8911 - val_auc_4: 0.6948 - val_f1_score: 0.1965 - val_loss: 466.1560\n",
      "Epoch 148/200\n",
      "\u001B[1m419/419\u001B[0m \u001B[32m━━━━━━━━━━━━━━━━━━━━\u001B[0m\u001B[37m\u001B[0m \u001B[1m0s\u001B[0m 913us/step - accuracy: 0.8779 - auc_4: 0.7855 - f1_score: 0.2223 - loss: 500.5045 - val_accuracy: 0.8911 - val_auc_4: 0.6943 - val_f1_score: 0.1965 - val_loss: 465.1253\n",
      "Epoch 149/200\n",
      "\u001B[1m419/419\u001B[0m \u001B[32m━━━━━━━━━━━━━━━━━━━━\u001B[0m\u001B[37m\u001B[0m \u001B[1m0s\u001B[0m 862us/step - accuracy: 0.8780 - auc_4: 0.7863 - f1_score: 0.2223 - loss: 499.8403 - val_accuracy: 0.8911 - val_auc_4: 0.6950 - val_f1_score: 0.1965 - val_loss: 464.0952\n",
      "Epoch 150/200\n",
      "\u001B[1m419/419\u001B[0m \u001B[32m━━━━━━━━━━━━━━━━━━━━\u001B[0m\u001B[37m\u001B[0m \u001B[1m0s\u001B[0m 732us/step - accuracy: 0.8780 - auc_4: 0.7870 - f1_score: 0.2223 - loss: 499.1810 - val_accuracy: 0.8911 - val_auc_4: 0.6937 - val_f1_score: 0.1965 - val_loss: 463.0412\n",
      "Epoch 151/200\n",
      "\u001B[1m419/419\u001B[0m \u001B[32m━━━━━━━━━━━━━━━━━━━━\u001B[0m\u001B[37m\u001B[0m \u001B[1m0s\u001B[0m 721us/step - accuracy: 0.8781 - auc_4: 0.7876 - f1_score: 0.2223 - loss: 498.5278 - val_accuracy: 0.8911 - val_auc_4: 0.6928 - val_f1_score: 0.1965 - val_loss: 461.9830\n",
      "Epoch 152/200\n",
      "\u001B[1m419/419\u001B[0m \u001B[32m━━━━━━━━━━━━━━━━━━━━\u001B[0m\u001B[37m\u001B[0m \u001B[1m0s\u001B[0m 740us/step - accuracy: 0.8780 - auc_4: 0.7883 - f1_score: 0.2223 - loss: 497.8779 - val_accuracy: 0.8911 - val_auc_4: 0.6940 - val_f1_score: 0.1965 - val_loss: 460.9261\n",
      "Epoch 153/200\n",
      "\u001B[1m419/419\u001B[0m \u001B[32m━━━━━━━━━━━━━━━━━━━━\u001B[0m\u001B[37m\u001B[0m \u001B[1m0s\u001B[0m 715us/step - accuracy: 0.8781 - auc_4: 0.7889 - f1_score: 0.2223 - loss: 497.2327 - val_accuracy: 0.8911 - val_auc_4: 0.6946 - val_f1_score: 0.1965 - val_loss: 459.8964\n",
      "Epoch 154/200\n",
      "\u001B[1m419/419\u001B[0m \u001B[32m━━━━━━━━━━━━━━━━━━━━\u001B[0m\u001B[37m\u001B[0m \u001B[1m0s\u001B[0m 742us/step - accuracy: 0.8781 - auc_4: 0.7894 - f1_score: 0.2223 - loss: 496.5919 - val_accuracy: 0.8911 - val_auc_4: 0.6952 - val_f1_score: 0.1965 - val_loss: 458.8661\n",
      "Epoch 155/200\n",
      "\u001B[1m419/419\u001B[0m \u001B[32m━━━━━━━━━━━━━━━━━━━━\u001B[0m\u001B[37m\u001B[0m \u001B[1m0s\u001B[0m 715us/step - accuracy: 0.8782 - auc_4: 0.7899 - f1_score: 0.2223 - loss: 495.9534 - val_accuracy: 0.8911 - val_auc_4: 0.6950 - val_f1_score: 0.1965 - val_loss: 457.8288\n",
      "Epoch 156/200\n",
      "\u001B[1m419/419\u001B[0m \u001B[32m━━━━━━━━━━━━━━━━━━━━\u001B[0m\u001B[37m\u001B[0m \u001B[1m0s\u001B[0m 858us/step - accuracy: 0.8783 - auc_4: 0.7904 - f1_score: 0.2223 - loss: 495.3203 - val_accuracy: 0.8911 - val_auc_4: 0.6942 - val_f1_score: 0.1965 - val_loss: 456.8294\n",
      "Epoch 157/200\n",
      "\u001B[1m419/419\u001B[0m \u001B[32m━━━━━━━━━━━━━━━━━━━━\u001B[0m\u001B[37m\u001B[0m \u001B[1m0s\u001B[0m 733us/step - accuracy: 0.8783 - auc_4: 0.7911 - f1_score: 0.2223 - loss: 494.6945 - val_accuracy: 0.8911 - val_auc_4: 0.6957 - val_f1_score: 0.1965 - val_loss: 455.8544\n",
      "Epoch 158/200\n",
      "\u001B[1m419/419\u001B[0m \u001B[32m━━━━━━━━━━━━━━━━━━━━\u001B[0m\u001B[37m\u001B[0m \u001B[1m0s\u001B[0m 682us/step - accuracy: 0.8783 - auc_4: 0.7916 - f1_score: 0.2223 - loss: 494.0734 - val_accuracy: 0.8911 - val_auc_4: 0.6967 - val_f1_score: 0.1965 - val_loss: 454.8779\n",
      "Epoch 159/200\n",
      "\u001B[1m419/419\u001B[0m \u001B[32m━━━━━━━━━━━━━━━━━━━━\u001B[0m\u001B[37m\u001B[0m \u001B[1m0s\u001B[0m 704us/step - accuracy: 0.8784 - auc_4: 0.7923 - f1_score: 0.2223 - loss: 493.4548 - val_accuracy: 0.8911 - val_auc_4: 0.6965 - val_f1_score: 0.1965 - val_loss: 453.9065\n",
      "Epoch 160/200\n",
      "\u001B[1m419/419\u001B[0m \u001B[32m━━━━━━━━━━━━━━━━━━━━\u001B[0m\u001B[37m\u001B[0m \u001B[1m0s\u001B[0m 689us/step - accuracy: 0.8786 - auc_4: 0.7929 - f1_score: 0.2223 - loss: 492.8388 - val_accuracy: 0.8911 - val_auc_4: 0.6980 - val_f1_score: 0.1965 - val_loss: 452.9412\n",
      "Epoch 161/200\n",
      "\u001B[1m419/419\u001B[0m \u001B[32m━━━━━━━━━━━━━━━━━━━━\u001B[0m\u001B[37m\u001B[0m \u001B[1m0s\u001B[0m 701us/step - accuracy: 0.8786 - auc_4: 0.7934 - f1_score: 0.2223 - loss: 492.2263 - val_accuracy: 0.8911 - val_auc_4: 0.6979 - val_f1_score: 0.1965 - val_loss: 451.9995\n",
      "Epoch 162/200\n",
      "\u001B[1m419/419\u001B[0m \u001B[32m━━━━━━━━━━━━━━━━━━━━\u001B[0m\u001B[37m\u001B[0m \u001B[1m0s\u001B[0m 782us/step - accuracy: 0.8787 - auc_4: 0.7941 - f1_score: 0.2223 - loss: 491.6163 - val_accuracy: 0.8911 - val_auc_4: 0.6986 - val_f1_score: 0.1965 - val_loss: 451.0758\n",
      "Epoch 163/200\n",
      "\u001B[1m419/419\u001B[0m \u001B[32m━━━━━━━━━━━━━━━━━━━━\u001B[0m\u001B[37m\u001B[0m \u001B[1m0s\u001B[0m 824us/step - accuracy: 0.8788 - auc_4: 0.7946 - f1_score: 0.2223 - loss: 491.0078 - val_accuracy: 0.8911 - val_auc_4: 0.6972 - val_f1_score: 0.1965 - val_loss: 450.1538\n",
      "Epoch 164/200\n",
      "\u001B[1m419/419\u001B[0m \u001B[32m━━━━━━━━━━━━━━━━━━━━\u001B[0m\u001B[37m\u001B[0m \u001B[1m0s\u001B[0m 869us/step - accuracy: 0.8788 - auc_4: 0.7952 - f1_score: 0.2223 - loss: 490.4018 - val_accuracy: 0.8911 - val_auc_4: 0.6972 - val_f1_score: 0.1965 - val_loss: 449.2050\n",
      "Epoch 165/200\n",
      "\u001B[1m419/419\u001B[0m \u001B[32m━━━━━━━━━━━━━━━━━━━━\u001B[0m\u001B[37m\u001B[0m \u001B[1m0s\u001B[0m 847us/step - accuracy: 0.8791 - auc_4: 0.7957 - f1_score: 0.2223 - loss: 489.7994 - val_accuracy: 0.8911 - val_auc_4: 0.6981 - val_f1_score: 0.1965 - val_loss: 448.2885\n",
      "Epoch 166/200\n",
      "\u001B[1m419/419\u001B[0m \u001B[32m━━━━━━━━━━━━━━━━━━━━\u001B[0m\u001B[37m\u001B[0m \u001B[1m0s\u001B[0m 672us/step - accuracy: 0.8791 - auc_4: 0.7962 - f1_score: 0.2223 - loss: 489.2017 - val_accuracy: 0.8911 - val_auc_4: 0.6980 - val_f1_score: 0.1965 - val_loss: 447.3829\n",
      "Epoch 167/200\n",
      "\u001B[1m419/419\u001B[0m \u001B[32m━━━━━━━━━━━━━━━━━━━━\u001B[0m\u001B[37m\u001B[0m \u001B[1m0s\u001B[0m 695us/step - accuracy: 0.8792 - auc_4: 0.7969 - f1_score: 0.2223 - loss: 488.6079 - val_accuracy: 0.8911 - val_auc_4: 0.6987 - val_f1_score: 0.1965 - val_loss: 446.4762\n",
      "Epoch 168/200\n",
      "\u001B[1m419/419\u001B[0m \u001B[32m━━━━━━━━━━━━━━━━━━━━\u001B[0m\u001B[37m\u001B[0m \u001B[1m0s\u001B[0m 687us/step - accuracy: 0.8793 - auc_4: 0.7976 - f1_score: 0.2223 - loss: 488.0173 - val_accuracy: 0.8911 - val_auc_4: 0.6988 - val_f1_score: 0.1965 - val_loss: 445.6349\n",
      "Epoch 169/200\n",
      "\u001B[1m419/419\u001B[0m \u001B[32m━━━━━━━━━━━━━━━━━━━━\u001B[0m\u001B[37m\u001B[0m \u001B[1m0s\u001B[0m 665us/step - accuracy: 0.8793 - auc_4: 0.7982 - f1_score: 0.2223 - loss: 487.4306 - val_accuracy: 0.8911 - val_auc_4: 0.6987 - val_f1_score: 0.1965 - val_loss: 444.7992\n",
      "Epoch 170/200\n",
      "\u001B[1m419/419\u001B[0m \u001B[32m━━━━━━━━━━━━━━━━━━━━\u001B[0m\u001B[37m\u001B[0m \u001B[1m0s\u001B[0m 704us/step - accuracy: 0.8794 - auc_4: 0.7987 - f1_score: 0.2223 - loss: 486.8464 - val_accuracy: 0.8911 - val_auc_4: 0.6980 - val_f1_score: 0.1965 - val_loss: 443.9853\n",
      "Epoch 171/200\n",
      "\u001B[1m419/419\u001B[0m \u001B[32m━━━━━━━━━━━━━━━━━━━━\u001B[0m\u001B[37m\u001B[0m \u001B[1m0s\u001B[0m 674us/step - accuracy: 0.8794 - auc_4: 0.7992 - f1_score: 0.2223 - loss: 486.2657 - val_accuracy: 0.8911 - val_auc_4: 0.6998 - val_f1_score: 0.1965 - val_loss: 443.1895\n",
      "Epoch 172/200\n",
      "\u001B[1m419/419\u001B[0m \u001B[32m━━━━━━━━━━━━━━━━━━━━\u001B[0m\u001B[37m\u001B[0m \u001B[1m0s\u001B[0m 728us/step - accuracy: 0.8795 - auc_4: 0.7998 - f1_score: 0.2223 - loss: 485.6914 - val_accuracy: 0.8911 - val_auc_4: 0.6996 - val_f1_score: 0.1965 - val_loss: 442.4209\n",
      "Epoch 173/200\n",
      "\u001B[1m419/419\u001B[0m \u001B[32m━━━━━━━━━━━━━━━━━━━━\u001B[0m\u001B[37m\u001B[0m \u001B[1m0s\u001B[0m 725us/step - accuracy: 0.8792 - auc_4: 0.8004 - f1_score: 0.2223 - loss: 485.1237 - val_accuracy: 0.8911 - val_auc_4: 0.6995 - val_f1_score: 0.1965 - val_loss: 441.6616\n",
      "Epoch 174/200\n",
      "\u001B[1m419/419\u001B[0m \u001B[32m━━━━━━━━━━━━━━━━━━━━\u001B[0m\u001B[37m\u001B[0m \u001B[1m0s\u001B[0m 709us/step - accuracy: 0.8793 - auc_4: 0.8009 - f1_score: 0.2223 - loss: 484.5595 - val_accuracy: 0.8911 - val_auc_4: 0.6994 - val_f1_score: 0.1965 - val_loss: 440.9122\n",
      "Epoch 175/200\n",
      "\u001B[1m419/419\u001B[0m \u001B[32m━━━━━━━━━━━━━━━━━━━━\u001B[0m\u001B[37m\u001B[0m \u001B[1m0s\u001B[0m 762us/step - accuracy: 0.8794 - auc_4: 0.8015 - f1_score: 0.2223 - loss: 483.9978 - val_accuracy: 0.8911 - val_auc_4: 0.7004 - val_f1_score: 0.1965 - val_loss: 440.1702\n",
      "Epoch 176/200\n",
      "\u001B[1m419/419\u001B[0m \u001B[32m━━━━━━━━━━━━━━━━━━━━\u001B[0m\u001B[37m\u001B[0m \u001B[1m0s\u001B[0m 707us/step - accuracy: 0.8796 - auc_4: 0.8020 - f1_score: 0.2223 - loss: 483.4404 - val_accuracy: 0.8911 - val_auc_4: 0.7007 - val_f1_score: 0.1965 - val_loss: 439.4500\n",
      "Epoch 177/200\n",
      "\u001B[1m419/419\u001B[0m \u001B[32m━━━━━━━━━━━━━━━━━━━━\u001B[0m\u001B[37m\u001B[0m \u001B[1m0s\u001B[0m 821us/step - accuracy: 0.8798 - auc_4: 0.8024 - f1_score: 0.2223 - loss: 482.8857 - val_accuracy: 0.8911 - val_auc_4: 0.7014 - val_f1_score: 0.1965 - val_loss: 438.7498\n",
      "Epoch 178/200\n",
      "\u001B[1m419/419\u001B[0m \u001B[32m━━━━━━━━━━━━━━━━━━━━\u001B[0m\u001B[37m\u001B[0m \u001B[1m0s\u001B[0m 792us/step - accuracy: 0.8798 - auc_4: 0.8029 - f1_score: 0.2223 - loss: 482.3343 - val_accuracy: 0.8911 - val_auc_4: 0.7003 - val_f1_score: 0.1965 - val_loss: 438.0641\n",
      "Epoch 179/200\n",
      "\u001B[1m419/419\u001B[0m \u001B[32m━━━━━━━━━━━━━━━━━━━━\u001B[0m\u001B[37m\u001B[0m \u001B[1m0s\u001B[0m 862us/step - accuracy: 0.8800 - auc_4: 0.8034 - f1_score: 0.2223 - loss: 481.7875 - val_accuracy: 0.8911 - val_auc_4: 0.7007 - val_f1_score: 0.1965 - val_loss: 437.3773\n",
      "Epoch 180/200\n",
      "\u001B[1m419/419\u001B[0m \u001B[32m━━━━━━━━━━━━━━━━━━━━\u001B[0m\u001B[37m\u001B[0m \u001B[1m0s\u001B[0m 865us/step - accuracy: 0.8802 - auc_4: 0.8037 - f1_score: 0.2223 - loss: 481.2446 - val_accuracy: 0.8911 - val_auc_4: 0.7000 - val_f1_score: 0.1965 - val_loss: 436.7099\n",
      "Epoch 181/200\n",
      "\u001B[1m419/419\u001B[0m \u001B[32m━━━━━━━━━━━━━━━━━━━━\u001B[0m\u001B[37m\u001B[0m \u001B[1m0s\u001B[0m 719us/step - accuracy: 0.8804 - auc_4: 0.8041 - f1_score: 0.2223 - loss: 480.7070 - val_accuracy: 0.8911 - val_auc_4: 0.7013 - val_f1_score: 0.1965 - val_loss: 436.0567\n",
      "Epoch 182/200\n",
      "\u001B[1m419/419\u001B[0m \u001B[32m━━━━━━━━━━━━━━━━━━━━\u001B[0m\u001B[37m\u001B[0m \u001B[1m0s\u001B[0m 723us/step - accuracy: 0.8808 - auc_4: 0.8046 - f1_score: 0.2223 - loss: 480.1716 - val_accuracy: 0.8911 - val_auc_4: 0.7016 - val_f1_score: 0.1965 - val_loss: 435.4322\n",
      "Epoch 183/200\n",
      "\u001B[1m419/419\u001B[0m \u001B[32m━━━━━━━━━━━━━━━━━━━━\u001B[0m\u001B[37m\u001B[0m \u001B[1m0s\u001B[0m 754us/step - accuracy: 0.8808 - auc_4: 0.8052 - f1_score: 0.2223 - loss: 479.6404 - val_accuracy: 0.8911 - val_auc_4: 0.7022 - val_f1_score: 0.1965 - val_loss: 434.8204\n",
      "Epoch 184/200\n",
      "\u001B[1m419/419\u001B[0m \u001B[32m━━━━━━━━━━━━━━━━━━━━\u001B[0m\u001B[37m\u001B[0m \u001B[1m0s\u001B[0m 772us/step - accuracy: 0.8809 - auc_4: 0.8056 - f1_score: 0.2223 - loss: 479.1115 - val_accuracy: 0.8911 - val_auc_4: 0.7024 - val_f1_score: 0.1965 - val_loss: 434.2200\n",
      "Epoch 185/200\n",
      "\u001B[1m419/419\u001B[0m \u001B[32m━━━━━━━━━━━━━━━━━━━━\u001B[0m\u001B[37m\u001B[0m \u001B[1m0s\u001B[0m 707us/step - accuracy: 0.8813 - auc_4: 0.8061 - f1_score: 0.2223 - loss: 478.5851 - val_accuracy: 0.8911 - val_auc_4: 0.7021 - val_f1_score: 0.1965 - val_loss: 433.6268\n",
      "Epoch 186/200\n",
      "\u001B[1m419/419\u001B[0m \u001B[32m━━━━━━━━━━━━━━━━━━━━\u001B[0m\u001B[37m\u001B[0m \u001B[1m0s\u001B[0m 701us/step - accuracy: 0.8815 - auc_4: 0.8066 - f1_score: 0.2223 - loss: 478.0610 - val_accuracy: 0.8911 - val_auc_4: 0.7013 - val_f1_score: 0.1965 - val_loss: 433.0467\n",
      "Epoch 187/200\n",
      "\u001B[1m419/419\u001B[0m \u001B[32m━━━━━━━━━━━━━━━━━━━━\u001B[0m\u001B[37m\u001B[0m \u001B[1m0s\u001B[0m 691us/step - accuracy: 0.8817 - auc_4: 0.8072 - f1_score: 0.2223 - loss: 477.5401 - val_accuracy: 0.8911 - val_auc_4: 0.7015 - val_f1_score: 0.1965 - val_loss: 432.4832\n",
      "Epoch 188/200\n",
      "\u001B[1m419/419\u001B[0m \u001B[32m━━━━━━━━━━━━━━━━━━━━\u001B[0m\u001B[37m\u001B[0m \u001B[1m0s\u001B[0m 718us/step - accuracy: 0.8817 - auc_4: 0.8076 - f1_score: 0.2223 - loss: 477.0223 - val_accuracy: 0.8911 - val_auc_4: 0.7022 - val_f1_score: 0.1965 - val_loss: 431.9301\n",
      "Epoch 189/200\n",
      "\u001B[1m419/419\u001B[0m \u001B[32m━━━━━━━━━━━━━━━━━━━━\u001B[0m\u001B[37m\u001B[0m \u001B[1m0s\u001B[0m 755us/step - accuracy: 0.8818 - auc_4: 0.8081 - f1_score: 0.2223 - loss: 476.5076 - val_accuracy: 0.8911 - val_auc_4: 0.7017 - val_f1_score: 0.1965 - val_loss: 431.3957\n",
      "Epoch 190/200\n",
      "\u001B[1m419/419\u001B[0m \u001B[32m━━━━━━━━━━━━━━━━━━━━\u001B[0m\u001B[37m\u001B[0m \u001B[1m0s\u001B[0m 827us/step - accuracy: 0.8818 - auc_4: 0.8085 - f1_score: 0.2223 - loss: 475.9964 - val_accuracy: 0.8911 - val_auc_4: 0.7023 - val_f1_score: 0.1965 - val_loss: 430.8746\n",
      "Epoch 191/200\n",
      "\u001B[1m419/419\u001B[0m \u001B[32m━━━━━━━━━━━━━━━━━━━━\u001B[0m\u001B[37m\u001B[0m \u001B[1m0s\u001B[0m 921us/step - accuracy: 0.8818 - auc_4: 0.8088 - f1_score: 0.2223 - loss: 475.4896 - val_accuracy: 0.8911 - val_auc_4: 0.7018 - val_f1_score: 0.1965 - val_loss: 430.3592\n",
      "Epoch 192/200\n",
      "\u001B[1m419/419\u001B[0m \u001B[32m━━━━━━━━━━━━━━━━━━━━\u001B[0m\u001B[37m\u001B[0m \u001B[1m0s\u001B[0m 845us/step - accuracy: 0.8819 - auc_4: 0.8092 - f1_score: 0.2223 - loss: 474.9857 - val_accuracy: 0.8911 - val_auc_4: 0.7019 - val_f1_score: 0.1965 - val_loss: 429.8518\n",
      "Epoch 193/200\n",
      "\u001B[1m419/419\u001B[0m \u001B[32m━━━━━━━━━━━━━━━━━━━━\u001B[0m\u001B[37m\u001B[0m \u001B[1m0s\u001B[0m 724us/step - accuracy: 0.8819 - auc_4: 0.8096 - f1_score: 0.2223 - loss: 474.4852 - val_accuracy: 0.8911 - val_auc_4: 0.7030 - val_f1_score: 0.1965 - val_loss: 429.3652\n",
      "Epoch 194/200\n",
      "\u001B[1m419/419\u001B[0m \u001B[32m━━━━━━━━━━━━━━━━━━━━\u001B[0m\u001B[37m\u001B[0m \u001B[1m0s\u001B[0m 738us/step - accuracy: 0.8822 - auc_4: 0.8101 - f1_score: 0.2223 - loss: 473.9878 - val_accuracy: 0.8911 - val_auc_4: 0.7033 - val_f1_score: 0.1965 - val_loss: 428.9048\n",
      "Epoch 195/200\n",
      "\u001B[1m419/419\u001B[0m \u001B[32m━━━━━━━━━━━━━━━━━━━━\u001B[0m\u001B[37m\u001B[0m \u001B[1m0s\u001B[0m 727us/step - accuracy: 0.8823 - auc_4: 0.8105 - f1_score: 0.2223 - loss: 473.4945 - val_accuracy: 0.8911 - val_auc_4: 0.7036 - val_f1_score: 0.1965 - val_loss: 428.4672\n",
      "Epoch 196/200\n",
      "\u001B[1m419/419\u001B[0m \u001B[32m━━━━━━━━━━━━━━━━━━━━\u001B[0m\u001B[37m\u001B[0m \u001B[1m0s\u001B[0m 732us/step - accuracy: 0.8823 - auc_4: 0.8110 - f1_score: 0.2223 - loss: 473.0092 - val_accuracy: 0.8907 - val_auc_4: 0.7031 - val_f1_score: 0.1965 - val_loss: 428.0544\n",
      "Epoch 197/200\n",
      "\u001B[1m419/419\u001B[0m \u001B[32m━━━━━━━━━━━━━━━━━━━━\u001B[0m\u001B[37m\u001B[0m \u001B[1m0s\u001B[0m 729us/step - accuracy: 0.8824 - auc_4: 0.8113 - f1_score: 0.2223 - loss: 472.5286 - val_accuracy: 0.8907 - val_auc_4: 0.7029 - val_f1_score: 0.1965 - val_loss: 427.6608\n",
      "Epoch 198/200\n",
      "\u001B[1m419/419\u001B[0m \u001B[32m━━━━━━━━━━━━━━━━━━━━\u001B[0m\u001B[37m\u001B[0m \u001B[1m0s\u001B[0m 710us/step - accuracy: 0.8823 - auc_4: 0.8118 - f1_score: 0.2223 - loss: 472.0521 - val_accuracy: 0.8907 - val_auc_4: 0.7025 - val_f1_score: 0.1965 - val_loss: 427.2706\n",
      "Epoch 199/200\n",
      "\u001B[1m419/419\u001B[0m \u001B[32m━━━━━━━━━━━━━━━━━━━━\u001B[0m\u001B[37m\u001B[0m \u001B[1m0s\u001B[0m 732us/step - accuracy: 0.8824 - auc_4: 0.8122 - f1_score: 0.2223 - loss: 471.5804 - val_accuracy: 0.8907 - val_auc_4: 0.7023 - val_f1_score: 0.1965 - val_loss: 426.8867\n",
      "Epoch 200/200\n",
      "\u001B[1m419/419\u001B[0m \u001B[32m━━━━━━━━━━━━━━━━━━━━\u001B[0m\u001B[37m\u001B[0m \u001B[1m0s\u001B[0m 692us/step - accuracy: 0.8824 - auc_4: 0.8128 - f1_score: 0.2223 - loss: 471.1126 - val_accuracy: 0.8907 - val_auc_4: 0.7027 - val_f1_score: 0.1965 - val_loss: 426.5211\n"
     ]
    },
    {
     "data": {
      "text/plain": "<Figure size 640x480 with 1 Axes>",
      "image/png": "[encoded data removed]"
     },
     "metadata": {},
     "output_type": "display_data"
    }
   ],
   "source": [
    "from keras.metrics import AUC, F1Score\n",
    "from keras.models import Sequential\n",
    "from keras.layers import Input, Dense, Normalization, Dropout, BatchNormalization\n",
    "from keras.optimizers import Adam\n",
    "from keras.callbacks import EarlyStopping\n",
    "from keras.regularizers import l1\n",
    "import keras\n",
    "\n",
    "l1_reg = 0.5\n",
    "\n",
    "# Build the simple fully connected single hidden layer network model\n",
    "stacked_model = Sequential([\n",
    "    Input(shape=X_train.shape[1:]),\n",
    "    # Normalization(axis=-1),\n",
    "    # Dense(256, activation='relu', kernel_regularizer=l1(0.5)),   \n",
    "    Dense(256, activation='relu', kernel_regularizer=l1(l1_reg)),   \n",
    "    # Dropout(0.4),\n",
    "    Dense(1, activation='sigmoid', kernel_regularizer=l1(l1_reg))\n",
    "])\n",
    "\n",
    "# Compile the model\n",
    "opt = Adam(learning_rate=0.00001)\n",
    "stacked_model.compile(loss=custom_loss, optimizer=opt, metrics=[AUC(), 'accuracy', F1Score()])\n",
    "\n",
    "# Fit the model\n",
    "keras.utils.set_random_seed(42)  # for reproducibility\n",
    "stacked_history = stacked_model.fit(X_train, y_train, validation_data=(X_val, y_val), epochs=200, batch_size=64, callbacks=[EarlyStopping(monitor='val_auc', mode='max', patience=3, verbose=1, min_delta=0.01)], verbose=True)\n",
    "\n",
    "plot_history(stacked_history.history)"
   ],
   "metadata": {
    "collapsed": false,
    "ExecuteTime": {
     "end_time": "2024-04-19T17:52:48.105204Z",
     "start_time": "2024-04-19T17:51:40.263595Z"
    }
   },
   "id": "83e33dc08a946dfc",
   "execution_count": 43
  },
  {
   "cell_type": "code",
   "outputs": [
    {
     "name": "stdout",
     "output_type": "stream",
     "text": [
      "\u001B[1m837/837\u001B[0m \u001B[32m━━━━━━━━━━━━━━━━━━━━\u001B[0m\u001B[37m\u001B[0m \u001B[1m0s\u001B[0m 320us/step\n",
      "\u001B[1m93/93\u001B[0m \u001B[32m━━━━━━━━━━━━━━━━━━━━\u001B[0m\u001B[37m\u001B[0m \u001B[1m0s\u001B[0m 283us/step\n",
      "\u001B[1m93/93\u001B[0m \u001B[32m━━━━━━━━━━━━━━━━━━━━\u001B[0m\u001B[37m\u001B[0m \u001B[1m0s\u001B[0m 347us/step\n"
     ]
    },
    {
     "data": {
      "text/plain": "                Model Train AUC Val AUC Test AUC\n0  Logit as Benchmark    0.6707  0.6637   0.6637\n1         LASSO Logit    0.6835  0.6791   0.6791\n2    Random Forest CV    0.9686  0.7086   0.7086\n3              GBM CV    0.8193  0.7133   0.7133\n4          Sigmoid NN    0.6578  0.6321   0.6611\n5          Softmax NN    0.6555  0.6314   0.6611\n6            SMOTE NN    0.6879  0.6579   0.6740\n7          Stacked NN    0.8086  0.7031   0.7031",
      "text/html": "<div>\n<style scoped>\n    .dataframe tbody tr th:only-of-type {\n        vertical-align: middle;\n    }\n\n    .dataframe tbody tr th {\n        vertical-align: top;\n    }\n\n    .dataframe thead th {\n        text-align: right;\n    }\n</style>\n<table border=\"1\" class=\"dataframe\">\n  <thead>\n    <tr style=\"text-align: right;\">\n      <th></th>\n      <th>Model</th>\n      <th>Train AUC</th>\n      <th>Val AUC</th>\n      <th>Test AUC</th>\n    </tr>\n  </thead>\n  <tbody>\n    <tr>\n      <th>0</th>\n      <td>Logit as Benchmark</td>\n      <td>0.6707</td>\n      <td>0.6637</td>\n      <td>0.6637</td>\n    </tr>\n    <tr>\n      <th>1</th>\n      <td>LASSO Logit</td>\n      <td>0.6835</td>\n      <td>0.6791</td>\n      <td>0.6791</td>\n    </tr>\n    <tr>\n      <th>2</th>\n      <td>Random Forest CV</td>\n      <td>0.9686</td>\n      <td>0.7086</td>\n      <td>0.7086</td>\n    </tr>\n    <tr>\n      <th>3</th>\n      <td>GBM CV</td>\n      <td>0.8193</td>\n      <td>0.7133</td>\n      <td>0.7133</td>\n    </tr>\n    <tr>\n      <th>4</th>\n      <td>Sigmoid NN</td>\n      <td>0.6578</td>\n      <td>0.6321</td>\n      <td>0.6611</td>\n    </tr>\n    <tr>\n      <th>5</th>\n      <td>Softmax NN</td>\n      <td>0.6555</td>\n      <td>0.6314</td>\n      <td>0.6611</td>\n    </tr>\n    <tr>\n      <th>6</th>\n      <td>SMOTE NN</td>\n      <td>0.6879</td>\n      <td>0.6579</td>\n      <td>0.6740</td>\n    </tr>\n    <tr>\n      <th>7</th>\n      <td>Stacked NN</td>\n      <td>0.8086</td>\n      <td>0.7031</td>\n      <td>0.7031</td>\n    </tr>\n  </tbody>\n</table>\n</div>"
     },
     "execution_count": 44,
     "metadata": {},
     "output_type": "execute_result"
    }
   ],
   "source": [
    "update_summary(summary_df, \n",
    "               'Stacked NN', \n",
    "               y_train,\n",
    "               stacked_model.predict(X_train), \n",
    "               y_val,\n",
    "               stacked_model.predict(X_val), \n",
    "               y_test,\n",
    "               stacked_model.predict(X_test),\n",
    "               class1_only=True)\n",
    "summary_df"
   ],
   "metadata": {
    "collapsed": false,
    "ExecuteTime": {
     "end_time": "2024-04-19T17:52:48.658751Z",
     "start_time": "2024-04-19T17:52:48.105105Z"
    }
   },
   "id": "240ea2d57228d4b6",
   "execution_count": 44
  },
  {
   "cell_type": "markdown",
   "source": [
    "Fortunately, it seems like the combination works. The stacked model improves upon the other networks quite significantly. However, its performance is still worse than the normal gradient boosting model."
   ],
   "metadata": {
    "collapsed": false
   },
   "id": "8ca6b53c4510300f"
  },
  {
   "cell_type": "markdown",
   "source": [
    "## Hybrid Model\n",
    "\n",
    "This model is also a combination of the gradient boosting model and the oversampling with smote using sigmoid activation neural network. The configuration here is a bit more intricate. The main model itself is actually a logit model, but the predictions from the gradient boosting and sigmoid neural network are used as input. The logit model is cross validated to get the best regularization parameter."
   ],
   "metadata": {
    "collapsed": false
   },
   "id": "8fdd717605ce5af"
  },
  {
   "cell_type": "code",
   "outputs": [],
   "source": [
    "# split train, val, test again with engineered features\n",
    "outcome = news_df[\"is_popular\"]\n",
    "# features = news_df[high_performance_predictors]\n",
    "features = news_df.drop(columns=exclude_cols)\n",
    "# features = news_df.drop(columns=['timedelta', 'is_popular', 'article_id'])\n",
    "prng = np.random.RandomState(42)\n",
    "X_train, X_test, y_train, y_test = train_test_split(features, outcome, test_size=0.1, random_state=prng)\n",
    "X_val, y_val = X_test, y_test\n",
    "# X_train, X_val, y_train, y_val = train_test_split(X_train, y_train, test_size=0.1, random_state=prng)\n",
    "\n",
    "# normalize data\n",
    "scaler = MinMaxScaler(feature_range=(-1, 1))\n",
    "# scaler = StandardScaler()\n",
    "# scaler.fit(features)\n",
    "columns_not_to_scale = [col for col in X_train.columns if col not in binary_cols]\n",
    "scaler.fit(X_train[columns_not_to_scale])\n",
    "\n",
    "X_train[columns_not_to_scale] = scaler.transform(X_train[columns_not_to_scale])\n",
    "X_val[columns_not_to_scale] = scaler.transform(X_val[columns_not_to_scale])\n",
    "X_test[columns_not_to_scale] = scaler.transform(X_test[columns_not_to_scale])"
   ],
   "metadata": {
    "collapsed": false,
    "ExecuteTime": {
     "end_time": "2024-04-19T17:52:48.699218Z",
     "start_time": "2024-04-19T17:52:48.661249Z"
    }
   },
   "id": "9a54cff146d1ec08",
   "execution_count": 45
  },
  {
   "cell_type": "code",
   "outputs": [],
   "source": [
    "def get_hybrid_data(ml_model, dl_model, ml_data, dl_data):\n",
    "    ml_pred = ml_model.predict_proba(ml_data)\n",
    "    dl_pred = dl_model.predict(dl_data)\n",
    "    if dl_model.layers[-1].units == 1:\n",
    "        df = pd.DataFrame({\n",
    "            'ml_model_0': ml_pred[:,0],\n",
    "            'ml_model_1': ml_pred[:,1],\n",
    "            'dl_model': dl_pred.flatten()\n",
    "        })\n",
    "    else:\n",
    "        df = pd.DataFrame({\n",
    "            'ml_model_0': ml_pred[:,0],\n",
    "            'ml_model_1': ml_pred[:,1],\n",
    "            'dl_model_0': dl_pred[:,0],\n",
    "            'dl_model_1': dl_pred[:,1]\n",
    "        })\n",
    "    return df"
   ],
   "metadata": {
    "collapsed": false,
    "ExecuteTime": {
     "end_time": "2024-04-19T17:52:48.731338Z",
     "start_time": "2024-04-19T17:52:48.687062Z"
    }
   },
   "id": "e9b8c6a8eb1fc339",
   "execution_count": 46
  },
  {
   "cell_type": "code",
   "outputs": [
    {
     "name": "stdout",
     "output_type": "stream",
     "text": [
      "\u001B[1m837/837\u001B[0m \u001B[32m━━━━━━━━━━━━━━━━━━━━\u001B[0m\u001B[37m\u001B[0m \u001B[1m0s\u001B[0m 452us/step\n",
      "\u001B[1m93/93\u001B[0m \u001B[32m━━━━━━━━━━━━━━━━━━━━\u001B[0m\u001B[37m\u001B[0m \u001B[1m0s\u001B[0m 358us/step\n",
      "\u001B[1m93/93\u001B[0m \u001B[32m━━━━━━━━━━━━━━━━━━━━\u001B[0m\u001B[37m\u001B[0m \u001B[1m0s\u001B[0m 315us/step\n"
     ]
    },
    {
     "data": {
      "text/plain": "                Model Train AUC Val AUC Test AUC\n0  Logit as Benchmark    0.6707  0.6637   0.6637\n1         LASSO Logit    0.6835  0.6791   0.6791\n2    Random Forest CV    0.9686  0.7086   0.7086\n3              GBM CV    0.8193  0.7133   0.7133\n4          Sigmoid NN    0.6578  0.6321   0.6611\n5          Softmax NN    0.6555  0.6314   0.6611\n6            SMOTE NN    0.6879  0.6579   0.6740\n7          Stacked NN    0.8086  0.7031   0.7031\n8        Hybrid Model    0.8161  0.7132   0.7132",
      "text/html": "<div>\n<style scoped>\n    .dataframe tbody tr th:only-of-type {\n        vertical-align: middle;\n    }\n\n    .dataframe tbody tr th {\n        vertical-align: top;\n    }\n\n    .dataframe thead th {\n        text-align: right;\n    }\n</style>\n<table border=\"1\" class=\"dataframe\">\n  <thead>\n    <tr style=\"text-align: right;\">\n      <th></th>\n      <th>Model</th>\n      <th>Train AUC</th>\n      <th>Val AUC</th>\n      <th>Test AUC</th>\n    </tr>\n  </thead>\n  <tbody>\n    <tr>\n      <th>0</th>\n      <td>Logit as Benchmark</td>\n      <td>0.6707</td>\n      <td>0.6637</td>\n      <td>0.6637</td>\n    </tr>\n    <tr>\n      <th>1</th>\n      <td>LASSO Logit</td>\n      <td>0.6835</td>\n      <td>0.6791</td>\n      <td>0.6791</td>\n    </tr>\n    <tr>\n      <th>2</th>\n      <td>Random Forest CV</td>\n      <td>0.9686</td>\n      <td>0.7086</td>\n      <td>0.7086</td>\n    </tr>\n    <tr>\n      <th>3</th>\n      <td>GBM CV</td>\n      <td>0.8193</td>\n      <td>0.7133</td>\n      <td>0.7133</td>\n    </tr>\n    <tr>\n      <th>4</th>\n      <td>Sigmoid NN</td>\n      <td>0.6578</td>\n      <td>0.6321</td>\n      <td>0.6611</td>\n    </tr>\n    <tr>\n      <th>5</th>\n      <td>Softmax NN</td>\n      <td>0.6555</td>\n      <td>0.6314</td>\n      <td>0.6611</td>\n    </tr>\n    <tr>\n      <th>6</th>\n      <td>SMOTE NN</td>\n      <td>0.6879</td>\n      <td>0.6579</td>\n      <td>0.6740</td>\n    </tr>\n    <tr>\n      <th>7</th>\n      <td>Stacked NN</td>\n      <td>0.8086</td>\n      <td>0.7031</td>\n      <td>0.7031</td>\n    </tr>\n    <tr>\n      <th>8</th>\n      <td>Hybrid Model</td>\n      <td>0.8161</td>\n      <td>0.7132</td>\n      <td>0.7132</td>\n    </tr>\n  </tbody>\n</table>\n</div>"
     },
     "execution_count": 47,
     "metadata": {},
     "output_type": "execute_result"
    }
   ],
   "source": [
    "X_train_hybrid, X_val_hybrid, X_test_hybrid = get_hybrid_data(gbm_model, smote_model, X_ori_sets[0][gbm_high_perm], X_train), get_hybrid_data(gbm_model, smote_model, X_ori_sets[1][gbm_high_perm], X_val), get_hybrid_data(gbm_model, smote_model, X_ori_sets[2][gbm_high_perm], X_test)\n",
    "\n",
    "# no regularisation needed so setting the parameter to very high value\n",
    "lambdas = list(10**np.arange(-1, -3.01, -1/3))\n",
    "n_obs = len(X_train_hybrid)\n",
    "Cs_values = [1/(l*n_obs) for l in lambdas]\n",
    "scoring='roc_auc'\n",
    "\n",
    "# hybrid_model = LogisticRegressionCV(\n",
    "#         Cs=Cs_values, \n",
    "#         penalty='elasticnet',\n",
    "#         l1_ratios=[0, 0.3, 0.5],\n",
    "#         refit=True, \n",
    "#         scoring=scoring, \n",
    "#         solver=\"saga\", \n",
    "#         tol=1e-7, \n",
    "#         random_state=prng,\n",
    "#         class_weight=None\n",
    "#     )\n",
    "\n",
    "hybrid_model = LogisticRegressionCV(\n",
    "        Cs=Cs_values, \n",
    "        refit=True, \n",
    "        scoring=scoring, \n",
    "        solver=\"newton-cg\", \n",
    "        tol=1e-7, \n",
    "        random_state=prng,\n",
    "        class_weight=None\n",
    "    )\n",
    "\n",
    "# hybrid_model = LogisticRegressionCV(\n",
    "#         Cs=Cs_values, \n",
    "#         penalty='l2',\n",
    "#         refit=True, \n",
    "#         scoring=scoring, \n",
    "#         solver=\"liblinear\", \n",
    "#         tol=1e-7, \n",
    "#         random_state=prng,\n",
    "#         class_weight=None\n",
    "#     )\n",
    "\n",
    "hybrid_model.fit(X_train_hybrid, y_ori_sets[0])\n",
    "\n",
    "update_summary(summary_df, \n",
    "               'Hybrid Model', \n",
    "               y_ori_sets[0], \n",
    "               hybrid_model.predict_proba(X_train_hybrid),\n",
    "               y_ori_sets[1], \n",
    "               hybrid_model.predict_proba(X_val_hybrid), \n",
    "               y_ori_sets[2], \n",
    "               hybrid_model.predict_proba(X_test_hybrid))\n",
    "summary_df"
   ],
   "metadata": {
    "collapsed": false,
    "ExecuteTime": {
     "end_time": "2024-04-19T17:52:54.619888Z",
     "start_time": "2024-04-19T17:52:48.692256Z"
    }
   },
   "id": "f6f4dcc68079aae1",
   "execution_count": 47
  },
  {
   "cell_type": "code",
   "outputs": [
    {
     "data": {
      "text/plain": "array([[-4.18936505,  4.18936505,  0.29459347]])"
     },
     "execution_count": 48,
     "metadata": {},
     "output_type": "execute_result"
    }
   ],
   "source": [
    "hybrid_model.coef_"
   ],
   "metadata": {
    "collapsed": false,
    "ExecuteTime": {
     "end_time": "2024-04-19T17:52:54.632859Z",
     "start_time": "2024-04-19T17:52:54.620227Z"
    }
   },
   "id": "f7bb09d98d4fe9ed",
   "execution_count": 48
  },
  {
   "cell_type": "markdown",
   "source": [
    "The hybrid model's performance are very close to the performance of the gradient boosting model. However, it seems like the inclusion of the neural network actually cost this hybrid model. Hence, it is still better to use the gradient boosting model for prediction."
   ],
   "metadata": {
    "collapsed": false
   },
   "id": "afd9ccc6863c30"
  },
  {
   "cell_type": "markdown",
   "source": [
    "## Voting Classifier\n",
    "\n",
    "This is another composite model, inspired by the [Voting Classifier](https://www.kaggle.com/code/marcinrutecki/voting-classifier-for-better-results). The implementation here is a customized work to adapt the models in this notebook. Essentially, the input for this model is the predictions from the random forest, gradient boosting and the oversampling neural network. The prediction is then calculated by averaging all the probabilities predicted by the input models."
   ],
   "metadata": {
    "collapsed": false
   },
   "id": "863c2fcc80f80eae"
  },
  {
   "cell_type": "code",
   "outputs": [],
   "source": [
    "ml_models = {\n",
    "    'Random Forest CV': rf_model,\n",
    "    'GBM CV': gbm_model,\n",
    "}\n",
    "dl_models = {\n",
    "    'SMOTE NN': smote_model\n",
    "}\n",
    "\n",
    "class CustomVotingClassifier:\n",
    "    \n",
    "    def __init__(self, ml_models: dict, dl_models: dict, voting='soft'):\n",
    "        self.ml_models = ml_models\n",
    "        self.dl_models = dl_models\n",
    "        self.voting = voting\n",
    "    \n",
    "    def predict_proba(self, ml_data, dl_data):\n",
    "        if 'Sigmoid NN' in self.dl_models.keys() or 'SMOTE NN' in self.dl_models.keys():\n",
    "            return self.predict_proba_class1(ml_data, dl_data)\n",
    "        else:\n",
    "            class_0_pred = {}\n",
    "            class_1_pred = {}\n",
    "            for model_name, model in self.ml_models.items():\n",
    "                if model_name == 'GBM CV':\n",
    "                    model_pred = model.predict_proba(ml_data[gbm_high_perm])\n",
    "                    class_0_pred[model_name] = model_pred[:,0]\n",
    "                    class_1_pred[model_name] = model_pred[:,1]\n",
    "                elif model_name == 'Random Forest CV':\n",
    "                    model_pred = model.predict_proba(ml_data[rf_high_perm])\n",
    "                    class_0_pred[model_name] = model_pred[:,0]\n",
    "                    class_1_pred[model_name] = model_pred[:,1]\n",
    "                else:\n",
    "                    model_pred = model.predict_proba(ml_data)\n",
    "                    class_0_pred[model_name] = model_pred[:,0]\n",
    "                    class_1_pred[model_name] = model_pred[:,1]\n",
    "            for model_name, model in self.dl_models.items():\n",
    "                model_pred = model.predict(dl_data)\n",
    "                class_0_pred[model_name] = model_pred[:,0]\n",
    "                class_1_pred[model_name] = model_pred[:,1]\n",
    "            \n",
    "            pred_0_df = pd.DataFrame.from_dict(class_0_pred)\n",
    "            pred_1_df = pd.DataFrame.from_dict(class_1_pred)\n",
    "            \n",
    "            # pred_df = pd.DataFrame({\n",
    "            #     0: pred_0_df.mean(axis=1).to_numpy(),\n",
    "            #     1: pred_1_df.mean(axis=1).to_numpy()\n",
    "            # })\n",
    "            return np.vstack((pred_0_df.mean(axis=1).to_numpy(), pred_1_df.mean(axis=1).to_numpy())).T\n",
    "    \n",
    "    def predict_proba_class1(self, ml_data, dl_data):\n",
    "        class_1_pred = {}\n",
    "        for model_name, model in self.ml_models.items():\n",
    "            if model_name == 'GBM CV':\n",
    "                model_pred = model.predict_proba(ml_data[gbm_high_perm])\n",
    "                class_1_pred[model_name] = model_pred[:,1]\n",
    "            elif model_name == 'Random Forest CV':\n",
    "                model_pred = model.predict_proba(ml_data[rf_high_perm])\n",
    "                class_1_pred[model_name] = model_pred[:,1]\n",
    "            else:\n",
    "                model_pred = model.predict_proba(ml_data)\n",
    "                class_1_pred[model_name] = model_pred[:,1]\n",
    "        for model_name, model in self.dl_models.items():\n",
    "            model_pred = model.predict(dl_data)\n",
    "            if model.layers[-1].units == 1:\n",
    "                class_1_pred[model_name] = model_pred.flatten()\n",
    "            else:\n",
    "                class_1_pred[model_name] = model_pred[:,1]\n",
    "        \n",
    "        pred_1_df = pd.DataFrame.from_dict(class_1_pred)\n",
    "        \n",
    "        # pred_df = pd.DataFrame({\n",
    "        #     0: pred_0_df.mean(axis=1).to_numpy(),\n",
    "        #     1: pred_1_df.mean(axis=1).to_numpy()\n",
    "        # })\n",
    "        return pred_1_df.mean(axis=1).to_numpy()\n",
    "    \n",
    "    def predict(self, ml_data, dl_data):\n",
    "        model_pred = {}\n",
    "        if self.voting == 'soft':\n",
    "            pred_df = self.predict_proba(ml_data, dl_data)\n",
    "            pred_df = pd.DataFrame({\n",
    "                0: pred_df[:,0],\n",
    "                1: pred_df[:,1]\n",
    "            })\n",
    "            pred_df = pred_df.idxmax(axis=1)\n",
    "            return pred_df.to_numpy()\n",
    "        elif self.voting == 'hard':\n",
    "            for model_name, model in self.ml_models.items():\n",
    "                model_pred[model_name] = model.predict(ml_data)\n",
    "            for model_name, model in self.dl_models.items():\n",
    "                model_pred[model_name] = np.argmax(model.predict(dl_data), axis=1)\n",
    "            pred_df = pd.DataFrame.from_dict(model_pred)\n",
    "            pred_df = pred_df.mode(axis=1)\n",
    "            return pred_df.to_numpy()\n",
    "        else:\n",
    "            print('Invalid voting param!')"
   ],
   "metadata": {
    "collapsed": false,
    "ExecuteTime": {
     "end_time": "2024-04-19T17:52:54.663968Z",
     "start_time": "2024-04-19T17:52:54.641966Z"
    }
   },
   "id": "1f273e388222990b",
   "execution_count": 49
  },
  {
   "cell_type": "code",
   "outputs": [
    {
     "name": "stdout",
     "output_type": "stream",
     "text": [
      "\u001B[1m837/837\u001B[0m \u001B[32m━━━━━━━━━━━━━━━━━━━━\u001B[0m\u001B[37m\u001B[0m \u001B[1m0s\u001B[0m 332us/step\n",
      "\u001B[1m93/93\u001B[0m \u001B[32m━━━━━━━━━━━━━━━━━━━━\u001B[0m\u001B[37m\u001B[0m \u001B[1m0s\u001B[0m 347us/step\n",
      "\u001B[1m93/93\u001B[0m \u001B[32m━━━━━━━━━━━━━━━━━━━━\u001B[0m\u001B[37m\u001B[0m \u001B[1m0s\u001B[0m 296us/step\n"
     ]
    },
    {
     "data": {
      "text/plain": "                    Model Train AUC Val AUC Test AUC\n0      Logit as Benchmark    0.6707  0.6637   0.6637\n1             LASSO Logit    0.6835  0.6791   0.6791\n2        Random Forest CV    0.9686  0.7086   0.7086\n3                  GBM CV    0.8193  0.7133   0.7133\n4              Sigmoid NN    0.6578  0.6321   0.6611\n5              Softmax NN    0.6555  0.6314   0.6611\n6                SMOTE NN    0.6879  0.6579   0.6740\n7              Stacked NN    0.8086  0.7031   0.7031\n8            Hybrid Model    0.8161  0.7132   0.7132\n9  Soft Voting Classifier    0.8616  0.6982   0.6982",
      "text/html": "<div>\n<style scoped>\n    .dataframe tbody tr th:only-of-type {\n        vertical-align: middle;\n    }\n\n    .dataframe tbody tr th {\n        vertical-align: top;\n    }\n\n    .dataframe thead th {\n        text-align: right;\n    }\n</style>\n<table border=\"1\" class=\"dataframe\">\n  <thead>\n    <tr style=\"text-align: right;\">\n      <th></th>\n      <th>Model</th>\n      <th>Train AUC</th>\n      <th>Val AUC</th>\n      <th>Test AUC</th>\n    </tr>\n  </thead>\n  <tbody>\n    <tr>\n      <th>0</th>\n      <td>Logit as Benchmark</td>\n      <td>0.6707</td>\n      <td>0.6637</td>\n      <td>0.6637</td>\n    </tr>\n    <tr>\n      <th>1</th>\n      <td>LASSO Logit</td>\n      <td>0.6835</td>\n      <td>0.6791</td>\n      <td>0.6791</td>\n    </tr>\n    <tr>\n      <th>2</th>\n      <td>Random Forest CV</td>\n      <td>0.9686</td>\n      <td>0.7086</td>\n      <td>0.7086</td>\n    </tr>\n    <tr>\n      <th>3</th>\n      <td>GBM CV</td>\n      <td>0.8193</td>\n      <td>0.7133</td>\n      <td>0.7133</td>\n    </tr>\n    <tr>\n      <th>4</th>\n      <td>Sigmoid NN</td>\n      <td>0.6578</td>\n      <td>0.6321</td>\n      <td>0.6611</td>\n    </tr>\n    <tr>\n      <th>5</th>\n      <td>Softmax NN</td>\n      <td>0.6555</td>\n      <td>0.6314</td>\n      <td>0.6611</td>\n    </tr>\n    <tr>\n      <th>6</th>\n      <td>SMOTE NN</td>\n      <td>0.6879</td>\n      <td>0.6579</td>\n      <td>0.6740</td>\n    </tr>\n    <tr>\n      <th>7</th>\n      <td>Stacked NN</td>\n      <td>0.8086</td>\n      <td>0.7031</td>\n      <td>0.7031</td>\n    </tr>\n    <tr>\n      <th>8</th>\n      <td>Hybrid Model</td>\n      <td>0.8161</td>\n      <td>0.7132</td>\n      <td>0.7132</td>\n    </tr>\n    <tr>\n      <th>9</th>\n      <td>Soft Voting Classifier</td>\n      <td>0.8616</td>\n      <td>0.6982</td>\n      <td>0.6982</td>\n    </tr>\n  </tbody>\n</table>\n</div>"
     },
     "execution_count": 50,
     "metadata": {},
     "output_type": "execute_result"
    }
   ],
   "source": [
    "soft_voting_clf = CustomVotingClassifier(ml_models, dl_models)\n",
    "# hard_voting_clf = CustomVotingClassifier(ml_models, dl_models, 'hard')\n",
    "update_summary(summary_df, \n",
    "               'Soft Voting Classifier', \n",
    "               y_ori_sets[0], \n",
    "               soft_voting_clf.predict_proba(X_ori_sets[0], X_train),\n",
    "               y_ori_sets[1], \n",
    "               soft_voting_clf.predict_proba(X_ori_sets[1], X_val), \n",
    "               y_ori_sets[2], \n",
    "               soft_voting_clf.predict_proba(X_ori_sets[2], X_test),\n",
    "               class1_only=True)\n",
    "# update_summary(summary_df, \n",
    "#                'Hard Voting Classifier', \n",
    "#                y_ori_sets[0], \n",
    "#                hard_voting_clf.predict_proba(X_ori_sets[0], X_train),\n",
    "#                y_ori_sets[1], \n",
    "#                hard_voting_clf.predict_proba(X_ori_sets[1], X_val), \n",
    "#                y_ori_sets[2], \n",
    "#                hard_voting_clf.predict_proba(X_ori_sets[2], X_test))\n",
    "summary_df"
   ],
   "metadata": {
    "collapsed": false,
    "ExecuteTime": {
     "end_time": "2024-04-19T17:52:57.282402Z",
     "start_time": "2024-04-19T17:52:54.650387Z"
    }
   },
   "id": "eba4ad6e204a21e0",
   "execution_count": 50
  },
  {
   "cell_type": "markdown",
   "source": [
    "Once again, like the hybrid model, although the performance of this model is better than all the single neural networks, it is not as good as the gradient boosting model. The average of all the best models' predictions in this notebook does not help improve the voting classifier performance."
   ],
   "metadata": {
    "collapsed": false
   },
   "id": "107c39cc793f5a6a"
  },
  {
   "cell_type": "markdown",
   "source": [
    "## Predict for the unseen data\n",
    "\n",
    "Across all the models in this notebook, it seems like the gradient boosting model still reigns as the best performing model on the unseen data. Although there might be some other method or techniques that can be done to improve the neural network performance, I probably need more time and research to keep experimenting with them. Hence, for this competition, I choose the gradient boosting model's prediction as the main submission to compete."
   ],
   "metadata": {
    "collapsed": false
   },
   "id": "52bce606286a683"
  },
  {
   "cell_type": "code",
   "outputs": [],
   "source": [
    "unseen_df = pd.read_csv('online-news-popularity-ceu-ml-2024/test.csv')"
   ],
   "metadata": {
    "collapsed": false,
    "ExecuteTime": {
     "end_time": "2024-04-19T17:53:11.654488Z",
     "start_time": "2024-04-19T17:53:11.594251Z"
    }
   },
   "id": "bfd171336d0bee12",
   "execution_count": 51
  },
  {
   "cell_type": "code",
   "outputs": [],
   "source": [
    "unseen_df, _ = feature_engineer(unseen_df)"
   ],
   "metadata": {
    "collapsed": false,
    "ExecuteTime": {
     "end_time": "2024-04-19T17:53:13.286790Z",
     "start_time": "2024-04-19T17:53:13.008469Z"
    }
   },
   "id": "b2d8d645788bd023",
   "execution_count": 52
  },
  {
   "cell_type": "code",
   "outputs": [],
   "source": [
    "exclude_cols_test = exclude_cols.copy()"
   ],
   "metadata": {
    "collapsed": false,
    "ExecuteTime": {
     "end_time": "2024-04-19T17:53:14.522926Z",
     "start_time": "2024-04-19T17:53:14.508923Z"
    }
   },
   "id": "493a170e5c1ed1b5",
   "execution_count": 53
  },
  {
   "cell_type": "code",
   "outputs": [
    {
     "data": {
      "text/plain": "array([0.18574096, 0.27410923, 0.08226444, ..., 0.07287442, 0.10838069,\n       0.05157307])"
     },
     "execution_count": 54,
     "metadata": {},
     "output_type": "execute_result"
    }
   ],
   "source": [
    "if 'is_popular' in exclude_cols_test:\n",
    "    exclude_cols_test.remove('is_popular')\n",
    "unseen_features = unseen_df.drop(columns=exclude_cols_test)\n",
    "# unseen_features = unseen_df.drop(columns=['timedelta', 'article_id'])\n",
    "predictions = gbm_model.predict_proba(unseen_features[gbm_high_perm])[:,1]\n",
    "predictions"
   ],
   "metadata": {
    "collapsed": false,
    "ExecuteTime": {
     "end_time": "2024-04-19T17:53:18.727504Z",
     "start_time": "2024-04-19T17:53:18.607548Z"
    }
   },
   "id": "38665fd8497d54df",
   "execution_count": 54
  },
  {
   "cell_type": "code",
   "outputs": [
    {
     "name": "stdout",
     "output_type": "stream",
     "text": [
      "\u001B[1m310/310\u001B[0m \u001B[32m━━━━━━━━━━━━━━━━━━━━\u001B[0m\u001B[37m\u001B[0m \u001B[1m0s\u001B[0m 311us/step\n"
     ]
    },
    {
     "data": {
      "text/plain": "array([[0.3461162 ],\n       [0.6753606 ],\n       [0.32546496],\n       ...,\n       [0.25698286],\n       [0.29663742],\n       [0.24091348]], dtype=float32)"
     },
     "execution_count": 56,
     "metadata": {},
     "output_type": "execute_result"
    }
   ],
   "source": [
    "if 'is_popular' in exclude_cols_test:\n",
    "    exclude_cols_test.remove('is_popular')\n",
    "unseen_features = unseen_df.drop(columns=exclude_cols_test)\n",
    "# unseen_features = unseen_df.drop(columns=['timedelta', 'article_id'])\n",
    "unseen_features[columns_not_to_scale] = scaler.transform(unseen_features[columns_not_to_scale])\n",
    "predictions = smote_model.predict(unseen_features)\n",
    "# predictions = weighted_deep3_model.predict(unseen_features)\n",
    "# predictions = predictions[:, 1]\n",
    "# predictions[:30]\n",
    "predictions"
   ],
   "metadata": {
    "collapsed": false,
    "ExecuteTime": {
     "end_time": "2024-04-19T17:53:29.851312Z",
     "start_time": "2024-04-19T17:53:29.674691Z"
    }
   },
   "id": "7139194bebf00ad7",
   "execution_count": 56
  },
  {
   "cell_type": "code",
   "outputs": [
    {
     "name": "stdout",
     "output_type": "stream",
     "text": [
      "\u001B[1m310/310\u001B[0m \u001B[32m━━━━━━━━━━━━━━━━━━━━\u001B[0m\u001B[37m\u001B[0m \u001B[1m0s\u001B[0m 318us/step\n"
     ]
    },
    {
     "data": {
      "text/plain": "array([[0.09388109],\n       [0.17497267],\n       [0.09604242],\n       ...,\n       [0.08925827],\n       [0.1022398 ],\n       [0.0962301 ]], dtype=float32)"
     },
     "execution_count": 57,
     "metadata": {},
     "output_type": "execute_result"
    }
   ],
   "source": [
    "if 'is_popular' in exclude_cols_test:\n",
    "    exclude_cols_test.remove('is_popular')\n",
    "unseen_features = unseen_df.drop(columns=exclude_cols_test)\n",
    "# unseen_features = unseen_df.drop(columns=['timedelta', 'article_id'])\n",
    "unseen_features[columns_not_to_scale] = scaler.transform(unseen_features[columns_not_to_scale])\n",
    "unseen_features = np.hstack((unseen_features, gbm_model.predict_proba(unseen_features[gbm_high_perm])))\n",
    "predictions = stacked_model.predict(unseen_features)\n",
    "# predictions = weighted_deep3_model.predict(unseen_features)\n",
    "# predictions = predictions[:, 1]\n",
    "# predictions[:30]\n",
    "predictions"
   ],
   "metadata": {
    "collapsed": false,
    "ExecuteTime": {
     "end_time": "2024-04-19T17:53:33.463481Z",
     "start_time": "2024-04-19T17:53:33.200979Z"
    }
   },
   "id": "ca37a403369b709d",
   "execution_count": 57
  },
  {
   "cell_type": "code",
   "outputs": [
    {
     "name": "stdout",
     "output_type": "stream",
     "text": [
      "\u001B[1m310/310\u001B[0m \u001B[32m━━━━━━━━━━━━━━━━━━━━\u001B[0m\u001B[37m\u001B[0m \u001B[1m0s\u001B[0m 306us/step\n"
     ]
    },
    {
     "data": {
      "text/plain": "array([0.16378751, 0.31154511, 0.07562028, ..., 0.06899381, 0.09169855,\n       0.05811489])"
     },
     "execution_count": 58,
     "metadata": {},
     "output_type": "execute_result"
    }
   ],
   "source": [
    "if 'is_popular' in exclude_cols_test:\n",
    "    exclude_cols_test.remove('is_popular')\n",
    "unseen_features = unseen_df.drop(columns=exclude_cols_test)\n",
    "# unseen_features = unseen_df.drop(columns=['timedelta', 'article_id'])\n",
    "X_ml_unseen = unseen_features.copy()\n",
    "X_dl_unseen = unseen_features.copy()\n",
    "X_dl_unseen[columns_not_to_scale] = scaler.transform(X_dl_unseen[columns_not_to_scale])\n",
    "predictions = hybrid_model.predict_proba(get_hybrid_data(gbm_model, smote_model, X_ml_unseen[gbm_high_perm], X_dl_unseen))[:,1]\n",
    "# predictions = soft_voting_clf.predict_proba(X_ml_unseen, X_dl_unseen)\n",
    "predictions"
   ],
   "metadata": {
    "collapsed": false,
    "ExecuteTime": {
     "end_time": "2024-04-19T17:53:38.249459Z",
     "start_time": "2024-04-19T17:53:37.904566Z"
    }
   },
   "id": "bc4088f7d20b545d",
   "execution_count": 58
  },
  {
   "cell_type": "code",
   "outputs": [],
   "source": [
    "prediction_df = pd.DataFrame({\n",
    "    'article_id': unseen_df.article_id,\n",
    "    'score': predictions.flatten()\n",
    "})\n",
    "# prediction_df[(prediction_df.score > 0.6)]\n",
    "prediction_df.to_csv('submission.csv', index=False)"
   ],
   "metadata": {
    "collapsed": false,
    "ExecuteTime": {
     "end_time": "2024-04-19T17:53:23.826411Z",
     "start_time": "2024-04-19T17:53:23.803231Z"
    }
   },
   "id": "a3509508eeae4de4",
   "execution_count": 55
  }
 ],
 "metadata": {
  "kernelspec": {
   "display_name": "Python 3",
   "language": "python",
   "name": "python3"
  },
  "language_info": {
   "codemirror_mode": {
    "name": "ipython",
    "version": 2
   },
   "file_extension": ".py",
   "mimetype": "text/x-python",
   "name": "python",
   "nbconvert_exporter": "python",
   "pygments_lexer": "ipython2",
   "version": "2.7.6"
  }
 },
 "nbformat": 4,
 "nbformat_minor": 5
}
